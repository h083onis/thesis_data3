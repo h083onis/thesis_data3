{
 "cells": [
  {
   "cell_type": "code",
   "execution_count": 9,
   "metadata": {},
   "outputs": [],
   "source": [
    "import nltk\n",
    "from nltk import stem\n",
    "from nltk.corpus import stopwords\n",
    "from nltk.corpus import wordnet\n",
    "import pytypo\n",
    "\n",
    "def delete_stopwords(list):\n",
    "    stopset = set(stopwords.words('english'))\n",
    "    return [w for w in list if w not in stopset]\n",
    "\n",
    "\n",
    "def stem_word(list):\n",
    "    stemmer  = stem.PorterStemmer()\n",
    "    return [stemmer.stem(w) for w in list]\n",
    "\n",
    "\n",
    "def tokenize_msg(text):\n",
    "    return stem_word(nltk.word_tokenize(text))"
   ]
  },
  {
   "cell_type": "code",
   "execution_count": 10,
   "metadata": {},
   "outputs": [
    {
     "name": "stdout",
     "output_type": "stream",
     "text": [
      "[['I', \"'m\", 'crying', '.'], ['Is', 'this', 'a', 'pen', '?']]\n"
     ]
    }
   ],
   "source": [
    "from nltk.tokenize import sent_tokenize, word_tokenize\n",
    "\n",
    "text = \"I'm crying. Is this a pen?\"\n",
    "sentences = sent_tokenize(text)\n",
    "words = list(map(word_tokenize, sentences))\n",
    "print(words)"
   ]
  },
  {
   "cell_type": "code",
   "execution_count": 11,
   "metadata": {},
   "outputs": [
    {
     "data": {
      "text/plain": [
       "\"'ve\""
      ]
     },
     "execution_count": 11,
     "metadata": {},
     "output_type": "execute_result"
    }
   ],
   "source": [
    "import contractions\n",
    "contractions.fix(\"'ve\")"
   ]
  },
  {
   "cell_type": "code",
   "execution_count": 12,
   "metadata": {},
   "outputs": [
    {
     "data": {
      "text/plain": [
       "'needed a more complete version for work I am doing, and I noticed I that is'"
      ]
     },
     "execution_count": 12,
     "metadata": {},
     "output_type": "execute_result"
    }
   ],
   "source": [
    "import re\n",
    "import contractions\n",
    "contractions.fix(\"'ve\")\n",
    "\n",
    "sentence = \"needed a more complete version for work I'm doing, and I noticed I that's\"\n",
    "contractions.fix(sentence)"
   ]
  },
  {
   "cell_type": "code",
   "execution_count": 13,
   "metadata": {},
   "outputs": [
    {
     "name": "stdout",
     "output_type": "stream",
     "text": [
      "['You', 'are', 'my', 'friend']\n"
     ]
    }
   ],
   "source": [
    "import pytypo\n",
    "words = [\"You\",\"are\",\"my\",\"friend\"]\n",
    "words = list(map(pytypo.correct, words))\n",
    "print(words)"
   ]
  },
  {
   "cell_type": "code",
   "execution_count": 14,
   "metadata": {},
   "outputs": [],
   "source": [
    "from bs4 import BeautifulSoup\n",
    "def clean_html_and_js_tags(html_text):\n",
    "    soup = BeautifulSoup(html_text, 'html.parser')\n",
    "    [x.extract() for x in soup.findAll(['script', 'style'])]\n",
    "    cleaned_text = soup.get_text()\n",
    "    cleaned_text = ''.join(cleaned_text.splitlines())\n",
    "    return cleaned_text"
   ]
  },
  {
   "cell_type": "code",
   "execution_count": 51,
   "metadata": {},
   "outputs": [
    {
     "name": "stdout",
     "output_type": "stream",
     "text": [
      "n\n"
     ]
    },
    {
     "data": {
      "text/plain": [
       "'u'"
      ]
     },
     "execution_count": 51,
     "metadata": {},
     "output_type": "execute_result"
    }
   ],
   "source": [
    "def lemmatize_term(term, pos=None):\n",
    "    if pos is None:\n",
    "        synsets = wordnet.synsets(term)\n",
    "        if not synsets:\n",
    "            return term\n",
    "        pos = synsets[0].pos()\n",
    "        if pos == wordnet.ADJ_SAT:\n",
    "            pos = wordnet.ADJ\n",
    "        print(pos)\n",
    "    return nltk.WordNetLemmatizer().lemmatize(term, pos=pos)\n",
    "\n",
    "lemmatize_term(\"us\")"
   ]
  },
  {
   "cell_type": "code",
   "execution_count": 16,
   "metadata": {},
   "outputs": [],
   "source": [
    "def clean_url(text):\n",
    "    clean_text = re.sub(r'http\\S+', '[URL]', text)\n",
    "    return clean_text"
   ]
  },
  {
   "cell_type": "code",
   "execution_count": 27,
   "metadata": {},
   "outputs": [],
   "source": [
    "def clean_change_id(text):\n",
    "    pattern = r'Change-Id.*(I[0-9a-f]{40})'\n",
    "    match = re.search(pattern, text, flags=re.IGNORECASE)\n",
    "    if match:\n",
    "        change_id_to_replace = match.group(1)\n",
    "        result_text = text.replace(change_id_to_replace, '[CHANGEID]')\n",
    "        return result_text\n",
    "    else:\n",
    "        return text\n",
    "    "
   ]
  },
  {
   "cell_type": "code",
   "execution_count": 33,
   "metadata": {},
   "outputs": [],
   "source": [
    "def clean_issue_id(text):\n",
    "    repo_name = 'openstack'\n",
    "    if repo_name == 'qt':\n",
    "        pattern = r'QTBUG-\\d+'\n",
    "        match = re.search(pattern, text, flags=re.IGNORECASE)\n",
    "        if match:\n",
    "            print(match)\n",
    "            change_id_to_replace = match.group(0)\n",
    "            result_text = text.replace(change_id_to_replace, '[ISSUEID]')\n",
    "            return result_text\n",
    "        else:\n",
    "            return text\n",
    "    elif repo_name == 'openstack':\n",
    "        pattern = r'bug(|.*\\b)(\\d{6,7})'\n",
    "        match = re.search(pattern, text, flags=re.IGNORECASE)\n",
    "        if match:\n",
    "            print(match)\n",
    "            change_id_to_replace = match.group(2)\n",
    "            result_text = text.replace(change_id_to_replace, '[ISSUEID]')\n",
    "            return result_text\n",
    "        else:\n",
    "            return text\n"
   ]
  },
  {
   "cell_type": "code",
   "execution_count": 28,
   "metadata": {},
   "outputs": [],
   "source": [
    "def clean_commit_id(text):\n",
    "    pattern = r'[0-9a-f]{40}'\n",
    "    clean_text = re.sub(pattern, '[COMMITID]', text)\n",
    "    return clean_text"
   ]
  },
  {
   "cell_type": "code",
   "execution_count": 43,
   "metadata": {},
   "outputs": [],
   "source": [
    "def clean_hex(text):\n",
    "    pattern = r'0x[0-9a-fA-F]+'\n",
    "    clean_text = re.sub(pattern, '[NUM]', text)\n",
    "    return clean_text"
   ]
  },
  {
   "cell_type": "code",
   "execution_count": 29,
   "metadata": {},
   "outputs": [],
   "source": [
    "def normalize_number(text):\n",
    "    \"\"\"\n",
    "    pattern = r'\\d+'\n",
    "    replacer = re.compile(pattern)\n",
    "    result = replacer.sub('0', text)\n",
    "    \"\"\"\n",
    "    # 連続した数字を0で置換\n",
    "    replaced_text = re.sub(r'\\d+', '[NUM]', text)\n",
    "    return replaced_text"
   ]
  },
  {
   "cell_type": "code",
   "execution_count": 30,
   "metadata": {},
   "outputs": [],
   "source": [
    "def lower_text(text):\n",
    "    return text.lower()"
   ]
  },
  {
   "cell_type": "code",
   "execution_count": 45,
   "metadata": {},
   "outputs": [],
   "source": [
    "text = \"bug #871278 89f9bc9c5f873d6763e35d2f92d31c28f8fb5262 Added utils.FileLikeIter \\n\\nA really simple version of this was in container sync already, and I\\nneeded a more complete version for work I'm doing, and I noticed\\nhttps://review.openstack.org/#/c/33405/ was also making use of it.\\nSo, here's a more full version.\\n\\nIf https://review.openstack.org/#/c/33405/ lands before this, I'll\\nupdate it accordingly <html><h1>%s</h1><p>%s</p></html>.\\n\\nChange-Id: Iba66b6a97f65e312e04fdba273e8f4ad1d3e1594\\n\""
   ]
  },
  {
   "cell_type": "code",
   "execution_count": 47,
   "metadata": {},
   "outputs": [],
   "source": [
    "text = \"Given this code:\\n  QStringListModel model(QStringList() << \\\"ONE\\\" << \\\"TWO\\\");\\n  QTreeView view;\\n  view.setModel(&model);\\n\\n  view.show();\\nI get this when I click on 'TWO':\\nQAccessibleTree::indexFromLogical: invalid index:  2 0  for  QTreeView(0x7fffb82b80e0) \\nCannot creat accessible child interface for object:  QTreeView(0x7fffb82b80e0)  index:  3 \""
   ]
  },
  {
   "cell_type": "code",
   "execution_count": 49,
   "metadata": {},
   "outputs": [
    {
     "name": "stdout",
     "output_type": "stream",
     "text": [
      "given this code:   qstringlistmodel model(qstringlist() << \"one\" << \"two\");   qtreeview view;   view.setmodel(&model);    view.show(); i get this when i click on 'two': qaccessibletree::indexfromlogical: invalid index:  [NUM] [NUM]  for  qtreeview([NUM])  cannot creat accessible child interface for object:  qtreeview([NUM])  index:  [NUM]\n"
     ]
    }
   ],
   "source": [
    "text2 = text.replace('\\n',\" \").replace('\\r', \" \")\n",
    "text2 = sent_tokenize(text2)\n",
    "# text2 = list(map(clean_html_and_js_tags, text2))\n",
    "text2 = list(map(contractions.fix, text2))\n",
    "text2 = list(map(lower_text, text2))\n",
    "text2 = list(map(clean_url, text2))\n",
    "text2 = list(map(clean_issue_id, text2))\n",
    "text2 = list(map(clean_change_id, text2))\n",
    "text2 = list(map(clean_commit_id, text2))\n",
    "text2 = list(map(clean_hex, text2))\n",
    "text2 = list(map(normalize_number, text2))\n",
    "# print(text2)\n",
    "# text2 = text2.split('\\n')\n",
    "for tmp in text2:\n",
    "    print(tmp)"
   ]
  },
  {
   "cell_type": "code",
   "execution_count": 25,
   "metadata": {},
   "outputs": [
    {
     "data": {
      "text/plain": [
       "41"
      ]
     },
     "execution_count": 25,
     "metadata": {},
     "output_type": "execute_result"
    }
   ],
   "source": [
    "len(\"I2c79b02e20347caaa2c0c67c46c22b818559aceb\")"
   ]
  },
  {
   "cell_type": "code",
   "execution_count": null,
   "metadata": {},
   "outputs": [],
   "source": []
  }
 ],
 "metadata": {
  "kernelspec": {
   "display_name": "test",
   "language": "python",
   "name": "python3"
  },
  "language_info": {
   "codemirror_mode": {
    "name": "ipython",
    "version": 3
   },
   "file_extension": ".py",
   "mimetype": "text/x-python",
   "name": "python",
   "nbconvert_exporter": "python",
   "pygments_lexer": "ipython3",
   "version": "3.9.16"
  }
 },
 "nbformat": 4,
 "nbformat_minor": 2
}
