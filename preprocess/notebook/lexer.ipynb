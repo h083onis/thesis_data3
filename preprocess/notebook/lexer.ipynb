{
 "cells": [
  {
   "cell_type": "code",
   "execution_count": 2,
   "metadata": {},
   "outputs": [],
   "source": [
    "from spiral import ronin\n",
    "from pygments import lex\n",
    "from pygments.lexers import PythonLexer\n",
    "from pygments.lexers import JavaLexer\n",
    "from pygments.lexers import CLexer\n",
    "from pygments.lexers import CppLexer\n",
    "from pygments.token import Token \n",
    "def is_hexadecimal(value):\n",
    "    try:\n",
    "        int(value, 16)\n",
    "        return True\n",
    "    except ValueError:\n",
    "        return False\n",
    "\n",
    "def is_float(value):\n",
    "    try:\n",
    "        float(value)\n",
    "        return True\n",
    "    except ValueError:\n",
    "        return False\n",
    "\n",
    "def is_integer(value):\n",
    "    try:\n",
    "        int(value)\n",
    "        return True\n",
    "    except ValueError:\n",
    "        return False"
   ]
  },
  {
   "cell_type": "code",
   "execution_count": 10,
   "metadata": {},
   "outputs": [],
   "source": [
    "# if ext == 'py': \n",
    "#     tokens = list(lex(code, PythonLexer()))\n",
    "# elif ext == 'cpp' or ext == 'hpp' or ext == 'cxx' or ext == 'hxx':\n",
    "#     tokens = list(lex(code, CppLexer()))\n",
    "# elif ext == 'c' or ext == 'h':\n",
    "#     tokens = list(lex(code, CLexer()))\n",
    "# elif ext == 'java':\n",
    "#     tokens = list(lex(code, JavaLexer()))"
   ]
  },
  {
   "cell_type": "code",
   "execution_count": 22,
   "metadata": {},
   "outputs": [],
   "source": [
    "code = 'asdfqemu_img_info_output   =   \\\"\\\"\\\" image : \\u2581 % s \\r'\n",
    "code1 = \" \\u2581 \\u2581 \\u2581 \\u2581 \\u2581 \\u2581 \\u2581 \\u2581 file \\u2581 format : \\u2581 qcow2 \\r\"\n",
    "        #   \" \\u2581 \\u2581 \\u2581 \\u2581 \\u2581 \\u2581 \\u2581 \\u2581 virtual \\u2581 size : \\u2581 1.0G \\u2581 ( 1073741824 \\u2581 bytes ) \\r\",\n",
    "        #   \" \\u2581 \\u2581 \\u2581 \\u2581 \\u2581 \\u2581 \\u2581 \\u2581 disk \\u2581 size : \\u2581 173K \\r\",\n",
    "        #   \" \\u2581 \\u2581 \\u2581 \\u2581 \\u2581 \\u2581 \\u2581 \\u2581 backing \\u2581 file : \\u2581 % s \\r\",\n",
    "        #   \" \\u2581 \\u2581 \\u2581 \\u2581 \\u2581 \\u2581 \\u2581 \\u2581 \\\"\\\"\\\"   %   ( snap_file ,   volume_file )\\r\""
   ]
  },
  {
   "cell_type": "code",
   "execution_count": 36,
   "metadata": {},
   "outputs": [],
   "source": [
    "code = \"def train():\"\n",
    "code = \"a = 01E240\""
   ]
  },
  {
   "cell_type": "code",
   "execution_count": 22,
   "metadata": {},
   "outputs": [
    {
     "name": "stdout",
     "output_type": "stream",
     "text": [
      "(Token.Name, 'time')\n",
      "(Token.Operator, '.')\n",
      "(Token.Name, 'sleep')\n",
      "(Token.Punctuation, '(')\n",
      "(Token.Literal.Number.Float, '0.01')\n",
      "(Token.Punctuation, ')')\n",
      "(Token.Text.Whitespace, '\\n')\n"
     ]
    }
   ],
   "source": [
    "code = \"raise   q exc . Bad Request ( resource = <str> ,   msg = msg )\\r\"\n",
    "# code = \" version _ added : \\u2581 ' 2.4 ' \\r\"\n",
    "# code = \"                '%s:%s,1 %s%s 0' % (FLAGS.nexenta_host,\\r\"\n",
    "# code = \"                 ' % s : % s , 1 \\u2581 % s % s \\u2581 0'   %   ( FLAGS . nexenta_host ,\\r\"\n",
    "code = \"time.sleep(0.01)\"\n",
    "tokens = list(lex(code, PythonLexer()))\n",
    "for token in tokens:\n",
    "    print(token)"
   ]
  },
  {
   "cell_type": "code",
   "execution_count": 37,
   "metadata": {},
   "outputs": [
    {
     "name": "stdout",
     "output_type": "stream",
     "text": [
      "TokenInfo(type=1 (NAME), string='a', start=(1, 0), end=(1, 1), line='a = 01E240')\n",
      "TokenInfo(type=54 (OP), string='=', start=(1, 2), end=(1, 3), line='a = 01E240')\n",
      "TokenInfo(type=2 (NUMBER), string='01E240', start=(1, 4), end=(1, 10), line='a = 01E240')\n",
      "TokenInfo(type=4 (NEWLINE), string='', start=(1, 10), end=(1, 11), line='')\n",
      "TokenInfo(type=0 (ENDMARKER), string='', start=(2, 0), end=(2, 0), line='')\n"
     ]
    }
   ],
   "source": [
    "from io import StringIO\n",
    "import tokenize\n",
    "io_obj = StringIO(code)\n",
    "for token in tokenize.generate_tokens(io_obj.readline):\n",
    "    print(token)"
   ]
  },
  {
   "cell_type": "code",
   "execution_count": 18,
   "metadata": {},
   "outputs": [
    {
     "data": {
      "text/plain": [
       "['urlpatterns']"
      ]
     },
     "execution_count": 18,
     "metadata": {},
     "output_type": "execute_result"
    }
   ],
   "source": [
    "code = \"int MakefileGenerator = 0\"\n",
    "code = \"urlpatterns\"\n",
    "ronin.split(code)"
   ]
  },
  {
   "cell_type": "code",
   "execution_count": 17,
   "metadata": {},
   "outputs": [
    {
     "name": "stdout",
     "output_type": "stream",
     "text": [
      "(Token.Comment.Preproc, '#')\n",
      "(Token.Comment.Preproc, 'include')\n",
      "(Token.Text.Whitespace, '   ')\n",
      "(Token.Comment.PreprocFile, '< stdio . h >')\n",
      "(Token.Comment.Preproc, '\\n')\n"
     ]
    }
   ],
   "source": [
    "code = \"#include   < QByteArray >\\r\"\n",
    "code = \"#include   < stdio . h >\\r\"\n",
    "tokens = list(lex(code, CppLexer()))\n",
    "for token in tokens:\n",
    "    print(token)"
   ]
  },
  {
   "cell_type": "code",
   "execution_count": 6,
   "metadata": {},
   "outputs": [
    {
     "ename": "AttributeError",
     "evalue": "'list' object has no attribute 'lower'",
     "output_type": "error",
     "traceback": [
      "\u001b[1;31m---------------------------------------------------------------------------\u001b[0m",
      "\u001b[1;31mAttributeError\u001b[0m                            Traceback (most recent call last)",
      "Cell \u001b[1;32mIn[6], line 2\u001b[0m\n\u001b[0;32m      1\u001b[0m tmp \u001b[38;5;241m=\u001b[39m [\u001b[38;5;124m'\u001b[39m\u001b[38;5;124mTrue\u001b[39m\u001b[38;5;124m'\u001b[39m, \u001b[38;5;124m'\u001b[39m\u001b[38;5;124mFalse\u001b[39m\u001b[38;5;124m'\u001b[39m]\n\u001b[1;32m----> 2\u001b[0m \u001b[43mtmp\u001b[49m\u001b[38;5;241;43m.\u001b[39;49m\u001b[43mlower\u001b[49m()\n",
      "\u001b[1;31mAttributeError\u001b[0m: 'list' object has no attribute 'lower'"
     ]
    }
   ],
   "source": [
    "tmp = ['True', 'False']\n",
    "tmp.lower()"
   ]
  }
 ],
 "metadata": {
  "kernelspec": {
   "display_name": "test",
   "language": "python",
   "name": "python3"
  },
  "language_info": {
   "codemirror_mode": {
    "name": "ipython",
    "version": 3
   },
   "file_extension": ".py",
   "mimetype": "text/x-python",
   "name": "python",
   "nbconvert_exporter": "python",
   "pygments_lexer": "ipython3",
   "version": "3.9.16"
  }
 },
 "nbformat": 4,
 "nbformat_minor": 2
}
