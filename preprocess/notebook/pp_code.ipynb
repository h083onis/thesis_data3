{
 "cells": [
  {
   "cell_type": "code",
   "execution_count": 1,
   "metadata": {},
   "outputs": [],
   "source": [
    "from python_processor import PythonProcessor\n",
    "from clean_code import PythonProcesser2\n",
    "from clean_comment import remove_comments_and_docstrings\n",
    "import tokenize\n",
    "from io import BytesIO"
   ]
  },
  {
   "cell_type": "code",
   "execution_count": 2,
   "metadata": {},
   "outputs": [],
   "source": [
    "tokenizer = PythonProcessor()\n",
    "tokenizer2 = PythonProcesser2()"
   ]
  },
  {
   "cell_type": "code",
   "execution_count": 3,
   "metadata": {},
   "outputs": [],
   "source": [
    "with open('test2.py', 'r', encoding='utf-8') as f:\n",
    "    code = f.read()"
   ]
  },
  {
   "cell_type": "code",
   "execution_count": 4,
   "metadata": {},
   "outputs": [],
   "source": [
    "out = remove_comments_and_docstrings(code)"
   ]
  },
  {
   "cell_type": "code",
   "execution_count": 5,
   "metadata": {},
   "outputs": [],
   "source": [
    "with open('result.py', 'w', encoding='utf-8')as f:\n",
    "    f.write(out)"
   ]
  },
  {
   "cell_type": "code",
   "execution_count": 6,
   "metadata": {},
   "outputs": [
    {
     "name": "stdout",
     "output_type": "stream",
     "text": [
      "['import', 'math', 'NEW_LINE', 'import', 'os', 'NEW_LINE', 'import', 're', 'NEW_LINE', 'from', 'cinder', 'import', 'exception', 'NEW_LINE', 'from', 'cinder', 'import', 'flags', 'NEW_LINE', 'from', 'cinder', '.', 'image', 'import', 'image_utils', 'NEW_LINE', 'from', 'cinder', '.', 'openstack', '.', 'common', 'import', 'cfg', 'NEW_LINE', 'from', 'cinder', '.', 'openstack', '.', 'common', 'import', 'log', 'as', 'logging', 'NEW_LINE', 'from', 'cinder', 'import', 'utils', 'NEW_LINE', 'from', 'cinder', '.', 'volume', 'import', 'driver', 'NEW_LINE', 'from', 'cinder', '.', 'volume', 'import', 'iscsi', 'NEW_LINE', 'LOG', '=', 'logging', '.', 'getLogger', '(', '__name__', ')', 'NEW_LINE', 'volume_opts', '=', '[', 'cfg', '.', 'StrOpt', '(', \"' volume _ group '\", ',', 'default', '=', \"' cinder - volumes '\", ',', 'help', '=', \"' Name ▁ for ▁ the ▁ VG ▁ that ▁ will ▁ contain ▁ exported ▁ volumes '\", ')', ',', 'cfg', '.', 'StrOpt', '(', \"' volume _ clear '\", ',', 'default', '=', \"' zero '\", ',', 'help', '=', \"' Method ▁ used ▁ to ▁ wipe ▁ old ▁ volumes ▁ ( valid ▁ options ▁ are : ▁ '\", \"' none , ▁ zero , ▁ shred ) '\", ')', ',', 'cfg', '.', 'IntOpt', '(', \"' volume _ clear _ size '\", ',', 'default', '=', '0', ',', 'help', '=', \"' Size ▁ in ▁ MiB ▁ to ▁ wipe ▁ at ▁ start ▁ of ▁ old ▁ volumes . ▁ 0 ▁ = > ▁ all '\", ')', ',', 'cfg', '.', 'IntOpt', '(', \"' lvm _ mirrors '\", ',', 'default', '=', '0', ',', 'help', '=', \"' If ▁ set , ▁ create ▁ lvms ▁ with ▁ multiple ▁ mirrors . ▁ Note ▁ that ▁ '\", \"' this ▁ requires ▁ lvm _ mirrors ▁ + ▁ 2 ▁ pvs ▁ with ▁ available ▁ space '\", ')', ',', ']', 'NEW_LINE', 'FLAGS', '=', 'flags', '.', 'FLAGS', 'NEW_LINE', 'FLAGS', '.', 'register_opts', '(', 'volume_opts', ')', 'NEW_LINE', 'class', 'LVMVolumeDriver', '(', 'driver', '.', 'VolumeDriver', ')', ':', 'NEW_LINE', 'INDENT', 'def', '__init__', '(', 'self', ',', '*', 'args', ',', '**', 'kwargs', ')', ':', 'NEW_LINE', 'INDENT', 'super', '(', 'LVMVolumeDriver', ',', 'self', ')', '.', '__init__', '(', '*', 'args', ',', '**', 'kwargs', ')', 'NEW_LINE', 'DEDENT', 'def', 'check_for_setup_error', '(', 'self', ')', ':', 'NEW_LINE', 'INDENT', 'out', ',', 'err', '=', 'self', '.', '_execute', '(', \"' vgs '\", ',', \"' - - noheadings '\", ',', \"' - o '\", ',', \"' name '\", ',', 'run_as_root', '=', 'True', ')', 'NEW_LINE', 'volume_groups', '=', 'out', '.', 'split', '(', ')', 'NEW_LINE', 'if', 'not', 'FLAGS', '.', 'volume_group', 'in', 'volume_groups', ':', 'NEW_LINE', 'INDENT', 'exception_message', '=', '(', '_', '(', '\" volume ▁ group ▁ % s ▁ doesn \\' t ▁ exist \"', ')', '%', 'FLAGS', '.', 'volume_group', ')', 'NEW_LINE', 'raise', 'exception', '.', 'VolumeBackendAPIException', '(', 'data', '=', 'exception_message', ')', 'NEW_LINE', 'DEDENT', 'DEDENT', 'def', '_create_volume', '(', 'self', ',', 'volume_name', ',', 'sizestr', ')', ':', 'NEW_LINE', 'INDENT', 'cmd', '=', '[', \"' lvcreate '\", ',', \"' - L '\", ',', 'sizestr', ',', \"' - n '\", ',', 'volume_name', ',', 'FLAGS', '.', 'volume_group', ']', 'NEW_LINE', 'if', 'FLAGS', '.', 'lvm_mirrors', ':', 'NEW_LINE', 'INDENT', 'cmd', '+=', '[', \"' - m '\", ',', 'FLAGS', '.', 'lvm_mirrors', ',', \"' - - nosync '\", ']', 'NEW_LINE', 'terras', '=', 'int', '(', 'sizestr', '[', ':', '-', '1', ']', ')', '/', '1024.0', 'NEW_LINE', 'if', 'terras', '>=', '1.5', ':', 'NEW_LINE', 'INDENT', 'rsize', '=', 'int', '(', '2', '**', 'math', '.', 'ceil', '(', 'math', '.', 'log', '(', 'terras', ')', '/', 'math', '.', 'log', '(', '2', ')', ')', ')', 'NEW_LINE', 'cmd', '+=', '[', \"' - R '\", ',', 'str', '(', 'rsize', ')', ']', 'NEW_LINE', 'DEDENT', 'DEDENT', 'self', '.', '_try_execute', '(', '*', 'cmd', ',', 'run_as_root', '=', 'True', ')', 'NEW_LINE', 'DEDENT', 'def', '_copy_volume', '(', 'self', ',', 'srcstr', ',', 'deststr', ',', 'size_in_g', ',', 'clearing', '=', 'False', ')', ':', 'NEW_LINE', 'INDENT', 'extra_flags', '=', '[', \"' iflag = direct '\", ',', \"' oflag = direct '\", ']', 'NEW_LINE', 'try', ':', 'NEW_LINE', 'INDENT', 'self', '.', '_execute', '(', \"' dd '\", ',', \"' count = 0'\", ',', \"' if = % s '\", '%', 'srcstr', ',', \"' of = % s '\", '%', 'deststr', ',', '*', 'extra_flags', ',', 'run_as_root', '=', 'True', ')', 'NEW_LINE', 'DEDENT', 'except', 'exception', '.', 'ProcessExecutionError', ':', 'NEW_LINE', 'INDENT', 'extra_flags', '=', '[', ']', 'NEW_LINE', 'DEDENT', 'if', 'clearing', 'and', 'not', 'extra_flags', ':', 'NEW_LINE', 'INDENT', 'extra_flags', '.', 'append', '(', \"' conv = fdatasync '\", ')', 'NEW_LINE', 'DEDENT', 'self', '.', '_execute', '(', \"' dd '\", ',', \"' if = % s '\", '%', 'srcstr', ',', \"' of = % s '\", '%', 'deststr', ',', \"' count = % d '\", '%', '(', 'size_in_g', '*', '1024', ')', ',', \"' bs = 1M '\", ',', '*', 'extra_flags', ',', 'run_as_root', '=', 'True', ')', 'NEW_LINE', 'DEDENT', 'def', '_volume_not_present', '(', 'self', ',', 'volume_name', ')', ':', 'NEW_LINE', 'INDENT', 'path_name', '=', \"' % s / % s '\", '%', '(', 'FLAGS', '.', 'volume_group', ',', 'volume_name', ')', 'NEW_LINE', 'try', ':', 'NEW_LINE', 'INDENT', 'self', '.', '_try_execute', '(', \"' lvdisplay '\", ',', 'path_name', ',', 'run_as_root', '=', 'True', ')', 'NEW_LINE', 'DEDENT', 'except', 'Exception', 'as', 'e', ':', 'NEW_LINE', 'INDENT', 'return', 'True', 'NEW_LINE', 'DEDENT', 'return', 'False', 'NEW_LINE', 'DEDENT', 'def', '_delete_volume', '(', 'self', ',', 'volume', ',', 'size_in_g', ')', ':', 'NEW_LINE', 'INDENT', 'dev_path', '=', 'self', '.', 'local_path', '(', 'volume', ')', 'NEW_LINE', 'if', 'os', '.', 'path', '.', 'exists', '(', 'dev_path', ')', ':', 'NEW_LINE', 'INDENT', 'self', '.', 'clear_volume', '(', 'volume', ')', 'NEW_LINE', 'DEDENT', 'self', '.', '_try_execute', '(', \"' lvremove '\", ',', \"' - f '\", ',', '\" % s / % s \"', '%', '(', 'FLAGS', '.', 'volume_group', ',', 'self', '.', '_escape_snapshot', '(', 'volume', '[', \"' name '\", ']', ')', ')', ',', 'run_as_root', '=', 'True', ')', 'NEW_LINE', 'DEDENT', 'def', '_sizestr', '(', 'self', ',', 'size_in_g', ')', ':', 'NEW_LINE', 'INDENT', 'if', 'int', '(', 'size_in_g', ')', '==', '0', ':', 'NEW_LINE', 'INDENT', 'return', \"'100M '\", 'NEW_LINE', 'DEDENT', 'return', \"' % sG '\", '%', 'size_in_g', 'NEW_LINE', 'DEDENT', 'def', '_escape_snapshot', '(', 'self', ',', 'snapshot_name', ')', ':', 'NEW_LINE', 'INDENT', 'if', 'not', 'snapshot_name', '.', 'startswith', '(', \"' snapshot '\", ')', ':', 'NEW_LINE', 'INDENT', 'return', 'snapshot_name', 'NEW_LINE', 'DEDENT', 'return', \"' _ '\", '+', 'snapshot_name', 'NEW_LINE', 'DEDENT', 'def', 'create_volume', '(', 'self', ',', 'volume', ')', ':', 'NEW_LINE', 'INDENT', 'self', '.', '_create_volume', '(', 'volume', '[', \"' name '\", ']', ',', 'self', '.', '_sizestr', '(', 'volume', '[', \"' size '\", ']', ')', ')', 'NEW_LINE', 'DEDENT', 'def', 'create_volume_from_snapshot', '(', 'self', ',', 'volume', ',', 'snapshot', ')', ':', 'NEW_LINE', 'INDENT', 'self', '.', '_create_volume', '(', 'volume', '[', \"' name '\", ']', ',', 'self', '.', '_sizestr', '(', 'volume', '[', \"' size '\", ']', ')', ')', 'NEW_LINE', 'self', '.', '_copy_volume', '(', 'self', '.', 'local_path', '(', 'snapshot', ')', ',', 'self', '.', 'local_path', '(', 'volume', ')', ',', 'snapshot', '[', \"' volume _ size '\", ']', ')', 'NEW_LINE', 'DEDENT', 'def', 'delete_volume', '(', 'self', ',', 'volume', ')', ':', 'NEW_LINE', 'INDENT', 'if', 'self', '.', '_volume_not_present', '(', 'volume', '[', \"' name '\", ']', ')', ':', 'NEW_LINE', 'INDENT', 'return', 'True', 'NEW_LINE', 'DEDENT', 'out', ',', 'err', '=', 'self', '.', '_execute', '(', \"' lvdisplay '\", ',', \"' - - noheading '\", ',', \"' - C '\", ',', \"' - o '\", ',', \"' Attr '\", ',', \"' % s / % s '\", '%', '(', 'FLAGS', '.', 'volume_group', ',', 'volume', '[', \"' name '\", ']', ')', ',', 'run_as_root', '=', 'True', ')', 'NEW_LINE', 'if', 'out', ':', 'NEW_LINE', 'INDENT', 'out', '=', 'out', '.', 'strip', '(', ')', 'NEW_LINE', 'if', '(', 'out', '[', '0', ']', '==', \"' o '\", ')', 'or', '(', 'out', '[', '0', ']', '==', \"' O '\", ')', ':', 'NEW_LINE', 'INDENT', 'raise', 'exception', '.', 'VolumeIsBusy', '(', 'volume_name', '=', 'volume', '[', \"' name '\", ']', ')', 'NEW_LINE', 'DEDENT', 'DEDENT', 'self', '.', '_delete_volume', '(', 'volume', ',', 'volume', '[', \"' size '\", ']', ')', 'NEW_LINE', 'DEDENT', 'def', 'clear_volume', '(', 'self', ',', 'volume', ')', ':', 'NEW_LINE', 'INDENT', 'vol_path', '=', 'self', '.', 'local_path', '(', 'volume', ')', 'NEW_LINE', 'size_in_g', '=', 'volume', '.', 'get', '(', \"' size '\", ')', 'NEW_LINE', 'size_in_m', '=', 'FLAGS', '.', 'volume_clear_size', 'NEW_LINE', 'if', 'not', 'size_in_g', ':', 'NEW_LINE', 'INDENT', 'return', 'NEW_LINE', 'DEDENT', 'if', 'FLAGS', '.', 'volume_clear', '==', \"' none '\", ':', 'NEW_LINE', 'INDENT', 'return', 'NEW_LINE', 'DEDENT', 'LOG', '.', 'info', '(', '_', '(', '\" Performing ▁ secure ▁ delete ▁ on ▁ volume : ▁ % s \"', ')', '%', 'volume', '[', \"' id '\", ']', ')', 'NEW_LINE', 'if', 'FLAGS', '.', 'volume_clear', '==', \"' zero '\", ':', 'NEW_LINE', 'INDENT', 'if', 'size_in_m', '==', '0', ':', 'NEW_LINE', 'INDENT', 'return', 'self', '.', '_copy_volume', '(', \"' / dev / zero '\", ',', 'vol_path', ',', 'size_in_g', ',', 'clearing', '=', 'True', ')', 'NEW_LINE', 'DEDENT', 'else', ':', 'NEW_LINE', 'INDENT', 'clear_cmd', '=', '[', \"' shred '\", ',', \"' - n0'\", ',', \"' - z '\", ',', \"' - s % dMiB '\", '%', 'size_in_m', ']', 'NEW_LINE', 'DEDENT', 'DEDENT', 'elif', 'FLAGS', '.', 'volume_clear', '==', \"' shred '\", ':', 'NEW_LINE', 'INDENT', 'clear_cmd', '=', '[', \"' shred '\", ',', \"' - n3'\", ']', 'NEW_LINE', 'if', 'size_in_m', ':', 'NEW_LINE', 'INDENT', 'clear_cmd', '.', 'append', '(', \"' - s % dMiB '\", '%', 'size_in_m', ')', 'NEW_LINE', 'DEDENT', 'DEDENT', 'else', ':', 'NEW_LINE', 'INDENT', 'LOG', '.', 'error', '(', '_', '(', '\" Error ▁ unrecognized ▁ volume _ clear ▁ option : ▁ % s \"', ')', ',', 'FLAGS', '.', 'volume_clear', ')', 'NEW_LINE', 'return', 'NEW_LINE', 'DEDENT', 'clear_cmd', '.', 'append', '(', 'vol_path', ')', 'NEW_LINE', 'self', '.', '_execute', '(', '*', 'clear_cmd', ',', 'run_as_root', '=', 'True', ')', 'NEW_LINE', 'DEDENT', 'def', 'create_snapshot', '(', 'self', ',', 'snapshot', ')', ':', 'NEW_LINE', 'INDENT', 'orig_lv_name', '=', '\" % s / % s \"', '%', '(', 'FLAGS', '.', 'volume_group', ',', 'snapshot', '[', \"' volume _ name '\", ']', ')', 'NEW_LINE', 'self', '.', '_try_execute', '(', \"' lvcreate '\", ',', \"' - L '\", ',', 'self', '.', '_sizestr', '(', 'snapshot', '[', \"' volume _ size '\", ']', ')', ',', \"' - - name '\", ',', 'self', '.', '_escape_snapshot', '(', 'snapshot', '[', \"' name '\", ']', ')', ',', \"' - - snapshot '\", ',', 'orig_lv_name', ',', 'run_as_root', '=', 'True', ')', 'NEW_LINE', 'DEDENT', 'def', 'delete_snapshot', '(', 'self', ',', 'snapshot', ')', ':', 'NEW_LINE', 'INDENT', 'if', 'self', '.', '_volume_not_present', '(', 'self', '.', '_escape_snapshot', '(', 'snapshot', '[', \"' name '\", ']', ')', ')', ':', 'NEW_LINE', 'INDENT', 'return', 'True', 'NEW_LINE', 'DEDENT', 'self', '.', '_delete_volume', '(', 'snapshot', ',', 'snapshot', '[', \"' volume _ size '\", ']', ')', 'NEW_LINE', 'DEDENT', 'def', 'local_path', '(', 'self', ',', 'volume', ')', ':', 'NEW_LINE', 'INDENT', 'escaped_group', '=', 'FLAGS', '.', 'volume_group', '.', 'replace', '(', \"' - '\", ',', \"' - - '\", ')', 'NEW_LINE', 'escaped_name', '=', 'self', '.', '_escape_snapshot', '(', 'volume', '[', \"' name '\", ']', ')', '.', 'replace', '(', \"' - '\", ',', \"' - - '\", ')', 'NEW_LINE', 'return', '\" / dev / mapper / % s - % s \"', '%', '(', 'escaped_group', ',', 'escaped_name', ')', 'NEW_LINE', 'DEDENT', 'def', 'copy_image_to_volume', '(', 'self', ',', 'context', ',', 'volume', ',', 'image_service', ',', 'image_id', ')', ':', 'NEW_LINE', 'INDENT', 'image_utils', '.', 'fetch_to_raw', '(', 'context', ',', 'image_service', ',', 'image_id', ',', 'self', '.', 'local_path', '(', 'volume', ')', ')', 'NEW_LINE', 'DEDENT', 'def', 'copy_volume_to_image', '(', 'self', ',', 'context', ',', 'volume', ',', 'image_service', ',', 'image_id', ')', ':', 'NEW_LINE', 'INDENT', 'volume_path', '=', 'self', '.', 'local_path', '(', 'volume', ')', 'NEW_LINE', 'with', 'utils', '.', 'temporary_chown', '(', 'volume_path', ')', ':', 'NEW_LINE', 'INDENT', 'with', 'utils', '.', 'file_open', '(', 'volume_path', ')', 'as', 'volume_file', ':', 'NEW_LINE', 'INDENT', 'image_service', '.', 'update', '(', 'context', ',', 'image_id', ',', '{', '}', ',', 'volume_file', ')', 'NEW_LINE', 'DEDENT', 'DEDENT', 'DEDENT', 'def', 'clone_image', '(', 'self', ',', 'volume', ',', 'image_location', ')', ':', 'NEW_LINE', 'INDENT', 'return', 'False', 'NEW_LINE', 'DEDENT', 'DEDENT', 'class', 'LVMISCSIDriver', '(', 'LVMVolumeDriver', ',', 'driver', '.', 'ISCSIDriver', ')', ':', 'NEW_LINE', 'INDENT', 'def', '__init__', '(', 'self', ',', '*', 'args', ',', '**', 'kwargs', ')', ':', 'NEW_LINE', 'INDENT', 'self', '.', 'tgtadm', '=', 'iscsi', '.', 'get_target_admin', '(', ')', 'NEW_LINE', 'super', '(', 'LVMISCSIDriver', ',', 'self', ')', '.', '__init__', '(', '*', 'args', ',', '**', 'kwargs', ')', 'NEW_LINE', 'DEDENT', 'def', 'set_execute', '(', 'self', ',', 'execute', ')', ':', 'NEW_LINE', 'INDENT', 'super', '(', 'LVMISCSIDriver', ',', 'self', ')', '.', 'set_execute', '(', 'execute', ')', 'NEW_LINE', 'self', '.', 'tgtadm', '.', 'set_execute', '(', 'execute', ')', 'NEW_LINE', 'DEDENT', 'def', 'ensure_export', '(', 'self', ',', 'context', ',', 'volume', ')', ':', 'NEW_LINE', 'INDENT', 'if', 'not', 'isinstance', '(', 'self', '.', 'tgtadm', ',', 'iscsi', '.', 'TgtAdm', ')', ':', 'NEW_LINE', 'INDENT', 'try', ':', 'NEW_LINE', 'INDENT', 'iscsi_target', '=', 'self', '.', 'db', '.', 'volume_get_iscsi_target_num', '(', 'context', ',', 'volume', '[', \"' id '\", ']', ')', 'NEW_LINE', 'DEDENT', 'except', 'exception', '.', 'NotFound', ':', 'NEW_LINE', 'INDENT', 'LOG', '.', 'info', '(', '_', '(', '\" Skipping ▁ ensure _ export . ▁ No ▁ iscsi _ target ▁ \"', '\" provisioned ▁ for ▁ volume : ▁ % s \"', ')', ',', 'volume', '[', \"' id '\", ']', ')', 'NEW_LINE', 'return', 'NEW_LINE', 'DEDENT', 'DEDENT', 'else', ':', 'NEW_LINE', 'INDENT', 'iscsi_target', '=', '1', 'NEW_LINE', 'DEDENT', 'old_name', '=', 'None', 'NEW_LINE', 'volume_name', '=', 'volume', '[', \"' name '\", ']', 'NEW_LINE', 'if', '(', 'volume', '[', \"' provider _ location '\", ']', 'is', 'not', 'None', 'and', 'volume', '[', \"' name '\", ']', 'not', 'in', 'volume', '[', \"' provider _ location '\", ']', ')', ':', 'NEW_LINE', 'INDENT', 'msg', '=', '_', '(', \"' Detected ▁ inconsistency ▁ in ▁ provider _ location ▁ id '\", ')', 'NEW_LINE', 'LOG', '.', 'debug', '(', 'msg', ')', 'NEW_LINE', 'old_name', '=', 'self', '.', '_fix_id_migration', '(', 'context', ',', 'volume', ')', 'NEW_LINE', 'if', \"' in - use '\", 'in', 'volume', '[', \"' status '\", ']', ':', 'NEW_LINE', 'INDENT', 'volume_name', '=', 'old_name', 'NEW_LINE', 'old_name', '=', 'None', 'NEW_LINE', 'DEDENT', 'DEDENT', 'iscsi_name', '=', '\" % s % s \"', '%', '(', 'FLAGS', '.', 'iscsi_target_prefix', ',', 'volume_name', ')', 'NEW_LINE', 'volume_path', '=', '\" / dev / % s / % s \"', '%', '(', 'FLAGS', '.', 'volume_group', ',', 'volume_name', ')', 'NEW_LINE', 'self', '.', 'tgtadm', '.', 'create_iscsi_target', '(', 'iscsi_name', ',', 'iscsi_target', ',', '0', ',', 'volume_path', ',', 'check_exit_code', '=', 'False', ',', 'old_name', '=', 'old_name', ')', 'NEW_LINE', 'DEDENT', 'def', '_fix_id_migration', '(', 'self', ',', 'context', ',', 'volume', ')', ':', 'NEW_LINE', 'INDENT', 'model_update', '=', '{', '}', 'NEW_LINE', 'pattern', '=', 're', '.', 'compile', '(', 'r \" : | \\\\ s \"', ')', 'NEW_LINE', 'fields', '=', 'pattern', '.', 'split', '(', 'volume', '[', \"' provider _ location '\", ']', ')', 'NEW_LINE', 'old_name', '=', 'fields', '[', '3', ']', 'NEW_LINE', 'volume', '[', \"' provider _ location '\", ']', '=', 'volume', '[', \"' provider _ location '\", ']', '.', 'replace', '(', 'old_name', ',', 'volume', '[', \"' name '\", ']', ')', 'NEW_LINE', 'model_update', '[', \"' provider _ location '\", ']', '=', 'volume', '[', \"' provider _ location '\", ']', 'NEW_LINE', 'self', '.', 'db', '.', 'volume_update', '(', 'context', ',', 'volume', '[', \"' id '\", ']', ',', 'model_update', ')', 'NEW_LINE', 'start', '=', 'os', '.', 'getcwd', '(', ')', 'NEW_LINE', 'os', '.', 'chdir', '(', \"' / dev / % s '\", '%', 'FLAGS', '.', 'volume_group', ')', 'NEW_LINE', 'try', ':', 'NEW_LINE', 'INDENT', '(', 'out', ',', 'err', ')', '=', 'self', '.', '_execute', '(', \"' readlink '\", ',', 'old_name', ')', 'NEW_LINE', 'DEDENT', 'except', 'exception', '.', 'ProcessExecutionError', ':', 'NEW_LINE', 'INDENT', 'link_path', '=', \"' / dev / % s / % s '\", '%', '(', 'FLAGS', '.', 'volume_group', ',', 'old_name', ')', 'NEW_LINE', 'LOG', '.', 'debug', '(', '_', '(', \"' Symbolic ▁ link ▁ % s ▁ not ▁ found '\", ')', '%', 'link_path', ')', 'NEW_LINE', 'os', '.', 'chdir', '(', 'start', ')', 'NEW_LINE', 'return', 'NEW_LINE', 'DEDENT', 'rel_path', '=', 'out', '.', 'rstrip', '(', ')', 'NEW_LINE', 'self', '.', '_execute', '(', \"' ln '\", ',', \"' - s '\", ',', 'rel_path', ',', 'volume', '[', \"' name '\", ']', ',', 'run_as_root', '=', 'True', ')', 'NEW_LINE', 'os', '.', 'chdir', '(', 'start', ')', 'NEW_LINE', 'return', 'old_name', 'NEW_LINE', 'DEDENT', 'def', '_ensure_iscsi_targets', '(', 'self', ',', 'context', ',', 'host', ')', ':', 'NEW_LINE', 'INDENT', 'if', 'not', 'isinstance', '(', 'self', '.', 'tgtadm', ',', 'iscsi', '.', 'TgtAdm', ')', ':', 'NEW_LINE', 'INDENT', 'host_iscsi_targets', '=', 'self', '.', 'db', '.', 'iscsi_target_count_by_host', '(', 'context', ',', 'host', ')', 'NEW_LINE', 'if', 'host_iscsi_targets', '>=', 'FLAGS', '.', 'iscsi_num_targets', ':', 'NEW_LINE', 'INDENT', 'return', 'NEW_LINE', 'DEDENT', 'for', 'target_num', 'in', 'xrange', '(', '1', ',', 'FLAGS', '.', 'iscsi_num_targets', '+', '1', ')', ':', 'NEW_LINE', 'INDENT', 'target', '=', '{', \"' host '\", ':', 'host', ',', \"' target _ num '\", ':', 'target_num', '}', 'NEW_LINE', 'self', '.', 'db', '.', 'iscsi_target_create_safe', '(', 'context', ',', 'target', ')', 'NEW_LINE', 'DEDENT', 'DEDENT', 'DEDENT', 'def', 'create_export', '(', 'self', ',', 'context', ',', 'volume', ')', ':', 'NEW_LINE', 'INDENT', 'iscsi_name', '=', '\" % s % s \"', '%', '(', 'FLAGS', '.', 'iscsi_target_prefix', ',', 'volume', '[', \"' name '\", ']', ')', 'NEW_LINE', 'volume_path', '=', '\" / dev / % s / % s \"', '%', '(', 'FLAGS', '.', 'volume_group', ',', 'volume', '[', \"' name '\", ']', ')', 'NEW_LINE', 'model_update', '=', '{', '}', 'NEW_LINE', 'if', 'not', 'isinstance', '(', 'self', '.', 'tgtadm', ',', 'iscsi', '.', 'TgtAdm', ')', ':', 'NEW_LINE', 'INDENT', 'lun', '=', '0', 'NEW_LINE', 'self', '.', '_ensure_iscsi_targets', '(', 'context', ',', 'volume', '[', \"' host '\", ']', ')', 'NEW_LINE', 'iscsi_target', '=', 'self', '.', 'db', '.', 'volume_allocate_iscsi_target', '(', 'context', ',', 'volume', '[', \"' id '\", ']', ',', 'volume', '[', \"' host '\", ']', ')', 'NEW_LINE', 'DEDENT', 'else', ':', 'NEW_LINE', 'INDENT', 'lun', '=', '1', 'NEW_LINE', 'iscsi_target', '=', '0', 'NEW_LINE', 'DEDENT', 'chap_username', '=', 'utils', '.', 'generate_username', '(', ')', 'NEW_LINE', 'chap_password', '=', 'utils', '.', 'generate_password', '(', ')', 'NEW_LINE', 'chap_auth', '=', 'self', '.', '_iscsi_authentication', '(', \"' IncomingUser '\", ',', 'chap_username', ',', 'chap_password', ')', 'NEW_LINE', 'tid', '=', 'self', '.', 'tgtadm', '.', 'create_iscsi_target', '(', 'iscsi_name', ',', 'iscsi_target', ',', '0', ',', 'volume_path', ',', 'chap_auth', ')', 'NEW_LINE', 'model_update', '[', \"' provider _ location '\", ']', '=', 'self', '.', '_iscsi_location', '(', 'FLAGS', '.', 'iscsi_ip_address', ',', 'tid', ',', 'iscsi_name', ',', 'lun', ')', 'NEW_LINE', 'model_update', '[', \"' provider _ auth '\", ']', '=', 'self', '.', '_iscsi_authentication', '(', \"' CHAP '\", ',', 'chap_username', ',', 'chap_password', ')', 'NEW_LINE', 'return', 'model_update', 'NEW_LINE', 'DEDENT', 'def', 'remove_export', '(', 'self', ',', 'context', ',', 'volume', ')', ':', 'NEW_LINE', 'INDENT', 'if', 'not', 'isinstance', '(', 'self', '.', 'tgtadm', ',', 'iscsi', '.', 'TgtAdm', ')', ':', 'NEW_LINE', 'INDENT', 'try', ':', 'NEW_LINE', 'INDENT', 'iscsi_target', '=', 'self', '.', 'db', '.', 'volume_get_iscsi_target_num', '(', 'context', ',', 'volume', '[', \"' id '\", ']', ')', 'NEW_LINE', 'DEDENT', 'except', 'exception', '.', 'NotFound', ':', 'NEW_LINE', 'INDENT', 'LOG', '.', 'info', '(', '_', '(', '\" Skipping ▁ remove _ export . ▁ No ▁ iscsi _ target ▁ \"', '\" provisioned ▁ for ▁ volume : ▁ % s \"', ')', ',', 'volume', '[', \"' id '\", ']', ')', 'NEW_LINE', 'return', 'NEW_LINE', 'DEDENT', 'DEDENT', 'else', ':', 'NEW_LINE', 'INDENT', 'iscsi_target', '=', '0', 'NEW_LINE', 'DEDENT', 'try', ':', 'NEW_LINE', 'INDENT', 'location', '=', 'volume', '[', \"' provider _ location '\", ']', '.', 'split', '(', \"' ▁ '\", ')', 'NEW_LINE', 'iqn', '=', 'location', '[', '1', ']', 'NEW_LINE', 'self', '.', 'tgtadm', '.', 'show_target', '(', 'iscsi_target', ',', 'iqn', '=', 'iqn', ')', 'NEW_LINE', 'DEDENT', 'except', 'Exception', 'as', 'e', ':', 'NEW_LINE', 'INDENT', 'LOG', '.', 'info', '(', '_', '(', '\" Skipping ▁ remove _ export . ▁ No ▁ iscsi _ target ▁ \"', '\" is ▁ presently ▁ exported ▁ for ▁ volume : ▁ % s \"', ')', ',', 'volume', '[', \"' id '\", ']', ')', 'NEW_LINE', 'return', 'NEW_LINE', 'DEDENT', 'self', '.', 'tgtadm', '.', 'remove_iscsi_target', '(', 'iscsi_target', ',', '0', ',', 'volume', '[', \"' id '\", ']', ')', 'NEW_LINE', 'DEDENT', 'def', 'get_volume_stats', '(', 'self', ',', 'refresh', '=', 'False', ')', ':', 'NEW_LINE', 'INDENT', 'if', 'refresh', ':', 'NEW_LINE', 'INDENT', 'self', '.', '_update_volume_status', '(', ')', 'NEW_LINE', 'DEDENT', 'return', 'self', '.', '_stats', 'NEW_LINE', 'DEDENT', 'def', '_update_volume_status', '(', 'self', ')', ':', 'NEW_LINE', 'INDENT', 'LOG', '.', 'debug', '(', '_', '(', '\" Updating ▁ volume ▁ status \"', ')', ')', 'NEW_LINE', 'data', '=', '{', '}', 'NEW_LINE', 'data', '[', '\" volume _ backend _ name \"', ']', '=', \"' LVM _ iSCSI '\", 'NEW_LINE', 'data', '[', '\" vendor _ name \"', ']', '=', \"' Open ▁ Source '\", 'NEW_LINE', 'data', '[', '\" driver _ version \"', ']', '=', \"'1.0'\", 'NEW_LINE', 'data', '[', '\" storage _ protocol \"', ']', '=', \"' iSCSI '\", 'NEW_LINE', 'data', '[', \"' total _ capacity _ gb '\", ']', '=', '0', 'NEW_LINE', 'data', '[', \"' free _ capacity _ gb '\", ']', '=', '0', 'NEW_LINE', 'data', '[', \"' reserved _ percentage '\", ']', '=', 'FLAGS', '.', 'reserved_percentage', 'NEW_LINE', 'data', '[', \"' QoS _ support '\", ']', '=', 'False', 'NEW_LINE', 'try', ':', 'NEW_LINE', 'INDENT', 'out', ',', 'err', '=', 'self', '.', '_execute', '(', \"' vgs '\", ',', \"' - - noheadings '\", ',', \"' - - nosuffix '\", ',', \"' - - unit = G '\", ',', \"' - o '\", ',', \"' name , size , free '\", ',', 'FLAGS', '.', 'volume_group', ',', 'run_as_root', '=', 'True', ')', 'NEW_LINE', 'DEDENT', 'except', 'exception', '.', 'ProcessExecutionError', 'as', 'exc', ':', 'NEW_LINE', 'INDENT', 'LOG', '.', 'error', '(', '_', '(', '\" Error ▁ retrieving ▁ volume ▁ status : ▁ \"', ')', ',', 'exc', '.', 'stderr', ')', 'NEW_LINE', 'out', '=', 'False', 'NEW_LINE', 'DEDENT', 'if', 'out', ':', 'NEW_LINE', 'INDENT', 'volume', '=', 'out', '.', 'split', '(', ')', 'NEW_LINE', 'data', '[', \"' total _ capacity _ gb '\", ']', '=', 'float', '(', 'volume', '[', '1', ']', ')', 'NEW_LINE', 'data', '[', \"' free _ capacity _ gb '\", ']', '=', 'float', '(', 'volume', '[', '2', ']', ')', 'NEW_LINE', 'DEDENT', 'self', '.', '_stats', '=', 'data', 'NEW_LINE', 'DEDENT', 'def', '_iscsi_location', '(', 'self', ',', 'ip', ',', 'target', ',', 'iqn', ',', 'lun', '=', 'None', ')', ':', 'NEW_LINE', 'INDENT', 'return', '\" % s : % s , % s ▁ % s ▁ % s \"', '%', '(', 'ip', ',', 'FLAGS', '.', 'iscsi_port', ',', 'target', ',', 'iqn', ',', 'lun', ')', 'NEW_LINE', 'DEDENT', 'def', '_iscsi_authentication', '(', 'self', ',', 'chap', ',', 'name', ',', 'password', ')', ':', 'NEW_LINE', 'INDENT', 'return', '\" % s ▁ % s ▁ % s \"', '%', '(', 'chap', ',', 'name', ',', 'password', ')', 'NEW_LINE', 'DEDENT', 'DEDENT']\n"
     ]
    }
   ],
   "source": [
    "tokenized_result = tokenizer.tokenize_code(out)\n",
    "print(tokenized_result)"
   ]
  },
  {
   "cell_type": "code",
   "execution_count": 7,
   "metadata": {},
   "outputs": [
    {
     "ename": "SyntaxError",
     "evalue": "invalid syntax (4091591608.py, line 3)",
     "output_type": "error",
     "traceback": [
      "\u001b[1;36m  Cell \u001b[1;32mIn[7], line 3\u001b[1;36m\u001b[0m\n\u001b[1;33m    if token\u001b[0m\n\u001b[1;37m             ^\u001b[0m\n\u001b[1;31mSyntaxError\u001b[0m\u001b[1;31m:\u001b[0m invalid syntax\n"
     ]
    }
   ],
   "source": [
    "tokenized_result2 = []\n",
    "for token in tokenized_result:\n",
    "    if token "
   ]
  },
  {
   "cell_type": "code",
   "execution_count": 1,
   "metadata": {},
   "outputs": [
    {
     "ename": "NameError",
     "evalue": "name 'tokenizer2' is not defined",
     "output_type": "error",
     "traceback": [
      "\u001b[1;31m---------------------------------------------------------------------------\u001b[0m",
      "\u001b[1;31mNameError\u001b[0m                                 Traceback (most recent call last)",
      "Cell \u001b[1;32mIn[1], line 3\u001b[0m\n\u001b[0;32m      1\u001b[0m code \u001b[38;5;241m=\u001b[39m \u001b[38;5;124m\"\u001b[39m\u001b[38;5;124m                \u001b[39m\u001b[38;5;124m'\u001b[39m\u001b[38;5;132;01m%s\u001b[39;00m\u001b[38;5;124m:\u001b[39m\u001b[38;5;132;01m%s\u001b[39;00m\u001b[38;5;124m,1 \u001b[39m\u001b[38;5;132;01m%s\u001b[39;00m\u001b[38;5;132;01m%s\u001b[39;00m\u001b[38;5;124m 0\u001b[39m\u001b[38;5;124m'\u001b[39m\u001b[38;5;124m \u001b[39m\u001b[38;5;124m%\u001b[39m\u001b[38;5;124m (FLAGS.nexenta_host,\u001b[39m\u001b[38;5;130;01m\\r\u001b[39;00m\u001b[38;5;124m\"\u001b[39m\n\u001b[0;32m      2\u001b[0m code \u001b[38;5;241m=\u001b[39m \u001b[38;5;124m'\u001b[39m\u001b[38;5;124m    \u001b[39m\u001b[38;5;124m\"\u001b[39m\u001b[38;5;132;01m%s\u001b[39;00m\u001b[38;5;124m/\u001b[39m\u001b[38;5;132;01m%s\u001b[39;00m\u001b[38;5;124m\"\u001b[39m\u001b[38;5;124m \u001b[39m\u001b[38;5;124m%\u001b[39m\u001b[38;5;124m (FLAGS.volume_group, volume[\u001b[39m\u001b[38;5;124m\"\u001b[39m\u001b[38;5;124mname\u001b[39m\u001b[38;5;124m\"\u001b[39m\u001b[38;5;124m]),\u001b[39m\u001b[38;5;124m'\u001b[39m\n\u001b[1;32m----> 3\u001b[0m \u001b[43mtokenizer2\u001b[49m\u001b[38;5;241m.\u001b[39mtokenize_code(code)\n",
      "\u001b[1;31mNameError\u001b[0m: name 'tokenizer2' is not defined"
     ]
    }
   ],
   "source": [
    "code = \"                '%s:%s,1 %s%s 0' % (FLAGS.nexenta_host,\\r\"\n",
    "code = '    \"%s/%s\" % (FLAGS.volume_group, volume[\"name\"]),'\n",
    "tokenizer2.tokenize_code(code)"
   ]
  },
  {
   "cell_type": "code",
   "execution_count": null,
   "metadata": {},
   "outputs": [],
   "source": [
    "code_list = [\"def _list_opts(obj, name):\\r\", \"    opts = list()\\r\",\"    for attr_str in dir(obj):\\r\", \"        attr_obj = getattr(obj, attr_str)\\r\"]\n",
    "# code = \"    def _copy_volume(self, srcstr, deststr, size_in_g, clearing=False):\\r\""
   ]
  },
  {
   "cell_type": "code",
   "execution_count": null,
   "metadata": {},
   "outputs": [
    {
     "ename": "AttributeError",
     "evalue": "module 'tokenize' has no attribute 'tokenize_code'",
     "output_type": "error",
     "traceback": [
      "\u001b[1;31m---------------------------------------------------------------------------\u001b[0m",
      "\u001b[1;31mAttributeError\u001b[0m                            Traceback (most recent call last)",
      "Cell \u001b[1;32mIn[10], line 2\u001b[0m\n\u001b[0;32m      1\u001b[0m \u001b[38;5;28;01mfor\u001b[39;00m code \u001b[38;5;129;01min\u001b[39;00m code_list:\n\u001b[1;32m----> 2\u001b[0m     \u001b[38;5;28mprint\u001b[39m(\u001b[43mtokenize\u001b[49m\u001b[38;5;241;43m.\u001b[39;49m\u001b[43mtokenize_code\u001b[49m(code))\n",
      "\u001b[1;31mAttributeError\u001b[0m: module 'tokenize' has no attribute 'tokenize_code'"
     ]
    }
   ],
   "source": [
    "for code in code_list:\n",
    "    print(tokenize.tokenize_code(code))"
   ]
  },
  {
   "cell_type": "code",
   "execution_count": null,
   "metadata": {},
   "outputs": [],
   "source": [
    "import re\n",
    "tok = \"        sys.stderr.write(\\\"%s\\\\n\\\" % str(ie) \\\n",
    "+ \\\n",
    ")\\r\"\n",
    "print(tokenize.tokenize_code(tok))\n",
    "tok = re.sub(\" +\", \" \", tok)\n",
    "print(repr(tok))"
   ]
  },
  {
   "cell_type": "code",
   "execution_count": null,
   "metadata": {},
   "outputs": [],
   "source": [
    "import tokenize\n",
    "from io import BytesIO\n",
    "tok = \"#include 34 ..\"\n",
    "iterator = tokenize.tokenize(BytesIO(tok.encode(\"utf-8\")).readline)\n",
    "while True:\n",
    "    tokentype, token, _, _, line = next(iterator)\n",
    "    print(tokentype, token)\n",
    "    if tokentype == tokenize.ENDMARKER:\n",
    "        print('ok')\n",
    "        # tokens.append(\"ENDMARKER\")\n",
    "        break"
   ]
  },
  {
   "cell_type": "code",
   "execution_count": null,
   "metadata": {},
   "outputs": [],
   "source": [
    "if not False:\n",
    "    print('ok')"
   ]
  },
  {
   "cell_type": "code",
   "execution_count": null,
   "metadata": {},
   "outputs": [],
   "source": [
    "from clean_code import PythonProcesser2\n",
    "tok = \"        sys.stderr.write(\\\"%s\\\\n\\\" % str(ie))\\r\"\n",
    "tokenize = PythonProcesser()\n",
    "tokenize.tokenize_code(tok)"
   ]
  },
  {
   "cell_type": "code",
   "execution_count": null,
   "metadata": {},
   "outputs": [],
   "source": []
  }
 ],
 "metadata": {
  "kernelspec": {
   "display_name": "test",
   "language": "python",
   "name": "python3"
  },
  "language_info": {
   "codemirror_mode": {
    "name": "ipython",
    "version": 3
   },
   "file_extension": ".py",
   "mimetype": "text/x-python",
   "name": "python",
   "nbconvert_exporter": "python",
   "pygments_lexer": "ipython3",
   "version": "3.9.16"
  }
 },
 "nbformat": 4,
 "nbformat_minor": 2
}
