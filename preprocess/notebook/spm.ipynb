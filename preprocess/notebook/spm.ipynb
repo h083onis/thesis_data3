{
 "cells": [
  {
   "cell_type": "code",
   "execution_count": 1,
   "metadata": {},
   "outputs": [],
   "source": [
    "import sentencepiece as spm\n",
    "import json\n",
    "import pandas as pd"
   ]
  },
  {
   "cell_type": "code",
   "execution_count": 2,
   "metadata": {},
   "outputs": [
    {
     "ename": "FileNotFoundError",
     "evalue": "[Errno 2] No such file or directory: 'openstack_lemma.json'",
     "output_type": "error",
     "traceback": [
      "\u001b[1;31m---------------------------------------------------------------------------\u001b[0m",
      "\u001b[1;31mFileNotFoundError\u001b[0m                         Traceback (most recent call last)",
      "Cell \u001b[1;32mIn[2], line 1\u001b[0m\n\u001b[1;32m----> 1\u001b[0m \u001b[38;5;28;01mwith\u001b[39;00m \u001b[38;5;28;43mopen\u001b[39;49m\u001b[43m(\u001b[49m\u001b[38;5;124;43m'\u001b[39;49m\u001b[38;5;124;43mopenstack_lemma.json\u001b[39;49m\u001b[38;5;124;43m'\u001b[39;49m\u001b[43m,\u001b[49m\u001b[43m \u001b[49m\u001b[38;5;124;43m'\u001b[39;49m\u001b[38;5;124;43mr\u001b[39;49m\u001b[38;5;124;43m'\u001b[39;49m\u001b[43m)\u001b[49m \u001b[38;5;28;01mas\u001b[39;00m f:\n\u001b[0;32m      2\u001b[0m     data \u001b[38;5;241m=\u001b[39m json\u001b[38;5;241m.\u001b[39mload(f)\n\u001b[0;32m      3\u001b[0m df \u001b[38;5;241m=\u001b[39m pd\u001b[38;5;241m.\u001b[39mread_csv(\u001b[38;5;124m'\u001b[39m\u001b[38;5;124m../resource/openstack.csv\u001b[39m\u001b[38;5;124m'\u001b[39m, index_col\u001b[38;5;241m=\u001b[39m\u001b[38;5;241m0\u001b[39m, header\u001b[38;5;241m=\u001b[39m\u001b[38;5;241m0\u001b[39m)\n",
      "File \u001b[1;32mc:\\Users\\masak\\anaconda3\\envs\\test\\lib\\site-packages\\IPython\\core\\interactiveshell.py:284\u001b[0m, in \u001b[0;36m_modified_open\u001b[1;34m(file, *args, **kwargs)\u001b[0m\n\u001b[0;32m    277\u001b[0m \u001b[38;5;28;01mif\u001b[39;00m file \u001b[38;5;129;01min\u001b[39;00m {\u001b[38;5;241m0\u001b[39m, \u001b[38;5;241m1\u001b[39m, \u001b[38;5;241m2\u001b[39m}:\n\u001b[0;32m    278\u001b[0m     \u001b[38;5;28;01mraise\u001b[39;00m \u001b[38;5;167;01mValueError\u001b[39;00m(\n\u001b[0;32m    279\u001b[0m         \u001b[38;5;124mf\u001b[39m\u001b[38;5;124m\"\u001b[39m\u001b[38;5;124mIPython won\u001b[39m\u001b[38;5;124m'\u001b[39m\u001b[38;5;124mt let you open fd=\u001b[39m\u001b[38;5;132;01m{\u001b[39;00mfile\u001b[38;5;132;01m}\u001b[39;00m\u001b[38;5;124m by default \u001b[39m\u001b[38;5;124m\"\u001b[39m\n\u001b[0;32m    280\u001b[0m         \u001b[38;5;124m\"\u001b[39m\u001b[38;5;124mas it is likely to crash IPython. If you know what you are doing, \u001b[39m\u001b[38;5;124m\"\u001b[39m\n\u001b[0;32m    281\u001b[0m         \u001b[38;5;124m\"\u001b[39m\u001b[38;5;124myou can use builtins\u001b[39m\u001b[38;5;124m'\u001b[39m\u001b[38;5;124m open.\u001b[39m\u001b[38;5;124m\"\u001b[39m\n\u001b[0;32m    282\u001b[0m     )\n\u001b[1;32m--> 284\u001b[0m \u001b[38;5;28;01mreturn\u001b[39;00m io_open(file, \u001b[38;5;241m*\u001b[39margs, \u001b[38;5;241m*\u001b[39m\u001b[38;5;241m*\u001b[39mkwargs)\n",
      "\u001b[1;31mFileNotFoundError\u001b[0m: [Errno 2] No such file or directory: 'openstack_lemma.json'"
     ]
    }
   ],
   "source": [
    "with open('openstack_lemma.json', 'r') as f:\n",
    "    data = json.load(f)\n",
    "df = pd.read_csv('../resource/openstack.csv', index_col=0, header=0)\n",
    "df.set_index('commit_id', inplace=True)\n",
    "input_list = []\n",
    "for commit in data:\n",
    "    if df.at[commit['commit_id'], 'strata'] != df['strata'].max():\n",
    "        # input_list.append(' '.join(commit['text']))\n",
    "        input_list.extend([txt for txt in commit['text']])\n",
    "        \n"
   ]
  },
  {
   "cell_type": "code",
   "execution_count": null,
   "metadata": {},
   "outputs": [
    {
     "data": {
      "text/plain": [
       "'fix bug [ISSUEID].'"
      ]
     },
     "execution_count": 69,
     "metadata": {},
     "output_type": "execute_result"
    }
   ],
   "source": [
    "input_list[1]"
   ]
  },
  {
   "cell_type": "code",
   "execution_count": null,
   "metadata": {},
   "outputs": [],
   "source": [
    "spm.SentencePieceTrainer.Train(\n",
    "    sentence_iterator=iter(input_list),  # コーパスファイル\n",
    "    model_type=\"unigram\",  # デフォルト\n",
    "    model_prefix='spm_openstack_3000_delstop_lemma',  # 出力されるモデルのファイル名に使われる\n",
    "    vocab_size=3000,  # 語彙数\n",
    "    pad_id = 3,\n",
    "    character_coverage = 1.0,\n",
    "    user_defined_symbols = ['[NUM]','[URL]','[COMMITID]','[CHANGEID]','[ISSUEID]'],\n",
    ")"
   ]
  },
  {
   "cell_type": "code",
   "execution_count": null,
   "metadata": {},
   "outputs": [],
   "source": [
    "sp = spm.SentencePieceProcessor(model_file='spm_openstack_3000_delstop_lemma.model')"
   ]
  },
  {
   "cell_type": "code",
   "execution_count": null,
   "metadata": {},
   "outputs": [
    {
     "name": "stdout",
     "output_type": "stream",
     "text": [
      "fix bug [ISSUEID].\n",
      "[18, 19, 9, 8, 10]\n",
      "['▁fix', '▁bug', '▁', '[ISSUEID]', '.']\n",
      "fix bug [ISSUEID].\n"
     ]
    }
   ],
   "source": [
    "print(input_list[1])\n",
    "encode = sp.Encode(input_list[1])\n",
    "print(encode)\n",
    "print(sp.encode(input_list[1], out_type=str))\n",
    "decode = sp.Decode(encode)\n",
    "print(decode)"
   ]
  },
  {
   "cell_type": "code",
   "execution_count": null,
   "metadata": {},
   "outputs": [],
   "source": [
    "import pickle\n",
    "import pandas as pd\n",
    "with open('openstack_lemma.json', 'r') as f:\n",
    "    data = json.load(f)\n",
    "df = pd.read_csv('../resource/openstack.csv', index_col=0, header=0)\n",
    "df.set_index('commit_id', inplace=True)\n",
    "train_list = []\n",
    "train_list2 = []\n",
    "test_list = []\n",
    "test_list2 = []\n",
    "for commit in data:\n",
    "    if df.at[commit['commit_id'], 'strata'] != df['strata'].max():\n",
    "        train_list.append(' '.join(commit['text']))\n",
    "        train_list2.append(int(df.at[commit['commit_id'], 'buggy']))\n",
    "    else:\n",
    "        test_list.append(' '.join(commit['text']))\n",
    "        test_list2.append(int(df.at[commit['commit_id'], 'buggy']))\n",
    "        \n",
    "# train_data = [train_list, train_list2]\n",
    "# test_data = [test_list, test_list2]\n",
    "tr_df = pd.DataFrame(\n",
    "    data={'data':train_list, 'label':train_list2},\n",
    "    columns=['data', 'label']\n",
    ")\n",
    "te_df = pd.DataFrame(\n",
    "    data={'data':test_list, 'label':test_list2},\n",
    "    columns=['data', 'label']\n",
    ")\n",
    "tr_df.to_csv('openstack_train_delstop_lemma.csv')\n",
    "te_df.to_csv('openstack_test_delstop_lemma.csv')\n",
    "\n",
    "# with open('openstack_train.pkl', 'wb') as f_tr, open('openstack_test.pkl', 'wb') as f_te:\n",
    "#     pickle.dump(train_data, f_tr)\n",
    "#     pickle.dump(test_data, f_te)"
   ]
  }
 ],
 "metadata": {
  "kernelspec": {
   "display_name": "test",
   "language": "python",
   "name": "python3"
  },
  "language_info": {
   "codemirror_mode": {
    "name": "ipython",
    "version": 3
   },
   "file_extension": ".py",
   "mimetype": "text/x-python",
   "name": "python",
   "nbconvert_exporter": "python",
   "pygments_lexer": "ipython3",
   "version": "3.9.16"
  }
 },
 "nbformat": 4,
 "nbformat_minor": 2
}
