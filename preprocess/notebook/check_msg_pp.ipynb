{
 "cells": [
  {
   "cell_type": "code",
   "execution_count": 1,
   "metadata": {},
   "outputs": [],
   "source": [
    "import sys\n",
    "sys.path.append('../code/')"
   ]
  },
  {
   "cell_type": "code",
   "execution_count": 2,
   "metadata": {},
   "outputs": [],
   "source": [
    "from clean_msg import CleanMsg\n",
    "pp = CleanMsg()"
   ]
  },
  {
   "cell_type": "code",
   "execution_count": 5,
   "metadata": {},
   "outputs": [],
   "source": [
    "text = \"bug #871278 89f9bc9c5f873d6763e35d2f92d31c28f8fb5262 Added utils.FileLikeIter \\n\\nA really simple version of this was in container sync already, and I\\nneeded a more complete version for work I'm doing, and I noticed\\nhttps://review.openstack.org/#/c/33405/ was also making use of it.\\nSo, here's a more full version.\\n\\nIf https://review.openstack.org/#/c/33405/ lands before this, I'll\\nupdate it accordingly <html><h1>%s</h1><p>%s</p></html>.\\n\\nChange-Id: Iba66b6a97f65e312e04fdba273e8f4ad1d3e1594\\n\"\n",
    "text = \"Add LUN# to provider_location in Nexenta driver.\\n\\nFixes bug 1088411. Lets Nexenta driver work with any iscsi_helper.\\n\\nChange-Id: Ib70ed94fa472c7281de077f0f36575216741678f\\n\""
   ]
  },
  {
   "cell_type": "code",
   "execution_count": 6,
   "metadata": {},
   "outputs": [
    {
     "data": {
      "text/plain": [
       "['add lun# provider_location nexenta driver.',\n",
       " 'fixes bug <num>.',\n",
       " 'let us nexenta driver work iscsi_helper.',\n",
       " 'change-id: ib<num>ed<num>fa<num>c<num>de<num>f<num>f<num>f']"
      ]
     },
     "execution_count": 6,
     "metadata": {},
     "output_type": "execute_result"
    }
   ],
   "source": [
    "pp.excute(text)"
   ]
  },
  {
   "cell_type": "code",
   "execution_count": 19,
   "metadata": {},
   "outputs": [
    {
     "name": "stdout",
     "output_type": "stream",
     "text": [
      "switch extension namespace  bug [ISSUEID]  effectively (with some manual wrapping): sed //compute/ext@  change-id: [CHANGEID]\n"
     ]
    }
   ],
   "source": [
    "text = \"task-number: [ISSUEID] change-id: [CHANGEID] reviewed-by: friedemann kleint <friedemann.kleint@digia.com>\"\n",
    "text = \"switch extension namespace  bug [ISSUEID]  effectively (with some manual wrapping): sed s@docs.openstack.org/ext@docs.openstack.org/compute/ext@  change-id: [CHANGEID]\"\n",
    "pattern = r'\\b[A-Za-z0-9._%+-]+@[A-Za-z0-9.-]+\\.[A-Z|a-z]{2,}\\b'\n",
    "import re\n",
    "\n",
    "text = re.sub(pattern, '', text)\n",
    "print(text)\n"
   ]
  },
  {
   "cell_type": "code",
   "execution_count": 6,
   "metadata": {},
   "outputs": [
    {
     "data": {
      "text/plain": [
       "\"fix qmake's pro file cache interact correctly write_file writing file write_file() inform pro file parser cache discard file existant cache, ensure calling include() write_file() always works.\""
      ]
     },
     "execution_count": 6,
     "metadata": {},
     "output_type": "execute_result"
    }
   ],
   "source": [
    "import contractions\n",
    "text = \"QDir::mkpath shouldn't fail if parent directory denies access\"\n",
    "text = \"fix qmake's pro file cache interact correctly write_file writing file write_file() inform pro file parser cache discard file existant cache, ensure calling include() write_file() always works.\"\n",
    "contractions.fix(text)"
   ]
  },
  {
   "cell_type": "code",
   "execution_count": null,
   "metadata": {},
   "outputs": [],
   "source": []
  }
 ],
 "metadata": {
  "kernelspec": {
   "display_name": "test",
   "language": "python",
   "name": "python3"
  },
  "language_info": {
   "codemirror_mode": {
    "name": "ipython",
    "version": 3
   },
   "file_extension": ".py",
   "mimetype": "text/x-python",
   "name": "python",
   "nbconvert_exporter": "python",
   "pygments_lexer": "ipython3",
   "version": "3.9.16"
  }
 },
 "nbformat": 4,
 "nbformat_minor": 2
}
