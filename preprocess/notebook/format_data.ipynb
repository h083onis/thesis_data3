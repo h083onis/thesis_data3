{
 "cells": [
  {
   "cell_type": "code",
   "execution_count": 1,
   "metadata": {},
   "outputs": [],
   "source": [
    "import json"
   ]
  },
  {
   "cell_type": "code",
   "execution_count": 17,
   "metadata": {},
   "outputs": [],
   "source": [
    "project_list = ['ansible','django','libcloud']\n",
    "\n",
    "for project in project_list:\n",
    "    data2 = []\n",
    "    path = '../resource/preprocess_data/'+project\n",
    "    with open(path+'.json', 'r', encoding='utf-8') as f, open(path+'.log', 'r', encoding='utf-8') as f_log:\n",
    "        data = json.load(f)\n",
    "        log = f_log.readlines()\n",
    "        commit_id_list = [commit_id.split(' - ')[1].split('\\t')[0] for commit_id in log]\n",
    "        data2 = [commit for commit in data if commit['commit_id'] not in commit_id_list and commit['codes'] != []]\n",
    "        with open(path+'2.json', 'w', encoding='utf-8') as f_new:\n",
    "            json.dump(data2, f_new, indent=2)"
   ]
  }
 ],
 "metadata": {
  "kernelspec": {
   "display_name": "test",
   "language": "python",
   "name": "python3"
  },
  "language_info": {
   "codemirror_mode": {
    "name": "ipython",
    "version": 3
   },
   "file_extension": ".py",
   "mimetype": "text/x-python",
   "name": "python",
   "nbconvert_exporter": "python",
   "pygments_lexer": "ipython3",
   "version": "3.9.16"
  }
 },
 "nbformat": 4,
 "nbformat_minor": 2
}
