{
 "cells": [
  {
   "cell_type": "code",
   "execution_count": 6,
   "metadata": {},
   "outputs": [
    {
     "name": "stdout",
     "output_type": "stream",
     "text": [
      "package   tool ;\n",
      "import   java . io . BufferedWriter ;\n",
      "import   java . io . FileWriter ;\n",
      "import   java . io . IOException ;\n",
      "public   class   Test   {\n",
      "     public   static   void   main ( String [ ]   args )   {\n",
      "         for   ( int   i   =   0 ;   i   <   3 ;   i ++ )   {\n",
      "             System . out . println ( \" Hello ▁ World ! \" ) ;\n",
      "         }\n",
      "     }\n"
     ]
    }
   ],
   "source": [
    "from lang_processors2.java_processor import JavaProcessor\n",
    "from clean_comment import exclude_comment\n",
    "with open('test_data/Test.java', 'r', encoding='utf-8') as f:\n",
    "    codes = f.read()\n",
    "out = exclude_comment(codes)\n",
    "processor = JavaProcessor(root_folder='lang_processors2/tree-sitter')\n",
    "result = processor.tokenize_code(out)\n",
    "print(result)"
   ]
  }
 ],
 "metadata": {
  "kernelspec": {
   "display_name": "test",
   "language": "python",
   "name": "python3"
  },
  "language_info": {
   "codemirror_mode": {
    "name": "ipython",
    "version": 3
   },
   "file_extension": ".py",
   "mimetype": "text/x-python",
   "name": "python",
   "nbconvert_exporter": "python",
   "pygments_lexer": "ipython3",
   "version": "3.9.16"
  }
 },
 "nbformat": 4,
 "nbformat_minor": 2
}
