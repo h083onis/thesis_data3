{
 "cells": [
  {
   "cell_type": "code",
   "execution_count": 1,
   "metadata": {},
   "outputs": [],
   "source": [
    "import pandas as pd"
   ]
  },
  {
   "cell_type": "code",
   "execution_count": 56,
   "metadata": {},
   "outputs": [],
   "source": [
    "df_label = pd.read_csv('../resource/openstack.csv', header=0, index_col=0)\n",
    "df_data = pd.read_csv('../resource/preprocess_data/openstack_data.csv', header=0, index_col=0)"
   ]
  },
  {
   "cell_type": "code",
   "execution_count": 57,
   "metadata": {},
   "outputs": [],
   "source": [
    "df_label.set_index('commit_id', inplace=True)\n",
    "df_data.set_index('commit_id', inplace=True)"
   ]
  },
  {
   "cell_type": "code",
   "execution_count": 58,
   "metadata": {},
   "outputs": [],
   "source": [
    "for index, row in df_label.iterrows():\n",
    "    if index in df_data.index:\n",
    "        if row['strata'] == df_label['strata'].max():\n",
    "            df_data.loc[index, 'kinds'] = 'test'\n",
    "        else:\n",
    "            df_data.loc[index, 'kinds'] = 'train'\n"
   ]
  },
  {
   "cell_type": "code",
   "execution_count": 59,
   "metadata": {},
   "outputs": [
    {
     "data": {
      "text/html": [
       "<div>\n",
       "<style scoped>\n",
       "    .dataframe tbody tr th:only-of-type {\n",
       "        vertical-align: middle;\n",
       "    }\n",
       "\n",
       "    .dataframe tbody tr th {\n",
       "        vertical-align: top;\n",
       "    }\n",
       "\n",
       "    .dataframe thead th {\n",
       "        text-align: right;\n",
       "    }\n",
       "</style>\n",
       "<table border=\"1\" class=\"dataframe\">\n",
       "  <thead>\n",
       "    <tr style=\"text-align: right;\">\n",
       "      <th></th>\n",
       "      <th>timestamp</th>\n",
       "      <th>input_data</th>\n",
       "      <th>kinds</th>\n",
       "      <th>label</th>\n",
       "    </tr>\n",
       "    <tr>\n",
       "      <th>commit_id</th>\n",
       "      <th></th>\n",
       "      <th></th>\n",
       "      <th></th>\n",
       "      <th></th>\n",
       "    </tr>\n",
       "  </thead>\n",
       "  <tbody>\n",
       "    <tr>\n",
       "      <th>00057454f6609871c2cabf874876d26a6d0d0641</th>\n",
       "      <td>1358516662</td>\n",
       "      <td>[[\"&lt;python&gt; ' % s : % s , 1 ▁ % s % s ▁ 0' % (...</td>\n",
       "      <td>train</td>\n",
       "      <td>False</td>\n",
       "    </tr>\n",
       "    <tr>\n",
       "      <th>0007d255d9b20da4e5bbcdbaf5813104fbc092da</th>\n",
       "      <td>1358353428</td>\n",
       "      <td>[[\"&lt;python&gt; def _copy_volume ( self , srcstr ,...</td>\n",
       "      <td>train</td>\n",
       "      <td>False</td>\n",
       "    </tr>\n",
       "    <tr>\n",
       "      <th>005ff1100a11c83808471ece313d0f9001f4653c</th>\n",
       "      <td>1374603627</td>\n",
       "      <td>[[\"&lt;python&gt; driver_volume_type = ' glusterfs '...</td>\n",
       "      <td>train</td>\n",
       "      <td>False</td>\n",
       "    </tr>\n",
       "    <tr>\n",
       "      <th>006d673d24778abe6c47e3ee7e1a19e163912440</th>\n",
       "      <td>1367348740</td>\n",
       "      <td>[['&lt;python&gt; device_stats = { } &lt;sep&gt; self . _u...</td>\n",
       "      <td>train</td>\n",
       "      <td>False</td>\n",
       "    </tr>\n",
       "    <tr>\n",
       "      <th>0094303e36cf1c01db539a1eea7771ebcb4d336a</th>\n",
       "      <td>1346864368</td>\n",
       "      <td>[['&lt;python&gt; import os &lt;sep&gt; import re &lt;sep&gt; im...</td>\n",
       "      <td>train</td>\n",
       "      <td>False</td>\n",
       "    </tr>\n",
       "  </tbody>\n",
       "</table>\n",
       "</div>"
      ],
      "text/plain": [
       "                                           timestamp  \\\n",
       "commit_id                                              \n",
       "00057454f6609871c2cabf874876d26a6d0d0641  1358516662   \n",
       "0007d255d9b20da4e5bbcdbaf5813104fbc092da  1358353428   \n",
       "005ff1100a11c83808471ece313d0f9001f4653c  1374603627   \n",
       "006d673d24778abe6c47e3ee7e1a19e163912440  1367348740   \n",
       "0094303e36cf1c01db539a1eea7771ebcb4d336a  1346864368   \n",
       "\n",
       "                                                                                 input_data  \\\n",
       "commit_id                                                                                     \n",
       "00057454f6609871c2cabf874876d26a6d0d0641  [[\"<python> ' % s : % s , 1 ▁ % s % s ▁ 0' % (...   \n",
       "0007d255d9b20da4e5bbcdbaf5813104fbc092da  [[\"<python> def _copy_volume ( self , srcstr ,...   \n",
       "005ff1100a11c83808471ece313d0f9001f4653c  [[\"<python> driver_volume_type = ' glusterfs '...   \n",
       "006d673d24778abe6c47e3ee7e1a19e163912440  [['<python> device_stats = { } <sep> self . _u...   \n",
       "0094303e36cf1c01db539a1eea7771ebcb4d336a  [['<python> import os <sep> import re <sep> im...   \n",
       "\n",
       "                                          kinds  label  \n",
       "commit_id                                               \n",
       "00057454f6609871c2cabf874876d26a6d0d0641  train  False  \n",
       "0007d255d9b20da4e5bbcdbaf5813104fbc092da  train  False  \n",
       "005ff1100a11c83808471ece313d0f9001f4653c  train  False  \n",
       "006d673d24778abe6c47e3ee7e1a19e163912440  train  False  \n",
       "0094303e36cf1c01db539a1eea7771ebcb4d336a  train  False  "
      ]
     },
     "execution_count": 59,
     "metadata": {},
     "output_type": "execute_result"
    }
   ],
   "source": [
    "df_data.head()"
   ]
  },
  {
   "cell_type": "code",
   "execution_count": 11,
   "metadata": {},
   "outputs": [],
   "source": [
    "df_data.reset_index(inplace=True)\n",
    "df_data.to_csv('../resource/preprocess_data/openstack_data2.csv')"
   ]
  },
  {
   "cell_type": "code",
   "execution_count": 60,
   "metadata": {},
   "outputs": [],
   "source": [
    "tmp = df_data[df_data['kinds'] == 'test']"
   ]
  },
  {
   "cell_type": "code",
   "execution_count": 61,
   "metadata": {},
   "outputs": [
    {
     "data": {
      "text/plain": [
       "kinds\n",
       "test    1473\n",
       "Name: count, dtype: int64"
      ]
     },
     "execution_count": 61,
     "metadata": {},
     "output_type": "execute_result"
    }
   ],
   "source": [
    "tmp['kinds'].value_counts()"
   ]
  }
 ],
 "metadata": {
  "kernelspec": {
   "display_name": "test",
   "language": "python",
   "name": "python3"
  },
  "language_info": {
   "codemirror_mode": {
    "name": "ipython",
    "version": 3
   },
   "file_extension": ".py",
   "mimetype": "text/x-python",
   "name": "python",
   "nbconvert_exporter": "python",
   "pygments_lexer": "ipython3",
   "version": "3.9.16"
  }
 },
 "nbformat": 4,
 "nbformat_minor": 2
}
