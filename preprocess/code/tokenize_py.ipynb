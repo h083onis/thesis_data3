{
 "cells": [
  {
   "cell_type": "code",
   "execution_count": 28,
   "metadata": {},
   "outputs": [],
   "source": [
    "from lang_processors.python_processor2 import PythonProcessor\n",
    "import subprocess"
   ]
  },
  {
   "cell_type": "code",
   "execution_count": 29,
   "metadata": {},
   "outputs": [],
   "source": [
    "processor = PythonProcessor()"
   ]
  },
  {
   "cell_type": "code",
   "execution_count": 30,
   "metadata": {},
   "outputs": [],
   "source": [
    "import pickle\n",
    "line_num = pickle.load(open('line_num.pkl', 'rb'))"
   ]
  },
  {
   "cell_type": "code",
   "execution_count": 31,
   "metadata": {},
   "outputs": [],
   "source": [
    "with open('before2.py', 'r', encoding='utf-8') as f_before, open('after2.py', 'r', encoding='utf-8') as f_after:\n",
    "    before_source = f_before.read()\n",
    "    after_source = f_after.read()"
   ]
  },
  {
   "cell_type": "code",
   "execution_count": 32,
   "metadata": {},
   "outputs": [],
   "source": [
    "result_before = processor.tokenize_code(before_source)\n",
    "result_after = processor.tokenize_code(after_source)"
   ]
  },
  {
   "cell_type": "code",
   "execution_count": 33,
   "metadata": {},
   "outputs": [
    {
     "name": "stdout",
     "output_type": "stream",
     "text": [
      "import socket NEW_LINE import sys NEW_LINE import eventlet NEW_LINE import eventlet . wsgi NEW_LINE import greenlet NEW_LINE from paste import deploy NEW_LINE import routes . middleware NEW_LINE import webob . dec NEW_LINE import webob . exc NEW_LINE from cinder import exception NEW_LINE from cinder import flags NEW_LINE from cinder . openstack . common import log as logging NEW_LINE from cinder import utils NEW_LINE FLAGS = flags . FLAGS NEW_LINE LOG = logging . getLogger ( __name__ ) NEW_LINE class Server ( object ) : NEW_LINE INDENT default_pool_size = 1000 NEW_LINE def __init__ ( self , name , app , host = None , port = None , pool_size = None , protocol = eventlet . wsgi . HttpProtocol ) : NEW_LINE INDENT self . name = name NEW_LINE self . app = app NEW_LINE self . _host = host or \"0.0.0.0\" NEW_LINE self . _port = port or 0 NEW_LINE self . _server = None NEW_LINE self . _socket = None NEW_LINE self . _protocol = protocol NEW_LINE self . _pool = eventlet . GreenPool ( pool_size or self . default_pool_size ) NEW_LINE self . _logger = logging . getLogger ( \" eventlet . wsgi . server \" ) NEW_LINE self . _wsgi_logger = logging . WritableLogger ( self . _logger ) NEW_LINE_DEDENT def _start ( self ) : NEW_LINE INDENT eventlet . wsgi . server ( self . _socket , self . app , protocol = self . _protocol , custom_pool = self . _pool , log = self . _wsgi_logger ) NEW_LINE_DEDENT def start ( self , backlog = 128 ) : NEW_LINE INDENT if backlog < 1 : NEW_LINE INDENT raise exception . InvalidInput ( reason = ' The ▁ backlog ▁ must ▁ be ▁ more ▁ than ▁ 1' ) NEW_LINE_DEDENT bind_addr = ( self . _host , self . _port ) NEW_LINE try : NEW_LINE INDENT info = socket . getaddrinfo ( bind_addr [ 0 ] , bind_addr [ 1 ] , socket . AF_UNSPEC , socket . SOCK_STREAM ) [ 0 ] NEW_LINE family = info [ 0 ] NEW_LINE bind_addr = info [ - 1 ] NEW_LINE_DEDENT except Exception : NEW_LINE INDENT family = socket . AF_INET NEW_LINE_DEDENT self . _socket = eventlet . listen ( bind_addr , family , backlog = backlog ) NEW_LINE self . _server = eventlet . spawn ( self . _start ) NEW_LINE ( self . _host , self . _port ) = self . _socket . getsockname ( ) [ 0 : 2 ] NEW_LINE LOG . info ( _ ( \" Started ▁ % ( name ) s ▁ on ▁ % ( _ host ) s : % ( _ port ) s \" ) % self . __dict__ ) NEW_LINE_DEDENT @ property NEW_LINE def host ( self ) : NEW_LINE INDENT return self . _socket . getsockname ( ) [ 0 ] if self . _socket else self . _host NEW_LINE_DEDENT @ property NEW_LINE def port ( self ) : NEW_LINE INDENT return self . _socket . getsockname ( ) [ 1 ] if self . _socket else self . _port NEW_LINE_DEDENT def stop ( self ) : NEW_LINE INDENT LOG . info ( _ ( \" Stopping ▁ WSGI ▁ server . \" ) ) NEW_LINE self . _server . kill ( ) NEW_LINE_DEDENT def wait ( self ) : NEW_LINE INDENT try : NEW_LINE INDENT self . _server . wait ( ) NEW_LINE_DEDENT except greenlet . GreenletExit : NEW_LINE INDENT LOG . info ( _ ( \" WSGI ▁ server ▁ has ▁ stopped . \" ) ) NEW_LINE_DEDENT DEDENT DEDENT class Request ( webob . Request ) : NEW_LINE INDENT pass NEW_LINE_DEDENT class Application ( object ) : NEW_LINE INDENT @ classmethod NEW_LINE def factory ( cls , global_config , ** local_config ) : NEW_LINE INDENT return cls ( ** local_config ) NEW_LINE_DEDENT def __call__ ( self , environ , start_response ) : NEW_LINE INDENT raise NotImplementedError ( _ ( ' You ▁ must ▁ implement ▁ _ _ call _ _ ' ) ) NEW_LINE_DEDENT DEDENT class Middleware ( Application ) : NEW_LINE INDENT @ classmethod NEW_LINE def factory ( cls , global_config , ** local_config ) : NEW_LINE INDENT def _factory ( app ) : NEW_LINE INDENT return cls ( app , ** local_config ) NEW_LINE_DEDENT return _factory NEW_LINE_DEDENT def __init__ ( self , application ) : NEW_LINE INDENT self . application = application NEW_LINE_DEDENT def process_request ( self , req ) : NEW_LINE INDENT return None NEW_LINE_DEDENT def process_response ( self , response ) : NEW_LINE INDENT return response NEW_LINE_DEDENT @ webob . dec . wsgify ( RequestClass = Request ) NEW_LINE def __call__ ( self , req ) : NEW_LINE INDENT response = self . process_request ( req ) NEW_LINE if response : NEW_LINE INDENT return response NEW_LINE_DEDENT response = req . get_response ( self . application ) NEW_LINE return self . process_response ( response ) NEW_LINE_DEDENT DEDENT class Debug ( Middleware ) : NEW_LINE INDENT @ webob . dec . wsgify ( RequestClass = Request ) NEW_LINE def __call__ ( self , req ) : NEW_LINE INDENT print ( ' * ' * 40 ) + ' ▁ REQUEST ▁ ENVIRON ' NEW_LINE for key , value in req . environ . items ( ) : NEW_LINE INDENT print key , ' = ' , value NEW_LINE_DEDENT print NEW_LINE resp = req . get_response ( self . application ) NEW_LINE print ( ' * ' * 40 ) + ' ▁ RESPONSE ▁ HEADERS ' NEW_LINE for ( key , value ) in resp . headers . iteritems ( ) : NEW_LINE INDENT print key , ' = ' , value NEW_LINE_DEDENT print NEW_LINE resp . app_iter = self . print_generator ( resp . app_iter ) NEW_LINE return resp NEW_LINE_DEDENT @ staticmethod NEW_LINE def print_generator ( app_iter ) : NEW_LINE INDENT print ( ' * ' * 40 ) + ' ▁ BODY ' NEW_LINE for part in app_iter : NEW_LINE INDENT sys . stdout . write ( part ) NEW_LINE sys . stdout . flush ( ) NEW_LINE yield part NEW_LINE_DEDENT print NEW_LINE_DEDENT DEDENT class Router ( object ) : NEW_LINE INDENT def __init__ ( self , mapper ) : NEW_LINE INDENT self . map = mapper NEW_LINE self . _router = routes . middleware . RoutesMiddleware ( self . _dispatch , self . map ) NEW_LINE_DEDENT @ webob . dec . wsgify ( RequestClass = Request ) NEW_LINE def __call__ ( self , req ) : NEW_LINE INDENT return self . _router NEW_LINE_DEDENT @ staticmethod NEW_LINE @ webob . dec . wsgify ( RequestClass = Request ) NEW_LINE def _dispatch ( req ) : NEW_LINE INDENT match = req . environ [ ' wsgiorg . routing _ args ' ] [ 1 ] NEW_LINE if not match : NEW_LINE INDENT return webob . exc . HTTPNotFound ( ) NEW_LINE_DEDENT app = match [ ' controller ' ] NEW_LINE return app NEW_LINE_DEDENT DEDENT class Loader ( object ) : NEW_LINE INDENT def __init__ ( self , config_path = None ) : NEW_LINE INDENT config_path = config_path or FLAGS . api_paste_config NEW_LINE self . config_path = utils . find_config ( config_path ) NEW_LINE_DEDENT def load_app ( self , name ) : NEW_LINE INDENT try : NEW_LINE INDENT return deploy . loadapp ( \" config : % s \" % self . config_path , name = name ) NEW_LINE_DEDENT except LookupError as err : NEW_LINE INDENT LOG . error ( err ) NEW_LINE raise exception . PasteAppNotFound ( name = name , path = self . config_path ) NEW_LINE_DEDENT DEDENT DEDENT\n"
     ]
    }
   ],
   "source": [
    "source = ' '.join(result_before)\n",
    "import re\n",
    "source = re.sub('NEW_LINE DEDENT', 'NEW_LINE_DEDENT', source)\n",
    "print(source)"
   ]
  },
  {
   "cell_type": "code",
   "execution_count": 34,
   "metadata": {},
   "outputs": [
    {
     "name": "stdout",
     "output_type": "stream",
     "text": [
      "['import socket NEW_LINE', 'import sys NEW_LINE', 'import eventlet NEW_LINE', 'import eventlet . wsgi NEW_LINE', 'import greenlet NEW_LINE', 'from paste import deploy NEW_LINE', 'import routes . middleware NEW_LINE', 'import webob . dec NEW_LINE', 'import webob . exc NEW_LINE', 'from cinder import exception NEW_LINE', 'from cinder import flags NEW_LINE', 'from cinder . openstack . common import log as logging NEW_LINE', 'from cinder import utils NEW_LINE', 'FLAGS = flags . FLAGS NEW_LINE', 'LOG = logging . getLogger ( __name__ ) NEW_LINE', 'class Server ( object ) : NEW_LINE', 'INDENT default_pool_size = 1000 NEW_LINE', 'def __init__ ( self , name , app , host = None , port = None , pool_size = None , protocol = eventlet . wsgi . HttpProtocol ) : NEW_LINE', 'INDENT self . name = name NEW_LINE', 'self . app = app NEW_LINE', 'self . _host = host or \"0.0.0.0\" NEW_LINE', 'self . _port = port or 0 NEW_LINE', 'self . _server = None NEW_LINE', 'self . _socket = None NEW_LINE', 'self . _protocol = protocol NEW_LINE', 'self . _pool = eventlet . GreenPool ( pool_size or self . default_pool_size ) NEW_LINE', 'self . _logger = logging . getLogger ( \" eventlet . wsgi . server \" ) NEW_LINE', 'self . _wsgi_logger = logging . WritableLogger ( self . _logger ) NEW_LINE_DEDENT', 'def _start ( self ) : NEW_LINE', 'INDENT eventlet . wsgi . server ( self . _socket , self . app , protocol = self . _protocol , custom_pool = self . _pool , log = self . _wsgi_logger ) NEW_LINE_DEDENT', 'def start ( self , backlog = 128 ) : NEW_LINE', 'INDENT if backlog < 1 : NEW_LINE', \"INDENT raise exception . InvalidInput ( reason = ' The ▁ backlog ▁ must ▁ be ▁ more ▁ than ▁ 1' ) NEW_LINE_DEDENT\", 'bind_addr = ( self . _host , self . _port ) NEW_LINE', 'try : NEW_LINE', 'INDENT info = socket . getaddrinfo ( bind_addr [ 0 ] , bind_addr [ 1 ] , socket . AF_UNSPEC , socket . SOCK_STREAM ) [ 0 ] NEW_LINE', 'family = info [ 0 ] NEW_LINE', 'bind_addr = info [ - 1 ] NEW_LINE_DEDENT', 'except Exception : NEW_LINE', 'INDENT family = socket . AF_INET NEW_LINE_DEDENT', 'self . _socket = eventlet . listen ( bind_addr , family , backlog = backlog ) NEW_LINE', 'self . _server = eventlet . spawn ( self . _start ) NEW_LINE', '( self . _host , self . _port ) = self . _socket . getsockname ( ) [ 0 : 2 ] NEW_LINE', 'LOG . info ( _ ( \" Started ▁ % ( name ) s ▁ on ▁ % ( _ host ) s : % ( _ port ) s \" ) % self . __dict__ ) NEW_LINE_DEDENT', '@ property NEW_LINE', 'def host ( self ) : NEW_LINE', 'INDENT return self . _socket . getsockname ( ) [ 0 ] if self . _socket else self . _host NEW_LINE_DEDENT', '@ property NEW_LINE', 'def port ( self ) : NEW_LINE', 'INDENT return self . _socket . getsockname ( ) [ 1 ] if self . _socket else self . _port NEW_LINE_DEDENT', 'def stop ( self ) : NEW_LINE', 'INDENT LOG . info ( _ ( \" Stopping ▁ WSGI ▁ server . \" ) ) NEW_LINE', 'self . _server . kill ( ) NEW_LINE_DEDENT', 'def wait ( self ) : NEW_LINE', 'INDENT try : NEW_LINE', 'INDENT self . _server . wait ( ) NEW_LINE_DEDENT', 'except greenlet . GreenletExit : NEW_LINE', 'INDENT LOG . info ( _ ( \" WSGI ▁ server ▁ has ▁ stopped . \" ) ) NEW_LINE_DEDENT', 'DEDENT DEDENT class Request ( webob . Request ) : NEW_LINE', 'INDENT pass NEW_LINE_DEDENT', 'class Application ( object ) : NEW_LINE', 'INDENT @ classmethod NEW_LINE', 'def factory ( cls , global_config , ** local_config ) : NEW_LINE', 'INDENT return cls ( ** local_config ) NEW_LINE_DEDENT', 'def __call__ ( self , environ , start_response ) : NEW_LINE', \"INDENT raise NotImplementedError ( _ ( ' You ▁ must ▁ implement ▁ _ _ call _ _ ' ) ) NEW_LINE_DEDENT\", 'DEDENT class Middleware ( Application ) : NEW_LINE', 'INDENT @ classmethod NEW_LINE', 'def factory ( cls , global_config , ** local_config ) : NEW_LINE', 'INDENT def _factory ( app ) : NEW_LINE', 'INDENT return cls ( app , ** local_config ) NEW_LINE_DEDENT', 'return _factory NEW_LINE_DEDENT', 'def __init__ ( self , application ) : NEW_LINE', 'INDENT self . application = application NEW_LINE_DEDENT', 'def process_request ( self , req ) : NEW_LINE', 'INDENT return None NEW_LINE_DEDENT', 'def process_response ( self , response ) : NEW_LINE', 'INDENT return response NEW_LINE_DEDENT', '@ webob . dec . wsgify ( RequestClass = Request ) NEW_LINE', 'def __call__ ( self , req ) : NEW_LINE', 'INDENT response = self . process_request ( req ) NEW_LINE', 'if response : NEW_LINE', 'INDENT return response NEW_LINE_DEDENT', 'response = req . get_response ( self . application ) NEW_LINE', 'return self . process_response ( response ) NEW_LINE_DEDENT', 'DEDENT class Debug ( Middleware ) : NEW_LINE', 'INDENT @ webob . dec . wsgify ( RequestClass = Request ) NEW_LINE', 'def __call__ ( self , req ) : NEW_LINE', \"INDENT print ( ' * ' * 40 ) + ' ▁ REQUEST ▁ ENVIRON ' NEW_LINE\", 'for key , value in req . environ . items ( ) : NEW_LINE', \"INDENT print key , ' = ' , value NEW_LINE_DEDENT\", 'print NEW_LINE', 'resp = req . get_response ( self . application ) NEW_LINE', \"print ( ' * ' * 40 ) + ' ▁ RESPONSE ▁ HEADERS ' NEW_LINE\", 'for ( key , value ) in resp . headers . iteritems ( ) : NEW_LINE', \"INDENT print key , ' = ' , value NEW_LINE_DEDENT\", 'print NEW_LINE', 'resp . app_iter = self . print_generator ( resp . app_iter ) NEW_LINE', 'return resp NEW_LINE_DEDENT', '@ staticmethod NEW_LINE', 'def print_generator ( app_iter ) : NEW_LINE', \"INDENT print ( ' * ' * 40 ) + ' ▁ BODY ' NEW_LINE\", 'for part in app_iter : NEW_LINE', 'INDENT sys . stdout . write ( part ) NEW_LINE', 'sys . stdout . flush ( ) NEW_LINE', 'yield part NEW_LINE_DEDENT', 'print NEW_LINE_DEDENT', 'DEDENT class Router ( object ) : NEW_LINE', 'INDENT def __init__ ( self , mapper ) : NEW_LINE', 'INDENT self . map = mapper NEW_LINE', 'self . _router = routes . middleware . RoutesMiddleware ( self . _dispatch , self . map ) NEW_LINE_DEDENT', '@ webob . dec . wsgify ( RequestClass = Request ) NEW_LINE', 'def __call__ ( self , req ) : NEW_LINE', 'INDENT return self . _router NEW_LINE_DEDENT', '@ staticmethod NEW_LINE', '@ webob . dec . wsgify ( RequestClass = Request ) NEW_LINE', 'def _dispatch ( req ) : NEW_LINE', \"INDENT match = req . environ [ ' wsgiorg . routing _ args ' ] [ 1 ] NEW_LINE\", 'if not match : NEW_LINE', 'INDENT return webob . exc . HTTPNotFound ( ) NEW_LINE_DEDENT', \"app = match [ ' controller ' ] NEW_LINE\", 'return app NEW_LINE_DEDENT', 'DEDENT class Loader ( object ) : NEW_LINE', 'INDENT def __init__ ( self , config_path = None ) : NEW_LINE', 'INDENT config_path = config_path or FLAGS . api_paste_config NEW_LINE', 'self . config_path = utils . find_config ( config_path ) NEW_LINE_DEDENT', 'def load_app ( self , name ) : NEW_LINE', 'INDENT try : NEW_LINE', 'INDENT return deploy . loadapp ( \" config : % s \" % self . config_path , name = name ) NEW_LINE_DEDENT', 'except LookupError as err : NEW_LINE', 'INDENT LOG . error ( err ) NEW_LINE', 'raise exception . PasteAppNotFound ( name = name , path = self . config_path ) NEW_LINE_DEDENT']\n"
     ]
    }
   ],
   "source": [
    "token_list = source.split(' ')\n",
    "lines = []\n",
    "line = []\n",
    "for token in token_list:\n",
    "    line.append(token)\n",
    "    if token == 'NEW_LINE' or token == 'NEW_LINE_DEDENT':\n",
    "        code = ' '.join(line)\n",
    "        lines.append(code)\n",
    "        line = []\n",
    "        \n",
    "print(lines) "
   ]
  },
  {
   "cell_type": "code",
   "execution_count": 42,
   "metadata": {},
   "outputs": [
    {
     "name": "stdout",
     "output_type": "stream",
     "text": [
      "import socket NEW_LINE\n",
      "import sys NEW_LINE\n",
      "import eventlet NEW_LINE\n",
      "import eventlet . wsgi NEW_LINE\n",
      "import greenlet NEW_LINE\n",
      "from paste import deploy NEW_LINE\n",
      "import routes . middleware NEW_LINE\n",
      "import webob . dec NEW_LINE\n",
      "import webob . exc NEW_LINE\n",
      "from cinder import exception NEW_LINE\n",
      "from cinder import flags NEW_LINE\n",
      "from cinder . openstack . common import log as logging NEW_LINE\n",
      "from cinder import utils NEW_LINE\n",
      "FLAGS = flags . FLAGS NEW_LINE\n",
      "LOG = logging . getLogger ( __name__ ) NEW_LINE\n",
      "class Server ( object ) : NEW_LINE\n",
      "INDENT default_pool_size = 1000 NEW_LINE\n",
      "def __init__ ( self , name , app , host = None , port = None , pool_size = None , protocol = eventlet . wsgi . HttpProtocol ) : NEW_LINE\n",
      "INDENT self . name = name NEW_LINE\n",
      "self . app = app NEW_LINE\n",
      "self . _host = host or \"0.0.0.0\" NEW_LINE\n",
      "self . _port = port or 0 NEW_LINE\n",
      "self . _server = None NEW_LINE\n",
      "self . _socket = None NEW_LINE\n",
      "self . _protocol = protocol NEW_LINE\n",
      "self . _pool = eventlet . GreenPool ( pool_size or self . default_pool_size ) NEW_LINE\n",
      "self . _logger = logging . getLogger ( \" eventlet . wsgi . server \" ) NEW_LINE\n",
      "self . _wsgi_logger = logging . WritableLogger ( self . _logger ) NEW_LINE_DEDENT\n",
      "def _start ( self ) : NEW_LINE\n",
      "INDENT eventlet . wsgi . server ( self . _socket , self . app , protocol = self . _protocol , custom_pool = self . _pool , log = self . _wsgi_logger ) NEW_LINE_DEDENT\n",
      "def start ( self , backlog = 128 ) : NEW_LINE\n",
      "INDENT if backlog < 1 : NEW_LINE\n",
      "INDENT raise exception . InvalidInput ( reason = ' The ▁ backlog ▁ must ▁ be ▁ more ▁ than ▁ 1' ) NEW_LINE_DEDENT\n",
      "bind_addr = ( self . _host , self . _port ) NEW_LINE\n",
      "try : NEW_LINE\n",
      "INDENT info = socket . getaddrinfo ( bind_addr [ 0 ] , bind_addr [ 1 ] , socket . AF_UNSPEC , socket . SOCK_STREAM ) [ 0 ] NEW_LINE\n",
      "family = info [ 0 ] NEW_LINE\n",
      "bind_addr = info [ - 1 ] NEW_LINE_DEDENT\n",
      "except Exception : NEW_LINE\n",
      "INDENT family = socket . AF_INET NEW_LINE_DEDENT\n",
      "self . _socket = eventlet . listen ( bind_addr , family , backlog = backlog ) NEW_LINE\n",
      "self . _server = eventlet . spawn ( self . _start ) NEW_LINE\n",
      "( self . _host , self . _port ) = self . _socket . getsockname ( ) [ 0 : 2 ] NEW_LINE\n",
      "LOG . info ( _ ( \" Started ▁ % ( name ) s ▁ on ▁ % ( _ host ) s : % ( _ port ) s \" ) % self . __dict__ ) NEW_LINE_DEDENT\n",
      "@ property NEW_LINE\n",
      "def host ( self ) : NEW_LINE\n",
      "INDENT return self . _socket . getsockname ( ) [ 0 ] if self . _socket else self . _host NEW_LINE_DEDENT\n",
      "@ property NEW_LINE\n",
      "def port ( self ) : NEW_LINE\n",
      "INDENT return self . _socket . getsockname ( ) [ 1 ] if self . _socket else self . _port NEW_LINE_DEDENT\n",
      "def stop ( self ) : NEW_LINE\n",
      "INDENT LOG . info ( _ ( \" Stopping ▁ WSGI ▁ server . \" ) ) NEW_LINE\n",
      "self . _server . kill ( ) NEW_LINE_DEDENT\n",
      "def wait ( self ) : NEW_LINE\n",
      "INDENT try : NEW_LINE\n",
      "INDENT self . _server . wait ( ) NEW_LINE_DEDENT\n",
      "except greenlet . GreenletExit : NEW_LINE\n",
      "INDENT LOG . info ( _ ( \" WSGI ▁ server ▁ has ▁ stopped . \" ) ) NEW_LINE_DEDENT\n",
      "DEDENT DEDENT class Request ( webob . Request ) : NEW_LINE\n",
      "INDENT pass NEW_LINE_DEDENT\n",
      "class Application ( object ) : NEW_LINE\n",
      "INDENT @ classmethod NEW_LINE\n",
      "def factory ( cls , global_config , ** local_config ) : NEW_LINE\n",
      "INDENT return cls ( ** local_config ) NEW_LINE_DEDENT\n",
      "def __call__ ( self , environ , start_response ) : NEW_LINE\n",
      "INDENT raise NotImplementedError ( _ ( ' You ▁ must ▁ implement ▁ _ _ call _ _ ' ) ) NEW_LINE_DEDENT\n",
      "DEDENT class Middleware ( Application ) : NEW_LINE\n",
      "INDENT @ classmethod NEW_LINE\n",
      "def factory ( cls , global_config , ** local_config ) : NEW_LINE\n",
      "INDENT def _factory ( app ) : NEW_LINE\n",
      "INDENT return cls ( app , ** local_config ) NEW_LINE_DEDENT\n",
      "return _factory NEW_LINE_DEDENT\n",
      "def __init__ ( self , application ) : NEW_LINE\n",
      "INDENT self . application = application NEW_LINE_DEDENT\n",
      "def process_request ( self , req ) : NEW_LINE\n",
      "INDENT return None NEW_LINE_DEDENT\n",
      "def process_response ( self , response ) : NEW_LINE\n",
      "INDENT return response NEW_LINE_DEDENT\n",
      "@ webob . dec . wsgify ( RequestClass = Request ) NEW_LINE\n",
      "def __call__ ( self , req ) : NEW_LINE\n",
      "INDENT response = self . process_request ( req ) NEW_LINE\n",
      "if response : NEW_LINE\n",
      "INDENT return response NEW_LINE_DEDENT\n",
      "response = req . get_response ( self . application ) NEW_LINE\n",
      "return self . process_response ( response ) NEW_LINE_DEDENT\n",
      "DEDENT class Debug ( Middleware ) : NEW_LINE\n",
      "INDENT @ webob . dec . wsgify ( RequestClass = Request ) NEW_LINE\n",
      "def __call__ ( self , req ) : NEW_LINE\n",
      "INDENT print ( ' * ' * 40 ) + ' ▁ REQUEST ▁ ENVIRON ' NEW_LINE\n",
      "for key , value in req . environ . items ( ) : NEW_LINE\n",
      "INDENT print key , ' = ' , value NEW_LINE_DEDENT\n",
      "print NEW_LINE\n",
      "resp = req . get_response ( self . application ) NEW_LINE\n",
      "print ( ' * ' * 40 ) + ' ▁ RESPONSE ▁ HEADERS ' NEW_LINE\n",
      "for ( key , value ) in resp . headers . iteritems ( ) : NEW_LINE\n",
      "INDENT print key , ' = ' , value NEW_LINE_DEDENT\n",
      "print NEW_LINE\n",
      "resp . app_iter = self . print_generator ( resp . app_iter ) NEW_LINE\n",
      "return resp NEW_LINE_DEDENT\n",
      "@ staticmethod NEW_LINE\n",
      "def print_generator ( app_iter ) : NEW_LINE\n",
      "INDENT print ( ' * ' * 40 ) + ' ▁ BODY ' NEW_LINE\n",
      "for part in app_iter : NEW_LINE\n",
      "INDENT sys . stdout . write ( part ) NEW_LINE\n",
      "sys . stdout . flush ( ) NEW_LINE\n",
      "yield part NEW_LINE_DEDENT\n",
      "print NEW_LINE_DEDENT\n",
      "DEDENT class Router ( object ) : NEW_LINE\n",
      "INDENT def __init__ ( self , mapper ) : NEW_LINE\n",
      "INDENT self . map = mapper NEW_LINE\n",
      "self . _router = routes . middleware . RoutesMiddleware ( self . _dispatch , self . map ) NEW_LINE_DEDENT\n",
      "@ webob . dec . wsgify ( RequestClass = Request ) NEW_LINE\n",
      "def __call__ ( self , req ) : NEW_LINE\n",
      "INDENT return self . _router NEW_LINE_DEDENT\n",
      "@ staticmethod NEW_LINE\n",
      "@ webob . dec . wsgify ( RequestClass = Request ) NEW_LINE\n",
      "def _dispatch ( req ) : NEW_LINE\n",
      "INDENT match = req . environ [ ' wsgiorg . routing _ args ' ] [ 1 ] NEW_LINE\n",
      "if not match : NEW_LINE\n",
      "INDENT return webob . exc . HTTPNotFound ( ) NEW_LINE_DEDENT\n",
      "app = match [ ' controller ' ] NEW_LINE\n",
      "return app NEW_LINE_DEDENT\n",
      "DEDENT class Loader ( object ) : NEW_LINE\n",
      "INDENT def __init__ ( self , config_path = None ) : NEW_LINE\n",
      "INDENT config_path = config_path or FLAGS . api_paste_config NEW_LINE\n",
      "self . config_path = utils . find_config ( config_path ) NEW_LINE_DEDENT\n",
      "def load_app ( self , name ) : NEW_LINE\n",
      "INDENT try : NEW_LINE\n",
      "INDENT return deploy . loadapp ( \" config : % s \" % self . config_path , name = name ) NEW_LINE_DEDENT\n",
      "except LookupError as err : NEW_LINE\n",
      "INDENT LOG . error ( err ) NEW_LINE\n",
      "raise exception . PasteAppNotFound ( name = name , path = self . config_path ) NEW_LINE_DEDENT\n"
     ]
    }
   ],
   "source": [
    "for line in lines:\n",
    "    print(line)"
   ]
  },
  {
   "cell_type": "code",
   "execution_count": 37,
   "metadata": {},
   "outputs": [
    {
     "data": {
      "text/plain": [
       "['29', '30', '31', '32', '33', '34', '41', '47', '50']"
      ]
     },
     "execution_count": 37,
     "metadata": {},
     "output_type": "execute_result"
    }
   ],
   "source": [
    "line_num[1]"
   ]
  },
  {
   "cell_type": "code",
   "execution_count": 40,
   "metadata": {},
   "outputs": [],
   "source": [
    "deleted_lines = []\n",
    "for i, line in enumerate(lines,1):\n",
    "    if str(i) in line_num[1]:\n",
    "        deleted_lines.append(line)"
   ]
  },
  {
   "cell_type": "code",
   "execution_count": 41,
   "metadata": {},
   "outputs": [
    {
     "data": {
      "text/plain": [
       "['def _start ( self ) : NEW_LINE',\n",
       " 'INDENT eventlet . wsgi . server ( self . _socket , self . app , protocol = self . _protocol , custom_pool = self . _pool , log = self . _wsgi_logger ) NEW_LINE_DEDENT',\n",
       " 'def start ( self , backlog = 128 ) : NEW_LINE',\n",
       " 'INDENT if backlog < 1 : NEW_LINE',\n",
       " \"INDENT raise exception . InvalidInput ( reason = ' The ▁ backlog ▁ must ▁ be ▁ more ▁ than ▁ 1' ) NEW_LINE_DEDENT\",\n",
       " 'bind_addr = ( self . _host , self . _port ) NEW_LINE',\n",
       " 'self . _socket = eventlet . listen ( bind_addr , family , backlog = backlog ) NEW_LINE',\n",
       " 'INDENT return self . _socket . getsockname ( ) [ 0 ] if self . _socket else self . _host NEW_LINE_DEDENT',\n",
       " 'INDENT return self . _socket . getsockname ( ) [ 1 ] if self . _socket else self . _port NEW_LINE_DEDENT']"
      ]
     },
     "execution_count": 41,
     "metadata": {},
     "output_type": "execute_result"
    }
   ],
   "source": [
    "deleted_lines"
   ]
  }
 ],
 "metadata": {
  "kernelspec": {
   "display_name": "test",
   "language": "python",
   "name": "python3"
  },
  "language_info": {
   "codemirror_mode": {
    "name": "ipython",
    "version": 3
   },
   "file_extension": ".py",
   "mimetype": "text/x-python",
   "name": "python",
   "nbconvert_exporter": "python",
   "pygments_lexer": "ipython3",
   "version": "3.9.16"
  }
 },
 "nbformat": 4,
 "nbformat_minor": 2
}
