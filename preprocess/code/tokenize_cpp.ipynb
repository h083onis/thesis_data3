{
 "cells": [
  {
   "cell_type": "code",
   "execution_count": 1,
   "metadata": {},
   "outputs": [],
   "source": [
    "from lang_processors.cpp_processor import CppProcessor\n",
    "processor = CppProcessor(root_folder='lang_processors/tree-sitter')"
   ]
  },
  {
   "cell_type": "code",
   "execution_count": 2,
   "metadata": {},
   "outputs": [],
   "source": [
    "with open('switch.cpp', 'r', encoding='utf-8') as f:\n",
    "    codes = f.read()"
   ]
  },
  {
   "cell_type": "code",
   "execution_count": 3,
   "metadata": {},
   "outputs": [],
   "source": [
    "from clean_comment import exclude_comment\n",
    "out = exclude_comment(codes)\n",
    "# print(out)"
   ]
  },
  {
   "cell_type": "code",
   "execution_count": 4,
   "metadata": {},
   "outputs": [],
   "source": [
    "from tree_sitter import Language, Parser\n",
    "\n",
    "CPP = Language('lang_processors/tree-sitter/cpp.so', 'cpp')\n",
    "parser = Parser()\n",
    "parser.set_language(CPP)"
   ]
  },
  {
   "cell_type": "code",
   "execution_count": 5,
   "metadata": {},
   "outputs": [
    {
     "name": "stdout",
     "output_type": "stream",
     "text": [
      "#include <iostream>\n",
      "using namespace std;\n",
      "int num = 0;\n",
      "int main() {\n",
      "    switch (num) {\n",
      "    case 0:\n",
      "        cout << \"0\" << endl;\n",
      "    case 1:\n",
      "        cout << \"1\" << endl;\n",
      "    case 2:\n",
      "        cout << \"2\" << endl;\n",
      "    default:\n",
      "        cout << \"default\" << endl;\n",
      "    }\n",
      "}\n"
     ]
    }
   ],
   "source": [
    "out = out.replace(\"\\r\", \"\")\n",
    "print(out)\n",
    "tree = parser.parse(bytes(out,\"utf8\"))"
   ]
  },
  {
   "cell_type": "code",
   "execution_count": 6,
   "metadata": {},
   "outputs": [],
   "source": [
    "ast_nodes_type_string = [\"comment\", \"string_literal\", \"character_literal\"]\n",
    "def dfs(code, node, tokens, tokens_type):\n",
    "    print(node)\n",
    "    if len(node.children) == 0 or node.type in ast_nodes_type_string:\n",
    "        snippet = code[node.start_byte: node.end_byte]\n",
    "        if isinstance(snippet, bytes):\n",
    "            snippet = snippet.decode(\"utf8\")\n",
    "        if len(snippet) > 0:\n",
    "            tokens.append(snippet)\n",
    "            tokens_type.append(node.type)\n",
    "        return\n",
    "    for child in node.children:\n",
    "        dfs(code, child, tokens, tokens_type)"
   ]
  },
  {
   "cell_type": "code",
   "execution_count": 7,
   "metadata": {},
   "outputs": [
    {
     "name": "stdout",
     "output_type": "stream",
     "text": [
      "<Node type=translation_unit, start_point=(0, 0), end_point=(14, 1)>\n",
      "<Node type=preproc_include, start_point=(0, 0), end_point=(1, 0)>\n",
      "<Node type=\"#include\", start_point=(0, 0), end_point=(0, 8)>\n",
      "<Node type=system_lib_string, start_point=(0, 9), end_point=(0, 19)>\n",
      "<Node type=using_declaration, start_point=(1, 0), end_point=(1, 20)>\n",
      "<Node type=\"using\", start_point=(1, 0), end_point=(1, 5)>\n",
      "<Node type=\"namespace\", start_point=(1, 6), end_point=(1, 15)>\n",
      "<Node type=identifier, start_point=(1, 16), end_point=(1, 19)>\n",
      "<Node type=\";\", start_point=(1, 19), end_point=(1, 20)>\n",
      "<Node type=declaration, start_point=(2, 0), end_point=(2, 12)>\n",
      "<Node type=primitive_type, start_point=(2, 0), end_point=(2, 3)>\n",
      "<Node type=init_declarator, start_point=(2, 4), end_point=(2, 11)>\n",
      "<Node type=identifier, start_point=(2, 4), end_point=(2, 7)>\n",
      "<Node type=\"=\", start_point=(2, 8), end_point=(2, 9)>\n",
      "<Node type=number_literal, start_point=(2, 10), end_point=(2, 11)>\n",
      "<Node type=\";\", start_point=(2, 11), end_point=(2, 12)>\n",
      "<Node type=function_definition, start_point=(3, 0), end_point=(14, 1)>\n",
      "<Node type=primitive_type, start_point=(3, 0), end_point=(3, 3)>\n",
      "<Node type=function_declarator, start_point=(3, 4), end_point=(3, 10)>\n",
      "<Node type=identifier, start_point=(3, 4), end_point=(3, 8)>\n",
      "<Node type=parameter_list, start_point=(3, 8), end_point=(3, 10)>\n",
      "<Node type=\"(\", start_point=(3, 8), end_point=(3, 9)>\n",
      "<Node type=\")\", start_point=(3, 9), end_point=(3, 10)>\n",
      "<Node type=compound_statement, start_point=(3, 11), end_point=(14, 1)>\n",
      "<Node type=\"{\", start_point=(3, 11), end_point=(3, 12)>\n",
      "<Node type=switch_statement, start_point=(4, 4), end_point=(13, 5)>\n",
      "<Node type=\"switch\", start_point=(4, 4), end_point=(4, 10)>\n",
      "<Node type=condition_clause, start_point=(4, 11), end_point=(4, 16)>\n",
      "<Node type=\"(\", start_point=(4, 11), end_point=(4, 12)>\n",
      "<Node type=identifier, start_point=(4, 12), end_point=(4, 15)>\n",
      "<Node type=\")\", start_point=(4, 15), end_point=(4, 16)>\n",
      "<Node type=compound_statement, start_point=(4, 17), end_point=(13, 5)>\n",
      "<Node type=\"{\", start_point=(4, 17), end_point=(4, 18)>\n",
      "<Node type=case_statement, start_point=(5, 4), end_point=(6, 28)>\n",
      "<Node type=\"case\", start_point=(5, 4), end_point=(5, 8)>\n",
      "<Node type=number_literal, start_point=(5, 9), end_point=(5, 10)>\n",
      "<Node type=\":\", start_point=(5, 10), end_point=(5, 11)>\n",
      "<Node type=expression_statement, start_point=(6, 8), end_point=(6, 28)>\n",
      "<Node type=binary_expression, start_point=(6, 8), end_point=(6, 27)>\n",
      "<Node type=binary_expression, start_point=(6, 8), end_point=(6, 19)>\n",
      "<Node type=identifier, start_point=(6, 8), end_point=(6, 12)>\n",
      "<Node type=\"<<\", start_point=(6, 13), end_point=(6, 15)>\n",
      "<Node type=string_literal, start_point=(6, 16), end_point=(6, 19)>\n",
      "<Node type=\"<<\", start_point=(6, 20), end_point=(6, 22)>\n",
      "<Node type=identifier, start_point=(6, 23), end_point=(6, 27)>\n",
      "<Node type=\";\", start_point=(6, 27), end_point=(6, 28)>\n",
      "<Node type=case_statement, start_point=(7, 4), end_point=(8, 28)>\n",
      "<Node type=\"case\", start_point=(7, 4), end_point=(7, 8)>\n",
      "<Node type=number_literal, start_point=(7, 9), end_point=(7, 10)>\n",
      "<Node type=\":\", start_point=(7, 10), end_point=(7, 11)>\n",
      "<Node type=expression_statement, start_point=(8, 8), end_point=(8, 28)>\n",
      "<Node type=binary_expression, start_point=(8, 8), end_point=(8, 27)>\n",
      "<Node type=binary_expression, start_point=(8, 8), end_point=(8, 19)>\n",
      "<Node type=identifier, start_point=(8, 8), end_point=(8, 12)>\n",
      "<Node type=\"<<\", start_point=(8, 13), end_point=(8, 15)>\n",
      "<Node type=string_literal, start_point=(8, 16), end_point=(8, 19)>\n",
      "<Node type=\"<<\", start_point=(8, 20), end_point=(8, 22)>\n",
      "<Node type=identifier, start_point=(8, 23), end_point=(8, 27)>\n",
      "<Node type=\";\", start_point=(8, 27), end_point=(8, 28)>\n",
      "<Node type=case_statement, start_point=(9, 4), end_point=(10, 28)>\n",
      "<Node type=\"case\", start_point=(9, 4), end_point=(9, 8)>\n",
      "<Node type=number_literal, start_point=(9, 9), end_point=(9, 10)>\n",
      "<Node type=\":\", start_point=(9, 10), end_point=(9, 11)>\n",
      "<Node type=expression_statement, start_point=(10, 8), end_point=(10, 28)>\n",
      "<Node type=binary_expression, start_point=(10, 8), end_point=(10, 27)>\n",
      "<Node type=binary_expression, start_point=(10, 8), end_point=(10, 19)>\n",
      "<Node type=identifier, start_point=(10, 8), end_point=(10, 12)>\n",
      "<Node type=\"<<\", start_point=(10, 13), end_point=(10, 15)>\n",
      "<Node type=string_literal, start_point=(10, 16), end_point=(10, 19)>\n",
      "<Node type=\"<<\", start_point=(10, 20), end_point=(10, 22)>\n",
      "<Node type=identifier, start_point=(10, 23), end_point=(10, 27)>\n",
      "<Node type=\";\", start_point=(10, 27), end_point=(10, 28)>\n",
      "<Node type=case_statement, start_point=(11, 4), end_point=(12, 34)>\n",
      "<Node type=\"default\", start_point=(11, 4), end_point=(11, 11)>\n",
      "<Node type=\":\", start_point=(11, 11), end_point=(11, 12)>\n",
      "<Node type=expression_statement, start_point=(12, 8), end_point=(12, 34)>\n",
      "<Node type=binary_expression, start_point=(12, 8), end_point=(12, 33)>\n",
      "<Node type=binary_expression, start_point=(12, 8), end_point=(12, 25)>\n",
      "<Node type=identifier, start_point=(12, 8), end_point=(12, 12)>\n",
      "<Node type=\"<<\", start_point=(12, 13), end_point=(12, 15)>\n",
      "<Node type=string_literal, start_point=(12, 16), end_point=(12, 25)>\n",
      "<Node type=\"<<\", start_point=(12, 26), end_point=(12, 28)>\n",
      "<Node type=identifier, start_point=(12, 29), end_point=(12, 33)>\n",
      "<Node type=\";\", start_point=(12, 33), end_point=(12, 34)>\n",
      "<Node type=\"}\", start_point=(13, 4), end_point=(13, 5)>\n",
      "<Node type=\"}\", start_point=(14, 0), end_point=(14, 1)>\n",
      "None\n"
     ]
    }
   ],
   "source": [
    "tokens = []\n",
    "tokens_types = []\n",
    "print(dfs(out, tree.root_node, tokens, tokens_types))"
   ]
  },
  {
   "cell_type": "code",
   "execution_count": 8,
   "metadata": {},
   "outputs": [
    {
     "name": "stdout",
     "output_type": "stream",
     "text": [
      "#include <iostream>\n",
      "using namespace std ;\n",
      "int num = 0 ;\n",
      "int main ( ) {\n",
      "switch ( num ) {\n",
      "case 0 :\n",
      "cout << \"0\" << endl ;\n",
      "case 1 :\n",
      "cout << \"1\" << endl ;\n",
      "case 2 :\n",
      "cout << \"2\" << endl ;\n",
      "default :\n",
      "cout << \"default\" << endl ;\n",
      "}\n",
      "}\n"
     ]
    }
   ],
   "source": [
    "\n",
    "lines = []\n",
    "line = []\n",
    "include_flag = 0\n",
    "for_flag = 0\n",
    "if_flag = 0\n",
    "while_flag = 0\n",
    "parentheses_flag = 0\n",
    "else_flag = 0\n",
    "do_flag = 0\n",
    "case_default_flag = 0\n",
    "for token, token_type in zip(tokens, tokens_types):\n",
    "    if (token_type != '{' and token_type != ';') and (if_flag == 2 or for_flag == 2 or while_flag == 2):\n",
    "        lines.append(line)\n",
    "        line = []\n",
    "        if_flag = 0\n",
    "        for_flag = 0\n",
    "        while_flag = 0\n",
    "    \n",
    "    # else\n",
    "    if (token_type != 'if' and token_type !='{') and (else_flag == 1 or do_flag == 1):\n",
    "        lines.append(line)\n",
    "        line = []\n",
    "        else_flag = 0\n",
    "        do_flag = 0\n",
    "    \n",
    "    if token_type == '{':\n",
    "        line.append(token)\n",
    "        lines.append(line)\n",
    "        line = []\n",
    "        for_flag = 0\n",
    "        if_flag = 0\n",
    "        else_flag = 0\n",
    "        do_flag = 0\n",
    "        while_flag = 0\n",
    "    elif token_type == '}':\n",
    "        lines.append(line)\n",
    "        lines.append(token)\n",
    "        line = []\n",
    "    elif token_type == 'if':\n",
    "        line.append(token)\n",
    "        if_flag = 1\n",
    "        else_flag = 0\n",
    "    elif token_type == 'else':\n",
    "        line.append(token)\n",
    "        else_flag = 1\n",
    "    elif token_type == 'do':\n",
    "        line.append(token)\n",
    "        do_flag = 1\n",
    "    elif token_type == 'while':\n",
    "        line.append(token)\n",
    "        while_flag = 1\n",
    "    elif token_type == 'case' or token_type == 'defalut':\n",
    "        line.append(token)\n",
    "        case_default_flag = 1\n",
    "    elif token_type == ':':\n",
    "        line.append(token)\n",
    "        lines.append(line)\n",
    "        line = []\n",
    "        case_default_flag = 0\n",
    "    elif token_type == '(' and (if_flag == 1 or for_flag == 1 or while_flag == 1):\n",
    "        line.append(token)\n",
    "        parentheses_flag += 1\n",
    "    elif token_type == ')' and (if_flag == 1 or for_flag == 1 or while_flag == 1):\n",
    "        line.append(token)\n",
    "        parentheses_flag -= 1\n",
    "        if parentheses_flag == 0:\n",
    "            if_flag = 2\n",
    "            for_flag == 2\n",
    "            while_flag == 2\n",
    "    elif token_type == '#include':\n",
    "        line.append(token)\n",
    "        include_flag = 1\n",
    "    elif token_type == 'string_literal' or token_type == 'system_lib_string':\n",
    "        line.append(token)\n",
    "        if include_flag == 1:\n",
    "            lines.append(line)\n",
    "            line = []\n",
    "            include_flag = 0\n",
    "    elif token_type == 'for':\n",
    "        line.append(token)\n",
    "        for_flag = 1\n",
    "    elif token_type == ';':\n",
    "        line.append(token)\n",
    "        if for_flag == 0:\n",
    "            lines.append(line)\n",
    "            line = []\n",
    "    else:\n",
    "        line.append(token)\n",
    "        \n",
    "for line in lines:\n",
    "    code = ' '.join(line)\n",
    "    if code != '':\n",
    "        print(code)"
   ]
  },
  {
   "cell_type": "code",
   "execution_count": 9,
   "metadata": {},
   "outputs": [
    {
     "name": "stdout",
     "output_type": "stream",
     "text": [
      "['#include', '<iostream>']\n",
      "['using', 'namespace', 'std', ';']\n",
      "['int', 'num', '=', '0', ';']\n",
      "['int', 'main', '(', ')', '{']\n",
      "['switch', '(', 'num', ')', '{']\n",
      "['case', '0', ':']\n",
      "['cout', '<<', '\"0\"', '<<', 'endl', ';']\n",
      "['case', '1', ':']\n",
      "['cout', '<<', '\"1\"', '<<', 'endl', ';']\n",
      "['case', '2', ':']\n",
      "['cout', '<<', '\"2\"', '<<', 'endl', ';']\n",
      "['default', ':']\n",
      "['cout', '<<', '\" default \"', '<<', 'endl', ';']\n",
      "[]\n",
      "['}']\n",
      "[]\n",
      "['}']\n"
     ]
    }
   ],
   "source": [
    "for line in lines:\n",
    "    result = processor.tokenize_code(' '.join(line))\n",
    "    print(result)"
   ]
  },
  {
   "cell_type": "code",
   "execution_count": 10,
   "metadata": {},
   "outputs": [
    {
     "name": "stdout",
     "output_type": "stream",
     "text": [
      "}\n",
      "\n"
     ]
    }
   ],
   "source": [
    "result2 = processor.detokenize_code(result)\n",
    "print(result2)"
   ]
  },
  {
   "cell_type": "code",
   "execution_count": null,
   "metadata": {},
   "outputs": [],
   "source": [
    "from formatter import c_formatter\n",
    "c_formatter()"
   ]
  }
 ],
 "metadata": {
  "kernelspec": {
   "display_name": "test",
   "language": "python",
   "name": "python3"
  },
  "language_info": {
   "codemirror_mode": {
    "name": "ipython",
    "version": 3
   },
   "file_extension": ".py",
   "mimetype": "text/x-python",
   "name": "python",
   "nbconvert_exporter": "python",
   "pygments_lexer": "ipython3",
   "version": "3.9.16"
  }
 },
 "nbformat": 4,
 "nbformat_minor": 2
}
