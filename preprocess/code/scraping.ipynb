{
 "cells": [
  {
   "cell_type": "code",
   "execution_count": 9,
   "metadata": {},
   "outputs": [],
   "source": [
    "from selenium import webdriver\n",
    "from time import sleep\n",
    "from selenium.webdriver.common.by import By\n",
    "from selenium.webdriver.common.keys import Keys\n",
    "from selenium.common.exceptions import NoSuchElementException\n",
    "import sys\n",
    "import json\n",
    "\n",
    "\n",
    "driver = webdriver.Chrome()\n",
    "url = 'https://code.djangoproject.com/query?status=assigned&status=closed&status=new&type=Bug&col=id&col=summary&col=type&col=status&col=owner&col=component&col=version&order=type'\n",
    "driver.get(url)\n",
    "bug_id_list = []\n",
    "while True:\n",
    "    try:\n",
    "        elements = driver.find_elements(By.CLASS_NAME, 'id')\n",
    "        for element in elements:\n",
    "            if element.text != 'Ticket' and element.text[0] == '#':\n",
    "                bug_id_list.append(element.text)\n",
    "        element2 = driver.find_element(By.CLASS_NAME, 'next')\n",
    "        element2.click()\n",
    "        # break\n",
    "    except NoSuchElementException:\n",
    "        break\n",
    "    \n",
    "# selector = '#content > div:nth-child(3) > table > tbody'\n",
    "# element = driver.find_element(By.CSS_SELECTOR, selector)\n",
    "# trlist = element.find_elements(By.TAG_NAME, \"tr\") td.id\n",
    "# for i in range(0, len(trlist)):\n",
    "#     tds = trlist[i].find_elements(By.TAG_NAME, 'td')\n",
    "#     if len(tds) == 6:\n",
    "#         tmp = tds[1].text+'-'+tds[3].text\n",
    "#         issue_dict['priority_level'].append(tmp)   \n",
    "driver.quit()\n",
    "bug_id_txt =  '\\t'.join(bug_id_list)\n",
    "with open('djang_bug_id2.txt', 'w') as f:\n",
    "    f.write(bug_id_txt)\n"
   ]
  }
 ],
 "metadata": {
  "kernelspec": {
   "display_name": "test",
   "language": "python",
   "name": "python3"
  },
  "language_info": {
   "codemirror_mode": {
    "name": "ipython",
    "version": 3
   },
   "file_extension": ".py",
   "mimetype": "text/x-python",
   "name": "python",
   "nbconvert_exporter": "python",
   "pygments_lexer": "ipython3",
   "version": "3.9.16"
  }
 },
 "nbformat": 4,
 "nbformat_minor": 2
}
