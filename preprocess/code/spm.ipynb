{
 "cells": [
  {
   "cell_type": "code",
   "execution_count": 67,
   "metadata": {},
   "outputs": [],
   "source": [
    "import sentencepiece as spm\n",
    "import json\n",
    "import pandas as pd"
   ]
  },
  {
   "cell_type": "code",
   "execution_count": 68,
   "metadata": {},
   "outputs": [],
   "source": [
    "with open('openstack_lemma.json', 'r') as f:\n",
    "    data = json.load(f)\n",
    "df = pd.read_csv('../resource/openstack.csv', index_col=0, header=0)\n",
    "df.set_index('commit_id', inplace=True)\n",
    "input_list = []\n",
    "for commit in data:\n",
    "    if df.at[commit['commit_id'], 'strata'] != df['strata'].max():\n",
    "        # input_list.append(' '.join(commit['text']))\n",
    "        input_list.extend([txt for txt in commit['text']])\n",
    "        \n"
   ]
  },
  {
   "cell_type": "code",
   "execution_count": 69,
   "metadata": {},
   "outputs": [
    {
     "data": {
      "text/plain": [
       "'fix bug [ISSUEID].'"
      ]
     },
     "execution_count": 69,
     "metadata": {},
     "output_type": "execute_result"
    }
   ],
   "source": [
    "input_list[1]"
   ]
  },
  {
   "cell_type": "code",
   "execution_count": 70,
   "metadata": {},
   "outputs": [],
   "source": [
    "spm.SentencePieceTrainer.Train(\n",
    "    sentence_iterator=iter(input_list),  # コーパスファイル\n",
    "    model_type=\"unigram\",  # デフォルト\n",
    "    model_prefix='spm_openstack_3000_delstop_lemma',  # 出力されるモデルのファイル名に使われる\n",
    "    vocab_size=3000,  # 語彙数\n",
    "    pad_id = 3,\n",
    "    character_coverage = 1.0,\n",
    "    user_defined_symbols = ['[NUM]','[URL]','[COMMITID]','[CHANGEID]','[ISSUEID]'],\n",
    ")"
   ]
  },
  {
   "cell_type": "code",
   "execution_count": 72,
   "metadata": {},
   "outputs": [],
   "source": [
    "sp = spm.SentencePieceProcessor(model_file='spm_openstack_3000_delstop_lemma.model')"
   ]
  },
  {
   "cell_type": "code",
   "execution_count": 73,
   "metadata": {},
   "outputs": [
    {
     "name": "stdout",
     "output_type": "stream",
     "text": [
      "fix bug [ISSUEID].\n",
      "[18, 19, 9, 8, 10]\n",
      "['▁fix', '▁bug', '▁', '[ISSUEID]', '.']\n",
      "fix bug [ISSUEID].\n"
     ]
    }
   ],
   "source": [
    "print(input_list[1])\n",
    "encode = sp.Encode(input_list[1])\n",
    "print(encode)\n",
    "print(sp.encode(input_list[1], out_type=str))\n",
    "decode = sp.Decode(encode)\n",
    "print(decode)"
   ]
  },
  {
   "cell_type": "code",
   "execution_count": null,
   "metadata": {},
   "outputs": [],
   "source": [
    "import pickle\n",
    "import pandas as pd\n",
    "with open('openstack_lemma.json', 'r') as f:\n",
    "    data = json.load(f)\n",
    "df = pd.read_csv('../resource/openstack.csv', index_col=0, header=0)\n",
    "df.set_index('commit_id', inplace=True)\n",
    "train_list = []\n",
    "train_list2 = []\n",
    "test_list = []\n",
    "test_list2 = []\n",
    "for commit in data:\n",
    "    if df.at[commit['commit_id'], 'strata'] != df['strata'].max():\n",
    "        train_list.append(' '.join(commit['text']))\n",
    "        train_list2.append(int(df.at[commit['commit_id'], 'buggy']))\n",
    "    else:\n",
    "        test_list.append(' '.join(commit['text']))\n",
    "        test_list2.append(int(df.at[commit['commit_id'], 'buggy']))\n",
    "        \n",
    "# train_data = [train_list, train_list2]\n",
    "# test_data = [test_list, test_list2]\n",
    "tr_df = pd.DataFrame(\n",
    "    data={'data':train_list, 'label':train_list2},\n",
    "    columns=['data', 'label']\n",
    ")\n",
    "te_df = pd.DataFrame(\n",
    "    data={'data':test_list, 'label':test_list2},\n",
    "    columns=['data', 'label']\n",
    ")\n",
    "tr_df.to_csv('openstack_train_delstop_lemma.csv')\n",
    "te_df.to_csv('openstack_test_delstop_lemma.csv')\n",
    "\n",
    "# with open('openstack_train.pkl', 'wb') as f_tr, open('openstack_test.pkl', 'wb') as f_te:\n",
    "#     pickle.dump(train_data, f_tr)\n",
    "#     pickle.dump(test_data, f_te)"
   ]
  }
 ],
 "metadata": {
  "kernelspec": {
   "display_name": "test",
   "language": "python",
   "name": "python3"
  },
  "language_info": {
   "codemirror_mode": {
    "name": "ipython",
    "version": 3
   },
   "file_extension": ".py",
   "mimetype": "text/x-python",
   "name": "python",
   "nbconvert_exporter": "python",
   "pygments_lexer": "ipython3",
   "version": "3.9.16"
  }
 },
 "nbformat": 4,
 "nbformat_minor": 2
}
