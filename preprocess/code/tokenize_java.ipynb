{
 "cells": [
  {
   "cell_type": "code",
   "execution_count": 1,
   "metadata": {},
   "outputs": [],
   "source": [
    "from lang_processors.java_processor import JavaProcessor\n",
    "processor = JavaProcessor(root_folder='lang_processors/tree-sitter')"
   ]
  },
  {
   "cell_type": "code",
   "execution_count": 2,
   "metadata": {},
   "outputs": [
    {
     "data": {
      "text/plain": [
       "'package tool;\\n\\nimport java.io.BufferedWriter;\\nimport java.io.FileWriter;\\nimport java.io.IOException;\\n\\n/**\\n * これはJavaのHello Worldプログラムです。\\n * ドックストリングはプログラムの説明やドキュメントを提供します。\\n * このプログラムでは、forループを使用して3回Hello Worldを出力します。\\n */\\npublic class Test {\\n    public static void main(String[] args) {\\n        // forループを使用して3回Hello Worldを出力\\n        for (int i = 0; i < 3; i++) {\\n            System.out.println(\"Hello World!\");\\n        }\\n    }\\n}\\n'"
      ]
     },
     "execution_count": 2,
     "metadata": {},
     "output_type": "execute_result"
    }
   ],
   "source": [
    "with open('Test.java', 'r', encoding='utf-8') as f:\n",
    "    codes = f.read()\n",
    "codes"
   ]
  },
  {
   "cell_type": "code",
   "execution_count": 3,
   "metadata": {},
   "outputs": [
    {
     "name": "stdout",
     "output_type": "stream",
     "text": [
      "package tool;\n",
      "import java.io.BufferedWriter;\n",
      "import java.io.FileWriter;\n",
      "import java.io.IOException;\n",
      "public class Test {\n",
      "    public static void main(String[] args) {\n",
      "        for (int i = 0; i < 3; i++) {\n",
      "            System.out.println(\"Hello World!\");\n",
      "        }\n",
      "    }\n",
      "}\n"
     ]
    }
   ],
   "source": [
    "from clean_comment import exclude_comment\n",
    "out = exclude_comment(codes)\n",
    "print(out)"
   ]
  },
  {
   "cell_type": "code",
   "execution_count": 7,
   "metadata": {},
   "outputs": [],
   "source": [
    "from tree_sitter import Language, Parser\n",
    "\n",
    "JAVA = Language('lang_processors/tree-sitter/java.so', 'java')\n",
    "parser = Parser()\n",
    "parser.set_language(JAVA)"
   ]
  },
  {
   "cell_type": "code",
   "execution_count": 15,
   "metadata": {},
   "outputs": [],
   "source": [
    "ast_nodes_type_string = [\"comment\", \"string_literal\", \"character_literal\"]\n",
    "def dfs(code, node, tokens, tokens_type):\n",
    "    # print(node.type)\n",
    "    if len(node.children) == 0 or node.type in ast_nodes_type_string:\n",
    "        snippet = code[node.start_byte: node.end_byte]\n",
    "        if isinstance(snippet, bytes):\n",
    "            snippet = snippet.decode(\"utf8\")\n",
    "        if len(snippet) > 0:\n",
    "            tokens.append(snippet)\n",
    "            tokens_type.append(node.type)\n",
    "        return\n",
    "    for child in node.children:\n",
    "        print(child)\n",
    "        dfs(code, child, tokens, tokens_type)"
   ]
  },
  {
   "cell_type": "code",
   "execution_count": 18,
   "metadata": {},
   "outputs": [
    {
     "name": "stdout",
     "output_type": "stream",
     "text": [
      "package tool;\n",
      "import java.io.BufferedWriter;\n",
      "import java.io.FileWriter;\n",
      "import java.io.IOException;\n",
      "public class Test {\n",
      "    public static void main(String[] args) {\n",
      "        for (int i = 0; i < 3; i++) {\n",
      "            System.out.println(\"Hello World!\");\n",
      "        }\n",
      "    }\n",
      "}\n"
     ]
    }
   ],
   "source": [
    "out = out.replace(\"\\r\", \"\")\n",
    "print(out)\n",
    "tree = parser.parse(bytes(out,\"utf8\"))"
   ]
  },
  {
   "cell_type": "code",
   "execution_count": 17,
   "metadata": {},
   "outputs": [
    {
     "name": "stdout",
     "output_type": "stream",
     "text": [
      "<Node type=package_declaration, start_point=(0, 0), end_point=(0, 13)>\n",
      "<Node type=\"package\", start_point=(0, 0), end_point=(0, 7)>\n",
      "<Node type=identifier, start_point=(0, 8), end_point=(0, 12)>\n",
      "<Node type=\";\", start_point=(0, 12), end_point=(0, 13)>\n",
      "<Node type=import_declaration, start_point=(1, 0), end_point=(1, 30)>\n",
      "<Node type=\"import\", start_point=(1, 0), end_point=(1, 6)>\n",
      "<Node type=scoped_identifier, start_point=(1, 7), end_point=(1, 29)>\n",
      "<Node type=scoped_identifier, start_point=(1, 7), end_point=(1, 14)>\n",
      "<Node type=identifier, start_point=(1, 7), end_point=(1, 11)>\n",
      "<Node type=\".\", start_point=(1, 11), end_point=(1, 12)>\n",
      "<Node type=identifier, start_point=(1, 12), end_point=(1, 14)>\n",
      "<Node type=\".\", start_point=(1, 14), end_point=(1, 15)>\n",
      "<Node type=identifier, start_point=(1, 15), end_point=(1, 29)>\n",
      "<Node type=\";\", start_point=(1, 29), end_point=(1, 30)>\n",
      "<Node type=import_declaration, start_point=(2, 0), end_point=(2, 26)>\n",
      "<Node type=\"import\", start_point=(2, 0), end_point=(2, 6)>\n",
      "<Node type=scoped_identifier, start_point=(2, 7), end_point=(2, 25)>\n",
      "<Node type=scoped_identifier, start_point=(2, 7), end_point=(2, 14)>\n",
      "<Node type=identifier, start_point=(2, 7), end_point=(2, 11)>\n",
      "<Node type=\".\", start_point=(2, 11), end_point=(2, 12)>\n",
      "<Node type=identifier, start_point=(2, 12), end_point=(2, 14)>\n",
      "<Node type=\".\", start_point=(2, 14), end_point=(2, 15)>\n",
      "<Node type=identifier, start_point=(2, 15), end_point=(2, 25)>\n",
      "<Node type=\";\", start_point=(2, 25), end_point=(2, 26)>\n",
      "<Node type=import_declaration, start_point=(3, 0), end_point=(3, 27)>\n",
      "<Node type=\"import\", start_point=(3, 0), end_point=(3, 6)>\n",
      "<Node type=scoped_identifier, start_point=(3, 7), end_point=(3, 26)>\n",
      "<Node type=scoped_identifier, start_point=(3, 7), end_point=(3, 14)>\n",
      "<Node type=identifier, start_point=(3, 7), end_point=(3, 11)>\n",
      "<Node type=\".\", start_point=(3, 11), end_point=(3, 12)>\n",
      "<Node type=identifier, start_point=(3, 12), end_point=(3, 14)>\n",
      "<Node type=\".\", start_point=(3, 14), end_point=(3, 15)>\n",
      "<Node type=identifier, start_point=(3, 15), end_point=(3, 26)>\n",
      "<Node type=\";\", start_point=(3, 26), end_point=(3, 27)>\n",
      "<Node type=class_declaration, start_point=(4, 0), end_point=(10, 1)>\n",
      "<Node type=modifiers, start_point=(4, 0), end_point=(4, 6)>\n",
      "<Node type=\"public\", start_point=(4, 0), end_point=(4, 6)>\n",
      "<Node type=\"class\", start_point=(4, 7), end_point=(4, 12)>\n",
      "<Node type=identifier, start_point=(4, 13), end_point=(4, 17)>\n",
      "<Node type=class_body, start_point=(4, 18), end_point=(10, 1)>\n",
      "<Node type=\"{\", start_point=(4, 18), end_point=(4, 19)>\n",
      "<Node type=method_declaration, start_point=(5, 4), end_point=(9, 5)>\n",
      "<Node type=modifiers, start_point=(5, 4), end_point=(5, 17)>\n",
      "<Node type=\"public\", start_point=(5, 4), end_point=(5, 10)>\n",
      "<Node type=\"static\", start_point=(5, 11), end_point=(5, 17)>\n",
      "<Node type=void_type, start_point=(5, 18), end_point=(5, 22)>\n",
      "<Node type=identifier, start_point=(5, 23), end_point=(5, 27)>\n",
      "<Node type=formal_parameters, start_point=(5, 27), end_point=(5, 42)>\n",
      "<Node type=\"(\", start_point=(5, 27), end_point=(5, 28)>\n",
      "<Node type=formal_parameter, start_point=(5, 28), end_point=(5, 41)>\n",
      "<Node type=array_type, start_point=(5, 28), end_point=(5, 36)>\n",
      "<Node type=type_identifier, start_point=(5, 28), end_point=(5, 34)>\n",
      "<Node type=dimensions, start_point=(5, 34), end_point=(5, 36)>\n",
      "<Node type=\"[\", start_point=(5, 34), end_point=(5, 35)>\n",
      "<Node type=\"]\", start_point=(5, 35), end_point=(5, 36)>\n",
      "<Node type=identifier, start_point=(5, 37), end_point=(5, 41)>\n",
      "<Node type=\")\", start_point=(5, 41), end_point=(5, 42)>\n",
      "<Node type=block, start_point=(5, 43), end_point=(9, 5)>\n",
      "<Node type=\"{\", start_point=(5, 43), end_point=(5, 44)>\n",
      "<Node type=for_statement, start_point=(6, 8), end_point=(8, 9)>\n",
      "<Node type=\"for\", start_point=(6, 8), end_point=(6, 11)>\n",
      "<Node type=\"(\", start_point=(6, 12), end_point=(6, 13)>\n",
      "<Node type=local_variable_declaration, start_point=(6, 13), end_point=(6, 23)>\n",
      "<Node type=integral_type, start_point=(6, 13), end_point=(6, 16)>\n",
      "<Node type=\"int\", start_point=(6, 13), end_point=(6, 16)>\n",
      "<Node type=variable_declarator, start_point=(6, 17), end_point=(6, 22)>\n",
      "<Node type=identifier, start_point=(6, 17), end_point=(6, 18)>\n",
      "<Node type=\"=\", start_point=(6, 19), end_point=(6, 20)>\n",
      "<Node type=decimal_integer_literal, start_point=(6, 21), end_point=(6, 22)>\n",
      "<Node type=\";\", start_point=(6, 22), end_point=(6, 23)>\n",
      "<Node type=binary_expression, start_point=(6, 24), end_point=(6, 29)>\n",
      "<Node type=identifier, start_point=(6, 24), end_point=(6, 25)>\n",
      "<Node type=\"<\", start_point=(6, 26), end_point=(6, 27)>\n",
      "<Node type=decimal_integer_literal, start_point=(6, 28), end_point=(6, 29)>\n",
      "<Node type=\";\", start_point=(6, 29), end_point=(6, 30)>\n",
      "<Node type=update_expression, start_point=(6, 31), end_point=(6, 34)>\n",
      "<Node type=identifier, start_point=(6, 31), end_point=(6, 32)>\n",
      "<Node type=\"++\", start_point=(6, 32), end_point=(6, 34)>\n",
      "<Node type=\")\", start_point=(6, 34), end_point=(6, 35)>\n",
      "<Node type=block, start_point=(6, 36), end_point=(8, 9)>\n",
      "<Node type=\"{\", start_point=(6, 36), end_point=(6, 37)>\n",
      "<Node type=expression_statement, start_point=(7, 12), end_point=(7, 47)>\n",
      "<Node type=method_invocation, start_point=(7, 12), end_point=(7, 46)>\n",
      "<Node type=field_access, start_point=(7, 12), end_point=(7, 22)>\n",
      "<Node type=identifier, start_point=(7, 12), end_point=(7, 18)>\n",
      "<Node type=\".\", start_point=(7, 18), end_point=(7, 19)>\n",
      "<Node type=identifier, start_point=(7, 19), end_point=(7, 22)>\n",
      "<Node type=\".\", start_point=(7, 22), end_point=(7, 23)>\n",
      "<Node type=identifier, start_point=(7, 23), end_point=(7, 30)>\n",
      "<Node type=argument_list, start_point=(7, 30), end_point=(7, 46)>\n",
      "<Node type=\"(\", start_point=(7, 30), end_point=(7, 31)>\n",
      "<Node type=string_literal, start_point=(7, 31), end_point=(7, 45)>\n",
      "<Node type=\")\", start_point=(7, 45), end_point=(7, 46)>\n",
      "<Node type=\";\", start_point=(7, 46), end_point=(7, 47)>\n",
      "<Node type=\"}\", start_point=(8, 8), end_point=(8, 9)>\n",
      "<Node type=\"}\", start_point=(9, 4), end_point=(9, 5)>\n",
      "<Node type=\"}\", start_point=(10, 0), end_point=(10, 1)>\n",
      "None\n"
     ]
    }
   ],
   "source": [
    "tokens = []\n",
    "tokens_types = []\n",
    "print(dfs(out, tree.root_node, tokens, tokens_types))"
   ]
  },
  {
   "cell_type": "code",
   "execution_count": 11,
   "metadata": {},
   "outputs": [
    {
     "name": "stdout",
     "output_type": "stream",
     "text": [
      "package package\n",
      "tool identifier\n",
      "; ;\n",
      "import import\n",
      "java identifier\n",
      ". .\n",
      "io identifier\n",
      ". .\n",
      "BufferedWriter identifier\n",
      "; ;\n",
      "import import\n",
      "java identifier\n",
      ". .\n",
      "io identifier\n",
      ". .\n",
      "FileWriter identifier\n",
      "; ;\n",
      "import import\n",
      "java identifier\n",
      ". .\n",
      "io identifier\n",
      ". .\n",
      "IOException identifier\n",
      "; ;\n",
      "public public\n",
      "class class\n",
      "Test identifier\n",
      "{ {\n",
      "public public\n",
      "static static\n",
      "void void_type\n",
      "main identifier\n",
      "( (\n",
      "String type_identifier\n",
      "[ [\n",
      "] ]\n",
      "args identifier\n",
      ") )\n",
      "{ {\n",
      "for for\n",
      "( (\n",
      "int int\n",
      "i identifier\n",
      "= =\n",
      "0 decimal_integer_literal\n",
      "; ;\n",
      "i identifier\n",
      "< <\n",
      "3 decimal_integer_literal\n",
      "; ;\n",
      "i identifier\n",
      "++ ++\n",
      ") )\n",
      "{ {\n",
      "System identifier\n",
      ". .\n",
      "out identifier\n",
      ". .\n",
      "println identifier\n",
      "( (\n",
      "\"Hello World!\" string_literal\n",
      ") )\n",
      "; ;\n",
      "} }\n",
      "} }\n",
      "} }\n"
     ]
    }
   ],
   "source": [
    "for token, token_type in zip(tokens, tokens_types):\n",
    "    print(token, token_type)\n",
    "    "
   ]
  },
  {
   "cell_type": "code",
   "execution_count": 4,
   "metadata": {},
   "outputs": [
    {
     "name": "stdout",
     "output_type": "stream",
     "text": [
      "['package', 'tool', ';', 'import', 'java', '.', 'io', '.', 'BufferedWriter', ';', 'import', 'java', '.', 'io', '.', 'FileWriter', ';', 'import', 'java', '.', 'io', '.', 'IOException', ';', 'public', 'class', 'Test', '{', 'public', 'static', 'void', 'main', '(', 'String', '[', ']', 'args', ')', '{', 'for', '(', 'int', 'i', '=', '0', ';', 'i', '<', '3', ';', 'i', '++', ')', '{', 'System', '.', 'out', '.', 'println', '(', '\"Hello World!\"', ')', ';', '}', '}', '}']\n",
      "package package\n",
      "tool identifier\n",
      "; ;\n",
      "import import\n",
      "java identifier\n",
      ". .\n",
      "io identifier\n",
      ". .\n",
      "BufferedWriter identifier\n",
      "; ;\n",
      "import import\n",
      "java identifier\n",
      ". .\n",
      "io identifier\n",
      ". .\n",
      "FileWriter identifier\n",
      "; ;\n",
      "import import\n",
      "java identifier\n",
      ". .\n",
      "io identifier\n",
      ". .\n",
      "IOException identifier\n",
      "; ;\n",
      "public public\n",
      "class class\n",
      "Test identifier\n",
      "{ {\n",
      "public public\n",
      "static static\n",
      "void void_type\n",
      "main identifier\n",
      "( (\n",
      "String type_identifier\n",
      "[ [\n",
      "] ]\n",
      "args identifier\n",
      ") )\n",
      "{ {\n",
      "for for\n",
      "( (\n",
      "int int\n",
      "i identifier\n",
      "= =\n",
      "0 decimal_integer_literal\n",
      "; ;\n",
      "i identifier\n",
      "< <\n",
      "3 decimal_integer_literal\n",
      "; ;\n",
      "i identifier\n",
      "++ ++\n",
      ") )\n",
      "{ {\n",
      "System identifier\n",
      ". .\n",
      "out identifier\n",
      ". .\n",
      "println identifier\n",
      "( (\n",
      "\"Hello World!\" string_literal\n",
      ") )\n",
      "; ;\n",
      "} }\n",
      "} }\n",
      "} }\n",
      "['package', 'tool', ';', 'import', 'java', '.', 'io', '.', 'BufferedWriter', ';', 'import', 'java', '.', 'io', '.', 'FileWriter', ';', 'import', 'java', '.', 'io', '.', 'IOException', ';', 'public', 'class', 'Test', '{', 'public', 'static', 'void', 'main', '(', 'String', '[', ']', 'args', ')', '{', 'for', '(', 'int', 'i', '=', '0', ';', 'i', '<', '3', ';', 'i', '++', ')', '{', 'System', '.', 'out', '.', 'println', '(', '\" Hello ▁ World ! \"', ')', ';', '}', '}', '}']\n"
     ]
    }
   ],
   "source": [
    "result = processor.tokenize_code(out)\n",
    "print(result)"
   ]
  },
  {
   "cell_type": "code",
   "execution_count": 5,
   "metadata": {},
   "outputs": [
    {
     "name": "stdout",
     "output_type": "stream",
     "text": [
      "package tool ;\n",
      "import java . io . BufferedWriter ;\n",
      "import java . io . FileWriter ;\n",
      "import java . io . IOException ;\n",
      "public class Test {\n",
      "  public static void main ( String [ ] args ) {\n",
      "    for ( int i = 0 ;\n",
      "    i < 3 ;\n",
      "    i ++ ) {\n",
      "      System . out . println ( \"Hello World!\" ) ;\n",
      "    }\n",
      "  }\n",
      "}\n",
      "\n"
     ]
    }
   ],
   "source": [
    "result2 = processor.detokenize_code(result)\n",
    "print(result2)"
   ]
  }
 ],
 "metadata": {
  "kernelspec": {
   "display_name": "test",
   "language": "python",
   "name": "python3"
  },
  "language_info": {
   "codemirror_mode": {
    "name": "ipython",
    "version": 3
   },
   "file_extension": ".py",
   "mimetype": "text/x-python",
   "name": "python",
   "nbconvert_exporter": "python",
   "pygments_lexer": "ipython3",
   "version": "3.9.16"
  }
 },
 "nbformat": 4,
 "nbformat_minor": 2
}
