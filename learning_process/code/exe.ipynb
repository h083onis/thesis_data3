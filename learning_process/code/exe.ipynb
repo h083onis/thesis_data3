{
 "cells": [
  {
   "cell_type": "code",
   "execution_count": 1,
   "id": "292119af-c83f-497e-9f1c-5c7ae8cda44f",
   "metadata": {},
   "outputs": [
    {
     "name": "stdout",
     "output_type": "stream",
     "text": [
      "/home/h083onis/workspace/experiment2/code\n"
     ]
    }
   ],
   "source": [
    "!pwd"
   ]
  },
  {
   "cell_type": "code",
   "execution_count": 2,
   "id": "4a4ece48-add3-445e-8afb-5b834bf3fdf9",
   "metadata": {},
   "outputs": [
    {
     "name": "stdout",
     "output_type": "stream",
     "text": [
      "cuda:0\n"
     ]
    },
    {
     "name": "stderr",
     "output_type": "stream",
     "text": [
      "[2023-11-30 17:02:42] - openstack-msg_tf - start training cv\n",
      "[2023-11-30 17:02:42] - openstack-msg_tf fold 0 - start training\n"
     ]
    },
    {
     "name": "stdout",
     "output_type": "stream",
     "text": [
      "torch.Size([2149, 512]) torch.Size([2149, 512])\n"
     ]
    },
    {
     "data": {
      "application/vnd.jupyter.widget-view+json": {
       "model_id": "41e5911d1b8145cfaf374efba06665a1",
       "version_major": 2,
       "version_minor": 0
      },
      "text/plain": [
       "  0%|          | 0/135 [00:00<?, ?it/s]"
      ]
     },
     "metadata": {},
     "output_type": "display_data"
    },
    {
     "name": "stderr",
     "output_type": "stream",
     "text": [
      "/usr/local/lib/python3.8/dist-packages/torch/nn/modules/transformer.py:287: UserWarning: The PyTorch API of nested tensors is in prototype stage and will change in the near future. (Triggered internally at ../aten/src/ATen/NestedTensorImpl.cpp:177.)\n",
      "  output = torch._nested_tensor_from_mask(output, src_key_padding_mask.logical_not(), mask_check=False)\n",
      "[2023-11-30 17:02:53] - openstack-msg_tf-random-0 - epoch:0, train_loss:0.7338336334326192, train_acc:0.5357309124767226, valid_loss:0.703722264778897, valid_acc:0.21126105165193113, auc_score:0.4682968750600802\n",
      "[2023-11-30 17:02:53] - AUC score increased (0.000000 --> 0.468297).  Saving model ...\n"
     ]
    },
    {
     "data": {
      "application/vnd.jupyter.widget-view+json": {
       "model_id": "e4511e4c543e4426ba3618f51e9d406a",
       "version_major": 2,
       "version_minor": 0
      },
      "text/plain": [
       "  0%|          | 0/135 [00:00<?, ?it/s]"
      ]
     },
     "metadata": {},
     "output_type": "display_data"
    },
    {
     "name": "stderr",
     "output_type": "stream",
     "text": [
      "[2023-11-30 17:03:02] - openstack-msg_tf-random-0 - epoch:1, train_loss:0.7277566813889829, train_acc:0.527816573556797, valid_loss:0.6975148065859021, valid_acc:0.2857142857142857, auc_score:0.4984023470694316\n",
      "[2023-11-30 17:03:02] - AUC score increased (0.468297 --> 0.498402).  Saving model ...\n"
     ]
    },
    {
     "data": {
      "application/vnd.jupyter.widget-view+json": {
       "model_id": "2258f1a68d5040819a5e18466d63dbf4",
       "version_major": 2,
       "version_minor": 0
      },
      "text/plain": [
       "  0%|          | 0/135 [00:00<?, ?it/s]"
      ]
     },
     "metadata": {},
     "output_type": "display_data"
    },
    {
     "name": "stderr",
     "output_type": "stream",
     "text": [
      "[2023-11-30 17:03:11] - openstack-msg_tf-random-0 - epoch:2, train_loss:0.7300398700508104, train_acc:0.5203677839851024, valid_loss:0.693792009669828, valid_acc:0.35644485807352255, auc_score:0.5278031983819679\n",
      "[2023-11-30 17:03:11] - AUC score increased (0.498402 --> 0.527803).  Saving model ...\n"
     ]
    },
    {
     "data": {
      "application/vnd.jupyter.widget-view+json": {
       "model_id": "ce04afcb4e5a484fab1a2d505c7b5b1e",
       "version_major": 2,
       "version_minor": 0
      },
      "text/plain": [
       "  0%|          | 0/135 [00:00<?, ?it/s]"
      ]
     },
     "metadata": {},
     "output_type": "display_data"
    },
    {
     "name": "stderr",
     "output_type": "stream",
     "text": [
      "[2023-11-30 17:03:20] - openstack-msg_tf-random-0 - epoch:3, train_loss:0.7197955072037112, train_acc:0.5247905027932961, valid_loss:0.6895139073981635, valid_acc:0.470451372731503, auc_score:0.544113293010701\n",
      "[2023-11-30 17:03:20] - AUC score increased (0.527803 --> 0.544113).  Saving model ...\n"
     ]
    },
    {
     "data": {
      "application/vnd.jupyter.widget-view+json": {
       "model_id": "ce5ba5fb3a52439f8dbd391a6e49e4f9",
       "version_major": 2,
       "version_minor": 0
      },
      "text/plain": [
       "  0%|          | 0/135 [00:00<?, ?it/s]"
      ]
     },
     "metadata": {},
     "output_type": "display_data"
    },
    {
     "name": "stderr",
     "output_type": "stream",
     "text": [
      "[2023-11-30 17:03:29] - openstack-msg_tf-random-0 - epoch:4, train_loss:0.7118720243541, train_acc:0.5458566108007449, valid_loss:0.6875507458524407, valid_acc:0.4471847370870172, auc_score:0.5534377415224422\n",
      "[2023-11-30 17:03:29] - AUC score increased (0.544113 --> 0.553438).  Saving model ...\n"
     ]
    },
    {
     "data": {
      "application/vnd.jupyter.widget-view+json": {
       "model_id": "fd00570c08984d5f8362fb6e0aa93ca3",
       "version_major": 2,
       "version_minor": 0
      },
      "text/plain": [
       "  0%|          | 0/135 [00:00<?, ?it/s]"
      ]
     },
     "metadata": {},
     "output_type": "display_data"
    },
    {
     "name": "stderr",
     "output_type": "stream",
     "text": [
      "[2023-11-30 17:03:38] - openstack-msg_tf-random-0 - epoch:5, train_loss:0.7179951925295469, train_acc:0.5435288640595903, valid_loss:0.6881948748318303, valid_acc:0.3862261516984644, auc_score:0.5590881650638869\n",
      "[2023-11-30 17:03:38] - EarlyStopping counter: 1 out of 8\n",
      "[2023-11-30 17:03:38] - AUC score increased (0.553438 --> 0.559088).  Saving model ...\n"
     ]
    },
    {
     "data": {
      "application/vnd.jupyter.widget-view+json": {
       "model_id": "f67472fc2ff44795a5ae919fad97e563",
       "version_major": 2,
       "version_minor": 0
      },
      "text/plain": [
       "  0%|          | 0/135 [00:00<?, ?it/s]"
      ]
     },
     "metadata": {},
     "output_type": "display_data"
    },
    {
     "name": "stderr",
     "output_type": "stream",
     "text": [
      "[2023-11-30 17:03:46] - openstack-msg_tf-random-0 - epoch:6, train_loss:0.7081966294700651, train_acc:0.5424813780260708, valid_loss:0.6835871950422902, valid_acc:0.4676593764541647, auc_score:0.5623536446096997\n",
      "[2023-11-30 17:03:46] - AUC score increased (0.559088 --> 0.562354).  Saving model ...\n"
     ]
    },
    {
     "data": {
      "application/vnd.jupyter.widget-view+json": {
       "model_id": "4b69511d37264a73bc808ce04d2bbe28",
       "version_major": 2,
       "version_minor": 0
      },
      "text/plain": [
       "  0%|          | 0/135 [00:00<?, ?it/s]"
      ]
     },
     "metadata": {},
     "output_type": "display_data"
    },
    {
     "name": "stderr",
     "output_type": "stream",
     "text": [
      "[2023-11-30 17:03:55] - openstack-msg_tf-random-0 - epoch:7, train_loss:0.7115217879053822, train_acc:0.5483007448789572, valid_loss:0.6823466566897037, valid_acc:0.45974872033503955, auc_score:0.5669745336814461\n",
      "[2023-11-30 17:03:55] - AUC score increased (0.562354 --> 0.566975).  Saving model ...\n"
     ]
    },
    {
     "data": {
      "application/vnd.jupyter.widget-view+json": {
       "model_id": "9623b7e6205a40919479c1245c97a4c9",
       "version_major": 2,
       "version_minor": 0
      },
      "text/plain": [
       "  0%|          | 0/135 [00:00<?, ?it/s]"
      ]
     },
     "metadata": {},
     "output_type": "display_data"
    },
    {
     "name": "stderr",
     "output_type": "stream",
     "text": [
      "[2023-11-30 17:04:04] - openstack-msg_tf-random-0 - epoch:8, train_loss:0.7080720820684451, train_acc:0.5587756052141527, valid_loss:0.6837020395466648, valid_acc:0.4057701256398325, auc_score:0.572568241505139\n",
      "[2023-11-30 17:04:04] - EarlyStopping counter: 1 out of 8\n",
      "[2023-11-30 17:04:04] - AUC score increased (0.566975 --> 0.572568).  Saving model ...\n"
     ]
    },
    {
     "data": {
      "application/vnd.jupyter.widget-view+json": {
       "model_id": "46ea7dd28b6b4f089632afa11adcfcf0",
       "version_major": 2,
       "version_minor": 0
      },
      "text/plain": [
       "  0%|          | 0/135 [00:00<?, ?it/s]"
      ]
     },
     "metadata": {},
     "output_type": "display_data"
    },
    {
     "name": "stderr",
     "output_type": "stream",
     "text": [
      "[2023-11-30 17:04:13] - openstack-msg_tf-random-0 - epoch:9, train_loss:0.7028776757987962, train_acc:0.5344506517690876, valid_loss:0.6802387641662218, valid_acc:0.4378780828292229, auc_score:0.5765546835647463\n",
      "[2023-11-30 17:04:13] - AUC score increased (0.572568 --> 0.576555).  Saving model ...\n"
     ]
    },
    {
     "data": {
      "application/vnd.jupyter.widget-view+json": {
       "model_id": "157cd89bfe344b44b8e9b65560302a7e",
       "version_major": 2,
       "version_minor": 0
      },
      "text/plain": [
       "  0%|          | 0/135 [00:00<?, ?it/s]"
      ]
     },
     "metadata": {},
     "output_type": "display_data"
    },
    {
     "name": "stderr",
     "output_type": "stream",
     "text": [
      "[2023-11-30 17:04:22] - openstack-msg_tf-random-0 - epoch:10, train_loss:0.6982432483960797, train_acc:0.5874068901303539, valid_loss:0.6827499085717448, valid_acc:0.38762214983713356, auc_score:0.5799230204291937\n",
      "[2023-11-30 17:04:22] - EarlyStopping counter: 1 out of 8\n",
      "[2023-11-30 17:04:22] - AUC score increased (0.576555 --> 0.579923).  Saving model ...\n"
     ]
    },
    {
     "data": {
      "application/vnd.jupyter.widget-view+json": {
       "model_id": "962ed6a42f2647a1bfdd2a2adf3c6a54",
       "version_major": 2,
       "version_minor": 0
      },
      "text/plain": [
       "  0%|          | 0/135 [00:00<?, ?it/s]"
      ]
     },
     "metadata": {},
     "output_type": "display_data"
    },
    {
     "name": "stderr",
     "output_type": "stream",
     "text": [
      "[2023-11-30 17:04:31] - openstack-msg_tf-random-0 - epoch:11, train_loss:0.6980074412107912, train_acc:0.5387569832402235, valid_loss:0.6772329257554152, valid_acc:0.4592833876221498, auc_score:0.5832423318427034\n",
      "[2023-11-30 17:04:31] - AUC score increased (0.579923 --> 0.583242).  Saving model ...\n"
     ]
    },
    {
     "data": {
      "application/vnd.jupyter.widget-view+json": {
       "model_id": "fd4b0b37d4b84865a8d7f87cc85938c1",
       "version_major": 2,
       "version_minor": 0
      },
      "text/plain": [
       "  0%|          | 0/135 [00:00<?, ?it/s]"
      ]
     },
     "metadata": {},
     "output_type": "display_data"
    },
    {
     "name": "stderr",
     "output_type": "stream",
     "text": [
      "[2023-11-30 17:04:40] - openstack-msg_tf-random-0 - epoch:12, train_loss:0.6973545785500794, train_acc:0.5867085661080075, valid_loss:0.678169084044599, valid_acc:0.41879944160074456, auc_score:0.5865635658229161\n",
      "[2023-11-30 17:04:40] - EarlyStopping counter: 1 out of 8\n",
      "[2023-11-30 17:04:40] - AUC score increased (0.583242 --> 0.586564).  Saving model ...\n"
     ]
    },
    {
     "data": {
      "application/vnd.jupyter.widget-view+json": {
       "model_id": "4da315a4dfc44df48c99a20c6a4dcdba",
       "version_major": 2,
       "version_minor": 0
      },
      "text/plain": [
       "  0%|          | 0/135 [00:00<?, ?it/s]"
      ]
     },
     "metadata": {},
     "output_type": "display_data"
    },
    {
     "name": "stderr",
     "output_type": "stream",
     "text": [
      "[2023-11-30 17:04:49] - openstack-msg_tf-random-0 - epoch:13, train_loss:0.6967308667784963, train_acc:0.5554003724394786, valid_loss:0.6763128297392187, valid_acc:0.44532340623545835, auc_score:0.5883688559574575\n",
      "[2023-11-30 17:04:49] - AUC score increased (0.586564 --> 0.588369).  Saving model ...\n"
     ]
    },
    {
     "data": {
      "application/vnd.jupyter.widget-view+json": {
       "model_id": "4bf72e7d174d4073aac0e0ccf4b55555",
       "version_major": 2,
       "version_minor": 0
      },
      "text/plain": [
       "  0%|          | 0/135 [00:00<?, ?it/s]"
      ]
     },
     "metadata": {},
     "output_type": "display_data"
    },
    {
     "name": "stderr",
     "output_type": "stream",
     "text": [
      "[2023-11-30 17:04:58] - openstack-msg_tf-random-0 - epoch:14, train_loss:0.6946960394608908, train_acc:0.5628491620111732, valid_loss:0.6751719736509292, valid_acc:0.45369939506747325, auc_score:0.5904702213643302\n",
      "[2023-11-30 17:04:58] - AUC score increased (0.588369 --> 0.590470).  Saving model ...\n"
     ]
    },
    {
     "data": {
      "application/vnd.jupyter.widget-view+json": {
       "model_id": "0338c25871714bad82ee376c42e5e102",
       "version_major": 2,
       "version_minor": 0
      },
      "text/plain": [
       "  0%|          | 0/135 [00:00<?, ?it/s]"
      ]
     },
     "metadata": {},
     "output_type": "display_data"
    },
    {
     "name": "stderr",
     "output_type": "stream",
     "text": [
      "[2023-11-30 17:05:07] - openstack-msg_tf-random-0 - epoch:15, train_loss:0.6876796751492961, train_acc:0.5758845437616388, valid_loss:0.6745225365020997, valid_acc:0.46067938576081896, auc_score:0.5935751665904049\n",
      "[2023-11-30 17:05:07] - AUC score increased (0.590470 --> 0.593575).  Saving model ...\n"
     ]
    },
    {
     "data": {
      "application/vnd.jupyter.widget-view+json": {
       "model_id": "5571d381757f4cb7a5b381ad39f50c4a",
       "version_major": 2,
       "version_minor": 0
      },
      "text/plain": [
       "  0%|          | 0/135 [00:00<?, ?it/s]"
      ]
     },
     "metadata": {},
     "output_type": "display_data"
    },
    {
     "name": "stderr",
     "output_type": "stream",
     "text": [
      "[2023-11-30 17:05:16] - openstack-msg_tf-random-0 - epoch:16, train_loss:0.6891570799399577, train_acc:0.5754189944134078, valid_loss:0.6750752869846101, valid_acc:0.43601675197766404, auc_score:0.5968473751196798\n",
      "[2023-11-30 17:05:16] - EarlyStopping counter: 1 out of 8\n",
      "[2023-11-30 17:05:16] - AUC score increased (0.593575 --> 0.596847).  Saving model ...\n"
     ]
    },
    {
     "data": {
      "application/vnd.jupyter.widget-view+json": {
       "model_id": "b838df1df58940069fed584995312862",
       "version_major": 2,
       "version_minor": 0
      },
      "text/plain": [
       "  0%|          | 0/135 [00:00<?, ?it/s]"
      ]
     },
     "metadata": {},
     "output_type": "display_data"
    },
    {
     "name": "stderr",
     "output_type": "stream",
     "text": [
      "[2023-11-30 17:05:25] - openstack-msg_tf-random-0 - epoch:17, train_loss:0.6879714565348137, train_acc:0.5675046554934823, valid_loss:0.6726187289787371, valid_acc:0.48255002326663565, auc_score:0.5992967250998773\n",
      "[2023-11-30 17:05:25] - AUC score increased (0.596847 --> 0.599297).  Saving model ...\n"
     ]
    },
    {
     "data": {
      "application/vnd.jupyter.widget-view+json": {
       "model_id": "e569081611fb4ac98e60b8059627f464",
       "version_major": 2,
       "version_minor": 0
      },
      "text/plain": [
       "  0%|          | 0/135 [00:00<?, ?it/s]"
      ]
     },
     "metadata": {},
     "output_type": "display_data"
    },
    {
     "name": "stderr",
     "output_type": "stream",
     "text": [
      "[2023-11-30 17:05:34] - openstack-msg_tf-random-0 - epoch:18, train_loss:0.6906839172933354, train_acc:0.5832169459962756, valid_loss:0.6747115621349322, valid_acc:0.4350860865518846, auc_score:0.6013404135056466\n",
      "[2023-11-30 17:05:34] - EarlyStopping counter: 1 out of 8\n",
      "[2023-11-30 17:05:34] - AUC score increased (0.599297 --> 0.601340).  Saving model ...\n"
     ]
    },
    {
     "data": {
      "application/vnd.jupyter.widget-view+json": {
       "model_id": "9f236c96ebd24765ab94ca65da7af1c4",
       "version_major": 2,
       "version_minor": 0
      },
      "text/plain": [
       "  0%|          | 0/135 [00:00<?, ?it/s]"
      ]
     },
     "metadata": {},
     "output_type": "display_data"
    },
    {
     "name": "stderr",
     "output_type": "stream",
     "text": [
      "[2023-11-30 17:05:43] - openstack-msg_tf-random-0 - epoch:19, train_loss:0.6856284224787238, train_acc:0.5593575418994413, valid_loss:0.6703008126802031, valid_acc:0.5086086551884598, auc_score:0.6040550776909205\n",
      "[2023-11-30 17:05:43] - AUC score increased (0.601340 --> 0.604055).  Saving model ...\n"
     ]
    },
    {
     "data": {
      "application/vnd.jupyter.widget-view+json": {
       "model_id": "46d3b230bc5848edb04204fbc6ed75cc",
       "version_major": 2,
       "version_minor": 0
      },
      "text/plain": [
       "  0%|          | 0/135 [00:00<?, ?it/s]"
      ]
     },
     "metadata": {},
     "output_type": "display_data"
    },
    {
     "name": "stderr",
     "output_type": "stream",
     "text": [
      "[2023-11-30 17:05:52] - openstack-msg_tf-random-0 - epoch:20, train_loss:0.6846150150956166, train_acc:0.5715782122905028, valid_loss:0.672879820010894, valid_acc:0.45742205677059095, auc_score:0.6062814099335176\n",
      "[2023-11-30 17:05:52] - EarlyStopping counter: 1 out of 8\n",
      "[2023-11-30 17:05:52] - AUC score increased (0.604055 --> 0.606281).  Saving model ...\n"
     ]
    },
    {
     "data": {
      "application/vnd.jupyter.widget-view+json": {
       "model_id": "98d4b2f7b28e4e73b2aee3831e4ae820",
       "version_major": 2,
       "version_minor": 0
      },
      "text/plain": [
       "  0%|          | 0/135 [00:00<?, ?it/s]"
      ]
     },
     "metadata": {},
     "output_type": "display_data"
    },
    {
     "name": "stderr",
     "output_type": "stream",
     "text": [
      "[2023-11-30 17:06:01] - openstack-msg_tf-random-0 - epoch:21, train_loss:0.6838557428265861, train_acc:0.5713454376163873, valid_loss:0.670546259143398, valid_acc:0.4844113541181945, auc_score:0.6082943372720317\n",
      "[2023-11-30 17:06:01] - EarlyStopping counter: 2 out of 8\n",
      "[2023-11-30 17:06:01] - AUC score increased (0.606281 --> 0.608294).  Saving model ...\n"
     ]
    },
    {
     "data": {
      "application/vnd.jupyter.widget-view+json": {
       "model_id": "921f131628fc40c1ab42da605bffc256",
       "version_major": 2,
       "version_minor": 0
      },
      "text/plain": [
       "  0%|          | 0/135 [00:00<?, ?it/s]"
      ]
     },
     "metadata": {},
     "output_type": "display_data"
    },
    {
     "name": "stderr",
     "output_type": "stream",
     "text": [
      "[2023-11-30 17:06:10] - openstack-msg_tf-random-0 - epoch:22, train_loss:0.6791867032175402, train_acc:0.5832169459962756, valid_loss:0.6720061784236583, valid_acc:0.45974872033503955, auc_score:0.6113012315962301\n",
      "[2023-11-30 17:06:10] - EarlyStopping counter: 3 out of 8\n",
      "[2023-11-30 17:06:10] - AUC score increased (0.608294 --> 0.611301).  Saving model ...\n"
     ]
    },
    {
     "data": {
      "application/vnd.jupyter.widget-view+json": {
       "model_id": "69300d81af9d44e09f30f9f1c3208323",
       "version_major": 2,
       "version_minor": 0
      },
      "text/plain": [
       "  0%|          | 0/135 [00:00<?, ?it/s]"
      ]
     },
     "metadata": {},
     "output_type": "display_data"
    },
    {
     "name": "stderr",
     "output_type": "stream",
     "text": [
      "[2023-11-30 17:06:19] - openstack-msg_tf-random-0 - epoch:23, train_loss:0.6751305344384476, train_acc:0.5941573556797021, valid_loss:0.6737404028833495, valid_acc:0.4490460679385761, auc_score:0.6130565349964817\n",
      "[2023-11-30 17:06:19] - EarlyStopping counter: 4 out of 8\n",
      "[2023-11-30 17:06:19] - AUC score increased (0.611301 --> 0.613057).  Saving model ...\n"
     ]
    },
    {
     "data": {
      "application/vnd.jupyter.widget-view+json": {
       "model_id": "838b91231dd34cde95720ead6f175fc1",
       "version_major": 2,
       "version_minor": 0
      },
      "text/plain": [
       "  0%|          | 0/135 [00:00<?, ?it/s]"
      ]
     },
     "metadata": {},
     "output_type": "display_data"
    },
    {
     "name": "stderr",
     "output_type": "stream",
     "text": [
      "[2023-11-30 17:06:28] - openstack-msg_tf-random-0 - epoch:24, train_loss:0.6766793876608879, train_acc:0.568086592178771, valid_loss:0.6689197284058118, valid_acc:0.4960446719404374, auc_score:0.6158125343658798\n",
      "[2023-11-30 17:06:28] - AUC score increased (0.613057 --> 0.615813).  Saving model ...\n"
     ]
    },
    {
     "data": {
      "application/vnd.jupyter.widget-view+json": {
       "model_id": "9f07a26534974c3fbe48154b6f809ef5",
       "version_major": 2,
       "version_minor": 0
      },
      "text/plain": [
       "  0%|          | 0/135 [00:00<?, ?it/s]"
      ]
     },
     "metadata": {},
     "output_type": "display_data"
    },
    {
     "name": "stderr",
     "output_type": "stream",
     "text": [
      "[2023-11-30 17:06:36] - openstack-msg_tf-random-0 - epoch:25, train_loss:0.672144839772521, train_acc:0.5844972067039106, valid_loss:0.6683627706508184, valid_acc:0.4955793392275477, auc_score:0.6188684541410165\n",
      "[2023-11-30 17:06:36] - AUC score increased (0.615813 --> 0.618868).  Saving model ...\n"
     ]
    },
    {
     "data": {
      "application/vnd.jupyter.widget-view+json": {
       "model_id": "d1ecd6ec58784ef1a4063d652a44114a",
       "version_major": 2,
       "version_minor": 0
      },
      "text/plain": [
       "  0%|          | 0/135 [00:00<?, ?it/s]"
      ]
     },
     "metadata": {},
     "output_type": "display_data"
    },
    {
     "name": "stderr",
     "output_type": "stream",
     "text": [
      "[2023-11-30 17:06:45] - openstack-msg_tf-random-0 - epoch:26, train_loss:0.6731324274668702, train_acc:0.5955540037243948, valid_loss:0.6710050220320867, valid_acc:0.46812470916705445, auc_score:0.6210371093825101\n",
      "[2023-11-30 17:06:45] - EarlyStopping counter: 1 out of 8\n",
      "[2023-11-30 17:06:45] - AUC score increased (0.618868 --> 0.621037).  Saving model ...\n"
     ]
    },
    {
     "data": {
      "application/vnd.jupyter.widget-view+json": {
       "model_id": "7151c47c9aa5456a905edf3045100818",
       "version_major": 2,
       "version_minor": 0
      },
      "text/plain": [
       "  0%|          | 0/135 [00:00<?, ?it/s]"
      ]
     },
     "metadata": {},
     "output_type": "display_data"
    },
    {
     "name": "stderr",
     "output_type": "stream",
     "text": [
      "[2023-11-30 17:06:54] - openstack-msg_tf-random-0 - epoch:27, train_loss:0.6746913757404136, train_acc:0.5659916201117319, valid_loss:0.6657605291855174, valid_acc:0.5570032573289903, auc_score:0.6228731605843064\n",
      "[2023-11-30 17:06:54] - AUC score increased (0.621037 --> 0.622873).  Saving model ...\n"
     ]
    },
    {
     "data": {
      "application/vnd.jupyter.widget-view+json": {
       "model_id": "0dc8625d8f9f44e5886b2f61b9001535",
       "version_major": 2,
       "version_minor": 0
      },
      "text/plain": [
       "  0%|          | 0/135 [00:00<?, ?it/s]"
      ]
     },
     "metadata": {},
     "output_type": "display_data"
    },
    {
     "name": "stderr",
     "output_type": "stream",
     "text": [
      "[2023-11-30 17:07:03] - openstack-msg_tf-random-0 - epoch:28, train_loss:0.6704812342894144, train_acc:0.6026536312849162, valid_loss:0.6666488513218741, valid_acc:0.5044206607724523, auc_score:0.6254513225336353\n",
      "[2023-11-30 17:07:03] - EarlyStopping counter: 1 out of 8\n",
      "[2023-11-30 17:07:03] - AUC score increased (0.622873 --> 0.625451).  Saving model ...\n"
     ]
    },
    {
     "data": {
      "application/vnd.jupyter.widget-view+json": {
       "model_id": "97ef36aff2ac4a6195a1f647295fe248",
       "version_major": 2,
       "version_minor": 0
      },
      "text/plain": [
       "  0%|          | 0/135 [00:00<?, ?it/s]"
      ]
     },
     "metadata": {},
     "output_type": "display_data"
    },
    {
     "name": "stderr",
     "output_type": "stream",
     "text": [
      "[2023-11-30 17:07:12] - openstack-msg_tf-random-0 - epoch:29, train_loss:0.6676880720607395, train_acc:0.589036312849162, valid_loss:0.6668979201609726, valid_acc:0.498371335504886, auc_score:0.6280448650165916\n",
      "[2023-11-30 17:07:12] - EarlyStopping counter: 2 out of 8\n",
      "[2023-11-30 17:07:12] - AUC score increased (0.625451 --> 0.628045).  Saving model ...\n"
     ]
    },
    {
     "data": {
      "application/vnd.jupyter.widget-view+json": {
       "model_id": "7d77b1f647524c44acf2b92349983701",
       "version_major": 2,
       "version_minor": 0
      },
      "text/plain": [
       "  0%|          | 0/135 [00:00<?, ?it/s]"
      ]
     },
     "metadata": {},
     "output_type": "display_data"
    },
    {
     "name": "stderr",
     "output_type": "stream",
     "text": [
      "[2023-11-30 17:07:21] - openstack-msg_tf-random-0 - epoch:30, train_loss:0.6667165209572187, train_acc:0.5977653631284916, valid_loss:0.6647493997913785, valid_acc:0.5123313168915775, auc_score:0.6307749097354932\n",
      "[2023-11-30 17:07:21] - AUC score increased (0.628045 --> 0.630775).  Saving model ...\n"
     ]
    },
    {
     "data": {
      "application/vnd.jupyter.widget-view+json": {
       "model_id": "5f0b59cdbc984028a62ce0a2e4fe5336",
       "version_major": 2,
       "version_minor": 0
      },
      "text/plain": [
       "  0%|          | 0/135 [00:00<?, ?it/s]"
      ]
     },
     "metadata": {},
     "output_type": "display_data"
    },
    {
     "name": "stderr",
     "output_type": "stream",
     "text": [
      "[2023-11-30 17:07:30] - openstack-msg_tf-random-0 - epoch:31, train_loss:0.661282035669579, train_acc:0.5961359404096834, valid_loss:0.6646166336763842, valid_acc:0.5314099581200559, auc_score:0.6326378768711381\n",
      "[2023-11-30 17:07:30] - AUC score increased (0.630775 --> 0.632638).  Saving model ...\n"
     ]
    },
    {
     "data": {
      "application/vnd.jupyter.widget-view+json": {
       "model_id": "9285756a936046aca7e1010b4ee15033",
       "version_major": 2,
       "version_minor": 0
      },
      "text/plain": [
       "  0%|          | 0/135 [00:00<?, ?it/s]"
      ]
     },
     "metadata": {},
     "output_type": "display_data"
    },
    {
     "name": "stderr",
     "output_type": "stream",
     "text": [
      "[2023-11-30 17:07:39] - openstack-msg_tf-random-0 - epoch:32, train_loss:0.6633538359592303, train_acc:0.5867085661080075, valid_loss:0.663114356184738, valid_acc:0.5532805956258725, auc_score:0.6350660786175977\n",
      "[2023-11-30 17:07:39] - AUC score increased (0.632638 --> 0.635066).  Saving model ...\n"
     ]
    },
    {
     "data": {
      "application/vnd.jupyter.widget-view+json": {
       "model_id": "1a56d6a3febc48cb8d808f383115a690",
       "version_major": 2,
       "version_minor": 0
      },
      "text/plain": [
       "  0%|          | 0/135 [00:00<?, ?it/s]"
      ]
     },
     "metadata": {},
     "output_type": "display_data"
    },
    {
     "name": "stderr",
     "output_type": "stream",
     "text": [
      "[2023-11-30 17:07:48] - openstack-msg_tf-random-0 - epoch:33, train_loss:0.659258728475766, train_acc:0.6144087523277467, valid_loss:0.6621388634896489, valid_acc:0.567240577012564, auc_score:0.637723065801768\n",
      "[2023-11-30 17:07:48] - AUC score increased (0.635066 --> 0.637723).  Saving model ...\n"
     ]
    },
    {
     "data": {
      "application/vnd.jupyter.widget-view+json": {
       "model_id": "ece7664d2d7d4604bf8d303986eadfd3",
       "version_major": 2,
       "version_minor": 0
      },
      "text/plain": [
       "  0%|          | 0/135 [00:00<?, ?it/s]"
      ]
     },
     "metadata": {},
     "output_type": "display_data"
    },
    {
     "name": "stderr",
     "output_type": "stream",
     "text": [
      "[2023-11-30 17:07:57] - openstack-msg_tf-random-0 - epoch:34, train_loss:0.6569193952354417, train_acc:0.6059124767225326, valid_loss:0.6618856862568755, valid_acc:0.5839925546765937, auc_score:0.6397955927080891\n",
      "[2023-11-30 17:07:57] - AUC score increased (0.637723 --> 0.639796).  Saving model ...\n"
     ]
    },
    {
     "data": {
      "application/vnd.jupyter.widget-view+json": {
       "model_id": "245e0304598e4757ac2b0683992365c4",
       "version_major": 2,
       "version_minor": 0
      },
      "text/plain": [
       "  0%|          | 0/135 [00:00<?, ?it/s]"
      ]
     },
     "metadata": {},
     "output_type": "display_data"
    },
    {
     "name": "stderr",
     "output_type": "stream",
     "text": [
      "[2023-11-30 17:08:06] - openstack-msg_tf-random-0 - epoch:35, train_loss:0.6452793752569949, train_acc:0.6279096834264432, valid_loss:0.6624545349859536, valid_acc:0.5663099115867846, auc_score:0.6421045953189346\n",
      "[2023-11-30 17:08:06] - EarlyStopping counter: 1 out of 8\n",
      "[2023-11-30 17:08:06] - AUC score increased (0.639796 --> 0.642105).  Saving model ...\n"
     ]
    },
    {
     "data": {
      "application/vnd.jupyter.widget-view+json": {
       "model_id": "eae12bc4e27d41d0bc418788d7213d78",
       "version_major": 2,
       "version_minor": 0
      },
      "text/plain": [
       "  0%|          | 0/135 [00:00<?, ?it/s]"
      ]
     },
     "metadata": {},
     "output_type": "display_data"
    },
    {
     "name": "stderr",
     "output_type": "stream",
     "text": [
      "[2023-11-30 17:08:15] - openstack-msg_tf-random-0 - epoch:36, train_loss:0.6481244188891221, train_acc:0.6190642458100558, valid_loss:0.6621322744998781, valid_acc:0.5802698929734761, auc_score:0.6448903944722362\n",
      "[2023-11-30 17:08:15] - EarlyStopping counter: 2 out of 8\n",
      "[2023-11-30 17:08:15] - AUC score increased (0.642105 --> 0.644890).  Saving model ...\n"
     ]
    },
    {
     "data": {
      "application/vnd.jupyter.widget-view+json": {
       "model_id": "d906754548f04164ae5ec3440ccf3817",
       "version_major": 2,
       "version_minor": 0
      },
      "text/plain": [
       "  0%|          | 0/135 [00:00<?, ?it/s]"
      ]
     },
     "metadata": {},
     "output_type": "display_data"
    },
    {
     "name": "stderr",
     "output_type": "stream",
     "text": [
      "[2023-11-30 17:08:24] - openstack-msg_tf-random-0 - epoch:37, train_loss:0.6422137808977336, train_acc:0.6282588454376163, valid_loss:0.6614403441901981, valid_acc:0.6240111679851094, auc_score:0.6479376626972072\n",
      "[2023-11-30 17:08:24] - AUC score increased (0.644890 --> 0.647938).  Saving model ...\n"
     ]
    },
    {
     "data": {
      "application/vnd.jupyter.widget-view+json": {
       "model_id": "f588d73ccd074288b957cb60a1526084",
       "version_major": 2,
       "version_minor": 0
      },
      "text/plain": [
       "  0%|          | 0/135 [00:00<?, ?it/s]"
      ]
     },
     "metadata": {},
     "output_type": "display_data"
    },
    {
     "name": "stderr",
     "output_type": "stream",
     "text": [
      "[2023-11-30 17:08:33] - openstack-msg_tf-random-0 - epoch:38, train_loss:0.6404903634300445, train_acc:0.6389664804469274, valid_loss:0.6623076498924493, valid_acc:0.6072591903210796, auc_score:0.6498833002011004\n",
      "[2023-11-30 17:08:33] - EarlyStopping counter: 1 out of 8\n",
      "[2023-11-30 17:08:33] - AUC score increased (0.647938 --> 0.649883).  Saving model ...\n"
     ]
    },
    {
     "data": {
      "application/vnd.jupyter.widget-view+json": {
       "model_id": "194153dbb81c440f93afaf4f12e4864c",
       "version_major": 2,
       "version_minor": 0
      },
      "text/plain": [
       "  0%|          | 0/135 [00:00<?, ?it/s]"
      ]
     },
     "metadata": {},
     "output_type": "display_data"
    },
    {
     "name": "stderr",
     "output_type": "stream",
     "text": [
      "[2023-11-30 17:08:42] - openstack-msg_tf-random-0 - epoch:39, train_loss:0.6370299952434206, train_acc:0.6230214152700186, valid_loss:0.6628167708705558, valid_acc:0.6342484876686831, auc_score:0.6519539045407181\n",
      "[2023-11-30 17:08:42] - EarlyStopping counter: 2 out of 8\n",
      "[2023-11-30 17:08:42] - AUC score increased (0.649883 --> 0.651954).  Saving model ...\n"
     ]
    },
    {
     "data": {
      "application/vnd.jupyter.widget-view+json": {
       "model_id": "23032c7abd4c4ec195d4a88a9fcc8cbb",
       "version_major": 2,
       "version_minor": 0
      },
      "text/plain": [
       "  0%|          | 0/135 [00:00<?, ?it/s]"
      ]
     },
     "metadata": {},
     "output_type": "display_data"
    },
    {
     "name": "stderr",
     "output_type": "stream",
     "text": [
      "[2023-11-30 17:08:51] - openstack-msg_tf-random-0 - epoch:40, train_loss:0.6338839922759342, train_acc:0.6490921787709497, valid_loss:0.6622522046755723, valid_acc:0.6133085155886459, auc_score:0.6542225332507912\n",
      "[2023-11-30 17:08:51] - EarlyStopping counter: 3 out of 8\n",
      "[2023-11-30 17:08:51] - AUC score increased (0.651954 --> 0.654223).  Saving model ...\n"
     ]
    },
    {
     "data": {
      "application/vnd.jupyter.widget-view+json": {
       "model_id": "ad0305906aa0459295e4746e2472e2c4",
       "version_major": 2,
       "version_minor": 0
      },
      "text/plain": [
       "  0%|          | 0/135 [00:00<?, ?it/s]"
      ]
     },
     "metadata": {},
     "output_type": "display_data"
    },
    {
     "name": "stderr",
     "output_type": "stream",
     "text": [
      "[2023-11-30 17:08:59] - openstack-msg_tf-random-0 - epoch:41, train_loss:0.6327581059333333, train_acc:0.6452513966480447, valid_loss:0.6640032810103123, valid_acc:0.6277338296882271, auc_score:0.6556836839454145\n",
      "[2023-11-30 17:08:59] - EarlyStopping counter: 4 out of 8\n",
      "[2023-11-30 17:08:59] - AUC score increased (0.654223 --> 0.655684).  Saving model ...\n"
     ]
    },
    {
     "data": {
      "application/vnd.jupyter.widget-view+json": {
       "model_id": "6ec21c5329eb4eb6879da26cb6472303",
       "version_major": 2,
       "version_minor": 0
      },
      "text/plain": [
       "  0%|          | 0/135 [00:00<?, ?it/s]"
      ]
     },
     "metadata": {},
     "output_type": "display_data"
    },
    {
     "name": "stderr",
     "output_type": "stream",
     "text": [
      "[2023-11-30 17:09:08] - openstack-msg_tf-random-0 - epoch:42, train_loss:0.622689354908089, train_acc:0.6597998137802608, valid_loss:0.6650116168631682, valid_acc:0.6216845044206608, auc_score:0.6574928192133627\n",
      "[2023-11-30 17:09:08] - EarlyStopping counter: 5 out of 8\n",
      "[2023-11-30 17:09:08] - AUC score increased (0.655684 --> 0.657493).  Saving model ...\n"
     ]
    },
    {
     "data": {
      "application/vnd.jupyter.widget-view+json": {
       "model_id": "e4d20628472d4156a5e03aab0542e387",
       "version_major": 2,
       "version_minor": 0
      },
      "text/plain": [
       "  0%|          | 0/135 [00:00<?, ?it/s]"
      ]
     },
     "metadata": {},
     "output_type": "display_data"
    },
    {
     "name": "stderr",
     "output_type": "stream",
     "text": [
      "[2023-11-30 17:09:17] - openstack-msg_tf-random-0 - epoch:43, train_loss:0.6247407950502534, train_acc:0.6567737430167597, valid_loss:0.6656477976089413, valid_acc:0.6333178222429037, auc_score:0.6592654257139452\n",
      "[2023-11-30 17:09:17] - EarlyStopping counter: 6 out of 8\n",
      "[2023-11-30 17:09:17] - AUC score increased (0.657493 --> 0.659265).  Saving model ...\n"
     ]
    },
    {
     "data": {
      "application/vnd.jupyter.widget-view+json": {
       "model_id": "faf2dc2c6c104be294a9cb033d6a7203",
       "version_major": 2,
       "version_minor": 0
      },
      "text/plain": [
       "  0%|          | 0/135 [00:00<?, ?it/s]"
      ]
     },
     "metadata": {},
     "output_type": "display_data"
    },
    {
     "name": "stderr",
     "output_type": "stream",
     "text": [
      "[2023-11-30 17:09:26] - openstack-msg_tf-random-0 - epoch:44, train_loss:0.6232013921608917, train_acc:0.6558426443202979, valid_loss:0.6675619021467188, valid_acc:0.6537924616100512, auc_score:0.6607842534096721\n",
      "[2023-11-30 17:09:26] - EarlyStopping counter: 7 out of 8\n",
      "[2023-11-30 17:09:26] - AUC score increased (0.659265 --> 0.660784).  Saving model ...\n"
     ]
    },
    {
     "data": {
      "application/vnd.jupyter.widget-view+json": {
       "model_id": "f7adfdc5ab5743c9b40d22faeb35aaab",
       "version_major": 2,
       "version_minor": 0
      },
      "text/plain": [
       "  0%|          | 0/135 [00:00<?, ?it/s]"
      ]
     },
     "metadata": {},
     "output_type": "display_data"
    },
    {
     "name": "stderr",
     "output_type": "stream",
     "text": [
      "[2023-11-30 17:09:35] - openstack-msg_tf-random-0 - epoch:45, train_loss:0.6159630229131248, train_acc:0.6603817504655494, valid_loss:0.6700407244844069, valid_acc:0.6649604467194044, auc_score:0.6624799572421166\n",
      "[2023-11-30 17:09:35] - EarlyStopping counter: 8 out of 8\n",
      "[2023-11-30 17:09:35] - AUC score increased (0.660784 --> 0.662480).  Saving model ...\n",
      "[2023-11-30 17:09:35] - Early Stopping\n",
      "[2023-11-30 17:09:38] - openstack-msg_tf fold 0 - end training - score 0.6084342827417487\n",
      "[2023-11-30 17:09:38] - openstack-msg_tf fold 1 - start training\n"
     ]
    },
    {
     "name": "stdout",
     "output_type": "stream",
     "text": [
      "torch.Size([2148, 512]) torch.Size([2148, 512])\n"
     ]
    },
    {
     "data": {
      "application/vnd.jupyter.widget-view+json": {
       "model_id": "e8e12cb002474c35a71388c74e9a3647",
       "version_major": 2,
       "version_minor": 0
      },
      "text/plain": [
       "  0%|          | 0/135 [00:00<?, ?it/s]"
      ]
     },
     "metadata": {},
     "output_type": "display_data"
    },
    {
     "name": "stderr",
     "output_type": "stream",
     "text": [
      "[2023-11-30 17:09:47] - openstack-msg_tf-random-1 - epoch:0, train_loss:0.736115014464284, train_acc:0.6089840567904108, valid_loss:0.7000696190686643, valid_acc:0.23556797020484171, auc_score:0.5065873381866876\n",
      "[2023-11-30 17:09:47] - AUC score increased (0.000000 --> 0.506587).  Saving model ...\n"
     ]
    },
    {
     "data": {
      "application/vnd.jupyter.widget-view+json": {
       "model_id": "3baf7cab61ca4623a7792bfadd10c773",
       "version_major": 2,
       "version_minor": 0
      },
      "text/plain": [
       "  0%|          | 0/135 [00:00<?, ?it/s]"
      ]
     },
     "metadata": {},
     "output_type": "display_data"
    },
    {
     "name": "stderr",
     "output_type": "stream",
     "text": [
      "[2023-11-30 17:09:56] - openstack-msg_tf-random-1 - epoch:1, train_loss:0.7309155181027758, train_acc:0.531944606074712, valid_loss:0.6941952306909046, valid_acc:0.2388268156424581, auc_score:0.5594693468810478\n",
      "[2023-11-30 17:09:56] - AUC score increased (0.506587 --> 0.559469).  Saving model ...\n"
     ]
    },
    {
     "data": {
      "application/vnd.jupyter.widget-view+json": {
       "model_id": "b6227da47a0046209aafce3378e00f9c",
       "version_major": 2,
       "version_minor": 0
      },
      "text/plain": [
       "  0%|          | 0/135 [00:00<?, ?it/s]"
      ]
     },
     "metadata": {},
     "output_type": "display_data"
    },
    {
     "name": "stderr",
     "output_type": "stream",
     "text": [
      "[2023-11-30 17:10:05] - openstack-msg_tf-random-1 - epoch:2, train_loss:0.7264248821908238, train_acc:0.5153031537297801, valid_loss:0.685653345544911, valid_acc:0.34124767225325886, auc_score:0.5845645198324416\n",
      "[2023-11-30 17:10:05] - AUC score increased (0.559469 --> 0.584565).  Saving model ...\n"
     ]
    },
    {
     "data": {
      "application/vnd.jupyter.widget-view+json": {
       "model_id": "2c179a949ea94a9eb6e3a54273bd7fce",
       "version_major": 2,
       "version_minor": 0
      },
      "text/plain": [
       "  0%|          | 0/135 [00:00<?, ?it/s]"
      ]
     },
     "metadata": {},
     "output_type": "display_data"
    },
    {
     "name": "stderr",
     "output_type": "stream",
     "text": [
      "[2023-11-30 17:10:14] - openstack-msg_tf-random-1 - epoch:3, train_loss:0.7179687905891469, train_acc:0.5411381356918422, valid_loss:0.6847480376783474, valid_acc:0.33054003724394787, auc_score:0.5917644766114764\n",
      "[2023-11-30 17:10:14] - AUC score increased (0.584565 --> 0.591764).  Saving model ...\n"
     ]
    },
    {
     "data": {
      "application/vnd.jupyter.widget-view+json": {
       "model_id": "3cd164eb618449dda087cacc6c0eb103",
       "version_major": 2,
       "version_minor": 0
      },
      "text/plain": [
       "  0%|          | 0/135 [00:00<?, ?it/s]"
      ]
     },
     "metadata": {},
     "output_type": "display_data"
    },
    {
     "name": "stderr",
     "output_type": "stream",
     "text": [
      "[2023-11-30 17:10:23] - openstack-msg_tf-random-1 - epoch:4, train_loss:0.7170059870164219, train_acc:0.5411381356918422, valid_loss:0.6813692791279912, valid_acc:0.3691806331471136, auc_score:0.5954932496184399\n",
      "[2023-11-30 17:10:23] - AUC score increased (0.591764 --> 0.595493).  Saving model ...\n"
     ]
    },
    {
     "data": {
      "application/vnd.jupyter.widget-view+json": {
       "model_id": "2b7e662fd296479ca3e4548a18bb9568",
       "version_major": 2,
       "version_minor": 0
      },
      "text/plain": [
       "  0%|          | 0/135 [00:00<?, ?it/s]"
      ]
     },
     "metadata": {},
     "output_type": "display_data"
    },
    {
     "name": "stderr",
     "output_type": "stream",
     "text": [
      "[2023-11-30 17:10:32] - openstack-msg_tf-random-1 - epoch:5, train_loss:0.7140371693619246, train_acc:0.5546374956359827, valid_loss:0.6831915239826039, valid_acc:0.33798882681564246, auc_score:0.5975028315520764\n",
      "[2023-11-30 17:10:32] - EarlyStopping counter: 1 out of 8\n",
      "[2023-11-30 17:10:32] - AUC score increased (0.595493 --> 0.597503).  Saving model ...\n"
     ]
    },
    {
     "data": {
      "application/vnd.jupyter.widget-view+json": {
       "model_id": "f2cbfb9c10bb42f4a95fb9e1ecc47999",
       "version_major": 2,
       "version_minor": 0
      },
      "text/plain": [
       "  0%|          | 0/135 [00:00<?, ?it/s]"
      ]
     },
     "metadata": {},
     "output_type": "display_data"
    },
    {
     "name": "stderr",
     "output_type": "stream",
     "text": [
      "[2023-11-30 17:10:41] - openstack-msg_tf-random-1 - epoch:6, train_loss:0.7020784240447087, train_acc:0.5519608984056791, valid_loss:0.6824305820065504, valid_acc:0.34823091247672255, auc_score:0.5981945599469\n",
      "[2023-11-30 17:10:41] - EarlyStopping counter: 2 out of 8\n",
      "[2023-11-30 17:10:41] - AUC score increased (0.597503 --> 0.598195).  Saving model ...\n"
     ]
    },
    {
     "data": {
      "application/vnd.jupyter.widget-view+json": {
       "model_id": "7f5c60a969a14ee7ab32132b37edf155",
       "version_major": 2,
       "version_minor": 0
      },
      "text/plain": [
       "  0%|          | 0/135 [00:00<?, ?it/s]"
      ]
     },
     "metadata": {},
     "output_type": "display_data"
    },
    {
     "name": "stderr",
     "output_type": "stream",
     "text": [
      "[2023-11-30 17:10:50] - openstack-msg_tf-random-1 - epoch:7, train_loss:0.7140354477150899, train_acc:0.5483533108344001, valid_loss:0.6843672924201581, valid_acc:0.3291433891992551, auc_score:0.6005196163367531\n",
      "[2023-11-30 17:10:50] - EarlyStopping counter: 3 out of 8\n",
      "[2023-11-30 17:10:50] - AUC score increased (0.598195 --> 0.600520).  Saving model ...\n"
     ]
    },
    {
     "data": {
      "application/vnd.jupyter.widget-view+json": {
       "model_id": "f2522cd99f6e4a358ba75452a765b559",
       "version_major": 2,
       "version_minor": 0
      },
      "text/plain": [
       "  0%|          | 0/135 [00:00<?, ?it/s]"
      ]
     },
     "metadata": {},
     "output_type": "display_data"
    },
    {
     "name": "stderr",
     "output_type": "stream",
     "text": [
      "[2023-11-30 17:10:58] - openstack-msg_tf-random-1 - epoch:8, train_loss:0.7054938740562702, train_acc:0.536599557779588, valid_loss:0.6803988754416311, valid_acc:0.3612662942271881, auc_score:0.6021326845043191\n",
      "[2023-11-30 17:10:58] - AUC score increased (0.600520 --> 0.602133).  Saving model ...\n"
     ]
    },
    {
     "data": {
      "application/vnd.jupyter.widget-view+json": {
       "model_id": "f0b089cde352445498c6c1a0332d3d15",
       "version_major": 2,
       "version_minor": 0
      },
      "text/plain": [
       "  0%|          | 0/135 [00:00<?, ?it/s]"
      ]
     },
     "metadata": {},
     "output_type": "display_data"
    },
    {
     "name": "stderr",
     "output_type": "stream",
     "text": [
      "[2023-11-30 17:11:07] - openstack-msg_tf-random-1 - epoch:9, train_loss:0.7081490841508952, train_acc:0.5430001163737926, valid_loss:0.68016839426989, valid_acc:0.35288640595903165, auc_score:0.6051041258656253\n",
      "[2023-11-30 17:11:07] - AUC score increased (0.602133 --> 0.605104).  Saving model ...\n"
     ]
    },
    {
     "data": {
      "application/vnd.jupyter.widget-view+json": {
       "model_id": "d63c164667024e9e92c87732af082d0a",
       "version_major": 2,
       "version_minor": 0
      },
      "text/plain": [
       "  0%|          | 0/135 [00:00<?, ?it/s]"
      ]
     },
     "metadata": {},
     "output_type": "display_data"
    },
    {
     "name": "stderr",
     "output_type": "stream",
     "text": [
      "[2023-11-30 17:11:16] - openstack-msg_tf-random-1 - epoch:10, train_loss:0.6970981638950116, train_acc:0.5634819038752473, valid_loss:0.6801930387370857, valid_acc:0.3514897579143389, auc_score:0.6068329644758397\n",
      "[2023-11-30 17:11:16] - EarlyStopping counter: 1 out of 8\n",
      "[2023-11-30 17:11:16] - AUC score increased (0.605104 --> 0.606833).  Saving model ...\n"
     ]
    },
    {
     "data": {
      "application/vnd.jupyter.widget-view+json": {
       "model_id": "a53b0a806acc46d8b30eef515ba21585",
       "version_major": 2,
       "version_minor": 0
      },
      "text/plain": [
       "  0%|          | 0/135 [00:00<?, ?it/s]"
      ]
     },
     "metadata": {},
     "output_type": "display_data"
    },
    {
     "name": "stderr",
     "output_type": "stream",
     "text": [
      "[2023-11-30 17:11:25] - openstack-msg_tf-random-1 - epoch:11, train_loss:0.701157160282801, train_acc:0.5490515535901315, valid_loss:0.6800003858695927, valid_acc:0.351024208566108, auc_score:0.6090383914082896\n",
      "[2023-11-30 17:11:25] - AUC score increased (0.606833 --> 0.609038).  Saving model ...\n"
     ]
    },
    {
     "data": {
      "application/vnd.jupyter.widget-view+json": {
       "model_id": "114d11024c51462db61db4c31330ba2d",
       "version_major": 2,
       "version_minor": 0
      },
      "text/plain": [
       "  0%|          | 0/135 [00:00<?, ?it/s]"
      ]
     },
     "metadata": {},
     "output_type": "display_data"
    },
    {
     "name": "stderr",
     "output_type": "stream",
     "text": [
      "[2023-11-30 17:11:34] - openstack-msg_tf-random-1 - epoch:12, train_loss:0.7009908544591347, train_acc:0.548469684627022, valid_loss:0.6780113063933019, valid_acc:0.3649906890130354, auc_score:0.61035817445448\n",
      "[2023-11-30 17:11:34] - AUC score increased (0.609038 --> 0.610358).  Saving model ...\n"
     ]
    },
    {
     "data": {
      "application/vnd.jupyter.widget-view+json": {
       "model_id": "c5a726a420ed4458923184e7e30e482f",
       "version_major": 2,
       "version_minor": 0
      },
      "text/plain": [
       "  0%|          | 0/135 [00:00<?, ?it/s]"
      ]
     },
     "metadata": {},
     "output_type": "display_data"
    },
    {
     "name": "stderr",
     "output_type": "stream",
     "text": [
      "[2023-11-30 17:11:43] - openstack-msg_tf-random-1 - epoch:13, train_loss:0.6984475456376743, train_acc:0.5527755149540323, valid_loss:0.6767735196003479, valid_acc:0.3743016759776536, auc_score:0.6126407816820287\n",
      "[2023-11-30 17:11:43] - AUC score increased (0.610358 --> 0.612641).  Saving model ...\n"
     ]
    },
    {
     "data": {
      "application/vnd.jupyter.widget-view+json": {
       "model_id": "fff90ec022ea4985b00c56119a3bcb90",
       "version_major": 2,
       "version_minor": 0
      },
      "text/plain": [
       "  0%|          | 0/135 [00:00<?, ?it/s]"
      ]
     },
     "metadata": {},
     "output_type": "display_data"
    },
    {
     "name": "stderr",
     "output_type": "stream",
     "text": [
      "[2023-11-30 17:11:52] - openstack-msg_tf-random-1 - epoch:14, train_loss:0.6980479228667188, train_acc:0.5443966018852554, valid_loss:0.678083452210524, valid_acc:0.35893854748603354, auc_score:0.614906988096869\n",
      "[2023-11-30 17:11:52] - EarlyStopping counter: 1 out of 8\n",
      "[2023-11-30 17:11:52] - AUC score increased (0.612641 --> 0.614907).  Saving model ...\n"
     ]
    },
    {
     "data": {
      "application/vnd.jupyter.widget-view+json": {
       "model_id": "4a307023af594c70a8628628beff44fe",
       "version_major": 2,
       "version_minor": 0
      },
      "text/plain": [
       "  0%|          | 0/135 [00:00<?, ?it/s]"
      ]
     },
     "metadata": {},
     "output_type": "display_data"
    },
    {
     "name": "stderr",
     "output_type": "stream",
     "text": [
      "[2023-11-30 17:12:01] - openstack-msg_tf-random-1 - epoch:15, train_loss:0.6994232824749627, train_acc:0.5568485976957989, valid_loss:0.6760828365160766, valid_acc:0.3817504655493482, auc_score:0.6165017259443492\n",
      "[2023-11-30 17:12:01] - AUC score increased (0.614907 --> 0.616502).  Saving model ...\n"
     ]
    },
    {
     "data": {
      "application/vnd.jupyter.widget-view+json": {
       "model_id": "34820af89f9244168e6426e951f039c8",
       "version_major": 2,
       "version_minor": 0
      },
      "text/plain": [
       "  0%|          | 0/135 [00:00<?, ?it/s]"
      ]
     },
     "metadata": {},
     "output_type": "display_data"
    },
    {
     "name": "stderr",
     "output_type": "stream",
     "text": [
      "[2023-11-30 17:12:10] - openstack-msg_tf-random-1 - epoch:16, train_loss:0.6874063877250324, train_acc:0.5691842197137205, valid_loss:0.6786693072629818, valid_acc:0.35335195530726254, auc_score:0.6187245184431962\n",
      "[2023-11-30 17:12:10] - EarlyStopping counter: 1 out of 8\n",
      "[2023-11-30 17:12:10] - AUC score increased (0.616502 --> 0.618725).  Saving model ...\n"
     ]
    },
    {
     "data": {
      "application/vnd.jupyter.widget-view+json": {
       "model_id": "bebec0c8f72c4eb29ac59bd949871c09",
       "version_major": 2,
       "version_minor": 0
      },
      "text/plain": [
       "  0%|          | 0/135 [00:00<?, ?it/s]"
      ]
     },
     "metadata": {},
     "output_type": "display_data"
    },
    {
     "name": "stderr",
     "output_type": "stream",
     "text": [
      "[2023-11-30 17:12:19] - openstack-msg_tf-random-1 - epoch:17, train_loss:0.6903512461920993, train_acc:0.5421854998254393, valid_loss:0.6749768744411859, valid_acc:0.3957169459962756, auc_score:0.6198069720819577\n",
      "[2023-11-30 17:12:19] - AUC score increased (0.618725 --> 0.619807).  Saving model ...\n"
     ]
    },
    {
     "data": {
      "application/vnd.jupyter.widget-view+json": {
       "model_id": "5c9a4ca897f44ca58ce2f2c232f607c8",
       "version_major": 2,
       "version_minor": 0
      },
      "text/plain": [
       "  0%|          | 0/135 [00:00<?, ?it/s]"
      ]
     },
     "metadata": {},
     "output_type": "display_data"
    },
    {
     "name": "stderr",
     "output_type": "stream",
     "text": [
      "[2023-11-30 17:12:28] - openstack-msg_tf-random-1 - epoch:18, train_loss:0.6969140431079933, train_acc:0.55324101012452, valid_loss:0.672866779998694, valid_acc:0.425512104283054, auc_score:0.6213737320724646\n",
      "[2023-11-30 17:12:28] - AUC score increased (0.619807 --> 0.621374).  Saving model ...\n"
     ]
    },
    {
     "data": {
      "application/vnd.jupyter.widget-view+json": {
       "model_id": "8f245c67f3e94cfc90c5ca6f67476747",
       "version_major": 2,
       "version_minor": 0
      },
      "text/plain": [
       "  0%|          | 0/135 [00:00<?, ?it/s]"
      ]
     },
     "metadata": {},
     "output_type": "display_data"
    },
    {
     "name": "stderr",
     "output_type": "stream",
     "text": [
      "[2023-11-30 17:12:37] - openstack-msg_tf-random-1 - epoch:19, train_loss:0.6888040386935433, train_acc:0.5713953217735366, valid_loss:0.6769274088035526, valid_acc:0.37942271880819367, auc_score:0.624424283236247\n",
      "[2023-11-30 17:12:37] - EarlyStopping counter: 1 out of 8\n",
      "[2023-11-30 17:12:37] - AUC score increased (0.621374 --> 0.624424).  Saving model ...\n"
     ]
    },
    {
     "data": {
      "application/vnd.jupyter.widget-view+json": {
       "model_id": "6d446705584548408a47a71513ab56b0",
       "version_major": 2,
       "version_minor": 0
      },
      "text/plain": [
       "  0%|          | 0/135 [00:00<?, ?it/s]"
      ]
     },
     "metadata": {},
     "output_type": "display_data"
    },
    {
     "name": "stderr",
     "output_type": "stream",
     "text": [
      "[2023-11-30 17:12:46] - openstack-msg_tf-random-1 - epoch:20, train_loss:0.6885975158548905, train_acc:0.5597579425113465, valid_loss:0.675367453910785, valid_acc:0.3919925512104283, auc_score:0.6266779478531337\n",
      "[2023-11-30 17:12:46] - EarlyStopping counter: 2 out of 8\n",
      "[2023-11-30 17:12:46] - AUC score increased (0.624424 --> 0.626678).  Saving model ...\n"
     ]
    },
    {
     "data": {
      "application/vnd.jupyter.widget-view+json": {
       "model_id": "85daaacbc8094ab0a5f40548e1171ded",
       "version_major": 2,
       "version_minor": 0
      },
      "text/plain": [
       "  0%|          | 0/135 [00:00<?, ?it/s]"
      ]
     },
     "metadata": {},
     "output_type": "display_data"
    },
    {
     "name": "stderr",
     "output_type": "stream",
     "text": [
      "[2023-11-30 17:12:55] - openstack-msg_tf-random-1 - epoch:21, train_loss:0.6894732166346551, train_acc:0.5618526707785406, valid_loss:0.6724866501001895, valid_acc:0.41480446927374304, auc_score:0.6289412600069076\n",
      "[2023-11-30 17:12:55] - AUC score increased (0.626678 --> 0.628941).  Saving model ...\n"
     ]
    },
    {
     "data": {
      "application/vnd.jupyter.widget-view+json": {
       "model_id": "27f0acdc88b54e52b188df7c4a59016d",
       "version_major": 2,
       "version_minor": 0
      },
      "text/plain": [
       "  0%|          | 0/135 [00:00<?, ?it/s]"
      ]
     },
     "metadata": {},
     "output_type": "display_data"
    },
    {
     "name": "stderr",
     "output_type": "stream",
     "text": [
      "[2023-11-30 17:13:04] - openstack-msg_tf-random-1 - epoch:22, train_loss:0.6850038414837719, train_acc:0.5606889328523217, valid_loss:0.6714746982025701, valid_acc:0.4278398510242086, auc_score:0.6304771478793749\n",
      "[2023-11-30 17:13:04] - AUC score increased (0.628941 --> 0.630477).  Saving model ...\n"
     ]
    },
    {
     "data": {
      "application/vnd.jupyter.widget-view+json": {
       "model_id": "c49aee23ad10422a8d67a94a8454d2cb",
       "version_major": 2,
       "version_minor": 0
      },
      "text/plain": [
       "  0%|          | 0/135 [00:00<?, ?it/s]"
      ]
     },
     "metadata": {},
     "output_type": "display_data"
    },
    {
     "name": "stderr",
     "output_type": "stream",
     "text": [
      "[2023-11-30 17:13:13] - openstack-msg_tf-random-1 - epoch:23, train_loss:0.690800652457632, train_acc:0.5594088211334808, valid_loss:0.6746759045057457, valid_acc:0.39664804469273746, auc_score:0.6320419783625043\n",
      "[2023-11-30 17:13:13] - EarlyStopping counter: 1 out of 8\n",
      "[2023-11-30 17:13:13] - AUC score increased (0.630477 --> 0.632042).  Saving model ...\n"
     ]
    },
    {
     "data": {
      "application/vnd.jupyter.widget-view+json": {
       "model_id": "cbe732b02f204951a98e55bdbb944379",
       "version_major": 2,
       "version_minor": 0
      },
      "text/plain": [
       "  0%|          | 0/135 [00:00<?, ?it/s]"
      ]
     },
     "metadata": {},
     "output_type": "display_data"
    },
    {
     "name": "stderr",
     "output_type": "stream",
     "text": [
      "[2023-11-30 17:13:22] - openstack-msg_tf-random-1 - epoch:24, train_loss:0.6875052414561378, train_acc:0.5506807866868382, valid_loss:0.6726408325538067, valid_acc:0.41108007448789574, auc_score:0.6344114134220392\n",
      "[2023-11-30 17:13:22] - EarlyStopping counter: 2 out of 8\n",
      "[2023-11-30 17:13:22] - AUC score increased (0.632042 --> 0.634411).  Saving model ...\n"
     ]
    },
    {
     "data": {
      "application/vnd.jupyter.widget-view+json": {
       "model_id": "6d26077d6d0d4a0f98c7011d78948b21",
       "version_major": 2,
       "version_minor": 0
      },
      "text/plain": [
       "  0%|          | 0/135 [00:00<?, ?it/s]"
      ]
     },
     "metadata": {},
     "output_type": "display_data"
    },
    {
     "name": "stderr",
     "output_type": "stream",
     "text": [
      "[2023-11-30 17:13:31] - openstack-msg_tf-random-1 - epoch:25, train_loss:0.6768024275373083, train_acc:0.5763993948562783, valid_loss:0.671022920191177, valid_acc:0.4208566108007449, auc_score:0.6370143188742481\n",
      "[2023-11-30 17:13:31] - AUC score increased (0.634411 --> 0.637014).  Saving model ...\n"
     ]
    },
    {
     "data": {
      "application/vnd.jupyter.widget-view+json": {
       "model_id": "179b48b1a5cc4dafb25f0bd2c09a12c0",
       "version_major": 2,
       "version_minor": 0
      },
      "text/plain": [
       "  0%|          | 0/135 [00:00<?, ?it/s]"
      ]
     },
     "metadata": {},
     "output_type": "display_data"
    },
    {
     "name": "stderr",
     "output_type": "stream",
     "text": [
      "[2023-11-30 17:13:39] - openstack-msg_tf-random-1 - epoch:26, train_loss:0.6828454840409385, train_acc:0.5669731176539043, valid_loss:0.6693800741067811, valid_acc:0.43528864059590316, auc_score:0.6389554032959845\n",
      "[2023-11-30 17:13:39] - AUC score increased (0.637014 --> 0.638955).  Saving model ...\n"
     ]
    },
    {
     "data": {
      "application/vnd.jupyter.widget-view+json": {
       "model_id": "27e2af7e9a8741fca51806b49f5a3c8e",
       "version_major": 2,
       "version_minor": 0
      },
      "text/plain": [
       "  0%|          | 0/135 [00:00<?, ?it/s]"
      ]
     },
     "metadata": {},
     "output_type": "display_data"
    },
    {
     "name": "stderr",
     "output_type": "stream",
     "text": [
      "[2023-11-30 17:13:48] - openstack-msg_tf-random-1 - epoch:27, train_loss:0.6812098653882787, train_acc:0.5687187245432329, valid_loss:0.6691022038015796, valid_acc:0.4338919925512104, auc_score:0.6411801253022091\n",
      "[2023-11-30 17:13:48] - AUC score increased (0.638955 --> 0.641180).  Saving model ...\n"
     ]
    },
    {
     "data": {
      "application/vnd.jupyter.widget-view+json": {
       "model_id": "ec8c261d660b4f2d81e11291cc54e9a4",
       "version_major": 2,
       "version_minor": 0
      },
      "text/plain": [
       "  0%|          | 0/135 [00:00<?, ?it/s]"
      ]
     },
     "metadata": {},
     "output_type": "display_data"
    },
    {
     "name": "stderr",
     "output_type": "stream",
     "text": [
      "[2023-11-30 17:13:57] - openstack-msg_tf-random-1 - epoch:28, train_loss:0.6732075150224115, train_acc:0.5727918072849995, valid_loss:0.6669305836022233, valid_acc:0.4543761638733706, auc_score:0.6437270750404713\n",
      "[2023-11-30 17:13:57] - AUC score increased (0.641180 --> 0.643727).  Saving model ...\n"
     ]
    },
    {
     "data": {
      "application/vnd.jupyter.widget-view+json": {
       "model_id": "ad9551a536e0485fae406bd110d7a09f",
       "version_major": 2,
       "version_minor": 0
      },
      "text/plain": [
       "  0%|          | 0/135 [00:00<?, ?it/s]"
      ]
     },
     "metadata": {},
     "output_type": "display_data"
    },
    {
     "name": "stderr",
     "output_type": "stream",
     "text": [
      "[2023-11-30 17:14:06] - openstack-msg_tf-random-1 - epoch:29, train_loss:0.6781532187324789, train_acc:0.5718608169440242, valid_loss:0.6700714166159958, valid_acc:0.41201117318435754, auc_score:0.646561521377977\n",
      "[2023-11-30 17:14:06] - EarlyStopping counter: 1 out of 8\n",
      "[2023-11-30 17:14:06] - AUC score increased (0.643727 --> 0.646562).  Saving model ...\n"
     ]
    },
    {
     "data": {
      "application/vnd.jupyter.widget-view+json": {
       "model_id": "0a6970cc56d34310804ac1f6733eeee1",
       "version_major": 2,
       "version_minor": 0
      },
      "text/plain": [
       "  0%|          | 0/135 [00:00<?, ?it/s]"
      ]
     },
     "metadata": {},
     "output_type": "display_data"
    },
    {
     "name": "stderr",
     "output_type": "stream",
     "text": [
      "[2023-11-30 17:14:15] - openstack-msg_tf-random-1 - epoch:30, train_loss:0.6729033726357365, train_acc:0.5570813452810427, valid_loss:0.6640462291529281, valid_acc:0.4818435754189944, auc_score:0.6482942190029464\n",
      "[2023-11-30 17:14:15] - AUC score increased (0.646562 --> 0.648294).  Saving model ...\n"
     ]
    },
    {
     "data": {
      "application/vnd.jupyter.widget-view+json": {
       "model_id": "b898a17c6aff405ca54fbddb88d35f57",
       "version_major": 2,
       "version_minor": 0
      },
      "text/plain": [
       "  0%|          | 0/135 [00:00<?, ?it/s]"
      ]
     },
     "metadata": {},
     "output_type": "display_data"
    },
    {
     "name": "stderr",
     "output_type": "stream",
     "text": [
      "[2023-11-30 17:14:24] - openstack-msg_tf-random-1 - epoch:31, train_loss:0.6800868577858934, train_acc:0.5782613755382288, valid_loss:0.6667526266650337, valid_acc:0.4441340782122905, auc_score:0.6507350458354477\n",
      "[2023-11-30 17:14:24] - EarlyStopping counter: 1 out of 8\n",
      "[2023-11-30 17:14:24] - AUC score increased (0.648294 --> 0.650735).  Saving model ...\n"
     ]
    },
    {
     "data": {
      "application/vnd.jupyter.widget-view+json": {
       "model_id": "9d17202ba0404c6bae28d22848144ec2",
       "version_major": 2,
       "version_minor": 0
      },
      "text/plain": [
       "  0%|          | 0/135 [00:00<?, ?it/s]"
      ]
     },
     "metadata": {},
     "output_type": "display_data"
    },
    {
     "name": "stderr",
     "output_type": "stream",
     "text": [
      "[2023-11-30 17:14:33] - openstack-msg_tf-random-1 - epoch:32, train_loss:0.6705988426224033, train_acc:0.5821017106947516, valid_loss:0.664827863042359, valid_acc:0.4548417132216015, auc_score:0.6540113493623944\n",
      "[2023-11-30 17:14:33] - EarlyStopping counter: 2 out of 8\n",
      "[2023-11-30 17:14:33] - AUC score increased (0.650735 --> 0.654011).  Saving model ...\n"
     ]
    },
    {
     "data": {
      "application/vnd.jupyter.widget-view+json": {
       "model_id": "48f25fcfac174e1bb50d5d07f0b40433",
       "version_major": 2,
       "version_minor": 0
      },
      "text/plain": [
       "  0%|          | 0/135 [00:00<?, ?it/s]"
      ]
     },
     "metadata": {},
     "output_type": "display_data"
    },
    {
     "name": "stderr",
     "output_type": "stream",
     "text": [
      "[2023-11-30 17:14:42] - openstack-msg_tf-random-1 - epoch:33, train_loss:0.6732723257614628, train_acc:0.5639473990457349, valid_loss:0.6642341962295759, valid_acc:0.4590316573556797, auc_score:0.6565438277953256\n",
      "[2023-11-30 17:14:42] - EarlyStopping counter: 3 out of 8\n",
      "[2023-11-30 17:14:42] - AUC score increased (0.654011 --> 0.656544).  Saving model ...\n"
     ]
    },
    {
     "data": {
      "application/vnd.jupyter.widget-view+json": {
       "model_id": "5f0e58f4baa243ed9390e6cc075bbe4e",
       "version_major": 2,
       "version_minor": 0
      },
      "text/plain": [
       "  0%|          | 0/135 [00:00<?, ?it/s]"
      ]
     },
     "metadata": {},
     "output_type": "display_data"
    },
    {
     "name": "stderr",
     "output_type": "stream",
     "text": [
      "[2023-11-30 17:14:51] - openstack-msg_tf-random-1 - epoch:34, train_loss:0.6692365530718334, train_acc:0.5710462003956709, valid_loss:0.6621882056390773, valid_acc:0.4702048417132216, auc_score:0.659842320657113\n",
      "[2023-11-30 17:14:51] - AUC score increased (0.656544 --> 0.659842).  Saving model ...\n"
     ]
    },
    {
     "data": {
      "application/vnd.jupyter.widget-view+json": {
       "model_id": "ee41c16bd4ab47e5a09c5a9d55e6999c",
       "version_major": 2,
       "version_minor": 0
      },
      "text/plain": [
       "  0%|          | 0/135 [00:00<?, ?it/s]"
      ]
     },
     "metadata": {},
     "output_type": "display_data"
    },
    {
     "name": "stderr",
     "output_type": "stream",
     "text": [
      "[2023-11-30 17:15:00] - openstack-msg_tf-random-1 - epoch:35, train_loss:0.6686830526733931, train_acc:0.589782381007797, valid_loss:0.6643643600092698, valid_acc:0.4473929236499069, auc_score:0.6628118325110416\n",
      "[2023-11-30 17:15:00] - EarlyStopping counter: 1 out of 8\n",
      "[2023-11-30 17:15:00] - AUC score increased (0.659842 --> 0.662812).  Saving model ...\n"
     ]
    },
    {
     "data": {
      "application/vnd.jupyter.widget-view+json": {
       "model_id": "36ec30c565c047b19c43589b2e1e23a4",
       "version_major": 2,
       "version_minor": 0
      },
      "text/plain": [
       "  0%|          | 0/135 [00:00<?, ?it/s]"
      ]
     },
     "metadata": {},
     "output_type": "display_data"
    },
    {
     "name": "stderr",
     "output_type": "stream",
     "text": [
      "[2023-11-30 17:15:09] - openstack-msg_tf-random-1 - epoch:36, train_loss:0.6673435796740224, train_acc:0.5665076224834167, valid_loss:0.6604577452776819, valid_acc:0.4767225325884544, auc_score:0.6664142227847808\n",
      "[2023-11-30 17:15:09] - AUC score increased (0.662812 --> 0.666414).  Saving model ...\n"
     ]
    },
    {
     "data": {
      "application/vnd.jupyter.widget-view+json": {
       "model_id": "b26258ec642a40bd8b5561dbd1ba9a31",
       "version_major": 2,
       "version_minor": 0
      },
      "text/plain": [
       "  0%|          | 0/135 [00:00<?, ?it/s]"
      ]
     },
     "metadata": {},
     "output_type": "display_data"
    },
    {
     "name": "stderr",
     "output_type": "stream",
     "text": [
      "[2023-11-30 17:15:18] - openstack-msg_tf-random-1 - epoch:37, train_loss:0.65944496070799, train_acc:0.5974630513208425, valid_loss:0.6591357878466558, valid_acc:0.47718808193668527, auc_score:0.6698969836011167\n",
      "[2023-11-30 17:15:18] - AUC score increased (0.666414 --> 0.669897).  Saving model ...\n"
     ]
    },
    {
     "data": {
      "application/vnd.jupyter.widget-view+json": {
       "model_id": "739115ec5bb54843978da246ce9b4853",
       "version_major": 2,
       "version_minor": 0
      },
      "text/plain": [
       "  0%|          | 0/135 [00:00<?, ?it/s]"
      ]
     },
     "metadata": {},
     "output_type": "display_data"
    },
    {
     "name": "stderr",
     "output_type": "stream",
     "text": [
      "[2023-11-30 17:15:26] - openstack-msg_tf-random-1 - epoch:38, train_loss:0.6612412266968211, train_acc:0.5936227161643198, valid_loss:0.6531269342761687, valid_acc:0.5330540037243948, auc_score:0.6731539920542886\n",
      "[2023-11-30 17:15:26] - AUC score increased (0.669897 --> 0.673154).  Saving model ...\n"
     ]
    },
    {
     "data": {
      "application/vnd.jupyter.widget-view+json": {
       "model_id": "faaadcce0f3040389854ec1283566ca0",
       "version_major": 2,
       "version_minor": 0
      },
      "text/plain": [
       "  0%|          | 0/135 [00:00<?, ?it/s]"
      ]
     },
     "metadata": {},
     "output_type": "display_data"
    },
    {
     "name": "stderr",
     "output_type": "stream",
     "text": [
      "[2023-11-30 17:15:35] - openstack-msg_tf-random-1 - epoch:39, train_loss:0.6561508208884358, train_acc:0.6096822995461422, valid_loss:0.6530790463284185, valid_acc:0.5176908752327747, auc_score:0.6767370872542531\n",
      "[2023-11-30 17:15:35] - AUC score increased (0.673154 --> 0.676737).  Saving model ...\n"
     ]
    },
    {
     "data": {
      "application/vnd.jupyter.widget-view+json": {
       "model_id": "36971a9a71db4283ae40a801f93a7d77",
       "version_major": 2,
       "version_minor": 0
      },
      "text/plain": [
       "  0%|          | 0/135 [00:00<?, ?it/s]"
      ]
     },
     "metadata": {},
     "output_type": "display_data"
    },
    {
     "name": "stderr",
     "output_type": "stream",
     "text": [
      "[2023-11-30 17:15:44] - openstack-msg_tf-random-1 - epoch:40, train_loss:0.6587050897229139, train_acc:0.5949028278831607, valid_loss:0.6500978140191659, valid_acc:0.5386405959031657, auc_score:0.6797509777778636\n",
      "[2023-11-30 17:15:44] - AUC score increased (0.676737 --> 0.679751).  Saving model ...\n"
     ]
    },
    {
     "data": {
      "application/vnd.jupyter.widget-view+json": {
       "model_id": "b67e208439b14c99b4de92193095063a",
       "version_major": 2,
       "version_minor": 0
      },
      "text/plain": [
       "  0%|          | 0/135 [00:00<?, ?it/s]"
      ]
     },
     "metadata": {},
     "output_type": "display_data"
    },
    {
     "name": "stderr",
     "output_type": "stream",
     "text": [
      "[2023-11-30 17:15:53] - openstack-msg_tf-random-1 - epoch:41, train_loss:0.658012710751858, train_acc:0.5981612940765739, valid_loss:0.6481525789204035, valid_acc:0.5581936685288641, auc_score:0.6822689849054638\n",
      "[2023-11-30 17:15:53] - AUC score increased (0.679751 --> 0.682269).  Saving model ...\n"
     ]
    },
    {
     "data": {
      "application/vnd.jupyter.widget-view+json": {
       "model_id": "a5a78bdb7d8f4bc2af21adf712f5a876",
       "version_major": 2,
       "version_minor": 0
      },
      "text/plain": [
       "  0%|          | 0/135 [00:00<?, ?it/s]"
      ]
     },
     "metadata": {},
     "output_type": "display_data"
    },
    {
     "name": "stderr",
     "output_type": "stream",
     "text": [
      "[2023-11-30 17:16:02] - openstack-msg_tf-random-1 - epoch:42, train_loss:0.6486153587270612, train_acc:0.6156173629698591, valid_loss:0.6507250346950979, valid_acc:0.5148975791433892, auc_score:0.6856514113381713\n",
      "[2023-11-30 17:16:02] - EarlyStopping counter: 1 out of 8\n",
      "[2023-11-30 17:16:02] - AUC score increased (0.682269 --> 0.685651).  Saving model ...\n"
     ]
    },
    {
     "data": {
      "application/vnd.jupyter.widget-view+json": {
       "model_id": "a2cfebc6c7d9494e88727c88d629a171",
       "version_major": 2,
       "version_minor": 0
      },
      "text/plain": [
       "  0%|          | 0/135 [00:00<?, ?it/s]"
      ]
     },
     "metadata": {},
     "output_type": "display_data"
    },
    {
     "name": "stderr",
     "output_type": "stream",
     "text": [
      "[2023-11-30 17:16:11] - openstack-msg_tf-random-1 - epoch:43, train_loss:0.6452765693198979, train_acc:0.6009542650994996, valid_loss:0.6440681633114593, valid_acc:0.5865921787709497, auc_score:0.6888871952101909\n",
      "[2023-11-30 17:16:11] - AUC score increased (0.685651 --> 0.688887).  Saving model ...\n"
     ]
    },
    {
     "data": {
      "application/vnd.jupyter.widget-view+json": {
       "model_id": "9e433f7d06e54189bc157c0a06f18a92",
       "version_major": 2,
       "version_minor": 0
      },
      "text/plain": [
       "  0%|          | 0/135 [00:00<?, ?it/s]"
      ]
     },
     "metadata": {},
     "output_type": "display_data"
    },
    {
     "name": "stderr",
     "output_type": "stream",
     "text": [
      "[2023-11-30 17:16:20] - openstack-msg_tf-random-1 - epoch:44, train_loss:0.6428419360248282, train_acc:0.6303968346328407, valid_loss:0.6430799640312763, valid_acc:0.5861266294227188, auc_score:0.6920236094522708\n",
      "[2023-11-30 17:16:20] - AUC score increased (0.688887 --> 0.692024).  Saving model ...\n"
     ]
    },
    {
     "data": {
      "application/vnd.jupyter.widget-view+json": {
       "model_id": "65eb1c24ce1d4fb6a82b881f7d4bcd14",
       "version_major": 2,
       "version_minor": 0
      },
      "text/plain": [
       "  0%|          | 0/135 [00:00<?, ?it/s]"
      ]
     },
     "metadata": {},
     "output_type": "display_data"
    },
    {
     "name": "stderr",
     "output_type": "stream",
     "text": [
      "[2023-11-30 17:16:29] - openstack-msg_tf-random-1 - epoch:45, train_loss:0.6390077741421047, train_acc:0.6287676015361341, valid_loss:0.6408821231160085, valid_acc:0.6103351955307262, auc_score:0.6948146418737833\n",
      "[2023-11-30 17:16:29] - AUC score increased (0.692024 --> 0.694815).  Saving model ...\n"
     ]
    },
    {
     "data": {
      "application/vnd.jupyter.widget-view+json": {
       "model_id": "39f96570cecc49ab9797dec3dfb5e2c3",
       "version_major": 2,
       "version_minor": 0
      },
      "text/plain": [
       "  0%|          | 0/135 [00:00<?, ?it/s]"
      ]
     },
     "metadata": {},
     "output_type": "display_data"
    },
    {
     "name": "stderr",
     "output_type": "stream",
     "text": [
      "[2023-11-30 17:16:38] - openstack-msg_tf-random-1 - epoch:46, train_loss:0.6417033423662158, train_acc:0.6305132084254625, valid_loss:0.638868837494202, valid_acc:0.6126629422718808, auc_score:0.6981372535777891\n",
      "[2023-11-30 17:16:38] - AUC score increased (0.694815 --> 0.698137).  Saving model ...\n"
     ]
    },
    {
     "data": {
      "application/vnd.jupyter.widget-view+json": {
       "model_id": "39c41d1b07984e4fbf801f37bba7ac2b",
       "version_major": 2,
       "version_minor": 0
      },
      "text/plain": [
       "  0%|          | 0/135 [00:00<?, ?it/s]"
      ]
     },
     "metadata": {},
     "output_type": "display_data"
    },
    {
     "name": "stderr",
     "output_type": "stream",
     "text": [
      "[2023-11-30 17:16:47] - openstack-msg_tf-random-1 - epoch:47, train_loss:0.6363219567190348, train_acc:0.6357500290934481, valid_loss:0.6367066409334791, valid_acc:0.6354748603351955, auc_score:0.7005915869619328\n",
      "[2023-11-30 17:16:47] - AUC score increased (0.698137 --> 0.700592).  Saving model ...\n"
     ]
    },
    {
     "data": {
      "application/vnd.jupyter.widget-view+json": {
       "model_id": "0d95828e31494084add9332eb5b0ce07",
       "version_major": 2,
       "version_minor": 0
      },
      "text/plain": [
       "  0%|          | 0/135 [00:00<?, ?it/s]"
      ]
     },
     "metadata": {},
     "output_type": "display_data"
    },
    {
     "name": "stderr",
     "output_type": "stream",
     "text": [
      "[2023-11-30 17:16:56] - openstack-msg_tf-random-1 - epoch:48, train_loss:0.6343402030109235, train_acc:0.6277202374025369, valid_loss:0.6341735864928759, valid_acc:0.6410614525139665, auc_score:0.7039180576806935\n",
      "[2023-11-30 17:16:56] - AUC score increased (0.700592 --> 0.703918).  Saving model ...\n"
     ]
    },
    {
     "data": {
      "application/vnd.jupyter.widget-view+json": {
       "model_id": "703f27f933004be68c30a52a78429e92",
       "version_major": 2,
       "version_minor": 0
      },
      "text/plain": [
       "  0%|          | 0/135 [00:00<?, ?it/s]"
      ]
     },
     "metadata": {},
     "output_type": "display_data"
    },
    {
     "name": "stderr",
     "output_type": "stream",
     "text": [
      "[2023-11-30 17:17:05] - openstack-msg_tf-random-1 - epoch:49, train_loss:0.6298222570179034, train_acc:0.6419178401024089, valid_loss:0.6336207929270228, valid_acc:0.6270949720670391, auc_score:0.7057588077188013\n",
      "[2023-11-30 17:17:05] - AUC score increased (0.703918 --> 0.705759).  Saving model ...\n"
     ]
    },
    {
     "data": {
      "application/vnd.jupyter.widget-view+json": {
       "model_id": "2a9e85455df04d65b77b1f717c5ff6e3",
       "version_major": 2,
       "version_minor": 0
      },
      "text/plain": [
       "  0%|          | 0/135 [00:00<?, ?it/s]"
      ]
     },
     "metadata": {},
     "output_type": "display_data"
    },
    {
     "name": "stderr",
     "output_type": "stream",
     "text": [
      "[2023-11-30 17:17:14] - openstack-msg_tf-random-1 - epoch:50, train_loss:0.6285527175940278, train_acc:0.6507622483416735, valid_loss:0.6317484231190531, valid_acc:0.6652700186219739, auc_score:0.7079044199225496\n",
      "[2023-11-30 17:17:14] - AUC score increased (0.705759 --> 0.707904).  Saving model ...\n"
     ]
    },
    {
     "data": {
      "application/vnd.jupyter.widget-view+json": {
       "model_id": "25b8f62ff25a43e88896fb0c2516a377",
       "version_major": 2,
       "version_minor": 0
      },
      "text/plain": [
       "  0%|          | 0/135 [00:00<?, ?it/s]"
      ]
     },
     "metadata": {},
     "output_type": "display_data"
    },
    {
     "name": "stderr",
     "output_type": "stream",
     "text": [
      "[2023-11-30 17:17:23] - openstack-msg_tf-random-1 - epoch:51, train_loss:0.6240077454761064, train_acc:0.6450599325032003, valid_loss:0.6300415573173395, valid_acc:0.6568901303538175, auc_score:0.7097837601082068\n",
      "[2023-11-30 17:17:23] - AUC score increased (0.707904 --> 0.709784).  Saving model ...\n"
     ]
    },
    {
     "data": {
      "application/vnd.jupyter.widget-view+json": {
       "model_id": "0614864b8f7a489d8b66847b10285c92",
       "version_major": 2,
       "version_minor": 0
      },
      "text/plain": [
       "  0%|          | 0/135 [00:00<?, ?it/s]"
      ]
     },
     "metadata": {},
     "output_type": "display_data"
    },
    {
     "name": "stderr",
     "output_type": "stream",
     "text": [
      "[2023-11-30 17:17:32] - openstack-msg_tf-random-1 - epoch:52, train_loss:0.626067022415502, train_acc:0.6482020249039916, valid_loss:0.6296694013437524, valid_acc:0.6391992551210428, auc_score:0.7113910397536405\n",
      "[2023-11-30 17:17:32] - AUC score increased (0.709784 --> 0.711391).  Saving model ...\n"
     ]
    },
    {
     "data": {
      "application/vnd.jupyter.widget-view+json": {
       "model_id": "ea8862bf77a14ec58bbca7d9cfd2b01d",
       "version_major": 2,
       "version_minor": 0
      },
      "text/plain": [
       "  0%|          | 0/135 [00:00<?, ?it/s]"
      ]
     },
     "metadata": {},
     "output_type": "display_data"
    },
    {
     "name": "stderr",
     "output_type": "stream",
     "text": [
      "[2023-11-30 17:17:40] - openstack-msg_tf-random-1 - epoch:53, train_loss:0.6209437099877079, train_acc:0.6463400442220412, valid_loss:0.6310331989045028, valid_acc:0.7001862197392924, auc_score:0.7128246637351018\n",
      "[2023-11-30 17:17:40] - EarlyStopping counter: 1 out of 8\n",
      "[2023-11-30 17:17:40] - AUC score increased (0.711391 --> 0.712825).  Saving model ...\n"
     ]
    },
    {
     "data": {
      "application/vnd.jupyter.widget-view+json": {
       "model_id": "f401311eb63d496285d249d9dfd53d87",
       "version_major": 2,
       "version_minor": 0
      },
      "text/plain": [
       "  0%|          | 0/135 [00:00<?, ?it/s]"
      ]
     },
     "metadata": {},
     "output_type": "display_data"
    },
    {
     "name": "stderr",
     "output_type": "stream",
     "text": [
      "[2023-11-30 17:17:49] - openstack-msg_tf-random-1 - epoch:54, train_loss:0.6163108568106627, train_acc:0.6722913999767253, valid_loss:0.6292782216098721, valid_acc:0.6615456238361266, auc_score:0.7139765796394523\n",
      "[2023-11-30 17:17:49] - AUC score increased (0.712825 --> 0.713977).  Saving model ...\n"
     ]
    },
    {
     "data": {
      "application/vnd.jupyter.widget-view+json": {
       "model_id": "7463dc8a77fd431a9be7ea51caa95490",
       "version_major": 2,
       "version_minor": 0
      },
      "text/plain": [
       "  0%|          | 0/135 [00:00<?, ?it/s]"
      ]
     },
     "metadata": {},
     "output_type": "display_data"
    },
    {
     "name": "stderr",
     "output_type": "stream",
     "text": [
      "[2023-11-30 17:17:58] - openstack-msg_tf-random-1 - epoch:55, train_loss:0.6112174133503657, train_acc:0.6734551379029443, valid_loss:0.6299840085333286, valid_acc:0.6689944134078212, auc_score:0.7147869727379902\n",
      "[2023-11-30 17:17:58] - EarlyStopping counter: 1 out of 8\n",
      "[2023-11-30 17:17:58] - AUC score increased (0.713977 --> 0.714787).  Saving model ...\n"
     ]
    },
    {
     "data": {
      "application/vnd.jupyter.widget-view+json": {
       "model_id": "84dd8c5d04ef490994165c2c28a96b58",
       "version_major": 2,
       "version_minor": 0
      },
      "text/plain": [
       "  0%|          | 0/135 [00:00<?, ?it/s]"
      ]
     },
     "metadata": {},
     "output_type": "display_data"
    },
    {
     "name": "stderr",
     "output_type": "stream",
     "text": [
      "[2023-11-30 17:18:07] - openstack-msg_tf-random-1 - epoch:56, train_loss:0.6076283816421155, train_acc:0.6682183172349587, valid_loss:0.629666811594084, valid_acc:0.6689944134078212, auc_score:0.7158887214505265\n",
      "[2023-11-30 17:18:07] - EarlyStopping counter: 2 out of 8\n",
      "[2023-11-30 17:18:07] - AUC score increased (0.714787 --> 0.715889).  Saving model ...\n"
     ]
    },
    {
     "data": {
      "application/vnd.jupyter.widget-view+json": {
       "model_id": "9c4792072db84677b81f5d71dab2dc41",
       "version_major": 2,
       "version_minor": 0
      },
      "text/plain": [
       "  0%|          | 0/135 [00:00<?, ?it/s]"
      ]
     },
     "metadata": {},
     "output_type": "display_data"
    },
    {
     "name": "stderr",
     "output_type": "stream",
     "text": [
      "[2023-11-30 17:18:16] - openstack-msg_tf-random-1 - epoch:57, train_loss:0.6034673207383016, train_acc:0.6770627254742232, valid_loss:0.6315153720658585, valid_acc:0.6680633147113594, auc_score:0.7164772212006553\n",
      "[2023-11-30 17:18:16] - EarlyStopping counter: 3 out of 8\n",
      "[2023-11-30 17:18:16] - AUC score increased (0.715889 --> 0.716477).  Saving model ...\n"
     ]
    },
    {
     "data": {
      "application/vnd.jupyter.widget-view+json": {
       "model_id": "057a024c44614f39a4f863bb326b93e2",
       "version_major": 2,
       "version_minor": 0
      },
      "text/plain": [
       "  0%|          | 0/135 [00:00<?, ?it/s]"
      ]
     },
     "metadata": {},
     "output_type": "display_data"
    },
    {
     "name": "stderr",
     "output_type": "stream",
     "text": [
      "[2023-11-30 17:18:26] - openstack-msg_tf-random-1 - epoch:58, train_loss:0.5996900882693756, train_acc:0.6745025020365414, valid_loss:0.6326787838056767, valid_acc:0.6913407821229051, auc_score:0.7174554814410332\n",
      "[2023-11-30 17:18:26] - EarlyStopping counter: 4 out of 8\n",
      "[2023-11-30 17:18:26] - AUC score increased (0.716477 --> 0.717455).  Saving model ...\n"
     ]
    },
    {
     "data": {
      "application/vnd.jupyter.widget-view+json": {
       "model_id": "6ae4c2b303a74e0fb116fc5f4a0b20b0",
       "version_major": 2,
       "version_minor": 0
      },
      "text/plain": [
       "  0%|          | 0/135 [00:00<?, ?it/s]"
      ]
     },
     "metadata": {},
     "output_type": "display_data"
    },
    {
     "name": "stderr",
     "output_type": "stream",
     "text": [
      "[2023-11-30 17:18:35] - openstack-msg_tf-random-1 - epoch:59, train_loss:0.5992682717682444, train_acc:0.6767136040963575, valid_loss:0.6350598787018262, valid_acc:0.7081005586592178, auc_score:0.718723167788032\n",
      "[2023-11-30 17:18:35] - EarlyStopping counter: 5 out of 8\n",
      "[2023-11-30 17:18:35] - AUC score increased (0.717455 --> 0.718723).  Saving model ...\n"
     ]
    },
    {
     "data": {
      "application/vnd.jupyter.widget-view+json": {
       "model_id": "f4edc1a2bb144581a3accdf28afdb958",
       "version_major": 2,
       "version_minor": 0
      },
      "text/plain": [
       "  0%|          | 0/135 [00:00<?, ?it/s]"
      ]
     },
     "metadata": {},
     "output_type": "display_data"
    },
    {
     "name": "stderr",
     "output_type": "stream",
     "text": [
      "[2023-11-30 17:18:44] - openstack-msg_tf-random-1 - epoch:60, train_loss:0.6013513631389511, train_acc:0.6812521820086117, valid_loss:0.6394651607650175, valid_acc:0.7243947858472998, auc_score:0.7194602396062262\n",
      "[2023-11-30 17:18:44] - EarlyStopping counter: 6 out of 8\n",
      "[2023-11-30 17:18:44] - AUC score increased (0.718723 --> 0.719460).  Saving model ...\n"
     ]
    },
    {
     "data": {
      "application/vnd.jupyter.widget-view+json": {
       "model_id": "5f24d904406040d7946db5c1aa2abc03",
       "version_major": 2,
       "version_minor": 0
      },
      "text/plain": [
       "  0%|          | 0/135 [00:00<?, ?it/s]"
      ]
     },
     "metadata": {},
     "output_type": "display_data"
    },
    {
     "name": "stderr",
     "output_type": "stream",
     "text": [
      "[2023-11-30 17:18:52] - openstack-msg_tf-random-1 - epoch:61, train_loss:0.6017389482548999, train_acc:0.6828814151053183, valid_loss:0.6512989063280699, valid_acc:0.7583798882681564, auc_score:0.7198712246776275\n",
      "[2023-11-30 17:18:52] - EarlyStopping counter: 7 out of 8\n",
      "[2023-11-30 17:18:52] - AUC score increased (0.719460 --> 0.719871).  Saving model ...\n"
     ]
    },
    {
     "data": {
      "application/vnd.jupyter.widget-view+json": {
       "model_id": "8b54d3a469a34de29e67c1a7b16a1fe0",
       "version_major": 2,
       "version_minor": 0
      },
      "text/plain": [
       "  0%|          | 0/135 [00:00<?, ?it/s]"
      ]
     },
     "metadata": {},
     "output_type": "display_data"
    },
    {
     "name": "stderr",
     "output_type": "stream",
     "text": [
      "[2023-11-30 17:19:01] - openstack-msg_tf-random-1 - epoch:62, train_loss:0.5862212102016137, train_acc:0.6999883626207378, valid_loss:0.6455271151922712, valid_acc:0.7346368715083799, auc_score:0.7206005784663118\n",
      "[2023-11-30 17:19:01] - EarlyStopping counter: 8 out of 8\n",
      "[2023-11-30 17:19:01] - AUC score increased (0.719871 --> 0.720601).  Saving model ...\n",
      "[2023-11-30 17:19:02] - Early Stopping\n",
      "[2023-11-30 17:19:04] - openstack-msg_tf fold 1 - end training - score 0.5264970775669133\n",
      "[2023-11-30 17:19:04] - openstack-msg_tf fold 2 - start training\n"
     ]
    },
    {
     "name": "stdout",
     "output_type": "stream",
     "text": [
      "torch.Size([2148, 512]) torch.Size([2148, 512])\n"
     ]
    },
    {
     "data": {
      "application/vnd.jupyter.widget-view+json": {
       "model_id": "ff9c90b231344c9e8652d001838f6d21",
       "version_major": 2,
       "version_minor": 0
      },
      "text/plain": [
       "  0%|          | 0/135 [00:00<?, ?it/s]"
      ]
     },
     "metadata": {},
     "output_type": "display_data"
    },
    {
     "name": "stderr",
     "output_type": "stream",
     "text": [
      "[2023-11-30 17:19:13] - openstack-msg_tf-random-2 - epoch:0, train_loss:0.7617306487428203, train_acc:0.4546724077737693, valid_loss:0.6819352953793616, valid_acc:0.6471135940409684, auc_score:0.57487453378278\n",
      "[2023-11-30 17:19:13] - AUC score increased (0.000000 --> 0.574875).  Saving model ...\n"
     ]
    },
    {
     "data": {
      "application/vnd.jupyter.widget-view+json": {
       "model_id": "0c75f8c9d021443eb0e3fd52bc531a85",
       "version_major": 2,
       "version_minor": 0
      },
      "text/plain": [
       "  0%|          | 0/135 [00:00<?, ?it/s]"
      ]
     },
     "metadata": {},
     "output_type": "display_data"
    },
    {
     "name": "stderr",
     "output_type": "stream",
     "text": [
      "[2023-11-30 17:19:22] - openstack-msg_tf-random-2 - epoch:1, train_loss:0.7399008331997464, train_acc:0.5348539508902596, valid_loss:0.6804864022540869, valid_acc:0.5288640595903166, auc_score:0.5793895810460632\n",
      "[2023-11-30 17:19:22] - AUC score increased (0.574875 --> 0.579390).  Saving model ...\n"
     ]
    },
    {
     "data": {
      "application/vnd.jupyter.widget-view+json": {
       "model_id": "f8936e0bb57341a78183cd6d136dc784",
       "version_major": 2,
       "version_minor": 0
      },
      "text/plain": [
       "  0%|          | 0/135 [00:00<?, ?it/s]"
      ]
     },
     "metadata": {},
     "output_type": "display_data"
    },
    {
     "name": "stderr",
     "output_type": "stream",
     "text": [
      "[2023-11-30 17:19:31] - openstack-msg_tf-random-2 - epoch:2, train_loss:0.7408790103245791, train_acc:0.5327592226230653, valid_loss:0.676917805241029, valid_acc:0.6033519553072626, auc_score:0.5839297119052536\n",
      "[2023-11-30 17:19:31] - AUC score increased (0.579390 --> 0.583930).  Saving model ...\n"
     ]
    },
    {
     "data": {
      "application/vnd.jupyter.widget-view+json": {
       "model_id": "738036c68dc84a3aa19af6f056c27848",
       "version_major": 2,
       "version_minor": 0
      },
      "text/plain": [
       "  0%|          | 0/135 [00:00<?, ?it/s]"
      ]
     },
     "metadata": {},
     "output_type": "display_data"
    },
    {
     "name": "stderr",
     "output_type": "stream",
     "text": [
      "[2023-11-30 17:19:40] - openstack-msg_tf-random-2 - epoch:3, train_loss:0.7421170712127739, train_acc:0.5258931688583731, valid_loss:0.6783759956919281, valid_acc:0.4511173184357542, auc_score:0.5881784871504456\n",
      "[2023-11-30 17:19:40] - EarlyStopping counter: 1 out of 8\n",
      "[2023-11-30 17:19:40] - AUC score increased (0.583930 --> 0.588178).  Saving model ...\n"
     ]
    },
    {
     "data": {
      "application/vnd.jupyter.widget-view+json": {
       "model_id": "ac52f593f0b543a1ae5313473875b8af",
       "version_major": 2,
       "version_minor": 0
      },
      "text/plain": [
       "  0%|          | 0/135 [00:00<?, ?it/s]"
      ]
     },
     "metadata": {},
     "output_type": "display_data"
    },
    {
     "name": "stderr",
     "output_type": "stream",
     "text": [
      "[2023-11-30 17:19:49] - openstack-msg_tf-random-2 - epoch:4, train_loss:0.7334849479644329, train_acc:0.5183288723379494, valid_loss:0.6748696392474893, valid_acc:0.5297951582867784, auc_score:0.591802102005337\n",
      "[2023-11-30 17:19:49] - AUC score increased (0.588178 --> 0.591802).  Saving model ...\n"
     ]
    },
    {
     "data": {
      "application/vnd.jupyter.widget-view+json": {
       "model_id": "ebf6f987b4a04b558c5d002dba77c409",
       "version_major": 2,
       "version_minor": 0
      },
      "text/plain": [
       "  0%|          | 0/135 [00:00<?, ?it/s]"
      ]
     },
     "metadata": {},
     "output_type": "display_data"
    },
    {
     "name": "stderr",
     "output_type": "stream",
     "text": [
      "[2023-11-30 17:19:58] - openstack-msg_tf-random-2 - epoch:5, train_loss:0.7293651312898316, train_acc:0.539043407424648, valid_loss:0.6734234295521813, valid_acc:0.5665735567970205, auc_score:0.5942197747493086\n",
      "[2023-11-30 17:19:58] - AUC score increased (0.591802 --> 0.594220).  Saving model ...\n"
     ]
    },
    {
     "data": {
      "application/vnd.jupyter.widget-view+json": {
       "model_id": "e1767b20c9f841bd85600a342b26032d",
       "version_major": 2,
       "version_minor": 0
      },
      "text/plain": [
       "  0%|          | 0/135 [00:00<?, ?it/s]"
      ]
     },
     "metadata": {},
     "output_type": "display_data"
    },
    {
     "name": "stderr",
     "output_type": "stream",
     "text": [
      "[2023-11-30 17:20:07] - openstack-msg_tf-random-2 - epoch:6, train_loss:0.7235799328309477, train_acc:0.5581287094146399, valid_loss:0.6746470210050516, valid_acc:0.4655493482309125, auc_score:0.5958482789758948\n",
      "[2023-11-30 17:20:07] - EarlyStopping counter: 1 out of 8\n",
      "[2023-11-30 17:20:07] - AUC score increased (0.594220 --> 0.595848).  Saving model ...\n"
     ]
    },
    {
     "data": {
      "application/vnd.jupyter.widget-view+json": {
       "model_id": "619bc2d4ce104542aeb94636a90faf07",
       "version_major": 2,
       "version_minor": 0
      },
      "text/plain": [
       "  0%|          | 0/135 [00:00<?, ?it/s]"
      ]
     },
     "metadata": {},
     "output_type": "display_data"
    },
    {
     "name": "stderr",
     "output_type": "stream",
     "text": [
      "[2023-11-30 17:20:15] - openstack-msg_tf-random-2 - epoch:7, train_loss:0.7120710611967661, train_acc:0.5443966018852554, valid_loss:0.6735776772712196, valid_acc:0.47998137802607077, auc_score:0.5970503620720594\n",
      "[2023-11-30 17:20:15] - EarlyStopping counter: 2 out of 8\n",
      "[2023-11-30 17:20:15] - AUC score increased (0.595848 --> 0.597050).  Saving model ...\n"
     ]
    },
    {
     "data": {
      "application/vnd.jupyter.widget-view+json": {
       "model_id": "8a2cc9f1087a43feb57c2d9b03b7f01a",
       "version_major": 2,
       "version_minor": 0
      },
      "text/plain": [
       "  0%|          | 0/135 [00:00<?, ?it/s]"
      ]
     },
     "metadata": {},
     "output_type": "display_data"
    },
    {
     "name": "stderr",
     "output_type": "stream",
     "text": [
      "[2023-11-30 17:20:24] - openstack-msg_tf-random-2 - epoch:8, train_loss:0.7154351001802429, train_acc:0.5412545094844641, valid_loss:0.6725759509555455, valid_acc:0.5041899441340782, auc_score:0.5976195667484134\n",
      "[2023-11-30 17:20:24] - AUC score increased (0.597050 --> 0.597620).  Saving model ...\n"
     ]
    },
    {
     "data": {
      "application/vnd.jupyter.widget-view+json": {
       "model_id": "ada922b4fd234410ba3f590d192dd5f4",
       "version_major": 2,
       "version_minor": 0
      },
      "text/plain": [
       "  0%|          | 0/135 [00:00<?, ?it/s]"
      ]
     },
     "metadata": {},
     "output_type": "display_data"
    },
    {
     "name": "stderr",
     "output_type": "stream",
     "text": [
      "[2023-11-30 17:20:33] - openstack-msg_tf-random-2 - epoch:9, train_loss:0.713625665151045, train_acc:0.5568485976957989, valid_loss:0.6718769642893828, valid_acc:0.5144320297951583, auc_score:0.5989412793019814\n",
      "[2023-11-30 17:20:33] - AUC score increased (0.597620 --> 0.598941).  Saving model ...\n"
     ]
    },
    {
     "data": {
      "application/vnd.jupyter.widget-view+json": {
       "model_id": "c170c69bfea04526b8d1c1f6af224ef6",
       "version_major": 2,
       "version_minor": 0
      },
      "text/plain": [
       "  0%|          | 0/135 [00:00<?, ?it/s]"
      ]
     },
     "metadata": {},
     "output_type": "display_data"
    },
    {
     "name": "stderr",
     "output_type": "stream",
     "text": [
      "[2023-11-30 17:20:42] - openstack-msg_tf-random-2 - epoch:10, train_loss:0.7077533333234677, train_acc:0.5617362969859188, valid_loss:0.6775709785784645, valid_acc:0.40130353817504655, auc_score:0.6002340492448872\n",
      "[2023-11-30 17:20:42] - EarlyStopping counter: 1 out of 8\n",
      "[2023-11-30 17:20:42] - AUC score increased (0.598941 --> 0.600234).  Saving model ...\n"
     ]
    },
    {
     "data": {
      "application/vnd.jupyter.widget-view+json": {
       "model_id": "09721d94b74e44ac8aef34e8f9b6d73b",
       "version_major": 2,
       "version_minor": 0
      },
      "text/plain": [
       "  0%|          | 0/135 [00:00<?, ?it/s]"
      ]
     },
     "metadata": {},
     "output_type": "display_data"
    },
    {
     "name": "stderr",
     "output_type": "stream",
     "text": [
      "[2023-11-30 17:20:51] - openstack-msg_tf-random-2 - epoch:11, train_loss:0.7064249367440911, train_acc:0.5566158501105551, valid_loss:0.6721322630814778, valid_acc:0.4790502793296089, auc_score:0.6019493813034593\n",
      "[2023-11-30 17:20:51] - EarlyStopping counter: 2 out of 8\n",
      "[2023-11-30 17:20:51] - AUC score increased (0.600234 --> 0.601949).  Saving model ...\n"
     ]
    },
    {
     "data": {
      "application/vnd.jupyter.widget-view+json": {
       "model_id": "56935adb80be4b6f9fd4a57b004f513c",
       "version_major": 2,
       "version_minor": 0
      },
      "text/plain": [
       "  0%|          | 0/135 [00:00<?, ?it/s]"
      ]
     },
     "metadata": {},
     "output_type": "display_data"
    },
    {
     "name": "stderr",
     "output_type": "stream",
     "text": [
      "[2023-11-30 17:21:00] - openstack-msg_tf-random-2 - epoch:12, train_loss:0.700663460323423, train_acc:0.5512626556499476, valid_loss:0.6701201268192554, valid_acc:0.527001862197393, auc_score:0.6044423048351525\n",
      "[2023-11-30 17:21:00] - AUC score increased (0.601949 --> 0.604442).  Saving model ...\n"
     ]
    },
    {
     "data": {
      "application/vnd.jupyter.widget-view+json": {
       "model_id": "d15eb38b06a84ff08ad78566a84996fe",
       "version_major": 2,
       "version_minor": 0
      },
      "text/plain": [
       "  0%|          | 0/135 [00:00<?, ?it/s]"
      ]
     },
     "metadata": {},
     "output_type": "display_data"
    },
    {
     "name": "stderr",
     "output_type": "stream",
     "text": [
      "[2023-11-30 17:21:09] - openstack-msg_tf-random-2 - epoch:13, train_loss:0.7039241257291532, train_acc:0.5620854183637845, valid_loss:0.6728130146111856, valid_acc:0.4478584729981378, auc_score:0.6063833892568888\n",
      "[2023-11-30 17:21:09] - EarlyStopping counter: 1 out of 8\n",
      "[2023-11-30 17:21:09] - AUC score increased (0.604442 --> 0.606383).  Saving model ...\n"
     ]
    },
    {
     "data": {
      "application/vnd.jupyter.widget-view+json": {
       "model_id": "b114f180670c4593925fc5f596391320",
       "version_major": 2,
       "version_minor": 0
      },
      "text/plain": [
       "  0%|          | 0/135 [00:00<?, ?it/s]"
      ]
     },
     "metadata": {},
     "output_type": "display_data"
    },
    {
     "name": "stderr",
     "output_type": "stream",
     "text": [
      "[2023-11-30 17:21:18] - openstack-msg_tf-random-2 - epoch:14, train_loss:0.7000663757365837, train_acc:0.5575468404515304, valid_loss:0.6744579627305214, valid_acc:0.43435754189944137, auc_score:0.6075237281169744\n",
      "[2023-11-30 17:21:18] - EarlyStopping counter: 2 out of 8\n",
      "[2023-11-30 17:21:18] - AUC score increased (0.606383 --> 0.607524).  Saving model ...\n"
     ]
    },
    {
     "data": {
      "application/vnd.jupyter.widget-view+json": {
       "model_id": "f38cec8c695d43abb1a00eebde42f4e6",
       "version_major": 2,
       "version_minor": 0
      },
      "text/plain": [
       "  0%|          | 0/135 [00:00<?, ?it/s]"
      ]
     },
     "metadata": {},
     "output_type": "display_data"
    },
    {
     "name": "stderr",
     "output_type": "stream",
     "text": [
      "[2023-11-30 17:21:27] - openstack-msg_tf-random-2 - epoch:15, train_loss:0.6928205329811672, train_acc:0.5483533108344001, valid_loss:0.671994799453231, valid_acc:0.4506517690875233, auc_score:0.6095902305182463\n",
      "[2023-11-30 17:21:27] - EarlyStopping counter: 3 out of 8\n",
      "[2023-11-30 17:21:27] - AUC score increased (0.607524 --> 0.609590).  Saving model ...\n"
     ]
    },
    {
     "data": {
      "application/vnd.jupyter.widget-view+json": {
       "model_id": "cf53c878afa74cb9818e055732ec65e6",
       "version_major": 2,
       "version_minor": 0
      },
      "text/plain": [
       "  0%|          | 0/135 [00:00<?, ?it/s]"
      ]
     },
     "metadata": {},
     "output_type": "display_data"
    },
    {
     "name": "stderr",
     "output_type": "stream",
     "text": [
      "[2023-11-30 17:21:36] - openstack-msg_tf-random-2 - epoch:16, train_loss:0.6928312555952593, train_acc:0.5615035494006749, valid_loss:0.6692376572992549, valid_acc:0.49813780260707635, auc_score:0.6112361003112295\n",
      "[2023-11-30 17:21:36] - AUC score increased (0.609590 --> 0.611236).  Saving model ...\n"
     ]
    },
    {
     "data": {
      "application/vnd.jupyter.widget-view+json": {
       "model_id": "4e2927fa4f8e4663bcbbfbe9a1f31ecd",
       "version_major": 2,
       "version_minor": 0
      },
      "text/plain": [
       "  0%|          | 0/135 [00:00<?, ?it/s]"
      ]
     },
     "metadata": {},
     "output_type": "display_data"
    },
    {
     "name": "stderr",
     "output_type": "stream",
     "text": [
      "[2023-11-30 17:21:45] - openstack-msg_tf-random-2 - epoch:17, train_loss:0.6907527887417498, train_acc:0.5704643314325614, valid_loss:0.6707232697715972, valid_acc:0.4622905027932961, auc_score:0.6129089832074972\n",
      "[2023-11-30 17:21:45] - EarlyStopping counter: 1 out of 8\n",
      "[2023-11-30 17:21:45] - AUC score increased (0.611236 --> 0.612909).  Saving model ...\n"
     ]
    },
    {
     "data": {
      "application/vnd.jupyter.widget-view+json": {
       "model_id": "b3e0d10cc74744c6952b934be825cc9d",
       "version_major": 2,
       "version_minor": 0
      },
      "text/plain": [
       "  0%|          | 0/135 [00:00<?, ?it/s]"
      ]
     },
     "metadata": {},
     "output_type": "display_data"
    },
    {
     "name": "stderr",
     "output_type": "stream",
     "text": [
      "[2023-11-30 17:21:54] - openstack-msg_tf-random-2 - epoch:18, train_loss:0.690259813846205, train_acc:0.56976608867683, valid_loss:0.6689132559676854, valid_acc:0.4920856610800745, auc_score:0.6147574512751149\n",
      "[2023-11-30 17:21:54] - AUC score increased (0.612909 --> 0.614757).  Saving model ...\n"
     ]
    },
    {
     "data": {
      "application/vnd.jupyter.widget-view+json": {
       "model_id": "60ffef09ca3c4d08be6149dcee00cd6b",
       "version_major": 2,
       "version_minor": 0
      },
      "text/plain": [
       "  0%|          | 0/135 [00:00<?, ?it/s]"
      ]
     },
     "metadata": {},
     "output_type": "display_data"
    },
    {
     "name": "stderr",
     "output_type": "stream",
     "text": [
      "[2023-11-30 17:22:03] - openstack-msg_tf-random-2 - epoch:19, train_loss:0.6909844504930942, train_acc:0.5701152100546957, valid_loss:0.6707814617751919, valid_acc:0.45670391061452514, auc_score:0.6160675867844181\n",
      "[2023-11-30 17:22:03] - EarlyStopping counter: 1 out of 8\n",
      "[2023-11-30 17:22:03] - AUC score increased (0.614757 --> 0.616068).  Saving model ...\n"
     ]
    },
    {
     "data": {
      "application/vnd.jupyter.widget-view+json": {
       "model_id": "a5ca03e2c08d4b3790df1325f31bcd5c",
       "version_major": 2,
       "version_minor": 0
      },
      "text/plain": [
       "  0%|          | 0/135 [00:00<?, ?it/s]"
      ]
     },
     "metadata": {},
     "output_type": "display_data"
    },
    {
     "name": "stderr",
     "output_type": "stream",
     "text": [
      "[2023-11-30 17:22:12] - openstack-msg_tf-random-2 - epoch:20, train_loss:0.6859554271821189, train_acc:0.5812870941463982, valid_loss:0.6683547144939558, valid_acc:0.49068901303538176, auc_score:0.6177935311335664\n",
      "[2023-11-30 17:22:12] - AUC score increased (0.616068 --> 0.617794).  Saving model ...\n"
     ]
    },
    {
     "data": {
      "application/vnd.jupyter.widget-view+json": {
       "model_id": "372a66cf1cbe4e959ed1a0d668676668",
       "version_major": 2,
       "version_minor": 0
      },
      "text/plain": [
       "  0%|          | 0/135 [00:00<?, ?it/s]"
      ]
     },
     "metadata": {},
     "output_type": "display_data"
    },
    {
     "name": "stderr",
     "output_type": "stream",
     "text": [
      "[2023-11-30 17:22:20] - openstack-msg_tf-random-2 - epoch:21, train_loss:0.6943056741138699, train_acc:0.5688350983358548, valid_loss:0.6700397705454623, valid_acc:0.45716945996275604, auc_score:0.6195098279458271\n",
      "[2023-11-30 17:22:20] - EarlyStopping counter: 1 out of 8\n",
      "[2023-11-30 17:22:20] - AUC score increased (0.617794 --> 0.619510).  Saving model ...\n"
     ]
    },
    {
     "data": {
      "application/vnd.jupyter.widget-view+json": {
       "model_id": "f112b8ad5cd74fbb998394719071a846",
       "version_major": 2,
       "version_minor": 0
      },
      "text/plain": [
       "  0%|          | 0/135 [00:00<?, ?it/s]"
      ]
     },
     "metadata": {},
     "output_type": "display_data"
    },
    {
     "name": "stderr",
     "output_type": "stream",
     "text": [
      "[2023-11-30 17:22:29] - openstack-msg_tf-random-2 - epoch:22, train_loss:0.6822322203340845, train_acc:0.5804724775980449, valid_loss:0.6696908217568637, valid_acc:0.4618249534450652, auc_score:0.6209608174936858\n",
      "[2023-11-30 17:22:29] - EarlyStopping counter: 2 out of 8\n",
      "[2023-11-30 17:22:29] - AUC score increased (0.619510 --> 0.620961).  Saving model ...\n"
     ]
    },
    {
     "data": {
      "application/vnd.jupyter.widget-view+json": {
       "model_id": "4c46ede70e1948dfbc1264a25fd17c48",
       "version_major": 2,
       "version_minor": 0
      },
      "text/plain": [
       "  0%|          | 0/135 [00:00<?, ?it/s]"
      ]
     },
     "metadata": {},
     "output_type": "display_data"
    },
    {
     "name": "stderr",
     "output_type": "stream",
     "text": [
      "[2023-11-30 17:22:38] - openstack-msg_tf-random-2 - epoch:23, train_loss:0.6808835608182596, train_acc:0.5706970790178052, valid_loss:0.6667961107507986, valid_acc:0.4995344506517691, auc_score:0.6228170035908134\n",
      "[2023-11-30 17:22:38] - AUC score increased (0.620961 --> 0.622817).  Saving model ...\n"
     ]
    },
    {
     "data": {
      "application/vnd.jupyter.widget-view+json": {
       "model_id": "e3f8f2e456a34c1e84e0c1fb5be44455",
       "version_major": 2,
       "version_minor": 0
      },
      "text/plain": [
       "  0%|          | 0/135 [00:00<?, ?it/s]"
      ]
     },
     "metadata": {},
     "output_type": "display_data"
    },
    {
     "name": "stderr",
     "output_type": "stream",
     "text": [
      "[2023-11-30 17:22:47] - openstack-msg_tf-random-2 - epoch:24, train_loss:0.678654398391539, train_acc:0.5740719190038404, valid_loss:0.6662202792682683, valid_acc:0.5079143389199255, auc_score:0.6246056569297292\n",
      "[2023-11-30 17:22:47] - AUC score increased (0.622817 --> 0.624606).  Saving model ...\n"
     ]
    },
    {
     "data": {
      "application/vnd.jupyter.widget-view+json": {
       "model_id": "215bbc9429ff493b9a8ff3b19399500c",
       "version_major": 2,
       "version_minor": 0
      },
      "text/plain": [
       "  0%|          | 0/135 [00:00<?, ?it/s]"
      ]
     },
     "metadata": {},
     "output_type": "display_data"
    },
    {
     "name": "stderr",
     "output_type": "stream",
     "text": [
      "[2023-11-30 17:22:56] - openstack-msg_tf-random-2 - epoch:25, train_loss:0.6732535249943036, train_acc:0.6030489933666938, valid_loss:0.6659919222195944, valid_acc:0.5023277467411545, auc_score:0.6262862578555068\n",
      "[2023-11-30 17:22:56] - AUC score increased (0.624606 --> 0.626286).  Saving model ...\n"
     ]
    },
    {
     "data": {
      "application/vnd.jupyter.widget-view+json": {
       "model_id": "5b43496f373649aea7f40091306ce7c8",
       "version_major": 2,
       "version_minor": 0
      },
      "text/plain": [
       "  0%|          | 0/135 [00:00<?, ?it/s]"
      ]
     },
     "metadata": {},
     "output_type": "display_data"
    },
    {
     "name": "stderr",
     "output_type": "stream",
     "text": [
      "[2023-11-30 17:23:05] - openstack-msg_tf-random-2 - epoch:26, train_loss:0.6755706317402855, train_acc:0.5798906086349355, valid_loss:0.6649649052202591, valid_acc:0.5251396648044693, auc_score:0.6281385849378797\n",
      "[2023-11-30 17:23:05] - AUC score increased (0.626286 --> 0.628139).  Saving model ...\n"
     ]
    },
    {
     "data": {
      "application/vnd.jupyter.widget-view+json": {
       "model_id": "4258c4657a1840558e4dbd5a3810cdfe",
       "version_major": 2,
       "version_minor": 0
      },
      "text/plain": [
       "  0%|          | 0/135 [00:00<?, ?it/s]"
      ]
     },
     "metadata": {},
     "output_type": "display_data"
    },
    {
     "name": "stderr",
     "output_type": "stream",
     "text": [
      "[2023-11-30 17:23:14] - openstack-msg_tf-random-2 - epoch:27, train_loss:0.6696813240479108, train_acc:0.58629116722914, valid_loss:0.6646564416379236, valid_acc:0.5325884543761639, auc_score:0.6299909120202521\n",
      "[2023-11-30 17:23:14] - AUC score increased (0.628139 --> 0.629991).  Saving model ...\n"
     ]
    },
    {
     "data": {
      "application/vnd.jupyter.widget-view+json": {
       "model_id": "30824714da9241a1a073421aa65668c5",
       "version_major": 2,
       "version_minor": 0
      },
      "text/plain": [
       "  0%|          | 0/135 [00:00<?, ?it/s]"
      ]
     },
     "metadata": {},
     "output_type": "display_data"
    },
    {
     "name": "stderr",
     "output_type": "stream",
     "text": [
      "[2023-11-30 17:23:23] - openstack-msg_tf-random-2 - epoch:28, train_loss:0.6793831553542959, train_acc:0.5910624927266379, valid_loss:0.6639162235419843, valid_acc:0.5446927374301676, auc_score:0.6321751143715498\n",
      "[2023-11-30 17:23:23] - AUC score increased (0.629991 --> 0.632175).  Saving model ...\n"
     ]
    },
    {
     "data": {
      "application/vnd.jupyter.widget-view+json": {
       "model_id": "24f2fd5f084f4970937b75c38164a505",
       "version_major": 2,
       "version_minor": 0
      },
      "text/plain": [
       "  0%|          | 0/135 [00:00<?, ?it/s]"
      ]
     },
     "metadata": {},
     "output_type": "display_data"
    },
    {
     "name": "stderr",
     "output_type": "stream",
     "text": [
      "[2023-11-30 17:23:32] - openstack-msg_tf-random-2 - epoch:29, train_loss:0.6734337179233236, train_acc:0.5841964389619457, valid_loss:0.6645429202076221, valid_acc:0.5107076350093109, auc_score:0.6340303357149887\n",
      "[2023-11-30 17:23:32] - EarlyStopping counter: 1 out of 8\n",
      "[2023-11-30 17:23:32] - AUC score increased (0.632175 --> 0.634030).  Saving model ...\n"
     ]
    },
    {
     "data": {
      "application/vnd.jupyter.widget-view+json": {
       "model_id": "82e3d26751144979a2b9e6c5a7684257",
       "version_major": 2,
       "version_minor": 0
      },
      "text/plain": [
       "  0%|          | 0/135 [00:00<?, ?it/s]"
      ]
     },
     "metadata": {},
     "output_type": "display_data"
    },
    {
     "name": "stderr",
     "output_type": "stream",
     "text": [
      "[2023-11-30 17:23:41] - openstack-msg_tf-random-2 - epoch:30, train_loss:0.6656680045105117, train_acc:0.5919934830676131, valid_loss:0.6631955766367069, valid_acc:0.5293296089385475, auc_score:0.6367731304520643\n",
      "[2023-11-30 17:23:41] - AUC score increased (0.634030 --> 0.636773).  Saving model ...\n"
     ]
    },
    {
     "data": {
      "application/vnd.jupyter.widget-view+json": {
       "model_id": "bc8fd6ec002a49ac8207a2468f112689",
       "version_major": 2,
       "version_minor": 0
      },
      "text/plain": [
       "  0%|          | 0/135 [00:00<?, ?it/s]"
      ]
     },
     "metadata": {},
     "output_type": "display_data"
    },
    {
     "name": "stderr",
     "output_type": "stream",
     "text": [
      "[2023-11-30 17:23:50] - openstack-msg_tf-random-2 - epoch:31, train_loss:0.6682033738240394, train_acc:0.5901315023856627, valid_loss:0.6675141422664209, valid_acc:0.46461824953445063, auc_score:0.6389959229509115\n",
      "[2023-11-30 17:23:50] - EarlyStopping counter: 1 out of 8\n",
      "[2023-11-30 17:23:50] - AUC score increased (0.636773 --> 0.638996).  Saving model ...\n"
     ]
    },
    {
     "data": {
      "application/vnd.jupyter.widget-view+json": {
       "model_id": "9e25590ae72d4a3ea4eaa0e9482b1aa5",
       "version_major": 2,
       "version_minor": 0
      },
      "text/plain": [
       "  0%|          | 0/135 [00:00<?, ?it/s]"
      ]
     },
     "metadata": {},
     "output_type": "display_data"
    },
    {
     "name": "stderr",
     "output_type": "stream",
     "text": [
      "[2023-11-30 17:23:59] - openstack-msg_tf-random-2 - epoch:32, train_loss:0.6678203220391293, train_acc:0.5740719190038404, valid_loss:0.6617116415300849, valid_acc:0.5339851024208566, auc_score:0.6421892576606267\n",
      "[2023-11-30 17:23:59] - AUC score increased (0.638996 --> 0.642189).  Saving model ...\n"
     ]
    },
    {
     "data": {
      "application/vnd.jupyter.widget-view+json": {
       "model_id": "70f37a2c908049e5accc5a3a693a90ea",
       "version_major": 2,
       "version_minor": 0
      },
      "text/plain": [
       "  0%|          | 0/135 [00:00<?, ?it/s]"
      ]
     },
     "metadata": {},
     "output_type": "display_data"
    },
    {
     "name": "stderr",
     "output_type": "stream",
     "text": [
      "[2023-11-30 17:24:08] - openstack-msg_tf-random-2 - epoch:33, train_loss:0.6663287618614444, train_acc:0.5901315023856627, valid_loss:0.659677669766673, valid_acc:0.5837988826815642, auc_score:0.6454945037982353\n",
      "[2023-11-30 17:24:08] - AUC score increased (0.642189 --> 0.645495).  Saving model ...\n"
     ]
    },
    {
     "data": {
      "application/vnd.jupyter.widget-view+json": {
       "model_id": "debe6fd3f31344778963f4f5281b21d1",
       "version_major": 2,
       "version_minor": 0
      },
      "text/plain": [
       "  0%|          | 0/135 [00:00<?, ?it/s]"
      ]
     },
     "metadata": {},
     "output_type": "display_data"
    },
    {
     "name": "stderr",
     "output_type": "stream",
     "text": [
      "[2023-11-30 17:24:17] - openstack-msg_tf-random-2 - epoch:34, train_loss:0.6559208219561604, train_acc:0.6191085767485163, valid_loss:0.6634070362680673, valid_acc:0.50512104283054, auc_score:0.6473275358068332\n",
      "[2023-11-30 17:24:17] - EarlyStopping counter: 1 out of 8\n",
      "[2023-11-30 17:24:17] - AUC score increased (0.645495 --> 0.647328).  Saving model ...\n"
     ]
    },
    {
     "data": {
      "application/vnd.jupyter.widget-view+json": {
       "model_id": "c5cf027518e44723a7a8f4703ea4f39c",
       "version_major": 2,
       "version_minor": 0
      },
      "text/plain": [
       "  0%|          | 0/135 [00:00<?, ?it/s]"
      ]
     },
     "metadata": {},
     "output_type": "display_data"
    },
    {
     "name": "stderr",
     "output_type": "stream",
     "text": [
      "[2023-11-30 17:24:25] - openstack-msg_tf-random-2 - epoch:35, train_loss:0.6532398158965949, train_acc:0.6066565809379728, valid_loss:0.6611753162725011, valid_acc:0.5251396648044693, auc_score:0.6508855474108906\n",
      "[2023-11-30 17:24:25] - EarlyStopping counter: 2 out of 8\n",
      "[2023-11-30 17:24:25] - AUC score increased (0.647328 --> 0.650886).  Saving model ...\n"
     ]
    },
    {
     "data": {
      "application/vnd.jupyter.widget-view+json": {
       "model_id": "cc930c6cdb684db09ce0f487e89a0855",
       "version_major": 2,
       "version_minor": 0
      },
      "text/plain": [
       "  0%|          | 0/135 [00:00<?, ?it/s]"
      ]
     },
     "metadata": {},
     "output_type": "display_data"
    },
    {
     "name": "stderr",
     "output_type": "stream",
     "text": [
      "[2023-11-30 17:24:34] - openstack-msg_tf-random-2 - epoch:36, train_loss:0.6539687171299217, train_acc:0.600488769929012, valid_loss:0.6581441549171505, valid_acc:0.595903165735568, auc_score:0.6543895328083786\n",
      "[2023-11-30 17:24:34] - AUC score increased (0.650886 --> 0.654390).  Saving model ...\n"
     ]
    },
    {
     "data": {
      "application/vnd.jupyter.widget-view+json": {
       "model_id": "0966f538515c454ab4b8965f9a5834cf",
       "version_major": 2,
       "version_minor": 0
      },
      "text/plain": [
       "  0%|          | 0/135 [00:00<?, ?it/s]"
      ]
     },
     "metadata": {},
     "output_type": "display_data"
    },
    {
     "name": "stderr",
     "output_type": "stream",
     "text": [
      "[2023-11-30 17:24:43] - openstack-msg_tf-random-2 - epoch:37, train_loss:0.6539606045860913, train_acc:0.6286512277435121, valid_loss:0.6631018138686594, valid_acc:0.5083798882681564, auc_score:0.6569731431868129\n",
      "[2023-11-30 17:24:43] - EarlyStopping counter: 1 out of 8\n",
      "[2023-11-30 17:24:43] - AUC score increased (0.654390 --> 0.656973).  Saving model ...\n"
     ]
    },
    {
     "data": {
      "application/vnd.jupyter.widget-view+json": {
       "model_id": "c81a8b31bd96492a8c3ef35342c064a4",
       "version_major": 2,
       "version_minor": 0
      },
      "text/plain": [
       "  0%|          | 0/135 [00:00<?, ?it/s]"
      ]
     },
     "metadata": {},
     "output_type": "display_data"
    },
    {
     "name": "stderr",
     "output_type": "stream",
     "text": [
      "[2023-11-30 17:24:52] - openstack-msg_tf-random-2 - epoch:38, train_loss:0.646870657650761, train_acc:0.6081694402420574, valid_loss:0.6563735755240229, valid_acc:0.6159217877094972, auc_score:0.6607684841982994\n",
      "[2023-11-30 17:24:52] - AUC score increased (0.656973 --> 0.660768).  Saving model ...\n"
     ]
    },
    {
     "data": {
      "application/vnd.jupyter.widget-view+json": {
       "model_id": "0a10594475684df3b44c8ce80860a19e",
       "version_major": 2,
       "version_minor": 0
      },
      "text/plain": [
       "  0%|          | 0/135 [00:00<?, ?it/s]"
      ]
     },
     "metadata": {},
     "output_type": "display_data"
    },
    {
     "name": "stderr",
     "output_type": "stream",
     "text": [
      "[2023-11-30 17:25:01] - openstack-msg_tf-random-2 - epoch:39, train_loss:0.6373189744676878, train_acc:0.6307459560107064, valid_loss:0.6560502266528664, valid_acc:0.6182495344506518, auc_score:0.6642936941769396\n",
      "[2023-11-30 17:25:01] - AUC score increased (0.660768 --> 0.664294).  Saving model ...\n"
     ]
    },
    {
     "data": {
      "application/vnd.jupyter.widget-view+json": {
       "model_id": "36eee1be365b46beb6a29b6940b87360",
       "version_major": 2,
       "version_minor": 0
      },
      "text/plain": [
       "  0%|          | 0/135 [00:00<?, ?it/s]"
      ]
     },
     "metadata": {},
     "output_type": "display_data"
    },
    {
     "name": "stderr",
     "output_type": "stream",
     "text": [
      "[2023-11-30 17:25:10] - openstack-msg_tf-random-2 - epoch:40, train_loss:0.6393167689211998, train_acc:0.6285348539508903, valid_loss:0.6563205666826202, valid_acc:0.62243947858473, auc_score:0.6670837618447634\n",
      "[2023-11-30 17:25:10] - EarlyStopping counter: 1 out of 8\n",
      "[2023-11-30 17:25:10] - AUC score increased (0.664294 --> 0.667084).  Saving model ...\n"
     ]
    },
    {
     "data": {
      "application/vnd.jupyter.widget-view+json": {
       "model_id": "f3c5a47e99004b3894240bcc62921a01",
       "version_major": 2,
       "version_minor": 0
      },
      "text/plain": [
       "  0%|          | 0/135 [00:00<?, ?it/s]"
      ]
     },
     "metadata": {},
     "output_type": "display_data"
    },
    {
     "name": "stderr",
     "output_type": "stream",
     "text": [
      "[2023-11-30 17:25:19] - openstack-msg_tf-random-2 - epoch:41, train_loss:0.6445655421273999, train_acc:0.6270219946468055, valid_loss:0.655681898252036, valid_acc:0.6415270018621974, auc_score:0.6705645931537221\n",
      "[2023-11-30 17:25:19] - AUC score increased (0.667084 --> 0.670565).  Saving model ...\n"
     ]
    },
    {
     "data": {
      "application/vnd.jupyter.widget-view+json": {
       "model_id": "dcbc0e15773646c5b1b6e82cff11e5bb",
       "version_major": 2,
       "version_minor": 0
      },
      "text/plain": [
       "  0%|          | 0/135 [00:00<?, ?it/s]"
      ]
     },
     "metadata": {},
     "output_type": "display_data"
    },
    {
     "name": "stderr",
     "output_type": "stream",
     "text": [
      "[2023-11-30 17:25:28] - openstack-msg_tf-random-2 - epoch:42, train_loss:0.6395926578669446, train_acc:0.6242290236238799, valid_loss:0.6547912108387584, valid_acc:0.6443202979515829, auc_score:0.6737482803265498\n",
      "[2023-11-30 17:25:28] - AUC score increased (0.670565 --> 0.673748).  Saving model ...\n"
     ]
    },
    {
     "data": {
      "application/vnd.jupyter.widget-view+json": {
       "model_id": "c1885e559ed542589ba5d45702e7ce21",
       "version_major": 2,
       "version_minor": 0
      },
      "text/plain": [
       "  0%|          | 0/135 [00:00<?, ?it/s]"
      ]
     },
     "metadata": {},
     "output_type": "display_data"
    },
    {
     "name": "stderr",
     "output_type": "stream",
     "text": [
      "[2023-11-30 17:25:37] - openstack-msg_tf-random-2 - epoch:43, train_loss:0.6331103620631279, train_acc:0.6424997090655185, valid_loss:0.6538394615192875, valid_acc:0.63268156424581, auc_score:0.6767139331657234\n",
      "[2023-11-30 17:25:37] - AUC score increased (0.673748 --> 0.676714).  Saving model ...\n"
     ]
    },
    {
     "data": {
      "application/vnd.jupyter.widget-view+json": {
       "model_id": "8b3fa35991924f4487c4f524afc22666",
       "version_major": 2,
       "version_minor": 0
      },
      "text/plain": [
       "  0%|          | 0/135 [00:00<?, ?it/s]"
      ]
     },
     "metadata": {},
     "output_type": "display_data"
    },
    {
     "name": "stderr",
     "output_type": "stream",
     "text": [
      "[2023-11-30 17:25:46] - openstack-msg_tf-random-2 - epoch:44, train_loss:0.6314230600793994, train_acc:0.6398231118352147, valid_loss:0.6538998728801863, valid_acc:0.6494413407821229, auc_score:0.6795078598483022\n",
      "[2023-11-30 17:25:46] - EarlyStopping counter: 1 out of 8\n",
      "[2023-11-30 17:25:46] - AUC score increased (0.676714 --> 0.679508).  Saving model ...\n"
     ]
    },
    {
     "data": {
      "application/vnd.jupyter.widget-view+json": {
       "model_id": "360650997c8c420bb6d3a7241085b9e4",
       "version_major": 2,
       "version_minor": 0
      },
      "text/plain": [
       "  0%|          | 0/135 [00:00<?, ?it/s]"
      ]
     },
     "metadata": {},
     "output_type": "display_data"
    },
    {
     "name": "stderr",
     "output_type": "stream",
     "text": [
      "[2023-11-30 17:25:55] - openstack-msg_tf-random-2 - epoch:45, train_loss:0.6264866303540242, train_acc:0.6519259862678924, valid_loss:0.6553000278868045, valid_acc:0.6140595903165735, auc_score:0.6816361064856532\n",
      "[2023-11-30 17:25:55] - EarlyStopping counter: 2 out of 8\n",
      "[2023-11-30 17:25:55] - AUC score increased (0.679508 --> 0.681636).  Saving model ...\n"
     ]
    },
    {
     "data": {
      "application/vnd.jupyter.widget-view+json": {
       "model_id": "7a8d683015264896b61ef96931a9034c",
       "version_major": 2,
       "version_minor": 0
      },
      "text/plain": [
       "  0%|          | 0/135 [00:00<?, ?it/s]"
      ]
     },
     "metadata": {},
     "output_type": "display_data"
    },
    {
     "name": "stderr",
     "output_type": "stream",
     "text": [
      "[2023-11-30 17:26:04] - openstack-msg_tf-random-2 - epoch:46, train_loss:0.6265497962532035, train_acc:0.6483183986966136, valid_loss:0.6538227376436166, valid_acc:0.6419925512104283, auc_score:0.6845824642510521\n",
      "[2023-11-30 17:26:04] - AUC score increased (0.681636 --> 0.684582).  Saving model ...\n"
     ]
    },
    {
     "data": {
      "application/vnd.jupyter.widget-view+json": {
       "model_id": "f5856e1582204284b2230a4f2d630bfe",
       "version_major": 2,
       "version_minor": 0
      },
      "text/plain": [
       "  0%|          | 0/135 [00:00<?, ?it/s]"
      ]
     },
     "metadata": {},
     "output_type": "display_data"
    },
    {
     "name": "stderr",
     "output_type": "stream",
     "text": [
      "[2023-11-30 17:26:13] - openstack-msg_tf-random-2 - epoch:47, train_loss:0.6238992063751962, train_acc:0.645409053881066, valid_loss:0.655826143379318, valid_acc:0.6978584729981379, auc_score:0.6881501233919968\n",
      "[2023-11-30 17:26:13] - EarlyStopping counter: 1 out of 8\n",
      "[2023-11-30 17:26:13] - AUC score increased (0.684582 --> 0.688150).  Saving model ...\n"
     ]
    },
    {
     "data": {
      "application/vnd.jupyter.widget-view+json": {
       "model_id": "5e9e3e81946444bea42e0b46a3685305",
       "version_major": 2,
       "version_minor": 0
      },
      "text/plain": [
       "  0%|          | 0/135 [00:00<?, ?it/s]"
      ]
     },
     "metadata": {},
     "output_type": "display_data"
    },
    {
     "name": "stderr",
     "output_type": "stream",
     "text": [
      "[2023-11-30 17:26:22] - openstack-msg_tf-random-2 - epoch:48, train_loss:0.6150621584251681, train_acc:0.664261608285814, valid_loss:0.6583615024218568, valid_acc:0.7099627560521415, auc_score:0.6904037880088834\n",
      "[2023-11-30 17:26:22] - EarlyStopping counter: 2 out of 8\n",
      "[2023-11-30 17:26:22] - AUC score increased (0.688150 --> 0.690404).  Saving model ...\n"
     ]
    },
    {
     "data": {
      "application/vnd.jupyter.widget-view+json": {
       "model_id": "7fcf679b6152468590d748c15737a142",
       "version_major": 2,
       "version_minor": 0
      },
      "text/plain": [
       "  0%|          | 0/135 [00:00<?, ?it/s]"
      ]
     },
     "metadata": {},
     "output_type": "display_data"
    },
    {
     "name": "stderr",
     "output_type": "stream",
     "text": [
      "[2023-11-30 17:26:31] - openstack-msg_tf-random-2 - epoch:49, train_loss:0.6159431903281535, train_acc:0.6626323751891074, valid_loss:0.6681001859004271, valid_acc:0.7472067039106145, auc_score:0.6932884015382033\n",
      "[2023-11-30 17:26:31] - EarlyStopping counter: 3 out of 8\n",
      "[2023-11-30 17:26:31] - AUC score increased (0.690404 --> 0.693288).  Saving model ...\n"
     ]
    },
    {
     "data": {
      "application/vnd.jupyter.widget-view+json": {
       "model_id": "18ebb15da0104d37932e0f93021708e6",
       "version_major": 2,
       "version_minor": 0
      },
      "text/plain": [
       "  0%|          | 0/135 [00:00<?, ?it/s]"
      ]
     },
     "metadata": {},
     "output_type": "display_data"
    },
    {
     "name": "stderr",
     "output_type": "stream",
     "text": [
      "[2023-11-30 17:26:40] - openstack-msg_tf-random-2 - epoch:50, train_loss:0.6093518059203473, train_acc:0.6777609682299546, valid_loss:0.6579929016377895, valid_acc:0.6876163873370578, auc_score:0.6945387223188048\n",
      "[2023-11-30 17:26:40] - EarlyStopping counter: 4 out of 8\n",
      "[2023-11-30 17:26:40] - AUC score increased (0.693288 --> 0.694539).  Saving model ...\n"
     ]
    },
    {
     "data": {
      "application/vnd.jupyter.widget-view+json": {
       "model_id": "1079b7c47b684f8291e84207756aca59",
       "version_major": 2,
       "version_minor": 0
      },
      "text/plain": [
       "  0%|          | 0/135 [00:00<?, ?it/s]"
      ]
     },
     "metadata": {},
     "output_type": "display_data"
    },
    {
     "name": "stderr",
     "output_type": "stream",
     "text": [
      "[2023-11-30 17:26:49] - openstack-msg_tf-random-2 - epoch:51, train_loss:0.6118001030998848, train_acc:0.6717095310136157, valid_loss:0.6577227675048999, valid_acc:0.6769087523277467, auc_score:0.696359212529449\n",
      "[2023-11-30 17:26:49] - EarlyStopping counter: 5 out of 8\n",
      "[2023-11-30 17:26:49] - AUC score increased (0.694539 --> 0.696359).  Saving model ...\n"
     ]
    },
    {
     "data": {
      "application/vnd.jupyter.widget-view+json": {
       "model_id": "3dee9efc7242423d874280a18db1bdf0",
       "version_major": 2,
       "version_minor": 0
      },
      "text/plain": [
       "  0%|          | 0/135 [00:00<?, ?it/s]"
      ]
     },
     "metadata": {},
     "output_type": "display_data"
    },
    {
     "name": "stderr",
     "output_type": "stream",
     "text": [
      "[2023-11-30 17:26:58] - openstack-msg_tf-random-2 - epoch:52, train_loss:0.6154029251712589, train_acc:0.6660072151751426, valid_loss:0.6609144801312097, valid_acc:0.7062383612662942, auc_score:0.6984459747581845\n",
      "[2023-11-30 17:26:58] - EarlyStopping counter: 6 out of 8\n",
      "[2023-11-30 17:26:58] - AUC score increased (0.696359 --> 0.698446).  Saving model ...\n"
     ]
    },
    {
     "data": {
      "application/vnd.jupyter.widget-view+json": {
       "model_id": "70257b9478324adc9dc1ff031abb5a99",
       "version_major": 2,
       "version_minor": 0
      },
      "text/plain": [
       "  0%|          | 0/135 [00:00<?, ?it/s]"
      ]
     },
     "metadata": {},
     "output_type": "display_data"
    },
    {
     "name": "stderr",
     "output_type": "stream",
     "text": [
      "[2023-11-30 17:27:07] - openstack-msg_tf-random-2 - epoch:53, train_loss:0.5989099298334505, train_acc:0.6864890026765972, valid_loss:0.66566928949214, valid_acc:0.7216014897579144, auc_score:0.7000301003150886\n",
      "[2023-11-30 17:27:07] - EarlyStopping counter: 7 out of 8\n",
      "[2023-11-30 17:27:07] - AUC score increased (0.698446 --> 0.700030).  Saving model ...\n"
     ]
    },
    {
     "data": {
      "application/vnd.jupyter.widget-view+json": {
       "model_id": "f1b53fe4be494fde92eb27a78ff1e386",
       "version_major": 2,
       "version_minor": 0
      },
      "text/plain": [
       "  0%|          | 0/135 [00:00<?, ?it/s]"
      ]
     },
     "metadata": {},
     "output_type": "display_data"
    },
    {
     "name": "stderr",
     "output_type": "stream",
     "text": [
      "[2023-11-30 17:27:16] - openstack-msg_tf-random-2 - epoch:54, train_loss:0.5955947489812268, train_acc:0.6834632840684278, valid_loss:0.676288685874122, valid_acc:0.7518621973929237, auc_score:0.7019210175450106\n",
      "[2023-11-30 17:27:16] - EarlyStopping counter: 8 out of 8\n",
      "[2023-11-30 17:27:16] - AUC score increased (0.700030 --> 0.701921).  Saving model ...\n",
      "[2023-11-30 17:27:16] - Early Stopping\n",
      "[2023-11-30 17:27:18] - openstack-msg_tf fold 2 - end training - score 0.5252236203180065\n",
      "[2023-11-30 17:27:18] - openstack-msg_tf fold 3 - start training\n"
     ]
    },
    {
     "name": "stdout",
     "output_type": "stream",
     "text": [
      "torch.Size([2148, 512]) torch.Size([2148, 512])\n"
     ]
    },
    {
     "data": {
      "application/vnd.jupyter.widget-view+json": {
       "model_id": "40a5c2ad0f54457e8b6d1c10b697f158",
       "version_major": 2,
       "version_minor": 0
      },
      "text/plain": [
       "  0%|          | 0/135 [00:00<?, ?it/s]"
      ]
     },
     "metadata": {},
     "output_type": "display_data"
    },
    {
     "name": "stderr",
     "output_type": "stream",
     "text": [
      "[2023-11-30 17:27:27] - openstack-msg_tf-random-3 - epoch:0, train_loss:0.7399090343424511, train_acc:0.4667752822064471, valid_loss:0.677020765771635, valid_acc:0.8077281191806331, auc_score:0.5790914721562438\n",
      "[2023-11-30 17:27:27] - AUC score increased (0.000000 --> 0.579091).  Saving model ...\n"
     ]
    },
    {
     "data": {
      "application/vnd.jupyter.widget-view+json": {
       "model_id": "d0306eb57fd24144b6ff934be4fe5589",
       "version_major": 2,
       "version_minor": 0
      },
      "text/plain": [
       "  0%|          | 0/135 [00:00<?, ?it/s]"
      ]
     },
     "metadata": {},
     "output_type": "display_data"
    },
    {
     "name": "stderr",
     "output_type": "stream",
     "text": [
      "[2023-11-30 17:27:36] - openstack-msg_tf-random-3 - epoch:1, train_loss:0.7309526073201549, train_acc:0.542650994995927, valid_loss:0.673981794098902, valid_acc:0.8081936685288641, auc_score:0.5927890450289136\n",
      "[2023-11-30 17:27:36] - AUC score increased (0.579091 --> 0.592789).  Saving model ...\n"
     ]
    },
    {
     "data": {
      "application/vnd.jupyter.widget-view+json": {
       "model_id": "eb68234fe3474495bca19fec10801bd4",
       "version_major": 2,
       "version_minor": 0
      },
      "text/plain": [
       "  0%|          | 0/135 [00:00<?, ?it/s]"
      ]
     },
     "metadata": {},
     "output_type": "display_data"
    },
    {
     "name": "stderr",
     "output_type": "stream",
     "text": [
      "[2023-11-30 17:27:45] - openstack-msg_tf-random-3 - epoch:2, train_loss:0.7311061156388421, train_acc:0.5404398929361108, valid_loss:0.6712524146119088, valid_acc:0.7560521415270018, auc_score:0.6010888210131072\n",
      "[2023-11-30 17:27:45] - AUC score increased (0.592789 --> 0.601089).  Saving model ...\n"
     ]
    },
    {
     "data": {
      "application/vnd.jupyter.widget-view+json": {
       "model_id": "ff89ed2604354b6780fe018ae9764ae0",
       "version_major": 2,
       "version_minor": 0
      },
      "text/plain": [
       "  0%|          | 0/135 [00:00<?, ?it/s]"
      ]
     },
     "metadata": {},
     "output_type": "display_data"
    },
    {
     "name": "stderr",
     "output_type": "stream",
     "text": [
      "[2023-11-30 17:27:54] - openstack-msg_tf-random-3 - epoch:3, train_loss:0.7243881543759457, train_acc:0.5405562667287327, valid_loss:0.6690392454243239, valid_acc:0.7439478584729982, auc_score:0.6079501492473957\n",
      "[2023-11-30 17:27:54] - AUC score increased (0.601089 --> 0.607950).  Saving model ...\n"
     ]
    },
    {
     "data": {
      "application/vnd.jupyter.widget-view+json": {
       "model_id": "9b30e76ffbe44ed8bac728af9ceb196a",
       "version_major": 2,
       "version_minor": 0
      },
      "text/plain": [
       "  0%|          | 0/135 [00:00<?, ?it/s]"
      ]
     },
     "metadata": {},
     "output_type": "display_data"
    },
    {
     "name": "stderr",
     "output_type": "stream",
     "text": [
      "[2023-11-30 17:28:03] - openstack-msg_tf-random-3 - epoch:4, train_loss:0.7190065929529817, train_acc:0.5332247177935528, valid_loss:0.6676032847310356, valid_acc:0.7621042830540037, auc_score:0.6120802597888734\n",
      "[2023-11-30 17:28:03] - AUC score increased (0.607950 --> 0.612080).  Saving model ...\n"
     ]
    },
    {
     "data": {
      "application/vnd.jupyter.widget-view+json": {
       "model_id": "e6596309384e47dd8d65b18d2e6ff403",
       "version_major": 2,
       "version_minor": 0
      },
      "text/plain": [
       "  0%|          | 0/135 [00:00<?, ?it/s]"
      ]
     },
     "metadata": {},
     "output_type": "display_data"
    },
    {
     "name": "stderr",
     "output_type": "stream",
     "text": [
      "[2023-11-30 17:28:12] - openstack-msg_tf-random-3 - epoch:5, train_loss:0.7294944558545373, train_acc:0.5452112184336088, valid_loss:0.6660645650751764, valid_acc:0.712756052141527, auc_score:0.6152079912477545\n",
      "[2023-11-30 17:28:12] - AUC score increased (0.612080 --> 0.615208).  Saving model ...\n"
     ]
    },
    {
     "data": {
      "application/vnd.jupyter.widget-view+json": {
       "model_id": "299a94d7938d4a01b970b7dc9bdf8687",
       "version_major": 2,
       "version_minor": 0
      },
      "text/plain": [
       "  0%|          | 0/135 [00:00<?, ?it/s]"
      ]
     },
     "metadata": {},
     "output_type": "display_data"
    },
    {
     "name": "stderr",
     "output_type": "stream",
     "text": [
      "[2023-11-30 17:28:21] - openstack-msg_tf-random-3 - epoch:6, train_loss:0.7194294972163369, train_acc:0.5520772721983009, valid_loss:0.6653189947707249, valid_acc:0.6042830540037244, auc_score:0.6171124150293189\n",
      "[2023-11-30 17:28:21] - AUC score increased (0.615208 --> 0.617112).  Saving model ...\n"
     ]
    },
    {
     "data": {
      "application/vnd.jupyter.widget-view+json": {
       "model_id": "6a5a74e2b1784eb18a83f9c12b8d3065",
       "version_major": 2,
       "version_minor": 0
      },
      "text/plain": [
       "  0%|          | 0/135 [00:00<?, ?it/s]"
      ]
     },
     "metadata": {},
     "output_type": "display_data"
    },
    {
     "name": "stderr",
     "output_type": "stream",
     "text": [
      "[2023-11-30 17:28:30] - openstack-msg_tf-random-3 - epoch:7, train_loss:0.7191397715930014, train_acc:0.5347375770976376, valid_loss:0.6640332538766346, valid_acc:0.6745810055865922, auc_score:0.6189724601412013\n",
      "[2023-11-30 17:28:30] - AUC score increased (0.617112 --> 0.618972).  Saving model ...\n"
     ]
    },
    {
     "data": {
      "application/vnd.jupyter.widget-view+json": {
       "model_id": "b579a30e4a84461e9672da1b340b1209",
       "version_major": 2,
       "version_minor": 0
      },
      "text/plain": [
       "  0%|          | 0/135 [00:00<?, ?it/s]"
      ]
     },
     "metadata": {},
     "output_type": "display_data"
    },
    {
     "name": "stderr",
     "output_type": "stream",
     "text": [
      "[2023-11-30 17:28:39] - openstack-msg_tf-random-3 - epoch:8, train_loss:0.7138668880131918, train_acc:0.5490515535901315, valid_loss:0.6628883491015302, valid_acc:0.6494413407821229, auc_score:0.6202575120545973\n",
      "[2023-11-30 17:28:39] - AUC score increased (0.618972 --> 0.620258).  Saving model ...\n"
     ]
    },
    {
     "data": {
      "application/vnd.jupyter.widget-view+json": {
       "model_id": "497921b139124f8fa22d168755ac3001",
       "version_major": 2,
       "version_minor": 0
      },
      "text/plain": [
       "  0%|          | 0/135 [00:00<?, ?it/s]"
      ]
     },
     "metadata": {},
     "output_type": "display_data"
    },
    {
     "name": "stderr",
     "output_type": "stream",
     "text": [
      "[2023-11-30 17:28:48] - openstack-msg_tf-random-3 - epoch:9, train_loss:0.7123082634263165, train_acc:0.5490515535901315, valid_loss:0.6620456938193053, valid_acc:0.6485102420856611, auc_score:0.6220490596545797\n",
      "[2023-11-30 17:28:48] - AUC score increased (0.620258 --> 0.622049).  Saving model ...\n"
     ]
    },
    {
     "data": {
      "application/vnd.jupyter.widget-view+json": {
       "model_id": "5fa3ca98e5fe46ab9a2a6826c3272cc5",
       "version_major": 2,
       "version_minor": 0
      },
      "text/plain": [
       "  0%|          | 0/135 [00:00<?, ?it/s]"
      ]
     },
     "metadata": {},
     "output_type": "display_data"
    },
    {
     "name": "stderr",
     "output_type": "stream",
     "text": [
      "[2023-11-30 17:28:57] - openstack-msg_tf-random-3 - epoch:10, train_loss:0.710379015985973, train_acc:0.5682532293727452, valid_loss:0.6612396036002445, valid_acc:0.6694599627560521, auc_score:0.6234662828233324\n",
      "[2023-11-30 17:28:57] - AUC score increased (0.622049 --> 0.623466).  Saving model ...\n"
     ]
    },
    {
     "data": {
      "application/vnd.jupyter.widget-view+json": {
       "model_id": "0d31b30772c74605b5953615afd143df",
       "version_major": 2,
       "version_minor": 0
      },
      "text/plain": [
       "  0%|          | 0/135 [00:00<?, ?it/s]"
      ]
     },
     "metadata": {},
     "output_type": "display_data"
    },
    {
     "name": "stderr",
     "output_type": "stream",
     "text": [
      "[2023-11-30 17:29:06] - openstack-msg_tf-random-3 - epoch:11, train_loss:0.6973733225121815, train_acc:0.5679041079948796, valid_loss:0.6604163490194183, valid_acc:0.6121973929236499, auc_score:0.6237981580922575\n",
      "[2023-11-30 17:29:06] - AUC score increased (0.623466 --> 0.623798).  Saving model ...\n"
     ]
    },
    {
     "data": {
      "application/vnd.jupyter.widget-view+json": {
       "model_id": "9b7b38faf1c44284ac597a8729c89543",
       "version_major": 2,
       "version_minor": 0
      },
      "text/plain": [
       "  0%|          | 0/135 [00:00<?, ?it/s]"
      ]
     },
     "metadata": {},
     "output_type": "display_data"
    },
    {
     "name": "stderr",
     "output_type": "stream",
     "text": [
      "[2023-11-30 17:29:15] - openstack-msg_tf-random-3 - epoch:12, train_loss:0.7002017096328358, train_acc:0.5622017921564064, valid_loss:0.6596148381464086, valid_acc:0.595903165735568, auc_score:0.6247899248842778\n",
      "[2023-11-30 17:29:15] - AUC score increased (0.623798 --> 0.624790).  Saving model ...\n"
     ]
    },
    {
     "data": {
      "application/vnd.jupyter.widget-view+json": {
       "model_id": "9dd66f7967b24b45ab839449f4a55c2c",
       "version_major": 2,
       "version_minor": 0
      },
      "text/plain": [
       "  0%|          | 0/135 [00:00<?, ?it/s]"
      ]
     },
     "metadata": {},
     "output_type": "display_data"
    },
    {
     "name": "stderr",
     "output_type": "stream",
     "text": [
      "[2023-11-30 17:29:24] - openstack-msg_tf-random-3 - epoch:13, train_loss:0.7075950018216189, train_acc:0.5540556266728732, valid_loss:0.6588633263577296, valid_acc:0.595437616387337, auc_score:0.626395275022334\n",
      "[2023-11-30 17:29:24] - AUC score increased (0.624790 --> 0.626395).  Saving model ...\n"
     ]
    },
    {
     "data": {
      "application/vnd.jupyter.widget-view+json": {
       "model_id": "93157bf3b21642dd8120e395c7f918af",
       "version_major": 2,
       "version_minor": 0
      },
      "text/plain": [
       "  0%|          | 0/135 [00:00<?, ?it/s]"
      ]
     },
     "metadata": {},
     "output_type": "display_data"
    },
    {
     "name": "stderr",
     "output_type": "stream",
     "text": [
      "[2023-11-30 17:29:32] - openstack-msg_tf-random-3 - epoch:14, train_loss:0.7034174588150269, train_acc:0.5420691260328174, valid_loss:0.657697256161958, valid_acc:0.6252327746741154, auc_score:0.6279234448652915\n",
      "[2023-11-30 17:29:32] - AUC score increased (0.626395 --> 0.627923).  Saving model ...\n"
     ]
    },
    {
     "data": {
      "application/vnd.jupyter.widget-view+json": {
       "model_id": "1508389cfecb42c9b41f4441cdd94d48",
       "version_major": 2,
       "version_minor": 0
      },
      "text/plain": [
       "  0%|          | 0/135 [00:00<?, ?it/s]"
      ]
     },
     "metadata": {},
     "output_type": "display_data"
    },
    {
     "name": "stderr",
     "output_type": "stream",
     "text": [
      "[2023-11-30 17:29:41] - openstack-msg_tf-random-3 - epoch:15, train_loss:0.698158278074612, train_acc:0.5687187245432329, valid_loss:0.6582902804211309, valid_acc:0.5498137802607076, auc_score:0.6286682347129955\n",
      "[2023-11-30 17:29:41] - EarlyStopping counter: 1 out of 8\n",
      "[2023-11-30 17:29:41] - AUC score increased (0.627923 --> 0.628668).  Saving model ...\n"
     ]
    },
    {
     "data": {
      "application/vnd.jupyter.widget-view+json": {
       "model_id": "267bde2a13d14ae98ead1787e38870d6",
       "version_major": 2,
       "version_minor": 0
      },
      "text/plain": [
       "  0%|          | 0/135 [00:00<?, ?it/s]"
      ]
     },
     "metadata": {},
     "output_type": "display_data"
    },
    {
     "name": "stderr",
     "output_type": "stream",
     "text": [
      "[2023-11-30 17:29:50] - openstack-msg_tf-random-3 - epoch:16, train_loss:0.6999039724183057, train_acc:0.5559176073548237, valid_loss:0.6577907879481324, valid_acc:0.5367783985102421, auc_score:0.6296426359386185\n",
      "[2023-11-30 17:29:50] - EarlyStopping counter: 2 out of 8\n",
      "[2023-11-30 17:29:50] - AUC score increased (0.628668 --> 0.629643).  Saving model ...\n"
     ]
    },
    {
     "data": {
      "application/vnd.jupyter.widget-view+json": {
       "model_id": "80ca2c5d2885439884e69e9c5c08fded",
       "version_major": 2,
       "version_minor": 0
      },
      "text/plain": [
       "  0%|          | 0/135 [00:00<?, ?it/s]"
      ]
     },
     "metadata": {},
     "output_type": "display_data"
    },
    {
     "name": "stderr",
     "output_type": "stream",
     "text": [
      "[2023-11-30 17:29:59] - openstack-msg_tf-random-3 - epoch:17, train_loss:0.6984009517719398, train_acc:0.5631327824973816, valid_loss:0.6567228547465646, valid_acc:0.5409683426443203, auc_score:0.630794551842969\n",
      "[2023-11-30 17:29:59] - AUC score increased (0.629643 --> 0.630795).  Saving model ...\n"
     ]
    },
    {
     "data": {
      "application/vnd.jupyter.widget-view+json": {
       "model_id": "9ddc50a8e8bb4d6aa49b3b9970c1d4da",
       "version_major": 2,
       "version_minor": 0
      },
      "text/plain": [
       "  0%|          | 0/135 [00:00<?, ?it/s]"
      ]
     },
     "metadata": {},
     "output_type": "display_data"
    },
    {
     "name": "stderr",
     "output_type": "stream",
     "text": [
      "[2023-11-30 17:30:08] - openstack-msg_tf-random-3 - epoch:18, train_loss:0.6981928491015297, train_acc:0.5513790294425696, valid_loss:0.654748595515665, valid_acc:0.5735567970204841, auc_score:0.6323941134588928\n",
      "[2023-11-30 17:30:08] - AUC score increased (0.630795 --> 0.632394).  Saving model ...\n"
     ]
    },
    {
     "data": {
      "application/vnd.jupyter.widget-view+json": {
       "model_id": "bbe8a1b23cd547ed89e62e3d9d81eb72",
       "version_major": 2,
       "version_minor": 0
      },
      "text/plain": [
       "  0%|          | 0/135 [00:00<?, ?it/s]"
      ]
     },
     "metadata": {},
     "output_type": "display_data"
    },
    {
     "name": "stderr",
     "output_type": "stream",
     "text": [
      "[2023-11-30 17:30:17] - openstack-msg_tf-random-3 - epoch:19, train_loss:0.6951829325288523, train_acc:0.5708134528104271, valid_loss:0.6535615695699412, valid_acc:0.62756052141527, auc_score:0.6339357898534925\n",
      "[2023-11-30 17:30:17] - AUC score increased (0.632394 --> 0.633936).  Saving model ...\n"
     ]
    },
    {
     "data": {
      "application/vnd.jupyter.widget-view+json": {
       "model_id": "a785577e19f847a2948eefb7bdb20b53",
       "version_major": 2,
       "version_minor": 0
      },
      "text/plain": [
       "  0%|          | 0/135 [00:00<?, ?it/s]"
      ]
     },
     "metadata": {},
     "output_type": "display_data"
    },
    {
     "name": "stderr",
     "output_type": "stream",
     "text": [
      "[2023-11-30 17:30:26] - openstack-msg_tf-random-3 - epoch:20, train_loss:0.6932853975757154, train_acc:0.5513790294425696, valid_loss:0.6527152464376481, valid_acc:0.6289571694599627, auc_score:0.6356067432423828\n",
      "[2023-11-30 17:30:26] - AUC score increased (0.633936 --> 0.635607).  Saving model ...\n"
     ]
    },
    {
     "data": {
      "application/vnd.jupyter.widget-view+json": {
       "model_id": "10960793371d4fdc93a131579a274c63",
       "version_major": 2,
       "version_minor": 0
      },
      "text/plain": [
       "  0%|          | 0/135 [00:00<?, ?it/s]"
      ]
     },
     "metadata": {},
     "output_type": "display_data"
    },
    {
     "name": "stderr",
     "output_type": "stream",
     "text": [
      "[2023-11-30 17:30:35] - openstack-msg_tf-random-3 - epoch:21, train_loss:0.6928000626874222, train_acc:0.5808215989759107, valid_loss:0.6519894077125208, valid_acc:0.5777467411545624, auc_score:0.6368937246631562\n",
      "[2023-11-30 17:30:35] - AUC score increased (0.635607 --> 0.636894).  Saving model ...\n"
     ]
    },
    {
     "data": {
      "application/vnd.jupyter.widget-view+json": {
       "model_id": "027bdc2d4c454f2c9015e3ccfa67dda8",
       "version_major": 2,
       "version_minor": 0
      },
      "text/plain": [
       "  0%|          | 0/135 [00:00<?, ?it/s]"
      ]
     },
     "metadata": {},
     "output_type": "display_data"
    },
    {
     "name": "stderr",
     "output_type": "stream",
     "text": [
      "[2023-11-30 17:30:44] - openstack-msg_tf-random-3 - epoch:22, train_loss:0.6919459081855875, train_acc:0.5589433259629931, valid_loss:0.6530529363861297, valid_acc:0.5339851024208566, auc_score:0.6376751751510322\n",
      "[2023-11-30 17:30:44] - EarlyStopping counter: 1 out of 8\n",
      "[2023-11-30 17:30:44] - AUC score increased (0.636894 --> 0.637675).  Saving model ...\n"
     ]
    },
    {
     "data": {
      "application/vnd.jupyter.widget-view+json": {
       "model_id": "328a5de191c64b50acc353683fa504ec",
       "version_major": 2,
       "version_minor": 0
      },
      "text/plain": [
       "  0%|          | 0/135 [00:00<?, ?it/s]"
      ]
     },
     "metadata": {},
     "output_type": "display_data"
    },
    {
     "name": "stderr",
     "output_type": "stream",
     "text": [
      "[2023-11-30 17:30:53] - openstack-msg_tf-random-3 - epoch:23, train_loss:0.6885845326134313, train_acc:0.5634819038752473, valid_loss:0.6503501543341624, valid_acc:0.5819366852886406, auc_score:0.6395506563219344\n",
      "[2023-11-30 17:30:53] - AUC score increased (0.637675 --> 0.639551).  Saving model ...\n"
     ]
    },
    {
     "data": {
      "application/vnd.jupyter.widget-view+json": {
       "model_id": "57245bd972934c7ba857f2a994a40cfd",
       "version_major": 2,
       "version_minor": 0
      },
      "text/plain": [
       "  0%|          | 0/135 [00:00<?, ?it/s]"
      ]
     },
     "metadata": {},
     "output_type": "display_data"
    },
    {
     "name": "stderr",
     "output_type": "stream",
     "text": [
      "[2023-11-30 17:31:02] - openstack-msg_tf-random-3 - epoch:24, train_loss:0.6857341069372211, train_acc:0.5809379727685325, valid_loss:0.649941962635495, valid_acc:0.5647113594040968, auc_score:0.6412447637993544\n",
      "[2023-11-30 17:31:02] - AUC score increased (0.639551 --> 0.641245).  Saving model ...\n"
     ]
    },
    {
     "data": {
      "application/vnd.jupyter.widget-view+json": {
       "model_id": "ab08bcc2a7fa44a897052c41079bee97",
       "version_major": 2,
       "version_minor": 0
      },
      "text/plain": [
       "  0%|          | 0/135 [00:00<?, ?it/s]"
      ]
     },
     "metadata": {},
     "output_type": "display_data"
    },
    {
     "name": "stderr",
     "output_type": "stream",
     "text": [
      "[2023-11-30 17:31:11] - openstack-msg_tf-random-3 - epoch:25, train_loss:0.6852346702961015, train_acc:0.5701152100546957, valid_loss:0.6485101136637356, valid_acc:0.5819366852886406, auc_score:0.6434463317170493\n",
      "[2023-11-30 17:31:11] - AUC score increased (0.641245 --> 0.643446).  Saving model ...\n"
     ]
    },
    {
     "data": {
      "application/vnd.jupyter.widget-view+json": {
       "model_id": "f89d2b2c7f9640179f62c86d061f936c",
       "version_major": 2,
       "version_minor": 0
      },
      "text/plain": [
       "  0%|          | 0/135 [00:00<?, ?it/s]"
      ]
     },
     "metadata": {},
     "output_type": "display_data"
    },
    {
     "name": "stderr",
     "output_type": "stream",
     "text": [
      "[2023-11-30 17:31:20] - openstack-msg_tf-random-3 - epoch:26, train_loss:0.68440844716341, train_acc:0.5850110555102991, valid_loss:0.6485158078497348, valid_acc:0.5502793296089385, auc_score:0.6450439638255957\n",
      "[2023-11-30 17:31:20] - EarlyStopping counter: 1 out of 8\n",
      "[2023-11-30 17:31:20] - AUC score increased (0.643446 --> 0.645044).  Saving model ...\n"
     ]
    },
    {
     "data": {
      "application/vnd.jupyter.widget-view+json": {
       "model_id": "e0653adfa58848d4ac0165b401b6dc9f",
       "version_major": 2,
       "version_minor": 0
      },
      "text/plain": [
       "  0%|          | 0/135 [00:00<?, ?it/s]"
      ]
     },
     "metadata": {},
     "output_type": "display_data"
    },
    {
     "name": "stderr",
     "output_type": "stream",
     "text": [
      "[2023-11-30 17:31:28] - openstack-msg_tf-random-3 - epoch:27, train_loss:0.6835890972862612, train_acc:0.5772140114046317, valid_loss:0.6467995027590064, valid_acc:0.569366852886406, auc_score:0.6469831187399545\n",
      "[2023-11-30 17:31:28] - AUC score increased (0.645044 --> 0.646983).  Saving model ...\n"
     ]
    },
    {
     "data": {
      "application/vnd.jupyter.widget-view+json": {
       "model_id": "f8fe89b09212432099564f949de081bf",
       "version_major": 2,
       "version_minor": 0
      },
      "text/plain": [
       "  0%|          | 0/135 [00:00<?, ?it/s]"
      ]
     },
     "metadata": {},
     "output_type": "display_data"
    },
    {
     "name": "stderr",
     "output_type": "stream",
     "text": [
      "[2023-11-30 17:31:37] - openstack-msg_tf-random-3 - epoch:28, train_loss:0.6786903981611446, train_acc:0.5693005935063423, valid_loss:0.6450986394891082, valid_acc:0.5940409683426443, auc_score:0.6488875425215188\n",
      "[2023-11-30 17:31:37] - AUC score increased (0.646983 --> 0.648888).  Saving model ...\n"
     ]
    },
    {
     "data": {
      "application/vnd.jupyter.widget-view+json": {
       "model_id": "4bbb7cfd113649d7ab611c12c91fe55f",
       "version_major": 2,
       "version_minor": 0
      },
      "text/plain": [
       "  0%|          | 0/135 [00:00<?, ?it/s]"
      ]
     },
     "metadata": {},
     "output_type": "display_data"
    },
    {
     "name": "stderr",
     "output_type": "stream",
     "text": [
      "[2023-11-30 17:31:46] - openstack-msg_tf-random-3 - epoch:29, train_loss:0.6811564174808807, train_acc:0.5822180844873734, valid_loss:0.6444607553535333, valid_acc:0.5735567970204841, auc_score:0.6507977548252155\n",
      "[2023-11-30 17:31:46] - AUC score increased (0.648888 --> 0.650798).  Saving model ...\n"
     ]
    },
    {
     "data": {
      "application/vnd.jupyter.widget-view+json": {
       "model_id": "9cdc8108d797431e8a3fb45a003ad399",
       "version_major": 2,
       "version_minor": 0
      },
      "text/plain": [
       "  0%|          | 0/135 [00:00<?, ?it/s]"
      ]
     },
     "metadata": {},
     "output_type": "display_data"
    },
    {
     "name": "stderr",
     "output_type": "stream",
     "text": [
      "[2023-11-30 17:31:55] - openstack-msg_tf-random-3 - epoch:30, train_loss:0.6804912974660199, train_acc:0.5817525893168858, valid_loss:0.6430915743945032, valid_acc:0.5791433891992551, auc_score:0.6532289341208296\n",
      "[2023-11-30 17:31:55] - AUC score increased (0.650798 --> 0.653229).  Saving model ...\n"
     ]
    },
    {
     "data": {
      "application/vnd.jupyter.widget-view+json": {
       "model_id": "5af8fc1ef06e44ff8f8c02e8b35f72ee",
       "version_major": 2,
       "version_minor": 0
      },
      "text/plain": [
       "  0%|          | 0/135 [00:00<?, ?it/s]"
      ]
     },
     "metadata": {},
     "output_type": "display_data"
    },
    {
     "name": "stderr",
     "output_type": "stream",
     "text": [
      "[2023-11-30 17:32:04] - openstack-msg_tf-random-3 - epoch:31, train_loss:0.6671010280715342, train_acc:0.5851274293029209, valid_loss:0.6418362012344587, valid_acc:0.6433891992551211, auc_score:0.6557874609033568\n",
      "[2023-11-30 17:32:04] - AUC score increased (0.653229 --> 0.655787).  Saving model ...\n"
     ]
    },
    {
     "data": {
      "application/vnd.jupyter.widget-view+json": {
       "model_id": "1ec7400b51d542da82e0248fc39482ef",
       "version_major": 2,
       "version_minor": 0
      },
      "text/plain": [
       "  0%|          | 0/135 [00:00<?, ?it/s]"
      ]
     },
     "metadata": {},
     "output_type": "display_data"
    },
    {
     "name": "stderr",
     "output_type": "stream",
     "text": [
      "[2023-11-30 17:32:13] - openstack-msg_tf-random-3 - epoch:32, train_loss:0.6674876680588342, train_acc:0.6210869312230886, valid_loss:0.6408719048597737, valid_acc:0.5721601489757915, auc_score:0.6576725896111464\n",
      "[2023-11-30 17:32:13] - AUC score increased (0.655787 --> 0.657673).  Saving model ...\n"
     ]
    },
    {
     "data": {
      "application/vnd.jupyter.widget-view+json": {
       "model_id": "6856ef9fcd2645a79c9c8fa44b27d74f",
       "version_major": 2,
       "version_minor": 0
      },
      "text/plain": [
       "  0%|          | 0/135 [00:00<?, ?it/s]"
      ]
     },
     "metadata": {},
     "output_type": "display_data"
    },
    {
     "name": "stderr",
     "output_type": "stream",
     "text": [
      "[2023-11-30 17:32:22] - openstack-msg_tf-random-3 - epoch:33, train_loss:0.6719994943480158, train_acc:0.576748516234144, valid_loss:0.6394247897732414, valid_acc:0.6415270018621974, auc_score:0.6604086310724009\n",
      "[2023-11-30 17:32:22] - AUC score increased (0.657673 --> 0.660409).  Saving model ...\n"
     ]
    },
    {
     "data": {
      "application/vnd.jupyter.widget-view+json": {
       "model_id": "6f7522a11fbf4fd5be5009fcd2fe33c5",
       "version_major": 2,
       "version_minor": 0
      },
      "text/plain": [
       "  0%|          | 0/135 [00:00<?, ?it/s]"
      ]
     },
     "metadata": {},
     "output_type": "display_data"
    },
    {
     "name": "stderr",
     "output_type": "stream",
     "text": [
      "[2023-11-30 17:32:31] - openstack-msg_tf-random-3 - epoch:34, train_loss:0.6684679945786257, train_acc:0.5846619341324334, valid_loss:0.639082306923147, valid_acc:0.6764432029795159, auc_score:0.6632160643066218\n",
      "[2023-11-30 17:32:31] - AUC score increased (0.660409 --> 0.663216).  Saving model ...\n"
     ]
    },
    {
     "data": {
      "application/vnd.jupyter.widget-view+json": {
       "model_id": "f185390d9d8343b9ac2bfb900e0c6751",
       "version_major": 2,
       "version_minor": 0
      },
      "text/plain": [
       "  0%|          | 0/135 [00:00<?, ?it/s]"
      ]
     },
     "metadata": {},
     "output_type": "display_data"
    },
    {
     "name": "stderr",
     "output_type": "stream",
     "text": [
      "[2023-11-30 17:32:40] - openstack-msg_tf-random-3 - epoch:35, train_loss:0.6623488793991281, train_acc:0.6054928430117538, valid_loss:0.6373134761549241, valid_acc:0.664804469273743, auc_score:0.6656549616317458\n",
      "[2023-11-30 17:32:40] - AUC score increased (0.663216 --> 0.665655).  Saving model ...\n"
     ]
    },
    {
     "data": {
      "application/vnd.jupyter.widget-view+json": {
       "model_id": "1432cebedded44a3bb42846d108a2105",
       "version_major": 2,
       "version_minor": 0
      },
      "text/plain": [
       "  0%|          | 0/135 [00:00<?, ?it/s]"
      ]
     },
     "metadata": {},
     "output_type": "display_data"
    },
    {
     "name": "stderr",
     "output_type": "stream",
     "text": [
      "[2023-11-30 17:32:49] - openstack-msg_tf-random-3 - epoch:36, train_loss:0.6686187190905752, train_acc:0.600488769929012, valid_loss:0.635355448478649, valid_acc:0.6075418994413407, auc_score:0.6679587934404467\n",
      "[2023-11-30 17:32:49] - AUC score increased (0.665655 --> 0.667959).  Saving model ...\n"
     ]
    },
    {
     "data": {
      "application/vnd.jupyter.widget-view+json": {
       "model_id": "441cab29d51142b0b9124c61f6541c2c",
       "version_major": 2,
       "version_minor": 0
      },
      "text/plain": [
       "  0%|          | 0/135 [00:00<?, ?it/s]"
      ]
     },
     "metadata": {},
     "output_type": "display_data"
    },
    {
     "name": "stderr",
     "output_type": "stream",
     "text": [
      "[2023-11-30 17:32:58] - openstack-msg_tf-random-3 - epoch:37, train_loss:0.6629810237460013, train_acc:0.5875712789479809, valid_loss:0.6343448995655919, valid_acc:0.659217877094972, auc_score:0.6711328330763873\n",
      "[2023-11-30 17:32:58] - AUC score increased (0.667959 --> 0.671133).  Saving model ...\n"
     ]
    },
    {
     "data": {
      "application/vnd.jupyter.widget-view+json": {
       "model_id": "4c1c3b0a5cfa42cb934b8a87cb01de0b",
       "version_major": 2,
       "version_minor": 0
      },
      "text/plain": [
       "  0%|          | 0/135 [00:00<?, ?it/s]"
      ]
     },
     "metadata": {},
     "output_type": "display_data"
    },
    {
     "name": "stderr",
     "output_type": "stream",
     "text": [
      "[2023-11-30 17:33:06] - openstack-msg_tf-random-3 - epoch:38, train_loss:0.6566465201178655, train_acc:0.6244617712091237, valid_loss:0.6328200804454654, valid_acc:0.6303538175046555, auc_score:0.6730546224243489\n",
      "[2023-11-30 17:33:06] - AUC score increased (0.671133 --> 0.673055).  Saving model ...\n"
     ]
    },
    {
     "data": {
      "application/vnd.jupyter.widget-view+json": {
       "model_id": "f333b23045f94e39b823371750169cca",
       "version_major": 2,
       "version_minor": 0
      },
      "text/plain": [
       "  0%|          | 0/135 [00:00<?, ?it/s]"
      ]
     },
     "metadata": {},
     "output_type": "display_data"
    },
    {
     "name": "stderr",
     "output_type": "stream",
     "text": [
      "[2023-11-30 17:33:15] - openstack-msg_tf-random-3 - epoch:39, train_loss:0.6500356346628905, train_acc:0.6127080181543116, valid_loss:0.6317392109270646, valid_acc:0.6536312849162011, auc_score:0.6761881424053625\n",
      "[2023-11-30 17:33:15] - AUC score increased (0.673055 --> 0.676188).  Saving model ...\n"
     ]
    },
    {
     "data": {
      "application/vnd.jupyter.widget-view+json": {
       "model_id": "96859e11d63c4ef1aa90f423dd1051ec",
       "version_major": 2,
       "version_minor": 0
      },
      "text/plain": [
       "  0%|          | 0/135 [00:00<?, ?it/s]"
      ]
     },
     "metadata": {},
     "output_type": "display_data"
    },
    {
     "name": "stderr",
     "output_type": "stream",
     "text": [
      "[2023-11-30 17:33:24] - openstack-msg_tf-random-3 - epoch:40, train_loss:0.6474658044935813, train_acc:0.6085185616199232, valid_loss:0.6304392318485835, valid_acc:0.6340782122905028, auc_score:0.678551788942765\n",
      "[2023-11-30 17:33:24] - AUC score increased (0.676188 --> 0.678552).  Saving model ...\n"
     ]
    },
    {
     "data": {
      "application/vnd.jupyter.widget-view+json": {
       "model_id": "082479da45f64e47a95b9def54ba46f3",
       "version_major": 2,
       "version_minor": 0
      },
      "text/plain": [
       "  0%|          | 0/135 [00:00<?, ?it/s]"
      ]
     },
     "metadata": {},
     "output_type": "display_data"
    },
    {
     "name": "stderr",
     "output_type": "stream",
     "text": [
      "[2023-11-30 17:33:33] - openstack-msg_tf-random-3 - epoch:41, train_loss:0.649081318519674, train_acc:0.6244617712091237, valid_loss:0.6294590233646513, valid_acc:0.6401303538175046, auc_score:0.6808440437072011\n",
      "[2023-11-30 17:33:33] - AUC score increased (0.678552 --> 0.680844).  Saving model ...\n"
     ]
    },
    {
     "data": {
      "application/vnd.jupyter.widget-view+json": {
       "model_id": "b48ed360785541af9e7fcc30c6a84e13",
       "version_major": 2,
       "version_minor": 0
      },
      "text/plain": [
       "  0%|          | 0/135 [00:00<?, ?it/s]"
      ]
     },
     "metadata": {},
     "output_type": "display_data"
    },
    {
     "name": "stderr",
     "output_type": "stream",
     "text": [
      "[2023-11-30 17:33:42] - openstack-msg_tf-random-3 - epoch:42, train_loss:0.6489122807875537, train_acc:0.607587571278948, valid_loss:0.6284116963878468, valid_acc:0.6587523277467412, auc_score:0.6838849473340962\n",
      "[2023-11-30 17:33:42] - AUC score increased (0.680844 --> 0.683885).  Saving model ...\n"
     ]
    },
    {
     "data": {
      "application/vnd.jupyter.widget-view+json": {
       "model_id": "858ee89793a64bc5a734d9e57835a0e7",
       "version_major": 2,
       "version_minor": 0
      },
      "text/plain": [
       "  0%|          | 0/135 [00:00<?, ?it/s]"
      ]
     },
     "metadata": {},
     "output_type": "display_data"
    },
    {
     "name": "stderr",
     "output_type": "stream",
     "text": [
      "[2023-11-30 17:33:51] - openstack-msg_tf-random-3 - epoch:43, train_loss:0.6466557110173037, train_acc:0.6196904457116258, valid_loss:0.6291285953042227, valid_acc:0.6918063314711359, auc_score:0.6873098229291079\n",
      "[2023-11-30 17:33:51] - EarlyStopping counter: 1 out of 8\n",
      "[2023-11-30 17:33:51] - AUC score increased (0.683885 --> 0.687310).  Saving model ...\n"
     ]
    },
    {
     "data": {
      "application/vnd.jupyter.widget-view+json": {
       "model_id": "2881639877e24f97a73c6efca6cea4f2",
       "version_major": 2,
       "version_minor": 0
      },
      "text/plain": [
       "  0%|          | 0/135 [00:00<?, ?it/s]"
      ]
     },
     "metadata": {},
     "output_type": "display_data"
    },
    {
     "name": "stderr",
     "output_type": "stream",
     "text": [
      "[2023-11-30 17:34:00] - openstack-msg_tf-random-3 - epoch:44, train_loss:0.6437790073852357, train_acc:0.6255091353427208, valid_loss:0.6275383641377952, valid_acc:0.6866852886405959, auc_score:0.6897467907468544\n",
      "[2023-11-30 17:34:00] - AUC score increased (0.687310 --> 0.689747).  Saving model ...\n"
     ]
    },
    {
     "data": {
      "application/vnd.jupyter.widget-view+json": {
       "model_id": "242b2277d2884ee19f9eedec9df1dc08",
       "version_major": 2,
       "version_minor": 0
      },
      "text/plain": [
       "  0%|          | 0/135 [00:00<?, ?it/s]"
      ]
     },
     "metadata": {},
     "output_type": "display_data"
    },
    {
     "name": "stderr",
     "output_type": "stream",
     "text": [
      "[2023-11-30 17:34:09] - openstack-msg_tf-random-3 - epoch:45, train_loss:0.6332622000783505, train_acc:0.6508786221342954, valid_loss:0.6257400637010401, valid_acc:0.6229050279329609, auc_score:0.6917939980743517\n",
      "[2023-11-30 17:34:09] - AUC score increased (0.689747 --> 0.691794).  Saving model ...\n"
     ]
    },
    {
     "data": {
      "application/vnd.jupyter.widget-view+json": {
       "model_id": "1b94af93df0c43a791e09d16a58d5018",
       "version_major": 2,
       "version_minor": 0
      },
      "text/plain": [
       "  0%|          | 0/135 [00:00<?, ?it/s]"
      ]
     },
     "metadata": {},
     "output_type": "display_data"
    },
    {
     "name": "stderr",
     "output_type": "stream",
     "text": [
      "[2023-11-30 17:34:18] - openstack-msg_tf-random-3 - epoch:46, train_loss:0.6328393019953443, train_acc:0.6295822180844873, valid_loss:0.624400692390108, valid_acc:0.6606145251396648, auc_score:0.6945551231315132\n",
      "[2023-11-30 17:34:18] - AUC score increased (0.691794 --> 0.694555).  Saving model ...\n"
     ]
    },
    {
     "data": {
      "application/vnd.jupyter.widget-view+json": {
       "model_id": "5417f6a20e5942daa32dfe91cba30759",
       "version_major": 2,
       "version_minor": 0
      },
      "text/plain": [
       "  0%|          | 0/135 [00:00<?, ?it/s]"
      ]
     },
     "metadata": {},
     "output_type": "display_data"
    },
    {
     "name": "stderr",
     "output_type": "stream",
     "text": [
      "[2023-11-30 17:34:26] - openstack-msg_tf-random-3 - epoch:47, train_loss:0.6335185676774975, train_acc:0.6415687187245432, valid_loss:0.62552710712733, valid_acc:0.6904096834264432, auc_score:0.6964653354352102\n",
      "[2023-11-30 17:34:26] - EarlyStopping counter: 1 out of 8\n",
      "[2023-11-30 17:34:26] - AUC score increased (0.694555 --> 0.696465).  Saving model ...\n"
     ]
    },
    {
     "data": {
      "application/vnd.jupyter.widget-view+json": {
       "model_id": "325ef2964e9d42be97d205972294131c",
       "version_major": 2,
       "version_minor": 0
      },
      "text/plain": [
       "  0%|          | 0/135 [00:00<?, ?it/s]"
      ]
     },
     "metadata": {},
     "output_type": "display_data"
    },
    {
     "name": "stderr",
     "output_type": "stream",
     "text": [
      "[2023-11-30 17:34:35] - openstack-msg_tf-random-3 - epoch:48, train_loss:0.6294355774305896, train_acc:0.6608867682997789, valid_loss:0.624834917333095, valid_acc:0.6131284916201117, auc_score:0.6982617068036359\n",
      "[2023-11-30 17:34:35] - EarlyStopping counter: 2 out of 8\n",
      "[2023-11-30 17:34:35] - AUC score increased (0.696465 --> 0.698262).  Saving model ...\n"
     ]
    },
    {
     "data": {
      "application/vnd.jupyter.widget-view+json": {
       "model_id": "600d2b1fd35f4f5db009251df9f9bda4",
       "version_major": 2,
       "version_minor": 0
      },
      "text/plain": [
       "  0%|          | 0/135 [00:00<?, ?it/s]"
      ]
     },
     "metadata": {},
     "output_type": "display_data"
    },
    {
     "name": "stderr",
     "output_type": "stream",
     "text": [
      "[2023-11-30 17:34:44] - openstack-msg_tf-random-3 - epoch:49, train_loss:0.6277087407465601, train_acc:0.6399394856278366, valid_loss:0.6249895119134274, valid_acc:0.6927374301675978, auc_score:0.700283830535226\n",
      "[2023-11-30 17:34:44] - EarlyStopping counter: 3 out of 8\n",
      "[2023-11-30 17:34:44] - AUC score increased (0.698262 --> 0.700284).  Saving model ...\n"
     ]
    },
    {
     "data": {
      "application/vnd.jupyter.widget-view+json": {
       "model_id": "d3888cee6a2f4c609a4ec51d96edc364",
       "version_major": 2,
       "version_minor": 0
      },
      "text/plain": [
       "  0%|          | 0/135 [00:00<?, ?it/s]"
      ]
     },
     "metadata": {},
     "output_type": "display_data"
    },
    {
     "name": "stderr",
     "output_type": "stream",
     "text": [
      "[2023-11-30 17:34:54] - openstack-msg_tf-random-3 - epoch:50, train_loss:0.6236554128208358, train_acc:0.659606656580938, valid_loss:0.6261019050187017, valid_acc:0.7081005586592178, auc_score:0.7023599804733853\n",
      "[2023-11-30 17:34:54] - EarlyStopping counter: 4 out of 8\n",
      "[2023-11-30 17:34:54] - AUC score increased (0.700284 --> 0.702360).  Saving model ...\n"
     ]
    },
    {
     "data": {
      "application/vnd.jupyter.widget-view+json": {
       "model_id": "b29a1acffec144ce8f983ef8090b3c0b",
       "version_major": 2,
       "version_minor": 0
      },
      "text/plain": [
       "  0%|          | 0/135 [00:00<?, ?it/s]"
      ]
     },
     "metadata": {},
     "output_type": "display_data"
    },
    {
     "name": "stderr",
     "output_type": "stream",
     "text": [
      "[2023-11-30 17:35:03] - openstack-msg_tf-random-3 - epoch:51, train_loss:0.6193797233689308, train_acc:0.6578610496916094, valid_loss:0.6319130558652363, valid_acc:0.7355679702048417, auc_score:0.704171787900831\n",
      "[2023-11-30 17:35:03] - EarlyStopping counter: 5 out of 8\n",
      "[2023-11-30 17:35:03] - AUC score increased (0.702360 --> 0.704172).  Saving model ...\n"
     ]
    },
    {
     "data": {
      "application/vnd.jupyter.widget-view+json": {
       "model_id": "16af271b060344549ef2508359fc9275",
       "version_major": 2,
       "version_minor": 0
      },
      "text/plain": [
       "  0%|          | 0/135 [00:00<?, ?it/s]"
      ]
     },
     "metadata": {},
     "output_type": "display_data"
    },
    {
     "name": "stderr",
     "output_type": "stream",
     "text": [
      "[2023-11-30 17:35:12] - openstack-msg_tf-random-3 - epoch:52, train_loss:0.6217973697772338, train_acc:0.6686838124054463, valid_loss:0.6231726225416976, valid_acc:0.6675977653631285, auc_score:0.7050130531174086\n",
      "[2023-11-30 17:35:12] - AUC score increased (0.704172 --> 0.705013).  Saving model ...\n"
     ]
    },
    {
     "data": {
      "application/vnd.jupyter.widget-view+json": {
       "model_id": "1d4ce39d138b43eeb5938c48053b44b0",
       "version_major": 2,
       "version_minor": 0
      },
      "text/plain": [
       "  0%|          | 0/135 [00:00<?, ?it/s]"
      ]
     },
     "metadata": {},
     "output_type": "display_data"
    },
    {
     "name": "stderr",
     "output_type": "stream",
     "text": [
      "[2023-11-30 17:35:21] - openstack-msg_tf-random-3 - epoch:53, train_loss:0.6176101056921541, train_acc:0.6513441173047829, valid_loss:0.6255769853374368, valid_acc:0.6964618249534451, auc_score:0.7064138754734528\n",
      "[2023-11-30 17:35:21] - EarlyStopping counter: 1 out of 8\n",
      "[2023-11-30 17:35:21] - AUC score increased (0.705013 --> 0.706414).  Saving model ...\n"
     ]
    },
    {
     "data": {
      "application/vnd.jupyter.widget-view+json": {
       "model_id": "069b809616184b67965c016c4b508a1a",
       "version_major": 2,
       "version_minor": 0
      },
      "text/plain": [
       "  0%|          | 0/135 [00:00<?, ?it/s]"
      ]
     },
     "metadata": {},
     "output_type": "display_data"
    },
    {
     "name": "stderr",
     "output_type": "stream",
     "text": [
      "[2023-11-30 17:35:30] - openstack-msg_tf-random-3 - epoch:54, train_loss:0.6110917334504973, train_acc:0.6610031420924007, valid_loss:0.6309003544142349, valid_acc:0.7257914338919925, auc_score:0.7075928044810879\n",
      "[2023-11-30 17:35:30] - EarlyStopping counter: 2 out of 8\n",
      "[2023-11-30 17:35:30] - AUC score increased (0.706414 --> 0.707593).  Saving model ...\n"
     ]
    },
    {
     "data": {
      "application/vnd.jupyter.widget-view+json": {
       "model_id": "fc7e69c94da940f2a3f57605b58dfce2",
       "version_major": 2,
       "version_minor": 0
      },
      "text/plain": [
       "  0%|          | 0/135 [00:00<?, ?it/s]"
      ]
     },
     "metadata": {},
     "output_type": "display_data"
    },
    {
     "name": "stderr",
     "output_type": "stream",
     "text": [
      "[2023-11-30 17:35:39] - openstack-msg_tf-random-3 - epoch:55, train_loss:0.6105403481186803, train_acc:0.6765972303037356, valid_loss:0.6314786081540518, valid_acc:0.7243947858472998, auc_score:0.7082854976296002\n",
      "[2023-11-30 17:35:39] - EarlyStopping counter: 3 out of 8\n",
      "[2023-11-30 17:35:39] - AUC score increased (0.707593 --> 0.708285).  Saving model ...\n"
     ]
    },
    {
     "data": {
      "application/vnd.jupyter.widget-view+json": {
       "model_id": "25b48f84ccfa4ea085b695bc03398f8e",
       "version_major": 2,
       "version_minor": 0
      },
      "text/plain": [
       "  0%|          | 0/135 [00:00<?, ?it/s]"
      ]
     },
     "metadata": {},
     "output_type": "display_data"
    },
    {
     "name": "stderr",
     "output_type": "stream",
     "text": [
      "[2023-11-30 17:35:47] - openstack-msg_tf-random-3 - epoch:56, train_loss:0.6055152492946038, train_acc:0.6811358082159897, valid_loss:0.6324247814423545, valid_acc:0.7225325884543762, auc_score:0.7093351496429446\n",
      "[2023-11-30 17:35:47] - EarlyStopping counter: 4 out of 8\n",
      "[2023-11-30 17:35:47] - AUC score increased (0.708285 --> 0.709335).  Saving model ...\n"
     ]
    },
    {
     "data": {
      "application/vnd.jupyter.widget-view+json": {
       "model_id": "12ad448e2c674de990519bd897f59554",
       "version_major": 2,
       "version_minor": 0
      },
      "text/plain": [
       "  0%|          | 0/135 [00:00<?, ?it/s]"
      ]
     },
     "metadata": {},
     "output_type": "display_data"
    },
    {
     "name": "stderr",
     "output_type": "stream",
     "text": [
      "[2023-11-30 17:35:56] - openstack-msg_tf-random-3 - epoch:57, train_loss:0.6047920540008115, train_acc:0.6791574537414174, valid_loss:0.6304313136989622, valid_acc:0.7090316573556797, auc_score:0.7102844672726606\n",
      "[2023-11-30 17:35:56] - EarlyStopping counter: 5 out of 8\n",
      "[2023-11-30 17:35:56] - AUC score increased (0.709335 --> 0.710284).  Saving model ...\n"
     ]
    },
    {
     "data": {
      "application/vnd.jupyter.widget-view+json": {
       "model_id": "7deee58faad544bbb0edd4f3e97b5780",
       "version_major": 2,
       "version_minor": 0
      },
      "text/plain": [
       "  0%|          | 0/135 [00:00<?, ?it/s]"
      ]
     },
     "metadata": {},
     "output_type": "display_data"
    },
    {
     "name": "stderr",
     "output_type": "stream",
     "text": [
      "[2023-11-30 17:36:05] - openstack-msg_tf-random-3 - epoch:58, train_loss:0.6057301078563545, train_acc:0.6745025020365414, valid_loss:0.6463293357157397, valid_acc:0.7579143389199255, auc_score:0.7113572733745347\n",
      "[2023-11-30 17:36:05] - EarlyStopping counter: 6 out of 8\n",
      "[2023-11-30 17:36:05] - AUC score increased (0.710284 --> 0.711357).  Saving model ...\n"
     ]
    },
    {
     "data": {
      "application/vnd.jupyter.widget-view+json": {
       "model_id": "b6de8f8732094b4ab9e44d2446de55fa",
       "version_major": 2,
       "version_minor": 0
      },
      "text/plain": [
       "  0%|          | 0/135 [00:00<?, ?it/s]"
      ]
     },
     "metadata": {},
     "output_type": "display_data"
    },
    {
     "name": "stderr",
     "output_type": "stream",
     "text": [
      "[2023-11-30 17:36:14] - openstack-msg_tf-random-3 - epoch:59, train_loss:0.6022773073533355, train_acc:0.6833469102758059, valid_loss:0.6487740004084852, valid_acc:0.7583798882681564, auc_score:0.712156089428808\n",
      "[2023-11-30 17:36:14] - EarlyStopping counter: 7 out of 8\n",
      "[2023-11-30 17:36:14] - AUC score increased (0.711357 --> 0.712156).  Saving model ...\n"
     ]
    },
    {
     "data": {
      "application/vnd.jupyter.widget-view+json": {
       "model_id": "0e10065c21764c5f9c70fc5e75f97fa2",
       "version_major": 2,
       "version_minor": 0
      },
      "text/plain": [
       "  0%|          | 0/135 [00:00<?, ?it/s]"
      ]
     },
     "metadata": {},
     "output_type": "display_data"
    },
    {
     "name": "stderr",
     "output_type": "stream",
     "text": [
      "[2023-11-30 17:36:23] - openstack-msg_tf-random-3 - epoch:60, train_loss:0.5925309798513013, train_acc:0.6876527406028162, valid_loss:0.6483106855129619, valid_acc:0.7513966480446927, auc_score:0.7127677432674664\n",
      "[2023-11-30 17:36:23] - EarlyStopping counter: 8 out of 8\n",
      "[2023-11-30 17:36:23] - AUC score increased (0.712156 --> 0.712768).  Saving model ...\n",
      "[2023-11-30 17:36:23] - Early Stopping\n",
      "[2023-11-30 17:36:26] - openstack-msg_tf fold 3 - end training - score 0.5108184496465097\n",
      "[2023-11-30 17:36:26] - openstack-msg_tf fold 4 - start training\n"
     ]
    },
    {
     "name": "stdout",
     "output_type": "stream",
     "text": [
      "torch.Size([2148, 512]) torch.Size([2148, 512])\n"
     ]
    },
    {
     "data": {
      "application/vnd.jupyter.widget-view+json": {
       "model_id": "43084514a91a47c8ad279c95864f5bea",
       "version_major": 2,
       "version_minor": 0
      },
      "text/plain": [
       "  0%|          | 0/135 [00:00<?, ?it/s]"
      ]
     },
     "metadata": {},
     "output_type": "display_data"
    },
    {
     "name": "stderr",
     "output_type": "stream",
     "text": [
      "[2023-11-30 17:36:35] - openstack-msg_tf-random-4 - epoch:0, train_loss:0.7411212898252397, train_acc:0.4336087513092052, valid_loss:0.6935933927139979, valid_acc:0.329608938547486, auc_score:0.5466096641403455\n",
      "[2023-11-30 17:36:35] - AUC score increased (0.000000 --> 0.546610).  Saving model ...\n"
     ]
    },
    {
     "data": {
      "application/vnd.jupyter.widget-view+json": {
       "model_id": "d18e15ab16f94f9282b377577e47436a",
       "version_major": 2,
       "version_minor": 0
      },
      "text/plain": [
       "  0%|          | 0/135 [00:00<?, ?it/s]"
      ]
     },
     "metadata": {},
     "output_type": "display_data"
    },
    {
     "name": "stderr",
     "output_type": "stream",
     "text": [
      "[2023-11-30 17:36:44] - openstack-msg_tf-random-4 - epoch:1, train_loss:0.7325792950425758, train_acc:0.523565693005935, valid_loss:0.6882547664020758, valid_acc:0.40176908752327745, auc_score:0.5748903550956027\n",
      "[2023-11-30 17:36:44] - AUC score increased (0.546610 --> 0.574890).  Saving model ...\n"
     ]
    },
    {
     "data": {
      "application/vnd.jupyter.widget-view+json": {
       "model_id": "370d5208a7334b03bc9fe4200679bf42",
       "version_major": 2,
       "version_minor": 0
      },
      "text/plain": [
       "  0%|          | 0/135 [00:00<?, ?it/s]"
      ]
     },
     "metadata": {},
     "output_type": "display_data"
    },
    {
     "name": "stderr",
     "output_type": "stream",
     "text": [
      "[2023-11-30 17:36:52] - openstack-msg_tf-random-4 - epoch:2, train_loss:0.7314223119533618, train_acc:0.5448620970557431, valid_loss:0.6895748518920699, valid_acc:0.3472998137802607, auc_score:0.5898501519639903\n",
      "[2023-11-30 17:36:52] - EarlyStopping counter: 1 out of 8\n",
      "[2023-11-30 17:36:52] - AUC score increased (0.574890 --> 0.589850).  Saving model ...\n"
     ]
    },
    {
     "data": {
      "application/vnd.jupyter.widget-view+json": {
       "model_id": "d7a5a7391a4a49e6b423afd4c42a78c6",
       "version_major": 2,
       "version_minor": 0
      },
      "text/plain": [
       "  0%|          | 0/135 [00:00<?, ?it/s]"
      ]
     },
     "metadata": {},
     "output_type": "display_data"
    },
    {
     "name": "stderr",
     "output_type": "stream",
     "text": [
      "[2023-11-30 17:37:01] - openstack-msg_tf-random-4 - epoch:3, train_loss:0.7217538947278319, train_acc:0.5308972419411149, valid_loss:0.6847290925029492, valid_acc:0.3957169459962756, auc_score:0.5968289539491402\n",
      "[2023-11-30 17:37:01] - AUC score increased (0.589850 --> 0.596829).  Saving model ...\n"
     ]
    },
    {
     "data": {
      "application/vnd.jupyter.widget-view+json": {
       "model_id": "470e650e1ef14f9ba8cf347cb380c9d0",
       "version_major": 2,
       "version_minor": 0
      },
      "text/plain": [
       "  0%|          | 0/135 [00:00<?, ?it/s]"
      ]
     },
     "metadata": {},
     "output_type": "display_data"
    },
    {
     "name": "stderr",
     "output_type": "stream",
     "text": [
      "[2023-11-30 17:37:10] - openstack-msg_tf-random-4 - epoch:4, train_loss:0.710902856286352, train_acc:0.55079716047946, valid_loss:0.682808118603527, valid_acc:0.40176908752327745, auc_score:0.602976762974647\n",
      "[2023-11-30 17:37:10] - AUC score increased (0.596829 --> 0.602977).  Saving model ...\n"
     ]
    },
    {
     "data": {
      "application/vnd.jupyter.widget-view+json": {
       "model_id": "26b640d5753c4c0c9b434b9507db4e0a",
       "version_major": 2,
       "version_minor": 0
      },
      "text/plain": [
       "  0%|          | 0/135 [00:00<?, ?it/s]"
      ]
     },
     "metadata": {},
     "output_type": "display_data"
    },
    {
     "name": "stderr",
     "output_type": "stream",
     "text": [
      "[2023-11-30 17:37:19] - openstack-msg_tf-random-4 - epoch:5, train_loss:0.7141827788617106, train_acc:0.5454439660188526, valid_loss:0.6779046892231847, valid_acc:0.46461824953445063, auc_score:0.6068374177663217\n",
      "[2023-11-30 17:37:19] - AUC score increased (0.602977 --> 0.606837).  Saving model ...\n"
     ]
    },
    {
     "data": {
      "application/vnd.jupyter.widget-view+json": {
       "model_id": "d8807ae563e84312bbe52ddb8abe3fd2",
       "version_major": 2,
       "version_minor": 0
      },
      "text/plain": [
       "  0%|          | 0/135 [00:00<?, ?it/s]"
      ]
     },
     "metadata": {},
     "output_type": "display_data"
    },
    {
     "name": "stderr",
     "output_type": "stream",
     "text": [
      "[2023-11-30 17:37:28] - openstack-msg_tf-random-4 - epoch:6, train_loss:0.7160477749435419, train_acc:0.555568485976958, valid_loss:0.6781566570369003, valid_acc:0.43435754189944137, auc_score:0.6095323741007195\n",
      "[2023-11-30 17:37:28] - EarlyStopping counter: 1 out of 8\n",
      "[2023-11-30 17:37:28] - AUC score increased (0.606837 --> 0.609532).  Saving model ...\n"
     ]
    },
    {
     "data": {
      "application/vnd.jupyter.widget-view+json": {
       "model_id": "a2c682829cfe4b3b8e4bc6062178ecf8",
       "version_major": 2,
       "version_minor": 0
      },
      "text/plain": [
       "  0%|          | 0/135 [00:00<?, ?it/s]"
      ]
     },
     "metadata": {},
     "output_type": "display_data"
    },
    {
     "name": "stderr",
     "output_type": "stream",
     "text": [
      "[2023-11-30 17:37:37] - openstack-msg_tf-random-4 - epoch:7, train_loss:0.7067689868924671, train_acc:0.5539392528802514, valid_loss:0.675577092659096, valid_acc:0.4622905027932961, auc_score:0.6121176855307199\n",
      "[2023-11-30 17:37:37] - AUC score increased (0.609532 --> 0.612118).  Saving model ...\n"
     ]
    },
    {
     "data": {
      "application/vnd.jupyter.widget-view+json": {
       "model_id": "5f6f7a46d3734da18be70ca6608fe22d",
       "version_major": 2,
       "version_minor": 0
      },
      "text/plain": [
       "  0%|          | 0/135 [00:00<?, ?it/s]"
      ]
     },
     "metadata": {},
     "output_type": "display_data"
    },
    {
     "name": "stderr",
     "output_type": "stream",
     "text": [
      "[2023-11-30 17:37:46] - openstack-msg_tf-random-4 - epoch:8, train_loss:0.7079087655688281, train_acc:0.5672058652391482, valid_loss:0.6807661029879607, valid_acc:0.38687150837988826, auc_score:0.6149588350709807\n",
      "[2023-11-30 17:37:46] - EarlyStopping counter: 1 out of 8\n",
      "[2023-11-30 17:37:46] - AUC score increased (0.612118 --> 0.614959).  Saving model ...\n"
     ]
    },
    {
     "data": {
      "application/vnd.jupyter.widget-view+json": {
       "model_id": "44f847f4ebbf4995a733284c0bad74c1",
       "version_major": 2,
       "version_minor": 0
      },
      "text/plain": [
       "  0%|          | 0/135 [00:00<?, ?it/s]"
      ]
     },
     "metadata": {},
     "output_type": "display_data"
    },
    {
     "name": "stderr",
     "output_type": "stream",
     "text": [
      "[2023-11-30 17:37:55] - openstack-msg_tf-random-4 - epoch:9, train_loss:0.7111053458542537, train_acc:0.5339229605492843, valid_loss:0.6756715760106703, valid_acc:0.4292364990689013, auc_score:0.6168035624975956\n",
      "[2023-11-30 17:37:55] - EarlyStopping counter: 2 out of 8\n",
      "[2023-11-30 17:37:55] - AUC score increased (0.614959 --> 0.616804).  Saving model ...\n"
     ]
    },
    {
     "data": {
      "application/vnd.jupyter.widget-view+json": {
       "model_id": "bbe73ba13b5144ce85ff68ec9bf81b7d",
       "version_major": 2,
       "version_minor": 0
      },
      "text/plain": [
       "  0%|          | 0/135 [00:00<?, ?it/s]"
      ]
     },
     "metadata": {},
     "output_type": "display_data"
    },
    {
     "name": "stderr",
     "output_type": "stream",
     "text": [
      "[2023-11-30 17:38:04] - openstack-msg_tf-random-4 - epoch:10, train_loss:0.7018032872009566, train_acc:0.5539392528802514, valid_loss:0.6722772970545892, valid_acc:0.4660148975791434, auc_score:0.6198928557688608\n",
      "[2023-11-30 17:38:04] - AUC score increased (0.616804 --> 0.619893).  Saving model ...\n"
     ]
    },
    {
     "data": {
      "application/vnd.jupyter.widget-view+json": {
       "model_id": "8a210b2d4bfb46f49101b1af0aff47f8",
       "version_major": 2,
       "version_minor": 0
      },
      "text/plain": [
       "  0%|          | 0/135 [00:00<?, ?it/s]"
      ]
     },
     "metadata": {},
     "output_type": "display_data"
    },
    {
     "name": "stderr",
     "output_type": "stream",
     "text": [
      "[2023-11-30 17:38:13] - openstack-msg_tf-random-4 - epoch:11, train_loss:0.7058109122577846, train_acc:0.5581287094146399, valid_loss:0.6730118853419853, valid_acc:0.4376163873370577, auc_score:0.6227272727272728\n",
      "[2023-11-30 17:38:13] - EarlyStopping counter: 1 out of 8\n",
      "[2023-11-30 17:38:13] - AUC score increased (0.619893 --> 0.622727).  Saving model ...\n"
     ]
    },
    {
     "data": {
      "application/vnd.jupyter.widget-view+json": {
       "model_id": "d7d98a62f59b49189d40cc7b04c598c2",
       "version_major": 2,
       "version_minor": 0
      },
      "text/plain": [
       "  0%|          | 0/135 [00:00<?, ?it/s]"
      ]
     },
     "metadata": {},
     "output_type": "display_data"
    },
    {
     "name": "stderr",
     "output_type": "stream",
     "text": [
      "[2023-11-30 17:38:22] - openstack-msg_tf-random-4 - epoch:12, train_loss:0.7026297606065667, train_acc:0.5513790294425696, valid_loss:0.6685018416223579, valid_acc:0.5116387337057728, auc_score:0.6250355865040588\n",
      "[2023-11-30 17:38:22] - AUC score increased (0.622727 --> 0.625036).  Saving model ...\n"
     ]
    },
    {
     "data": {
      "application/vnd.jupyter.widget-view+json": {
       "model_id": "db0bb1a5257348d09c279fdd853ae95e",
       "version_major": 2,
       "version_minor": 0
      },
      "text/plain": [
       "  0%|          | 0/135 [00:00<?, ?it/s]"
      ]
     },
     "metadata": {},
     "output_type": "display_data"
    },
    {
     "name": "stderr",
     "output_type": "stream",
     "text": [
      "[2023-11-30 17:38:31] - openstack-msg_tf-random-4 - epoch:13, train_loss:0.700313674929144, train_acc:0.560339811474456, valid_loss:0.6687972593351893, valid_acc:0.47998137802607077, auc_score:0.6272544531219945\n",
      "[2023-11-30 17:38:31] - EarlyStopping counter: 1 out of 8\n",
      "[2023-11-30 17:38:31] - AUC score increased (0.625036 --> 0.627254).  Saving model ...\n"
     ]
    },
    {
     "data": {
      "application/vnd.jupyter.widget-view+json": {
       "model_id": "cf9775cf23034ccdac44c5790d6baad0",
       "version_major": 2,
       "version_minor": 0
      },
      "text/plain": [
       "  0%|          | 0/135 [00:00<?, ?it/s]"
      ]
     },
     "metadata": {},
     "output_type": "display_data"
    },
    {
     "name": "stderr",
     "output_type": "stream",
     "text": [
      "[2023-11-30 17:38:40] - openstack-msg_tf-random-4 - epoch:14, train_loss:0.699933620301334, train_acc:0.5773303851972535, valid_loss:0.6717518768941002, valid_acc:0.43156424581005587, auc_score:0.6300763667141154\n",
      "[2023-11-30 17:38:40] - EarlyStopping counter: 2 out of 8\n",
      "[2023-11-30 17:38:40] - AUC score increased (0.627254 --> 0.630076).  Saving model ...\n"
     ]
    },
    {
     "data": {
      "application/vnd.jupyter.widget-view+json": {
       "model_id": "ab2808793ee049799134bfd72fff32d8",
       "version_major": 2,
       "version_minor": 0
      },
      "text/plain": [
       "  0%|          | 0/135 [00:00<?, ?it/s]"
      ]
     },
     "metadata": {},
     "output_type": "display_data"
    },
    {
     "name": "stderr",
     "output_type": "stream",
     "text": [
      "[2023-11-30 17:38:49] - openstack-msg_tf-random-4 - epoch:15, train_loss:0.6901182994137234, train_acc:0.58629116722914, valid_loss:0.6700728068360625, valid_acc:0.4404096834264432, auc_score:0.6324308467664372\n",
      "[2023-11-30 17:38:49] - EarlyStopping counter: 3 out of 8\n",
      "[2023-11-30 17:38:49] - AUC score increased (0.630076 --> 0.632431).  Saving model ...\n"
     ]
    },
    {
     "data": {
      "application/vnd.jupyter.widget-view+json": {
       "model_id": "fc300a7c389a40339dcf18ed7b9da172",
       "version_major": 2,
       "version_minor": 0
      },
      "text/plain": [
       "  0%|          | 0/135 [00:00<?, ?it/s]"
      ]
     },
     "metadata": {},
     "output_type": "display_data"
    },
    {
     "name": "stderr",
     "output_type": "stream",
     "text": [
      "[2023-11-30 17:38:58] - openstack-msg_tf-random-4 - epoch:16, train_loss:0.7017224397049452, train_acc:0.5361340626091005, valid_loss:0.668069374960894, valid_acc:0.4548417132216015, auc_score:0.6347333897587812\n",
      "[2023-11-30 17:38:58] - AUC score increased (0.632431 --> 0.634733).  Saving model ...\n"
     ]
    },
    {
     "data": {
      "application/vnd.jupyter.widget-view+json": {
       "model_id": "fc284569d2ca4720b22cf04eedc08eb0",
       "version_major": 2,
       "version_minor": 0
      },
      "text/plain": [
       "  0%|          | 0/135 [00:00<?, ?it/s]"
      ]
     },
     "metadata": {},
     "output_type": "display_data"
    },
    {
     "name": "stderr",
     "output_type": "stream",
     "text": [
      "[2023-11-30 17:39:07] - openstack-msg_tf-random-4 - epoch:17, train_loss:0.6951945081837003, train_acc:0.5840800651693239, valid_loss:0.6699389825320111, valid_acc:0.4334264432029795, auc_score:0.6372975416458277\n",
      "[2023-11-30 17:39:07] - EarlyStopping counter: 1 out of 8\n",
      "[2023-11-30 17:39:07] - AUC score increased (0.634733 --> 0.637298).  Saving model ...\n"
     ]
    },
    {
     "data": {
      "application/vnd.jupyter.widget-view+json": {
       "model_id": "798880d0a35b4fd3ba570baba2070682",
       "version_major": 2,
       "version_minor": 0
      },
      "text/plain": [
       "  0%|          | 0/135 [00:00<?, ?it/s]"
      ]
     },
     "metadata": {},
     "output_type": "display_data"
    },
    {
     "name": "stderr",
     "output_type": "stream",
     "text": [
      "[2023-11-30 17:39:16] - openstack-msg_tf-random-4 - epoch:18, train_loss:0.6955218396904886, train_acc:0.5710462003956709, valid_loss:0.6748588135122587, valid_acc:0.3924581005586592, auc_score:0.640223329357904\n",
      "[2023-11-30 17:39:16] - EarlyStopping counter: 2 out of 8\n",
      "[2023-11-30 17:39:16] - AUC score increased (0.637298 --> 0.640223).  Saving model ...\n"
     ]
    },
    {
     "data": {
      "application/vnd.jupyter.widget-view+json": {
       "model_id": "dadc0529dcc64a539c851285ca72d6d9",
       "version_major": 2,
       "version_minor": 0
      },
      "text/plain": [
       "  0%|          | 0/135 [00:00<?, ?it/s]"
      ]
     },
     "metadata": {},
     "output_type": "display_data"
    },
    {
     "name": "stderr",
     "output_type": "stream",
     "text": [
      "[2023-11-30 17:39:25] - openstack-msg_tf-random-4 - epoch:19, train_loss:0.7022153929033726, train_acc:0.5489351797975096, valid_loss:0.6722532443050122, valid_acc:0.4022346368715084, auc_score:0.6426316700650174\n",
      "[2023-11-30 17:39:25] - EarlyStopping counter: 3 out of 8\n",
      "[2023-11-30 17:39:25] - AUC score increased (0.640223 --> 0.642632).  Saving model ...\n"
     ]
    },
    {
     "data": {
      "application/vnd.jupyter.widget-view+json": {
       "model_id": "ae1171caf7de4cdd90d41bec168f367f",
       "version_major": 2,
       "version_minor": 0
      },
      "text/plain": [
       "  0%|          | 0/135 [00:00<?, ?it/s]"
      ]
     },
     "metadata": {},
     "output_type": "display_data"
    },
    {
     "name": "stderr",
     "output_type": "stream",
     "text": [
      "[2023-11-30 17:39:34] - openstack-msg_tf-random-4 - epoch:20, train_loss:0.6926952899508131, train_acc:0.5708134528104271, valid_loss:0.6703543345577446, valid_acc:0.4129422718808194, auc_score:0.6443523256261301\n",
      "[2023-11-30 17:39:34] - EarlyStopping counter: 4 out of 8\n",
      "[2023-11-30 17:39:34] - AUC score increased (0.642632 --> 0.644352).  Saving model ...\n"
     ]
    },
    {
     "data": {
      "application/vnd.jupyter.widget-view+json": {
       "model_id": "5a7b3c44f810441390fa513bbfcb742f",
       "version_major": 2,
       "version_minor": 0
      },
      "text/plain": [
       "  0%|          | 0/135 [00:00<?, ?it/s]"
      ]
     },
     "metadata": {},
     "output_type": "display_data"
    },
    {
     "name": "stderr",
     "output_type": "stream",
     "text": [
      "[2023-11-30 17:39:43] - openstack-msg_tf-random-4 - epoch:21, train_loss:0.6935757533379959, train_acc:0.5634819038752473, valid_loss:0.6696631747473107, valid_acc:0.4134078212290503, auc_score:0.6459787250413572\n",
      "[2023-11-30 17:39:43] - EarlyStopping counter: 5 out of 8\n",
      "[2023-11-30 17:39:43] - AUC score increased (0.644352 --> 0.645979).  Saving model ...\n"
     ]
    },
    {
     "data": {
      "application/vnd.jupyter.widget-view+json": {
       "model_id": "39387c5b5f144c79a2ae3947b7d882c2",
       "version_major": 2,
       "version_minor": 0
      },
      "text/plain": [
       "  0%|          | 0/135 [00:00<?, ?it/s]"
      ]
     },
     "metadata": {},
     "output_type": "display_data"
    },
    {
     "name": "stderr",
     "output_type": "stream",
     "text": [
      "[2023-11-30 17:39:52] - openstack-msg_tf-random-4 - epoch:22, train_loss:0.6894249665463857, train_acc:0.5542883742581171, valid_loss:0.667648591142793, valid_acc:0.4250465549348231, auc_score:0.6483024275766552\n",
      "[2023-11-30 17:39:52] - AUC score increased (0.645979 --> 0.648302).  Saving model ...\n"
     ]
    },
    {
     "data": {
      "application/vnd.jupyter.widget-view+json": {
       "model_id": "ef2adcfca1d848609ec9c924fe04c9ef",
       "version_major": 2,
       "version_minor": 0
      },
      "text/plain": [
       "  0%|          | 0/135 [00:00<?, ?it/s]"
      ]
     },
     "metadata": {},
     "output_type": "display_data"
    },
    {
     "name": "stderr",
     "output_type": "stream",
     "text": [
      "[2023-11-30 17:40:01] - openstack-msg_tf-random-4 - epoch:23, train_loss:0.6876243340959375, train_acc:0.5752356569300594, valid_loss:0.668139713325536, valid_acc:0.41620111731843573, auc_score:0.6508377255414919\n",
      "[2023-11-30 17:40:01] - EarlyStopping counter: 1 out of 8\n",
      "[2023-11-30 17:40:01] - AUC score increased (0.648302 --> 0.650838).  Saving model ...\n"
     ]
    },
    {
     "data": {
      "application/vnd.jupyter.widget-view+json": {
       "model_id": "d5f8e952d64646b4b14f0c9a355925a4",
       "version_major": 2,
       "version_minor": 0
      },
      "text/plain": [
       "  0%|          | 0/135 [00:00<?, ?it/s]"
      ]
     },
     "metadata": {},
     "output_type": "display_data"
    },
    {
     "name": "stderr",
     "output_type": "stream",
     "text": [
      "[2023-11-30 17:40:10] - openstack-msg_tf-random-4 - epoch:24, train_loss:0.691638280761876, train_acc:0.5669731176539043, valid_loss:0.6688778028585836, valid_acc:0.4106145251396648, auc_score:0.6530036933020428\n",
      "[2023-11-30 17:40:10] - EarlyStopping counter: 2 out of 8\n",
      "[2023-11-30 17:40:10] - AUC score increased (0.650838 --> 0.653004).  Saving model ...\n"
     ]
    },
    {
     "data": {
      "application/vnd.jupyter.widget-view+json": {
       "model_id": "7ca637b5e9d0494ba23803a2613a0e09",
       "version_major": 2,
       "version_minor": 0
      },
      "text/plain": [
       "  0%|          | 0/135 [00:00<?, ?it/s]"
      ]
     },
     "metadata": {},
     "output_type": "display_data"
    },
    {
     "name": "stderr",
     "output_type": "stream",
     "text": [
      "[2023-11-30 17:40:19] - openstack-msg_tf-random-4 - epoch:25, train_loss:0.6922372699921447, train_acc:0.5564994763179332, valid_loss:0.6619765269023746, valid_acc:0.4590316573556797, auc_score:0.6552639172084792\n",
      "[2023-11-30 17:40:19] - AUC score increased (0.653004 --> 0.655264).  Saving model ...\n"
     ]
    },
    {
     "data": {
      "application/vnd.jupyter.widget-view+json": {
       "model_id": "6e7c056b33cf4f1cba7ff54dc7b21a28",
       "version_major": 2,
       "version_minor": 0
      },
      "text/plain": [
       "  0%|          | 0/135 [00:00<?, ?it/s]"
      ]
     },
     "metadata": {},
     "output_type": "display_data"
    },
    {
     "name": "stderr",
     "output_type": "stream",
     "text": [
      "[2023-11-30 17:40:28] - openstack-msg_tf-random-4 - epoch:26, train_loss:0.68442641949329, train_acc:0.5902478761782847, valid_loss:0.6681942549053739, valid_acc:0.409683426443203, auc_score:0.657776132035548\n",
      "[2023-11-30 17:40:28] - EarlyStopping counter: 1 out of 8\n",
      "[2023-11-30 17:40:28] - AUC score increased (0.655264 --> 0.657776).  Saving model ...\n"
     ]
    },
    {
     "data": {
      "application/vnd.jupyter.widget-view+json": {
       "model_id": "7b20ac634b5a425dad5e32fd6505faab",
       "version_major": 2,
       "version_minor": 0
      },
      "text/plain": [
       "  0%|          | 0/135 [00:00<?, ?it/s]"
      ]
     },
     "metadata": {},
     "output_type": "display_data"
    },
    {
     "name": "stderr",
     "output_type": "stream",
     "text": [
      "[2023-11-30 17:40:37] - openstack-msg_tf-random-4 - epoch:27, train_loss:0.6870559677386275, train_acc:0.5604561852670779, valid_loss:0.6656619898655783, valid_acc:0.4166666666666667, auc_score:0.6605451467702843\n",
      "[2023-11-30 17:40:37] - EarlyStopping counter: 2 out of 8\n",
      "[2023-11-30 17:40:37] - AUC score increased (0.657776 --> 0.660545).  Saving model ...\n"
     ]
    },
    {
     "data": {
      "application/vnd.jupyter.widget-view+json": {
       "model_id": "9f1d5ff9b0994ed688e3afa86a9d8284",
       "version_major": 2,
       "version_minor": 0
      },
      "text/plain": [
       "  0%|          | 0/135 [00:00<?, ?it/s]"
      ]
     },
     "metadata": {},
     "output_type": "display_data"
    },
    {
     "name": "stderr",
     "output_type": "stream",
     "text": [
      "[2023-11-30 17:40:46] - openstack-msg_tf-random-4 - epoch:28, train_loss:0.682285714271556, train_acc:0.5748865355521936, valid_loss:0.6625947116473534, valid_acc:0.43575418994413406, auc_score:0.6625389527949833\n",
      "[2023-11-30 17:40:46] - EarlyStopping counter: 3 out of 8\n",
      "[2023-11-30 17:40:46] - AUC score increased (0.660545 --> 0.662539).  Saving model ...\n"
     ]
    },
    {
     "data": {
      "application/vnd.jupyter.widget-view+json": {
       "model_id": "5b4b3dfdd26540f5a5b562bc9a84d2c5",
       "version_major": 2,
       "version_minor": 0
      },
      "text/plain": [
       "  0%|          | 0/135 [00:00<?, ?it/s]"
      ]
     },
     "metadata": {},
     "output_type": "display_data"
    },
    {
     "name": "stderr",
     "output_type": "stream",
     "text": [
      "[2023-11-30 17:40:55] - openstack-msg_tf-random-4 - epoch:29, train_loss:0.6836472734172505, train_acc:0.5719771907366461, valid_loss:0.6594426934945516, valid_acc:0.45251396648044695, auc_score:0.6649742238294925\n",
      "[2023-11-30 17:40:55] - AUC score increased (0.662539 --> 0.664974).  Saving model ...\n"
     ]
    },
    {
     "data": {
      "application/vnd.jupyter.widget-view+json": {
       "model_id": "bdfbbd0cbf0b41c3a701a98cfa104823",
       "version_major": 2,
       "version_minor": 0
      },
      "text/plain": [
       "  0%|          | 0/135 [00:00<?, ?it/s]"
      ]
     },
     "metadata": {},
     "output_type": "display_data"
    },
    {
     "name": "stderr",
     "output_type": "stream",
     "text": [
      "[2023-11-30 17:41:04] - openstack-msg_tf-random-4 - epoch:30, train_loss:0.684633952593562, train_acc:0.5769812638193879, valid_loss:0.656761896232875, valid_acc:0.47392923649906893, auc_score:0.6674268072173277\n",
      "[2023-11-30 17:41:04] - AUC score increased (0.664974 --> 0.667427).  Saving model ...\n"
     ]
    },
    {
     "data": {
      "application/vnd.jupyter.widget-view+json": {
       "model_id": "5401d17c2ec84e529f530633cae54d4f",
       "version_major": 2,
       "version_minor": 0
      },
      "text/plain": [
       "  0%|          | 0/135 [00:00<?, ?it/s]"
      ]
     },
     "metadata": {},
     "output_type": "display_data"
    },
    {
     "name": "stderr",
     "output_type": "stream",
     "text": [
      "[2023-11-30 17:41:13] - openstack-msg_tf-random-4 - epoch:31, train_loss:0.6772841163526713, train_acc:0.5962993133946235, valid_loss:0.6608634220377249, valid_acc:0.4338919925512104, auc_score:0.6703333589812641\n",
      "[2023-11-30 17:41:13] - EarlyStopping counter: 1 out of 8\n",
      "[2023-11-30 17:41:13] - AUC score increased (0.667427 --> 0.670333).  Saving model ...\n"
     ]
    },
    {
     "data": {
      "application/vnd.jupyter.widget-view+json": {
       "model_id": "18b5999693364168a855a5849f30e968",
       "version_major": 2,
       "version_minor": 0
      },
      "text/plain": [
       "  0%|          | 0/135 [00:00<?, ?it/s]"
      ]
     },
     "metadata": {},
     "output_type": "display_data"
    },
    {
     "name": "stderr",
     "output_type": "stream",
     "text": [
      "[2023-11-30 17:41:22] - openstack-msg_tf-random-4 - epoch:32, train_loss:0.6790129515090644, train_acc:0.5845455603398114, valid_loss:0.6671020633903517, valid_acc:0.40502793296089384, auc_score:0.6726147424306544\n",
      "[2023-11-30 17:41:22] - EarlyStopping counter: 2 out of 8\n",
      "[2023-11-30 17:41:22] - AUC score increased (0.670333 --> 0.672615).  Saving model ...\n"
     ]
    },
    {
     "data": {
      "application/vnd.jupyter.widget-view+json": {
       "model_id": "44c4f6ab0b3c4429a4260a14cd2f05c7",
       "version_major": 2,
       "version_minor": 0
      },
      "text/plain": [
       "  0%|          | 0/135 [00:00<?, ?it/s]"
      ]
     },
     "metadata": {},
     "output_type": "display_data"
    },
    {
     "name": "stderr",
     "output_type": "stream",
     "text": [
      "[2023-11-30 17:41:31] - openstack-msg_tf-random-4 - epoch:33, train_loss:0.6748058003720591, train_acc:0.573373676248109, valid_loss:0.6551179409693073, valid_acc:0.4650837988826816, auc_score:0.6749442157503943\n",
      "[2023-11-30 17:41:31] - AUC score increased (0.672615 --> 0.674944).  Saving model ...\n"
     ]
    },
    {
     "data": {
      "application/vnd.jupyter.widget-view+json": {
       "model_id": "3f28f93dfdea4ac6bd4ac19f0797c50d",
       "version_major": 2,
       "version_minor": 0
      },
      "text/plain": [
       "  0%|          | 0/135 [00:00<?, ?it/s]"
      ]
     },
     "metadata": {},
     "output_type": "display_data"
    },
    {
     "name": "stderr",
     "output_type": "stream",
     "text": [
      "[2023-11-30 17:41:39] - openstack-msg_tf-random-4 - epoch:34, train_loss:0.6767409924132908, train_acc:0.5943209589200512, valid_loss:0.6619007466447642, valid_acc:0.4236499068901304, auc_score:0.6775468395337205\n",
      "[2023-11-30 17:41:39] - EarlyStopping counter: 1 out of 8\n",
      "[2023-11-30 17:41:39] - AUC score increased (0.674944 --> 0.677547).  Saving model ...\n"
     ]
    },
    {
     "data": {
      "application/vnd.jupyter.widget-view+json": {
       "model_id": "41e81bed429641a886148711d0dc9978",
       "version_major": 2,
       "version_minor": 0
      },
      "text/plain": [
       "  0%|          | 0/135 [00:00<?, ?it/s]"
      ]
     },
     "metadata": {},
     "output_type": "display_data"
    },
    {
     "name": "stderr",
     "output_type": "stream",
     "text": [
      "[2023-11-30 17:41:48] - openstack-msg_tf-random-4 - epoch:35, train_loss:0.6707556680890522, train_acc:0.5746537879669499, valid_loss:0.6566927997981592, valid_acc:0.4450651769087523, auc_score:0.680112915015581\n",
      "[2023-11-30 17:41:48] - EarlyStopping counter: 2 out of 8\n",
      "[2023-11-30 17:41:48] - AUC score increased (0.677547 --> 0.680113).  Saving model ...\n"
     ]
    },
    {
     "data": {
      "application/vnd.jupyter.widget-view+json": {
       "model_id": "c3a6ca645c3f4896a3c08147b8086f2f",
       "version_major": 2,
       "version_minor": 0
      },
      "text/plain": [
       "  0%|          | 0/135 [00:00<?, ?it/s]"
      ]
     },
     "metadata": {},
     "output_type": "display_data"
    },
    {
     "name": "stderr",
     "output_type": "stream",
     "text": [
      "[2023-11-30 17:41:57] - openstack-msg_tf-random-4 - epoch:36, train_loss:0.6700683115150992, train_acc:0.5972303037355987, valid_loss:0.6587213590824404, valid_acc:0.43435754189944137, auc_score:0.6830483207017273\n",
      "[2023-11-30 17:41:57] - EarlyStopping counter: 3 out of 8\n",
      "[2023-11-30 17:41:57] - AUC score increased (0.680113 --> 0.683048).  Saving model ...\n"
     ]
    },
    {
     "data": {
      "application/vnd.jupyter.widget-view+json": {
       "model_id": "cc17f9e42c594de585eb9cac9a2f898d",
       "version_major": 2,
       "version_minor": 0
      },
      "text/plain": [
       "  0%|          | 0/135 [00:00<?, ?it/s]"
      ]
     },
     "metadata": {},
     "output_type": "display_data"
    },
    {
     "name": "stderr",
     "output_type": "stream",
     "text": [
      "[2023-11-30 17:42:06] - openstack-msg_tf-random-4 - epoch:37, train_loss:0.6737665972886673, train_acc:0.5918771092749913, valid_loss:0.6564418609137863, valid_acc:0.44273743016759776, auc_score:0.6855451467702842\n",
      "[2023-11-30 17:42:06] - EarlyStopping counter: 4 out of 8\n",
      "[2023-11-30 17:42:06] - AUC score increased (0.683048 --> 0.685545).  Saving model ...\n"
     ]
    },
    {
     "data": {
      "application/vnd.jupyter.widget-view+json": {
       "model_id": "9ead3cd17a3248e78bce6668b8c667c2",
       "version_major": 2,
       "version_minor": 0
      },
      "text/plain": [
       "  0%|          | 0/135 [00:00<?, ?it/s]"
      ]
     },
     "metadata": {},
     "output_type": "display_data"
    },
    {
     "name": "stderr",
     "output_type": "stream",
     "text": [
      "[2023-11-30 17:42:15] - openstack-msg_tf-random-4 - epoch:38, train_loss:0.668391872691176, train_acc:0.599325032002793, valid_loss:0.6499212411972841, valid_acc:0.48324022346368717, auc_score:0.6878553841418844\n",
      "[2023-11-30 17:42:15] - AUC score increased (0.685545 --> 0.687855).  Saving model ...\n"
     ]
    },
    {
     "data": {
      "application/vnd.jupyter.widget-view+json": {
       "model_id": "57a1da5dde96496b8a329e36240e79d9",
       "version_major": 2,
       "version_minor": 0
      },
      "text/plain": [
       "  0%|          | 0/135 [00:00<?, ?it/s]"
      ]
     },
     "metadata": {},
     "output_type": "display_data"
    },
    {
     "name": "stderr",
     "output_type": "stream",
     "text": [
      "[2023-11-30 17:42:24] - openstack-msg_tf-random-4 - epoch:39, train_loss:0.6593554905777994, train_acc:0.5966484347724892, valid_loss:0.6486432230450365, valid_acc:0.49022346368715086, auc_score:0.6906157426999576\n",
      "[2023-11-30 17:42:24] - AUC score increased (0.687855 --> 0.690616).  Saving model ...\n"
     ]
    },
    {
     "data": {
      "application/vnd.jupyter.widget-view+json": {
       "model_id": "250cf52455e346d0af58cdebf25d4d54",
       "version_major": 2,
       "version_minor": 0
      },
      "text/plain": [
       "  0%|          | 0/135 [00:00<?, ?it/s]"
      ]
     },
     "metadata": {},
     "output_type": "display_data"
    },
    {
     "name": "stderr",
     "output_type": "stream",
     "text": [
      "[2023-11-30 17:42:33] - openstack-msg_tf-random-4 - epoch:40, train_loss:0.6639859311089282, train_acc:0.6025834981962063, valid_loss:0.649010105173015, valid_acc:0.4827746741154562, auc_score:0.6930914092255608\n",
      "[2023-11-30 17:42:33] - EarlyStopping counter: 1 out of 8\n",
      "[2023-11-30 17:42:33] - AUC score increased (0.690616 --> 0.693091).  Saving model ...\n"
     ]
    },
    {
     "data": {
      "application/vnd.jupyter.widget-view+json": {
       "model_id": "efdcfa3920904512bdb47bb36b142c63",
       "version_major": 2,
       "version_minor": 0
      },
      "text/plain": [
       "  0%|          | 0/135 [00:00<?, ?it/s]"
      ]
     },
     "metadata": {},
     "output_type": "display_data"
    },
    {
     "name": "stderr",
     "output_type": "stream",
     "text": [
      "[2023-11-30 17:42:42] - openstack-msg_tf-random-4 - epoch:41, train_loss:0.6611715259005967, train_acc:0.6150354940067497, valid_loss:0.649141780712973, valid_acc:0.478584729981378, auc_score:0.695703650982957\n",
      "[2023-11-30 17:42:42] - EarlyStopping counter: 2 out of 8\n",
      "[2023-11-30 17:42:42] - AUC score increased (0.693091 --> 0.695704).  Saving model ...\n"
     ]
    },
    {
     "data": {
      "application/vnd.jupyter.widget-view+json": {
       "model_id": "ed00475c07a04c2ebf6b6450cf6aa8f6",
       "version_major": 2,
       "version_minor": 0
      },
      "text/plain": [
       "  0%|          | 0/135 [00:00<?, ?it/s]"
      ]
     },
     "metadata": {},
     "output_type": "display_data"
    },
    {
     "name": "stderr",
     "output_type": "stream",
     "text": [
      "[2023-11-30 17:42:51] - openstack-msg_tf-random-4 - epoch:42, train_loss:0.6576662359575614, train_acc:0.6014197602699872, valid_loss:0.654508989727475, valid_acc:0.44553072625698326, auc_score:0.6986736813757549\n",
      "[2023-11-30 17:42:51] - EarlyStopping counter: 3 out of 8\n",
      "[2023-11-30 17:42:51] - AUC score increased (0.695704 --> 0.698674).  Saving model ...\n"
     ]
    },
    {
     "data": {
      "application/vnd.jupyter.widget-view+json": {
       "model_id": "99ce9f2554034c65a598ac7cb28155fd",
       "version_major": 2,
       "version_minor": 0
      },
      "text/plain": [
       "  0%|          | 0/135 [00:00<?, ?it/s]"
      ]
     },
     "metadata": {},
     "output_type": "display_data"
    },
    {
     "name": "stderr",
     "output_type": "stream",
     "text": [
      "[2023-11-30 17:43:00] - openstack-msg_tf-random-4 - epoch:43, train_loss:0.6516021256755925, train_acc:0.6015361340626091, valid_loss:0.6462283366441283, valid_acc:0.4920856610800745, auc_score:0.7015244488900857\n",
      "[2023-11-30 17:43:00] - AUC score increased (0.698674 --> 0.701524).  Saving model ...\n"
     ]
    },
    {
     "data": {
      "application/vnd.jupyter.widget-view+json": {
       "model_id": "378898cdb13b4bae8d053046a8a6122c",
       "version_major": 2,
       "version_minor": 0
      },
      "text/plain": [
       "  0%|          | 0/135 [00:00<?, ?it/s]"
      ]
     },
     "metadata": {},
     "output_type": "display_data"
    },
    {
     "name": "stderr",
     "output_type": "stream",
     "text": [
      "[2023-11-30 17:43:09] - openstack-msg_tf-random-4 - epoch:44, train_loss:0.6511731139789232, train_acc:0.6103805423018737, valid_loss:0.6406661588386451, valid_acc:0.5274674115456238, auc_score:0.7038846997268494\n",
      "[2023-11-30 17:43:09] - AUC score increased (0.701524 --> 0.703885).  Saving model ...\n"
     ]
    },
    {
     "data": {
      "application/vnd.jupyter.widget-view+json": {
       "model_id": "2b8826704c88437094c991588972e520",
       "version_major": 2,
       "version_minor": 0
      },
      "text/plain": [
       "  0%|          | 0/135 [00:00<?, ?it/s]"
      ]
     },
     "metadata": {},
     "output_type": "display_data"
    },
    {
     "name": "stderr",
     "output_type": "stream",
     "text": [
      "[2023-11-30 17:43:18] - openstack-msg_tf-random-4 - epoch:45, train_loss:0.6474495718036059, train_acc:0.6198068195042477, valid_loss:0.6407382236290688, valid_acc:0.5223463687150838, auc_score:0.7064161505020582\n",
      "[2023-11-30 17:43:18] - EarlyStopping counter: 1 out of 8\n",
      "[2023-11-30 17:43:18] - AUC score increased (0.703885 --> 0.706416).  Saving model ...\n"
     ]
    },
    {
     "data": {
      "application/vnd.jupyter.widget-view+json": {
       "model_id": "f8d0a2ed36444b429ddb3211ce13fa36",
       "version_major": 2,
       "version_minor": 0
      },
      "text/plain": [
       "  0%|          | 0/135 [00:00<?, ?it/s]"
      ]
     },
     "metadata": {},
     "output_type": "display_data"
    },
    {
     "name": "stderr",
     "output_type": "stream",
     "text": [
      "[2023-11-30 17:43:27] - openstack-msg_tf-random-4 - epoch:46, train_loss:0.6492665804377205, train_acc:0.6200395670894915, valid_loss:0.6391003723473079, valid_acc:0.5344506517690876, auc_score:0.7088879698380331\n",
      "[2023-11-30 17:43:27] - AUC score increased (0.706416 --> 0.708888).  Saving model ...\n"
     ]
    },
    {
     "data": {
      "application/vnd.jupyter.widget-view+json": {
       "model_id": "53fc253084f949cf96915c9ee71d17d6",
       "version_major": 2,
       "version_minor": 0
      },
      "text/plain": [
       "  0%|          | 0/135 [00:00<?, ?it/s]"
      ]
     },
     "metadata": {},
     "output_type": "display_data"
    },
    {
     "name": "stderr",
     "output_type": "stream",
     "text": [
      "[2023-11-30 17:43:35] - openstack-msg_tf-random-4 - epoch:47, train_loss:0.6467144954860744, train_acc:0.635982776678692, valid_loss:0.6408628248635617, valid_acc:0.5190875232774674, auc_score:0.7116598699649906\n",
      "[2023-11-30 17:43:35] - EarlyStopping counter: 1 out of 8\n",
      "[2023-11-30 17:43:35] - AUC score increased (0.708888 --> 0.711660).  Saving model ...\n"
     ]
    },
    {
     "data": {
      "application/vnd.jupyter.widget-view+json": {
       "model_id": "485668b4cfaf4576b57b0a84faf0476c",
       "version_major": 2,
       "version_minor": 0
      },
      "text/plain": [
       "  0%|          | 0/135 [00:00<?, ?it/s]"
      ]
     },
     "metadata": {},
     "output_type": "display_data"
    },
    {
     "name": "stderr",
     "output_type": "stream",
     "text": [
      "[2023-11-30 17:43:44] - openstack-msg_tf-random-4 - epoch:48, train_loss:0.6467001359967431, train_acc:0.6244617712091237, valid_loss:0.6342347661654154, valid_acc:0.569366852886406, auc_score:0.7141143769476397\n",
      "[2023-11-30 17:43:44] - AUC score increased (0.711660 --> 0.714114).  Saving model ...\n"
     ]
    },
    {
     "data": {
      "application/vnd.jupyter.widget-view+json": {
       "model_id": "b9987303bea84df4a2101a7f568ae485",
       "version_major": 2,
       "version_minor": 0
      },
      "text/plain": [
       "  0%|          | 0/135 [00:00<?, ?it/s]"
      ]
     },
     "metadata": {},
     "output_type": "display_data"
    },
    {
     "name": "stderr",
     "output_type": "stream",
     "text": [
      "[2023-11-30 17:43:53] - openstack-msg_tf-random-4 - epoch:49, train_loss:0.6406087864476033, train_acc:0.6189922029558943, valid_loss:0.6309678045065044, valid_acc:0.5991620111731844, auc_score:0.7164457738621935\n",
      "[2023-11-30 17:43:53] - AUC score increased (0.714114 --> 0.716446).  Saving model ...\n"
     ]
    },
    {
     "data": {
      "application/vnd.jupyter.widget-view+json": {
       "model_id": "90ce4f8653a74c4a9247fc376cadde8c",
       "version_major": 2,
       "version_minor": 0
      },
      "text/plain": [
       "  0%|          | 0/135 [00:00<?, ?it/s]"
      ]
     },
     "metadata": {},
     "output_type": "display_data"
    },
    {
     "name": "stderr",
     "output_type": "stream",
     "text": [
      "[2023-11-30 17:44:02] - openstack-msg_tf-random-4 - epoch:50, train_loss:0.6379197559089776, train_acc:0.6366810194344233, valid_loss:0.6320362380763006, valid_acc:0.5879888268156425, auc_score:0.7187310045012119\n",
      "[2023-11-30 17:44:02] - EarlyStopping counter: 1 out of 8\n",
      "[2023-11-30 17:44:02] - AUC score increased (0.716446 --> 0.718731).  Saving model ...\n"
     ]
    },
    {
     "data": {
      "application/vnd.jupyter.widget-view+json": {
       "model_id": "83114ab3da404135b235078e127dee5d",
       "version_major": 2,
       "version_minor": 0
      },
      "text/plain": [
       "  0%|          | 0/135 [00:00<?, ?it/s]"
      ]
     },
     "metadata": {},
     "output_type": "display_data"
    },
    {
     "name": "stderr",
     "output_type": "stream",
     "text": [
      "[2023-11-30 17:44:11] - openstack-msg_tf-random-4 - epoch:51, train_loss:0.6351897458972995, train_acc:0.6351681601303386, valid_loss:0.628327812784433, valid_acc:0.6182495344506518, auc_score:0.7213047743623283\n",
      "[2023-11-30 17:44:11] - AUC score increased (0.718731 --> 0.721305).  Saving model ...\n"
     ]
    },
    {
     "data": {
      "application/vnd.jupyter.widget-view+json": {
       "model_id": "3ab42d500d1642f292009ea7e7c1a157",
       "version_major": 2,
       "version_minor": 0
      },
      "text/plain": [
       "  0%|          | 0/135 [00:00<?, ?it/s]"
      ]
     },
     "metadata": {},
     "output_type": "display_data"
    },
    {
     "name": "stderr",
     "output_type": "stream",
     "text": [
      "[2023-11-30 17:44:20] - openstack-msg_tf-random-4 - epoch:52, train_loss:0.633187083038645, train_acc:0.6424997090655185, valid_loss:0.6292089286019238, valid_acc:0.6038175046554934, auc_score:0.723534220751741\n",
      "[2023-11-30 17:44:20] - EarlyStopping counter: 1 out of 8\n",
      "[2023-11-30 17:44:20] - AUC score increased (0.721305 --> 0.723534).  Saving model ...\n"
     ]
    },
    {
     "data": {
      "application/vnd.jupyter.widget-view+json": {
       "model_id": "3a3c55f4e046455da703f4046984a972",
       "version_major": 2,
       "version_minor": 0
      },
      "text/plain": [
       "  0%|          | 0/135 [00:00<?, ?it/s]"
      ]
     },
     "metadata": {},
     "output_type": "display_data"
    },
    {
     "name": "stderr",
     "output_type": "stream",
     "text": [
      "[2023-11-30 17:44:29] - openstack-msg_tf-random-4 - epoch:53, train_loss:0.6260467750651865, train_acc:0.6543698359129524, valid_loss:0.6290525004850419, valid_acc:0.6080074487895717, auc_score:0.7250192359481399\n",
      "[2023-11-30 17:44:29] - EarlyStopping counter: 2 out of 8\n",
      "[2023-11-30 17:44:29] - AUC score increased (0.723534 --> 0.725019).  Saving model ...\n"
     ]
    },
    {
     "data": {
      "application/vnd.jupyter.widget-view+json": {
       "model_id": "1fca13fc8ad544029b13c18052a64895",
       "version_major": 2,
       "version_minor": 0
      },
      "text/plain": [
       "  0%|          | 0/135 [00:00<?, ?it/s]"
      ]
     },
     "metadata": {},
     "output_type": "display_data"
    },
    {
     "name": "stderr",
     "output_type": "stream",
     "text": [
      "[2023-11-30 17:44:38] - openstack-msg_tf-random-4 - epoch:54, train_loss:0.625133113867743, train_acc:0.645409053881066, valid_loss:0.6230006631970184, valid_acc:0.6675977653631285, auc_score:0.7267273881429616\n",
      "[2023-11-30 17:44:38] - AUC score increased (0.725019 --> 0.726727).  Saving model ...\n"
     ]
    },
    {
     "data": {
      "application/vnd.jupyter.widget-view+json": {
       "model_id": "dad4bdaf926b46478587dabc64c3651e",
       "version_major": 2,
       "version_minor": 0
      },
      "text/plain": [
       "  0%|          | 0/135 [00:00<?, ?it/s]"
      ]
     },
     "metadata": {},
     "output_type": "display_data"
    },
    {
     "name": "stderr",
     "output_type": "stream",
     "text": [
      "[2023-11-30 17:44:47] - openstack-msg_tf-random-4 - epoch:55, train_loss:0.6282570635385956, train_acc:0.6603048993366694, valid_loss:0.6297313189151345, valid_acc:0.6108007448789572, auc_score:0.7280431269957297\n",
      "[2023-11-30 17:44:47] - EarlyStopping counter: 1 out of 8\n",
      "[2023-11-30 17:44:47] - AUC score increased (0.726727 --> 0.728043).  Saving model ...\n"
     ]
    },
    {
     "data": {
      "application/vnd.jupyter.widget-view+json": {
       "model_id": "a1c040cb57c941ddaa75db85ddc3f080",
       "version_major": 2,
       "version_minor": 0
      },
      "text/plain": [
       "  0%|          | 0/135 [00:00<?, ?it/s]"
      ]
     },
     "metadata": {},
     "output_type": "display_data"
    },
    {
     "name": "stderr",
     "output_type": "stream",
     "text": [
      "[2023-11-30 17:44:56] - openstack-msg_tf-random-4 - epoch:56, train_loss:0.6204788799157148, train_acc:0.6675200744792272, valid_loss:0.6240638435663902, valid_acc:0.6517690875232774, auc_score:0.729451198399569\n",
      "[2023-11-30 17:44:56] - EarlyStopping counter: 2 out of 8\n",
      "[2023-11-30 17:44:56] - AUC score increased (0.728043 --> 0.729451).  Saving model ...\n"
     ]
    },
    {
     "data": {
      "application/vnd.jupyter.widget-view+json": {
       "model_id": "62b737dd0e7c4d57b924c6587c2453a5",
       "version_major": 2,
       "version_minor": 0
      },
      "text/plain": [
       "  0%|          | 0/135 [00:00<?, ?it/s]"
      ]
     },
     "metadata": {},
     "output_type": "display_data"
    },
    {
     "name": "stderr",
     "output_type": "stream",
     "text": [
      "[2023-11-30 17:45:05] - openstack-msg_tf-random-4 - epoch:57, train_loss:0.6203333639396607, train_acc:0.6519259862678924, valid_loss:0.622011967877436, valid_acc:0.6824953445065177, auc_score:0.7307169237871735\n",
      "[2023-11-30 17:45:05] - AUC score increased (0.729451 --> 0.730717).  Saving model ...\n"
     ]
    },
    {
     "data": {
      "application/vnd.jupyter.widget-view+json": {
       "model_id": "04fb2e2171814a0e940aaf029d83473a",
       "version_major": 2,
       "version_minor": 0
      },
      "text/plain": [
       "  0%|          | 0/135 [00:00<?, ?it/s]"
      ]
     },
     "metadata": {},
     "output_type": "display_data"
    },
    {
     "name": "stderr",
     "output_type": "stream",
     "text": [
      "[2023-11-30 17:45:14] - openstack-msg_tf-random-4 - epoch:58, train_loss:0.6200126160860034, train_acc:0.666589084138252, valid_loss:0.6241603007529701, valid_acc:0.654562383612663, auc_score:0.7316306313238179\n",
      "[2023-11-30 17:45:14] - EarlyStopping counter: 1 out of 8\n",
      "[2023-11-30 17:45:14] - AUC score increased (0.730717 --> 0.731631).  Saving model ...\n"
     ]
    },
    {
     "data": {
      "application/vnd.jupyter.widget-view+json": {
       "model_id": "0de31d33f4d0486e86273eb50b8dbbe6",
       "version_major": 2,
       "version_minor": 0
      },
      "text/plain": [
       "  0%|          | 0/135 [00:00<?, ?it/s]"
      ]
     },
     "metadata": {},
     "output_type": "display_data"
    },
    {
     "name": "stderr",
     "output_type": "stream",
     "text": [
      "[2023-11-30 17:45:23] - openstack-msg_tf-random-4 - epoch:59, train_loss:0.6112035335282515, train_acc:0.6764808565111137, valid_loss:0.628720326019621, valid_acc:0.6322160148975792, auc_score:0.7324404647405071\n",
      "[2023-11-30 17:45:23] - EarlyStopping counter: 2 out of 8\n",
      "[2023-11-30 17:45:23] - AUC score increased (0.731631 --> 0.732440).  Saving model ...\n"
     ]
    },
    {
     "data": {
      "application/vnd.jupyter.widget-view+json": {
       "model_id": "d7319fea9fb44dc1b3b66b61d6c78e65",
       "version_major": 2,
       "version_minor": 0
      },
      "text/plain": [
       "  0%|          | 0/135 [00:00<?, ?it/s]"
      ]
     },
     "metadata": {},
     "output_type": "display_data"
    },
    {
     "name": "stderr",
     "output_type": "stream",
     "text": [
      "[2023-11-30 17:45:32] - openstack-msg_tf-random-4 - epoch:60, train_loss:0.611889114635698, train_acc:0.6758989875480041, valid_loss:0.6246141835741935, valid_acc:0.6657355679702048, auc_score:0.7331329588735428\n",
      "[2023-11-30 17:45:32] - EarlyStopping counter: 3 out of 8\n",
      "[2023-11-30 17:45:32] - AUC score increased (0.732440 --> 0.733133).  Saving model ...\n"
     ]
    },
    {
     "data": {
      "application/vnd.jupyter.widget-view+json": {
       "model_id": "fd7a1486e7634746aba099b889041512",
       "version_major": 2,
       "version_minor": 0
      },
      "text/plain": [
       "  0%|          | 0/135 [00:00<?, ?it/s]"
      ]
     },
     "metadata": {},
     "output_type": "display_data"
    },
    {
     "name": "stderr",
     "output_type": "stream",
     "text": [
      "[2023-11-30 17:45:41] - openstack-msg_tf-random-4 - epoch:61, train_loss:0.6053250228153123, train_acc:0.6686838124054463, valid_loss:0.6230849961106781, valid_acc:0.6848230912476723, auc_score:0.7343429000115416\n",
      "[2023-11-30 17:45:41] - EarlyStopping counter: 4 out of 8\n",
      "[2023-11-30 17:45:41] - AUC score increased (0.733133 --> 0.734343).  Saving model ...\n"
     ]
    },
    {
     "data": {
      "application/vnd.jupyter.widget-view+json": {
       "model_id": "ab7ad2de2ecc455ba8abfde054e3859b",
       "version_major": 2,
       "version_minor": 0
      },
      "text/plain": [
       "  0%|          | 0/135 [00:00<?, ?it/s]"
      ]
     },
     "metadata": {},
     "output_type": "display_data"
    },
    {
     "name": "stderr",
     "output_type": "stream",
     "text": [
      "[2023-11-30 17:45:50] - openstack-msg_tf-random-4 - epoch:62, train_loss:0.6068928713336835, train_acc:0.6864890026765972, valid_loss:0.6255692400079865, valid_acc:0.6643389199255121, auc_score:0.7351219559112068\n",
      "[2023-11-30 17:45:50] - EarlyStopping counter: 5 out of 8\n",
      "[2023-11-30 17:45:50] - AUC score increased (0.734343 --> 0.735122).  Saving model ...\n"
     ]
    },
    {
     "data": {
      "application/vnd.jupyter.widget-view+json": {
       "model_id": "9fa3411609a04b49b26cb1170f63707e",
       "version_major": 2,
       "version_minor": 0
      },
      "text/plain": [
       "  0%|          | 0/135 [00:00<?, ?it/s]"
      ]
     },
     "metadata": {},
     "output_type": "display_data"
    },
    {
     "name": "stderr",
     "output_type": "stream",
     "text": [
      "[2023-11-30 17:45:59] - openstack-msg_tf-random-4 - epoch:63, train_loss:0.6039896743075334, train_acc:0.6811358082159897, valid_loss:0.6248760273336699, valid_acc:0.6764432029795159, auc_score:0.735768283768707\n",
      "[2023-11-30 17:45:59] - EarlyStopping counter: 6 out of 8\n",
      "[2023-11-30 17:45:59] - AUC score increased (0.735122 --> 0.735768).  Saving model ...\n"
     ]
    },
    {
     "data": {
      "application/vnd.jupyter.widget-view+json": {
       "model_id": "2eb798f703254294af41cc14d2183551",
       "version_major": 2,
       "version_minor": 0
      },
      "text/plain": [
       "  0%|          | 0/135 [00:00<?, ?it/s]"
      ]
     },
     "metadata": {},
     "output_type": "display_data"
    },
    {
     "name": "stderr",
     "output_type": "stream",
     "text": [
      "[2023-11-30 17:46:07] - openstack-msg_tf-random-4 - epoch:64, train_loss:0.6031728043595612, train_acc:0.6827650413126963, valid_loss:0.6250974462684973, valid_acc:0.7136871508379888, auc_score:0.736102989266341\n",
      "[2023-11-30 17:46:07] - EarlyStopping counter: 7 out of 8\n",
      "[2023-11-30 17:46:07] - AUC score increased (0.735768 --> 0.736103).  Saving model ...\n"
     ]
    },
    {
     "data": {
      "application/vnd.jupyter.widget-view+json": {
       "model_id": "12cd1758f68447de88ba5336daacac3d",
       "version_major": 2,
       "version_minor": 0
      },
      "text/plain": [
       "  0%|          | 0/135 [00:00<?, ?it/s]"
      ]
     },
     "metadata": {},
     "output_type": "display_data"
    },
    {
     "name": "stderr",
     "output_type": "stream",
     "text": [
      "[2023-11-30 17:46:17] - openstack-msg_tf-random-4 - epoch:65, train_loss:0.5979351015317347, train_acc:0.6848597695798906, valid_loss:0.6269186048090347, valid_acc:0.6797020484171322, auc_score:0.7365300273150462\n",
      "[2023-11-30 17:46:17] - EarlyStopping counter: 8 out of 8\n",
      "[2023-11-30 17:46:17] - AUC score increased (0.736103 --> 0.736530).  Saving model ...\n",
      "[2023-11-30 17:46:17] - Early Stopping\n",
      "[2023-11-30 17:46:19] - openstack-msg_tf fold 4 - end training - score 0.6024219156374916\n",
      "[2023-11-30 17:46:19] - openstack-msg_tf - end training cv - score 0.5546790691821339\n",
      "name:openstack-msg_tf\tscore:0.5546790691821339\tscore0:0.6084342827417487\tscore1:0.5264970775669133\tscore2:0.5252236203180065\tscore3:0.5108184496465097\tscore4:0.6024219156374916\n",
      "[2023-11-30 17:46:19] - openstack-msg_tf - start prediction cv\n",
      "[2023-11-30 17:46:19] - openstack-msg_tf - start prediction fold:0\n",
      "[2023-11-30 17:46:20] - openstack-msg_tf - end prediction fold:0\n",
      "[2023-11-30 17:46:20] - openstack-msg_tf - start prediction fold:1\n",
      "[2023-11-30 17:46:22] - openstack-msg_tf - end prediction fold:1\n",
      "[2023-11-30 17:46:22] - openstack-msg_tf - start prediction fold:2\n",
      "[2023-11-30 17:46:23] - openstack-msg_tf - end prediction fold:2\n",
      "[2023-11-30 17:46:23] - openstack-msg_tf - start prediction fold:3\n",
      "[2023-11-30 17:46:24] - openstack-msg_tf - end prediction fold:3\n",
      "[2023-11-30 17:46:24] - openstack-msg_tf - start prediction fold:4\n",
      "[2023-11-30 17:46:25] - openstack-msg_tf - end prediction fold:4\n",
      "[2023-11-30 17:46:25] - openstack-msg_tf - end prediction cv\n"
     ]
    }
   ],
   "source": [
    "%run -i run2.py -i_tr_data ../resource/openstack_train.pkl -i_te_data ../resource/openstack_test.pkl -s msg_tf -c random -p openstack -i_m_dict ../resource/openstack_msg_dict.json"
   ]
  }
 ],
 "metadata": {
  "kernelspec": {
   "display_name": "Python 3 (ipykernel)",
   "language": "python",
   "name": "python3"
  },
  "language_info": {
   "codemirror_mode": {
    "name": "ipython",
    "version": 3
   },
   "file_extension": ".py",
   "mimetype": "text/x-python",
   "name": "python",
   "nbconvert_exporter": "python",
   "pygments_lexer": "ipython3",
   "version": "3.8.10"
  }
 },
 "nbformat": 4,
 "nbformat_minor": 5
}
